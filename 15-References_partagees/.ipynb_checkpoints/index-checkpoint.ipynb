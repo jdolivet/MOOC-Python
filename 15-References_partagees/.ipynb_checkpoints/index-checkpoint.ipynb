{
 "cells": [
  {
   "cell_type": "markdown",
   "metadata": {},
   "source": [
    "# Les références partagées"
   ]
  },
  {
   "cell_type": "markdown",
   "metadata": {},
   "source": [
    "<a href=\"http://www.youtube.com/watch?feature=player_embedded&v=XkFYa8genoI\n",
    "\" target=\"_blank\"><img src=\"http://img.youtube.com/vi/XkFYa8genoI/0.jpg\" \n",
    "alt=\"Vidéo du cours\" width=\"240\" height=\"180\" border=\"10\" /></a>"
   ]
  },
  {
   "cell_type": "markdown",
   "metadata": {},
   "source": [
    "* ## [L'opérateur `is`](1-Operateur-is-et-fonction-id.ipynb)\n",
    "* ## [Listes infinies et références circulaires](2-References-circulaires.ipynb)\n",
    "* ## [Les différentes copies](3-Les-differentes-copies.ipynb)\n",
    "* ## [L'instruction `del`](4-Instruction-del.ipynb)\n",
    "* ## [Affectation simultanée](5-Affectation-simultanee.ipynb)\n",
    "* ## [Les instructions `+=` et autres](6-Affectation-operateurs-2.ipynb)"
   ]
  }
 ],
 "metadata": {
  "kernelspec": {
   "display_name": "Python 3",
   "language": "python",
   "name": "python3"
  },
  "language_info": {
   "codemirror_mode": {
    "name": "ipython",
    "version": 3
   },
   "file_extension": ".py",
   "mimetype": "text/x-python",
   "name": "python",
   "nbconvert_exporter": "python",
   "pygments_lexer": "ipython3",
   "version": "3.6.6"
  }
 },
 "nbformat": 4,
 "nbformat_minor": 2
}
