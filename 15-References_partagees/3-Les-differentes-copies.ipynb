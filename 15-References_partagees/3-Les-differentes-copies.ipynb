{
 "cells": [
  {
   "cell_type": "markdown",
   "metadata": {},
   "source": [
    "<style>div.title-slide {    width: 100%;    display: flex;    flex-direction: row;            /* default value; can be omitted */    flex-wrap: nowrap;              /* default value; can be omitted */    justify-content: space-between;}</style><div class=\"title-slide\">\n",
    "<span style=\"float:left;\">Licence CC BY-NC-ND</span>\n",
    "<span>Thierry Parmentelat &amp; Arnaud Legout</span>\n",
    "<span><img src=\"media/both-logos-small-alpha.png\" style=\"display:inline\" /></span>\n",
    "</div>"
   ]
  },
  {
   "cell_type": "markdown",
   "metadata": {},
   "source": [
    "# Les différentes copies"
   ]
  },
  {
   "cell_type": "code",
   "execution_count": null,
   "metadata": {},
   "outputs": [],
   "source": [
    "%load_ext ipythontutor"
   ]
  },
  {
   "cell_type": "markdown",
   "metadata": {},
   "source": [
    "## Complément - niveau basique"
   ]
  },
  {
   "cell_type": "markdown",
   "metadata": {},
   "source": [
    "### Deux types de copie"
   ]
  },
  {
   "cell_type": "markdown",
   "metadata": {},
   "source": [
    "Pour résumer les deux grands types de copie que l'on a vus dans la vidéo :\n",
    "\n",
    "* La *shallow copy* - de l'anglais *shallow* qui signifie superficiel ;\n",
    "* La *deep copy* - de *deep* qui signifie profond."
   ]
  },
  {
   "cell_type": "markdown",
   "metadata": {},
   "source": [
    "### Le module `copy`"
   ]
  },
  {
   "cell_type": "markdown",
   "metadata": {},
   "source": [
    "Pour réaliser une copie, la méthode la plus simple, en ceci qu'elle fonctionne avec tous les types de manière identique, consiste à utiliser [le module standard `copy`](https://docs.python.org/3/library/copy.html), et notamment :\n",
    "\n",
    "* `copy.copy` pour une copie superficielle ;\n",
    "* `copy.deepcopy` pour une copie en profondeur."
   ]
  },
  {
   "cell_type": "code",
   "execution_count": null,
   "metadata": {},
   "outputs": [],
   "source": [
    "import copy\n",
    "#help(copy.copy)\n",
    "#help(copy.deepcopy)"
   ]
  },
  {
   "cell_type": "markdown",
   "metadata": {},
   "source": [
    "### Un exemple"
   ]
  },
  {
   "cell_type": "markdown",
   "metadata": {},
   "source": [
    "Nous allons voir le résultat des deux formes de copie sur un même sujet de départ."
   ]
  },
  {
   "cell_type": "markdown",
   "metadata": {},
   "source": [
    "#### La copie superficielle / *shallow* copie / `copy.copy`"
   ]
  },
  {
   "cell_type": "markdown",
   "metadata": {},
   "source": [
    "N'oubliez pas de cliquer le bouton `Forward` dans la fenêtre pythontutor :"
   ]
  },
  {
   "cell_type": "code",
   "execution_count": null,
   "metadata": {
    "scrolled": true
   },
   "outputs": [],
   "source": [
    "%%ipythontutor height=410 curInstr=6\n",
    "import copy\n",
    "# On se donne un objet de départ\n",
    "source = [\n",
    "    [1, 2, 3],  # une liste\n",
    "    {1, 2, 3},  # un ensemble\n",
    "    (1, 2, 3),  # un tuple\n",
    "    '123',       # un string\n",
    "    123,         # un entier\n",
    "]\n",
    "# une copie simple renvoie ceci\n",
    "shallow_copy = copy.copy(source)"
   ]
  },
  {
   "cell_type": "markdown",
   "metadata": {},
   "source": [
    "Vous remarquez que :\n",
    "\n",
    "* la source et la copie partagent tous leurs (sous-)éléments, et notamment la liste `source[0]` et l'ensemble `source[1]` ;\n",
    "* ainsi, après cette copie, on peut modifier l'un de ces deux objets (la liste ou l'ensemble), et ainsi modifier la source **et** la copie."
   ]
  },
  {
   "cell_type": "markdown",
   "metadata": {},
   "source": [
    "On rappelle aussi que, la source étant une liste, on aurait pu aussi bien faire la copie superficielle avec\n",
    "\n",
    "```python\n",
    "shallow2 = source[:]\n",
    "```"
   ]
  },
  {
   "cell_type": "markdown",
   "metadata": {},
   "source": [
    "#### La copie profonde / *deep* copie / `copy.deepcopy`"
   ]
  },
  {
   "cell_type": "markdown",
   "metadata": {},
   "source": [
    "Sur le même objet de départ, voici ce que fait la copie profonde :"
   ]
  },
  {
   "cell_type": "code",
   "execution_count": null,
   "metadata": {},
   "outputs": [],
   "source": [
    "%%ipythontutor height=410 curInstr=6\n",
    "import copy\n",
    "# On se donne un objet de départ\n",
    "source = [\n",
    "    [1, 2, 3],  # une liste\n",
    "    {1, 2, 3},  # un ensemble\n",
    "    (1, 2, 3),  # un tuple\n",
    "    '123',       # un string\n",
    "    123,         # un entier\n",
    "]\n",
    "# une copie profonde renvoie ceci\n",
    "deep_copy = copy.deepcopy(source)"
   ]
  },
  {
   "cell_type": "markdown",
   "metadata": {},
   "source": [
    "Ici, il faut remarquer que :\n",
    "\n",
    "* les deux objets mutables accessibles via `source`, c'est-à-dire **la liste** `source[0]` et **l'ensemble `source[1]`**, ont été tous deux dupliqués ;\n",
    "* **le tuple** correspondant à `source[2]` n'est **pas dupliqué**, mais comme il n'est **pas mutable** on ne peut pas modifier la copie au travers de la source ;\n",
    "* de manière générale, on a la bonne propriété que la source et sa copie ne partagent rien qui soit modifiable ;\n",
    "* et donc on ne peut pas modifier l'un au travers de l'autre.\n",
    "\n",
    "On retrouve donc à nouveau l'optimisation qui est mise en place dans python pour implémenter les types immuables comme des singletons lorsque c'est possible. Cela a été vu en détail dans le complément consacré à l'opérateur `is`."
   ]
  },
  {
   "cell_type": "markdown",
   "metadata": {},
   "source": [
    "## Complément - niveau intermédiaire"
   ]
  },
  {
   "cell_type": "code",
   "execution_count": null,
   "metadata": {},
   "outputs": [],
   "source": [
    "# on répète car le code précédent a seulement été exposé à pythontutor\n",
    "import copy\n",
    "source = [\n",
    "    [1, 2, 3],  # une liste\n",
    "    {1, 2, 3},  # un ensemble\n",
    "    (1, 2, 3),  # un tuple\n",
    "    '123',       # un string\n",
    "    123,         # un entier\n",
    "]\n",
    "shallow_copy = copy.copy(source)\n",
    "deep_copy = copy.deepcopy(source)"
   ]
  },
  {
   "cell_type": "markdown",
   "metadata": {},
   "source": [
    "### Objets *égaux* au sens logique"
   ]
  },
  {
   "cell_type": "markdown",
   "metadata": {},
   "source": [
    "Bien sûr ces trois objets se ressemblent si on fait une comparaison *logique* avec `==` :"
   ]
  },
  {
   "cell_type": "code",
   "execution_count": null,
   "metadata": {},
   "outputs": [],
   "source": [
    "print('source == shallow_copy:', source == shallow_copy)\n",
    "print('source == deep_copy:', source == deep_copy)"
   ]
  },
  {
   "cell_type": "markdown",
   "metadata": {},
   "source": [
    "### Inspectons les objets de premier niveau"
   ]
  },
  {
   "cell_type": "markdown",
   "metadata": {},
   "source": [
    "Mais par contre si on compare **l'identité** des objets de premier niveau, on voit que `source` et `shallow_copy` partagent leurs objets :"
   ]
  },
  {
   "cell_type": "code",
   "execution_count": null,
   "metadata": {},
   "outputs": [],
   "source": [
    "# voir la cellule ci-dessous si ceci vous parait peu clair\n",
    "for i, (source_item, copy_item) in enumerate(zip(source, shallow_copy)):\n",
    "    compare = source_item is copy_item\n",
    "    print(f\"source[{i}] is shallow_copy[{i}] -> {compare}\")"
   ]
  },
  {
   "cell_type": "code",
   "execution_count": null,
   "metadata": {},
   "outputs": [],
   "source": [
    "# rappel au sujet de zip et enumerate\n",
    "# la cellule ci-dessous est essentiellement équivalente à\n",
    "for i in range(len(source)):\n",
    "    compare = source[i] is shallow_copy[i]\n",
    "    print(f\"source[{i}] is shallow_copy[{i}] -> {compare}\")"
   ]
  },
  {
   "cell_type": "markdown",
   "metadata": {},
   "source": [
    "Alors que naturellement ce **n'est pas le cas** avec la copie en profondeur :"
   ]
  },
  {
   "cell_type": "code",
   "execution_count": null,
   "metadata": {},
   "outputs": [],
   "source": [
    "for i, (source_item, deep_item) in enumerate(zip(source, deep_copy)):\n",
    "    compare = source_item is deep_item\n",
    "    print(f\"source[{i}] is deep_copy[{i}] -> {compare}\")"
   ]
  },
  {
   "cell_type": "markdown",
   "metadata": {},
   "source": [
    "On retrouve ici ce qu'on avait déjà remarqué sous pythontutor, à savoir que les trois derniers objets - immuables - n'ont pas été dupliqués comme on aurait pu s'y attendre."
   ]
  },
  {
   "cell_type": "markdown",
   "metadata": {},
   "source": [
    "### On modifie la source"
   ]
  },
  {
   "cell_type": "markdown",
   "metadata": {},
   "source": [
    "Il doit être clair à présent que, précisément parce que `deep_copy` est une copie en profondeur, on peut modifier `source` sans impacter du tout `deep_copy`."
   ]
  },
  {
   "cell_type": "markdown",
   "metadata": {},
   "source": [
    "S'agissant de `shallow_copy`, par contre, seuls les éléments de premier niveau ont été copiés. Aussi si on fait une modification par exemple **à l'intérieur** de la liste qui est le premier fils de `source`, cela sera **répercuté** dans `shallow_copy` :"
   ]
  },
  {
   "cell_type": "code",
   "execution_count": null,
   "metadata": {},
   "outputs": [],
   "source": [
    "print(\"avant, source      \", source)\n",
    "print(\"avant, shallow_copy\", shallow_copy)\n",
    "source[0].append(4)\n",
    "print(\"après, source      \", source)\n",
    "print(\"après, shallow_copy\", shallow_copy)"
   ]
  },
  {
   "cell_type": "markdown",
   "metadata": {},
   "source": [
    "Si par contre on remplace complètement un élément de premier niveau dans la source, cela ne sera pas répercuté dans la copie superficielle :"
   ]
  },
  {
   "cell_type": "code",
   "execution_count": null,
   "metadata": {},
   "outputs": [],
   "source": [
    "print(\"avant, source      \", source)\n",
    "print(\"avant, shallow_copy\", shallow_copy)\n",
    "source[0] = 'remplacement'\n",
    "print(\"après, source      \", source)\n",
    "print(\"après, shallow_copy\", shallow_copy)"
   ]
  },
  {
   "cell_type": "markdown",
   "metadata": {},
   "source": [
    "### Copie et circularité"
   ]
  },
  {
   "cell_type": "markdown",
   "metadata": {},
   "source": [
    " Le module `copy` est capable de copier - même en profondeur - des objets contenant des références circulaires."
   ]
  },
  {
   "cell_type": "code",
   "execution_count": null,
   "metadata": {},
   "outputs": [],
   "source": [
    "l = [None]\n",
    "l[0] = l\n",
    "l"
   ]
  },
  {
   "cell_type": "code",
   "execution_count": null,
   "metadata": {},
   "outputs": [],
   "source": [
    "copy.copy(l)"
   ]
  },
  {
   "cell_type": "code",
   "execution_count": null,
   "metadata": {},
   "outputs": [],
   "source": [
    "copy.deepcopy(l)"
   ]
  },
  {
   "cell_type": "markdown",
   "metadata": {},
   "source": [
    "### Pour en savoir plus"
   ]
  },
  {
   "cell_type": "markdown",
   "metadata": {},
   "source": [
    "On peut se reporter à [la section sur le module `copy`](https://docs.python.org/3/library/copy.html) dans la documentation Python."
   ]
  }
 ],
 "metadata": {
  "kernelspec": {
   "display_name": "Python 3",
   "language": "python",
   "name": "python3"
  },
  "language_info": {
   "codemirror_mode": {
    "name": "ipython",
    "version": 3
   },
   "file_extension": ".py",
   "mimetype": "text/x-python",
   "name": "python",
   "nbconvert_exporter": "python",
   "pygments_lexer": "ipython3",
   "version": "3.6.4"
  },
  "livereveal": {
   "auto_select": "code",
   "auto_select_fragment": true,
   "autolaunch": false,
   "backimage": "media/nologo.png",
   "height": "100%",
   "slideNumber": "c",
   "start_slideshow_at": "selected",
   "theme": "simple",
   "transition": "fade",
   "width": "100%"
  },
  "notebookname": "Les différentes copies",
  "version": "3.0"
 },
 "nbformat": 4,
 "nbformat_minor": 1
}