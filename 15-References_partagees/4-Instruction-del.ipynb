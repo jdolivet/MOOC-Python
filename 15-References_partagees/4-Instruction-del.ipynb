{
 "cells": [
  {
   "cell_type": "markdown",
   "metadata": {},
   "source": [
    "<style>div.title-slide {    width: 100%;    display: flex;    flex-direction: row;            /* default value; can be omitted */    flex-wrap: nowrap;              /* default value; can be omitted */    justify-content: space-between;}</style><div class=\"title-slide\">\n",
    "<span style=\"float:left;\">Licence CC BY-NC-ND</span>\n",
    "<span>Thierry Parmentelat &amp; Arnaud Legout</span>\n",
    "<span><img src=\"media/both-logos-small-alpha.png\" style=\"display:inline\" /></span>\n",
    "</div>"
   ]
  },
  {
   "cell_type": "markdown",
   "metadata": {},
   "source": [
    "# L'instruction `del`"
   ]
  },
  {
   "cell_type": "markdown",
   "metadata": {},
   "source": [
    "## Complément - niveau basique"
   ]
  },
  {
   "cell_type": "markdown",
   "metadata": {},
   "source": [
    "Voici un récapitulatif sur l'instruction `del` selon le contexte dans lequel elle est utilisée."
   ]
  },
  {
   "cell_type": "markdown",
   "metadata": {},
   "source": [
    "### Sur une variable"
   ]
  },
  {
   "cell_type": "markdown",
   "metadata": {},
   "source": [
    "On peut annuler la définition d'une variable, avec `del`.\n",
    "\n",
    "Pour l'illustrer, nous utilisons un bloc `try … except …` pour attraper le cas échéant l'exception `NameError`, qui est produite lorsqu'on référence une variable qui n'est pas définie."
   ]
  },
  {
   "cell_type": "code",
   "execution_count": null,
   "metadata": {},
   "outputs": [],
   "source": [
    "# la variable a n'est pas définie\n",
    "try:\n",
    "    print('a=', a)\n",
    "except NameError as e:\n",
    "    print(\"a n'est pas définie\")"
   ]
  },
  {
   "cell_type": "code",
   "execution_count": null,
   "metadata": {},
   "outputs": [],
   "source": [
    "# on la définit\n",
    "a = 10\n",
    "\n",
    "# aucun souci ici, l'exception n'est pas levée\n",
    "try:\n",
    "    print('a=', a)\n",
    "except NameError as e:\n",
    "    print(\"a n'est pas définie\")"
   ]
  },
  {
   "cell_type": "code",
   "execution_count": null,
   "metadata": {},
   "outputs": [],
   "source": [
    "# maintenant on peut effacer la variable\n",
    "del a\n",
    "\n",
    "# c'est comme si on ne l'avait pas définie\n",
    "# dans la cellule précédente\n",
    "try:\n",
    "    print('a=', a)\n",
    "except NameError as e:\n",
    "    print(\"a n'est pas définie\")"
   ]
  },
  {
   "cell_type": "markdown",
   "metadata": {},
   "source": [
    "### Sur une liste"
   ]
  },
  {
   "cell_type": "markdown",
   "metadata": {},
   "source": [
    "On peut enlever d'une liste les éléments qui correspondent à une *slice* :"
   ]
  },
  {
   "cell_type": "code",
   "execution_count": null,
   "metadata": {},
   "outputs": [],
   "source": [
    "# on se donne une liste\n",
    "l = list(range(12))\n",
    "print(l)"
   ]
  },
  {
   "cell_type": "code",
   "execution_count": null,
   "metadata": {},
   "outputs": [],
   "source": [
    "# on considère une slice dans cette liste\n",
    "print('slice=', l[2:10:3])\n",
    "\n",
    "# voyons ce que ça donne si on efface cette slice\n",
    "del l[2:10:3]\n",
    "print(\"après del\", l)"
   ]
  },
  {
   "cell_type": "markdown",
   "metadata": {},
   "source": [
    "### Sur un dictionnaire"
   ]
  },
  {
   "cell_type": "markdown",
   "metadata": {},
   "source": [
    "Avec `del` on peut enlever une clé, et donc la valeur correspondante, d'un dictionnaire :"
   ]
  },
  {
   "cell_type": "code",
   "execution_count": null,
   "metadata": {},
   "outputs": [],
   "source": [
    "# partons d'un dictionaire simple\n",
    "d = dict(foo='bar', spam='eggs', a='b')\n",
    "print(d)"
   ]
  },
  {
   "cell_type": "code",
   "execution_count": null,
   "metadata": {},
   "outputs": [],
   "source": [
    "# on peut enlever une clé avec del\n",
    "del d['a']\n",
    "print(d)"
   ]
  },
  {
   "cell_type": "markdown",
   "metadata": {},
   "source": [
    "### On peut passer plusieurs arguments à `del`"
   ]
  },
  {
   "cell_type": "code",
   "execution_count": null,
   "metadata": {},
   "outputs": [],
   "source": [
    "# Voyons où en sont nos données\n",
    "print('l', l)\n",
    "print('d', d)"
   ]
  },
  {
   "cell_type": "code",
   "execution_count": null,
   "metadata": {},
   "outputs": [],
   "source": [
    "# on peut invoquer 'del' avec plusieurs expressions\n",
    "# séparées par une virgule\n",
    "del l[3:], d['spam']\n",
    "\n",
    "print('l', l)\n",
    "print('d', d)"
   ]
  },
  {
   "cell_type": "markdown",
   "metadata": {},
   "source": [
    "### Pour en savoir plus"
   ]
  },
  {
   "cell_type": "markdown",
   "metadata": {},
   "source": [
    "La page sur [l'instruction `del`](https://docs.python.org/3/reference/simple_stmts.html#the-del-statement) dans la documentation Python."
   ]
  }
 ],
 "metadata": {
  "kernelspec": {
   "display_name": "Python 3",
   "language": "python",
   "name": "python3"
  },
  "language_info": {
   "codemirror_mode": {
    "name": "ipython",
    "version": 3
   },
   "file_extension": ".py",
   "mimetype": "text/x-python",
   "name": "python",
   "nbconvert_exporter": "python",
   "pygments_lexer": "ipython3",
   "version": "3.6.4"
  },
  "livereveal": {
   "auto_select": "code",
   "auto_select_fragment": true,
   "autolaunch": false,
   "backimage": "media/nologo.png",
   "height": "100%",
   "slideNumber": "c",
   "start_slideshow_at": "selected",
   "theme": "simple",
   "transition": "fade",
   "width": "100%"
  },
  "notebookname": "L'instruction del",
  "version": "3.0"
 },
 "nbformat": 4,
 "nbformat_minor": 1
}
