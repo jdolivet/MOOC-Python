{
 "cells": [
  {
   "cell_type": "markdown",
   "metadata": {},
   "source": [
    "<style>div.title-slide {    width: 100%;    display: flex;    flex-direction: row;            /* default value; can be omitted */    flex-wrap: nowrap;              /* default value; can be omitted */    justify-content: space-between;}</style><div class=\"title-slide\">\n",
    "<span style=\"float:left;\">Licence CC BY-NC-ND</span>\n",
    "<span>Thierry Parmentelat &amp; Arnaud Legout</span>\n",
    "<span><img src=\"media/both-logos-small-alpha.png\" style=\"display:inline\" /></span>\n",
    "</div>"
   ]
  },
  {
   "cell_type": "markdown",
   "metadata": {},
   "source": [
    "# Passage d'arguments"
   ]
  },
  {
   "cell_type": "markdown",
   "metadata": {},
   "source": [
    "## Complément - niveau intermédiaire"
   ]
  },
  {
   "cell_type": "markdown",
   "metadata": {},
   "source": [
    "### Motivation"
   ]
  },
  {
   "cell_type": "markdown",
   "metadata": {},
   "source": [
    "Jusqu'ici nous avons développé le modèle simple qu'on trouve dans tous les langages de programmation, à savoir qu'une fonction a un nombre fixe, supposé connu, d'arguments. Ce modèle a cependant quelques limitations ; les mécanismes de passage d'arguments que propose python, et que nous venons de voir dans les vidéos, visent à lever ces limitations.\n",
    "\n",
    "Voyons de quelles limitations il s'agit."
   ]
  },
  {
   "cell_type": "markdown",
   "metadata": {},
   "source": [
    "### Nombre d'arguments non connu à l'avance"
   ]
  },
  {
   "cell_type": "markdown",
   "metadata": {},
   "source": [
    "##### Ou encore : introduction à la forme `*arguments`"
   ]
  },
  {
   "cell_type": "markdown",
   "metadata": {},
   "source": [
    "Pour prendre un exemple aussi simple que possible, considérons la fonction `print`, qui nous l'avons vu, accepte un nombre quelconque d'arguments."
   ]
  },
  {
   "cell_type": "code",
   "execution_count": null,
   "metadata": {},
   "outputs": [],
   "source": [
    "print(\"la fonction\", \"print\", \"peut\", \"prendre\", \"plein\", \"d'arguments\")"
   ]
  },
  {
   "cell_type": "markdown",
   "metadata": {},
   "source": [
    "Imaginons maintenant que nous voulons implémenter une variante de `print`, c'est-à-dire une fonction `error`, qui se comporte exactement comme `print` sauf qu'elle ajoute en début de ligne une balise `ERROR`.\n",
    "\n",
    "Se posent alors deux problèmes :\n",
    "\n",
    "* D'une part il nous faut un moyen de spécifier que notre fonction prend un nombre quelconque d'arguments. \n",
    "* D'autre part il faut une syntaxe pour repasser tous ces arguments à la fonction `print`.\n",
    " \n",
    "On peut faire tout cela avec la notation en `*` comme ceci :"
   ]
  },
  {
   "cell_type": "code",
   "execution_count": null,
   "metadata": {},
   "outputs": [],
   "source": [
    "# accepter n'importe quel nombre d'arguments\n",
    "def error(*print_args):\n",
    "    # et les repasser à l'identique à print en plus de la balise\n",
    "    print('ERROR', *print_args)\n",
    "\n",
    "# on peut alors l'utiliser comme ceci\n",
    "error(\"problème\", \"dans\", \"la\", \"fonction\", \"foo\")\n",
    "# ou même sans argument\n",
    "error()"
   ]
  },
  {
   "cell_type": "markdown",
   "metadata": {},
   "source": [
    "### Légère variation"
   ]
  },
  {
   "cell_type": "markdown",
   "metadata": {},
   "source": [
    "Pour sophistiquer un peu cet exemple, on veut maintenant imposer à la fonction `erreur` qu'elle reçoive un argument obligatoire de type entier qui représente un code d'erreur, plus à nouveau un nombre quelconque d'arguments pour `print`. \n",
    "\n",
    "Pour cela, on peut définir une signature (les paramètres de la fonction) qui\n",
    "\n",
    "* prévoit un argument traditionnel en première position, qui sera obligatoire lors de l'appel, \n",
    "* et le tuple des arguments pour `print`, comme ceci :"
   ]
  },
  {
   "cell_type": "code",
   "execution_count": null,
   "metadata": {},
   "outputs": [],
   "source": [
    "# le premier argument est obligatoire\n",
    "def error1(error_code, *print_args):\n",
    "    message = f\"message d'erreur code {error_code}\"\n",
    "    print(\"ERROR\", message, '--', *print_args)\n",
    "    \n",
    "# que l'on peut à présent appeler comme ceci\n",
    "error1(100, \"un\", \"petit souci avec\", [1, 2, 3])"
   ]
  },
  {
   "cell_type": "markdown",
   "metadata": {},
   "source": [
    "Remarquons que maintenant la fonction `error1` ne peut plus être appelée sans argument, puisqu'on a mentionné un paramètre **obligatoire** `error_code`."
   ]
  },
  {
   "cell_type": "markdown",
   "metadata": {},
   "source": [
    "### Ajout de fonctionnalités"
   ]
  },
  {
   "cell_type": "markdown",
   "metadata": {},
   "source": [
    "##### Ou encore : la forme `argument=valeur_par_defaut`"
   ]
  },
  {
   "cell_type": "markdown",
   "metadata": {},
   "source": [
    "Nous envisageons à présent le cas - tout à fait indépendant de ce qui précède - où vous avez écrit une librairie graphique, dans laquelle vous exposez une fonction `ligne` définie comme suit. Évidemment pour garder le code simple, nous imprimons seulement les coordonnées du segment :"
   ]
  },
  {
   "cell_type": "code",
   "execution_count": null,
   "metadata": {
    "collapsed": true
   },
   "outputs": [],
   "source": [
    "# première version de l'interface pour dessiner une ligne\n",
    "def ligne(x1, y1, x2, y2):\n",
    "    \"dessine la ligne (x1, y1) -> (x2, y2)\"\n",
    "    # restons simple\n",
    "    print(f\"la ligne ({x1}, {y1}) -> ({x2}, {y2})\")"
   ]
  },
  {
   "cell_type": "markdown",
   "metadata": {},
   "source": [
    "Vous publiez cette librairie en version 1, vous avez des utilisateurs ; et quelque temps plus tard vous écrivez une version 2 qui prend en compte la couleur. Ce qui vous conduit à ajouter un paramètre pour `ligne`. "
   ]
  },
  {
   "cell_type": "markdown",
   "metadata": {},
   "source": [
    "Si vous le faites en déclarant \n",
    "\n",
    "```python\n",
    "def ligne(x1, y1, x2, y2, couleur):\n",
    "    ...\n",
    "```\n",
    "\n",
    "alors tous les utilisateurs de la version 1 vont **devoir changer leur code** - pour rester à fonctionnalité égale - en ajoutant un cinquième argument `'noir'` à leurs appels à `ligne`."
   ]
  },
  {
   "cell_type": "markdown",
   "metadata": {},
   "source": [
    "Vous pouvez éviter cet inconvénient en définissant la deuxième version de `ligne` comme ceci :"
   ]
  },
  {
   "cell_type": "code",
   "execution_count": null,
   "metadata": {
    "collapsed": true
   },
   "outputs": [],
   "source": [
    "# deuxième version de l'interface pour dessiner une ligne\n",
    "def ligne(x1, y1, x2, y2, couleur=\"noir\"):\n",
    "    \"dessine la ligne (x1, y1) -> (x2, y2) dans la couleur spécifiée\"\n",
    "    # restons simple\n",
    "    print(f\"la ligne ({x1}, {y1}) -> ({x2}, {y2}) en {couleur}\")"
   ]
  },
  {
   "cell_type": "markdown",
   "metadata": {},
   "source": [
    "Avec cette nouvelle définition, on peut aussi bien"
   ]
  },
  {
   "cell_type": "code",
   "execution_count": null,
   "metadata": {},
   "outputs": [],
   "source": [
    "# faire fonctionner du vieux code sans le modifier\n",
    "ligne(0, 0, 100, 100)\n",
    "# ou bien tirer profit du nouveau trait\n",
    "ligne(0, 100, 100, 0, 'rouge')"
   ]
  },
  {
   "cell_type": "markdown",
   "metadata": {},
   "source": [
    "##### Les paramètres par défaut sont très utiles"
   ]
  },
  {
   "cell_type": "markdown",
   "metadata": {},
   "source": [
    "Notez bien que ce genre de situation peut tout aussi bien se produire sans que vous ne publiiez de librairie, à l'intérieur d'une seule application. Par exemple, vous pouvez être amené à ajouter un argument à une fonction parce qu'elle doit faire face à de nouvelles situations imprévues, et que vous n'avez pas le temps de modifier tout le code."
   ]
  },
  {
   "cell_type": "markdown",
   "metadata": {},
   "source": [
    "Ou encore plus simplement, vous pouvez choisir d'utiliser ce passage de paramètres dès le début de la conception ; une fonction `ligne` réaliste présentera une interface qui précise les points concernés, la couleur du trait, l'épaisseur du trait, le style du trait, le niveau de transparence, etc. Il n'est vraiment pas utile que tous les appels à `ligne` reprécisent tout ceci intégralement, aussi une bonne partie de ces paramètres seront très constructivement déclarés avec une valeur par défaut."
   ]
  },
  {
   "cell_type": "markdown",
   "metadata": {},
   "source": [
    "## Complément - niveau avancé"
   ]
  },
  {
   "cell_type": "markdown",
   "metadata": {},
   "source": [
    "### Écrire un wrapper"
   ]
  },
  {
   "cell_type": "markdown",
   "metadata": {},
   "source": [
    "##### Ou encore : la forme `**keywords`"
   ]
  },
  {
   "cell_type": "markdown",
   "metadata": {},
   "source": [
    "La notion de *wrapper* - emballage, en anglais - est très répandue en informatique, et consiste, à partir d'un morceau de code souche existant (fonction ou classe) à définir une variante qui se comporte comme la souche, mais avec quelques légères différences.\n",
    "\n",
    "La fonction `error` était déjà un premier exemple de *wrapper*. Maintenant nous voulons définir un *wrapper* `ligne_rouge`, qui sous-traite à la fonction `ligne` mais toujours avec la couleur rouge. \n",
    "\n",
    "Maintenant que l'on a injecté la notion de paramètre par défaut dans le système de signature des fonctions, se repose la question de savoir comment passer à l'identique les arguments de `ligne_rouge` à `ligne`. "
   ]
  },
  {
   "cell_type": "markdown",
   "metadata": {},
   "source": [
    "Évidemment, une première option consiste à regarder la signature de `ligne` :\n",
    "\n",
    "```python3\n",
    "def ligne(x1, y1, x2, y2, couleur=\"noir\")\n",
    "```"
   ]
  },
  {
   "cell_type": "markdown",
   "metadata": {},
   "source": [
    "Et à en déduire une implémentation de `ligne_rouge` comme ceci"
   ]
  },
  {
   "cell_type": "code",
   "execution_count": null,
   "metadata": {},
   "outputs": [],
   "source": [
    "# la version naïve - non conseillée - de ligne_rouge\n",
    "def ligne_rouge(x1, y1, x2, y2):\n",
    "    return ligne(x1, y1, x2, y2, couleur='rouge')\n",
    "\n",
    "ligne_rouge(0, 0, 100, 100)"
   ]
  },
  {
   "cell_type": "markdown",
   "metadata": {},
   "source": [
    "Toutefois, avec cette implémentation, si la signature de `ligne` venait à changer, on serait vraisemblablement amené à changer **aussi** celle de `ligne_rouge`, sauf à perdre en fonctionnalité. Imaginons en effet que `ligne` devienne dans une version suivante"
   ]
  },
  {
   "cell_type": "code",
   "execution_count": null,
   "metadata": {
    "collapsed": true
   },
   "outputs": [],
   "source": [
    "# on ajoute encore une fonctionnalité à la fonction ligne\n",
    "def ligne(x1, y1, x2, y2, couleur=\"noir\", epaisseur=2):\n",
    "    print(f\"la ligne ({x1}, {y1}) -> ({x2}, {y2})\"\n",
    "          f\" en {couleur} - ep. {epaisseur}\")"
   ]
  },
  {
   "cell_type": "markdown",
   "metadata": {},
   "source": [
    "Alors le wrapper ne nous permet plus de profiter de la nouvelle fonctionnalité. \n",
    "De manière générale, on cherche au maximum à se prémunir contre de telles dépendances. \n",
    "Aussi, il est de beaucoup préférable d'implémenter `ligne_rouge` comme suit, où vous remarquerez que **la seule hypothèse** faite sur `ligne` est qu'elle accepte un argument nommé `couleur`."
   ]
  },
  {
   "cell_type": "code",
   "execution_count": null,
   "metadata": {
    "collapsed": true
   },
   "outputs": [],
   "source": [
    "def ligne_rouge(*arguments, **keywords):\n",
    "    # c'est le seul endroit où on fait une hypothèse sur la fonction `ligne`\n",
    "    # qui est qu'elle accepte un argument nommé 'couleur'\n",
    "    keywords['couleur'] = \"rouge\"\n",
    "    return ligne(*arguments, **keywords)"
   ]
  },
  {
   "cell_type": "markdown",
   "metadata": {},
   "source": [
    "Ce qui permet maintenant de faire"
   ]
  },
  {
   "cell_type": "code",
   "execution_count": null,
   "metadata": {},
   "outputs": [],
   "source": [
    "ligne_rouge(0, 100, 100, 0, epaisseur=4)"
   ]
  },
  {
   "cell_type": "markdown",
   "metadata": {},
   "source": [
    "### Pour en savoir plus - la forme générale"
   ]
  },
  {
   "cell_type": "markdown",
   "metadata": {},
   "source": [
    "Une fois assimilé ce qui précède, vous avez de quoi comprendre une énorme majorité (99% au moins) du code Python. \n",
    "\n",
    "Dans le cas général, il est possible de combiner les 4 formes d'arguments :\n",
    "\n",
    " * arguments \"normaux\", dits positionnels\n",
    " * arguments nommés, comme `nom=<valeur>`\n",
    " * forme `*args`\n",
    " * forme `**dargs`\n",
    " \n",
    "Vous pouvez [vous reporter à cette page](https://docs.python.org/3/reference/expressions.html#calls\n",
    ") pour une description détaillée de ce cas général."
   ]
  },
  {
   "cell_type": "markdown",
   "metadata": {},
   "source": [
    "À l'appel d'une fonction, il faut résoudre les arguments, c'est-à-dire associer une valeur à chaque paramètre formel (ceux qui apparaissent dans le `def`) à partir des valeurs figurant dans l'appel.\n",
    "\n",
    "L'idée est que pour faire cela, les arguments de l'appel ne sont pas pris dans l'ordre où ils apparaissent, mais les arguments positionnels sont utilisés en premier. La logique est que, naturellement les arguments positionnels (ou ceux qui proviennent d'une `*expression`) viennent sans nom, et donc ne peuvent pas être utilisés pour résoudre des arguments nommés."
   ]
  },
  {
   "cell_type": "markdown",
   "metadata": {},
   "source": [
    "Voici un tout petit exemple pour vous donner une idée de la complexité de ce mécanisme lorsqu'on mélange toutes les 4 formes d'arguments à l'appel de la fonction (alors qu'on a défini la fonction avec 4 paramètres positionnels)"
   ]
  },
  {
   "cell_type": "code",
   "execution_count": null,
   "metadata": {
    "collapsed": true
   },
   "outputs": [],
   "source": [
    "# une fonction qui prend 4 paramètres simples\n",
    "def foo(a, b, c, d):\n",
    "    print(a, b, c, d)"
   ]
  },
  {
   "cell_type": "code",
   "execution_count": null,
   "metadata": {},
   "outputs": [],
   "source": [
    "# on peut l'appeler par exemple comme ceci\n",
    "foo(1, c=3, *(2,), **{'d':4})"
   ]
  },
  {
   "cell_type": "code",
   "execution_count": null,
   "metadata": {},
   "outputs": [],
   "source": [
    "# mais pas comme cela\n",
    "try:\n",
    "    foo (1, b=3, *(2,), **{'d':4})\n",
    "except Exception as e:\n",
    "    print(f\"OOPS, {type(e)}, {e}\")"
   ]
  },
  {
   "cell_type": "markdown",
   "metadata": {},
   "source": [
    "Si le problème ne vous semble pas clair, vous pouvez regarder la [documentation python décrivant ce problème](https://docs.python.org/3/reference/expressions.html#calls). "
   ]
  }
 ],
 "metadata": {
  "kernelspec": {
   "display_name": "Python 3",
   "language": "python",
   "name": "python3"
  },
  "language_info": {
   "codemirror_mode": {
    "name": "ipython",
    "version": 3
   },
   "file_extension": ".py",
   "mimetype": "text/x-python",
   "name": "python",
   "nbconvert_exporter": "python",
   "pygments_lexer": "ipython3",
   "version": "3.7.0"
  },
  "livereveal": {
   "auto_select": "code",
   "auto_select_fragment": true,
   "autolaunch": false,
   "backimage": "media/nologo.png",
   "height": "100%",
   "slideNumber": "c",
   "start_slideshow_at": "selected",
   "theme": "simple",
   "transition": "fade",
   "width": "100%"
  },
  "notebookname": "Passage d'arguments",
  "version": "3.0"
 },
 "nbformat": 4,
 "nbformat_minor": 1
}
