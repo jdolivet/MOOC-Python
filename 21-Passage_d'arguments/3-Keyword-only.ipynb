{
 "cells": [
  {
   "cell_type": "markdown",
   "metadata": {},
   "source": [
    "<style>div.title-slide {    width: 100%;    display: flex;    flex-direction: row;            /* default value; can be omitted */    flex-wrap: nowrap;              /* default value; can be omitted */    justify-content: space-between;}</style><div class=\"title-slide\">\n",
    "<span style=\"float:left;\">Licence CC BY-NC-ND</span>\n",
    "<span>Thierry Parmentelat &amp; Arnaud Legout</span>\n",
    "<span><img src=\"media/both-logos-small-alpha.png\" style=\"display:inline\" /></span>\n",
    "</div>"
   ]
  },
  {
   "cell_type": "markdown",
   "metadata": {},
   "source": [
    "# Arguments *keyword-only*"
   ]
  },
  {
   "cell_type": "markdown",
   "metadata": {},
   "source": [
    "## Complément - niveau intermédiaire"
   ]
  },
  {
   "cell_type": "markdown",
   "metadata": {},
   "source": [
    "### Rappel"
   ]
  },
  {
   "cell_type": "markdown",
   "metadata": {},
   "source": [
    "Nous avons vu dans un précédent complément les 4 familles de paramètres qu'on peut déclarer dans une fonction :\n",
    "\n",
    "1. paramètres positionnels (usuels)\n",
    "1. paramètres nommés (forme *name=default*)\n",
    "1. paramètres **args* qui attrape dans un tuple le reliquat des arguments positionnels \n",
    "1. paramètres ***kwds* qui attrape dans un dictionnaire le reliquat des arguments nommés\n",
    "\n",
    "Pour rappel :"
   ]
  },
  {
   "cell_type": "code",
   "execution_count": null,
   "metadata": {
    "collapsed": true
   },
   "outputs": [],
   "source": [
    "# une fonction qui combine les différents \n",
    "# types de paramètres\n",
    "def foo(a, b=100, *args, **kwds):\n",
    "    print(f\"a={a}, b={b}, args={args}, kwds={kwds}\")"
   ]
  },
  {
   "cell_type": "code",
   "execution_count": null,
   "metadata": {
    "cell_style": "center"
   },
   "outputs": [],
   "source": [
    "foo(1)"
   ]
  },
  {
   "cell_type": "code",
   "execution_count": null,
   "metadata": {
    "cell_style": "center"
   },
   "outputs": [],
   "source": [
    "foo(1, 2)"
   ]
  },
  {
   "cell_type": "code",
   "execution_count": null,
   "metadata": {
    "cell_style": "center"
   },
   "outputs": [],
   "source": [
    "foo(1, 2, 3)"
   ]
  },
  {
   "cell_type": "code",
   "execution_count": null,
   "metadata": {
    "cell_style": "center"
   },
   "outputs": [],
   "source": [
    "foo(1, 2, 3, bar=1000)"
   ]
  },
  {
   "cell_type": "markdown",
   "metadata": {},
   "source": [
    "### Un seul paramètre attrape-tout"
   ]
  },
  {
   "cell_type": "markdown",
   "metadata": {},
   "source": [
    "Notez également que, de bon sens, on ne peut déclarer qu'un seul paramètre de chacune des formes d'attrape-tout ; on ne peut pas par exemple déclarer\n",
    "\n",
    "```python\n",
    "# c'est illégal de faire ceci\n",
    "def foo(*args1, *args2):\n",
    "    pass\n",
    "```\n",
    "\n",
    "car évidemment on ne saurait pas décider de ce qui va dans `args1` et ce qui va dans `args2`."
   ]
  },
  {
   "cell_type": "markdown",
   "metadata": {},
   "source": [
    "### Ordre des déclarations"
   ]
  },
  {
   "cell_type": "markdown",
   "metadata": {},
   "source": [
    "L'ordre dans lequel sont déclarés les  différents types de paramètres d'une fonction est imposé par le langage. Ce que vous avez peut-être en tête si vous avez appris **Python 2**, c'est qu'à l'époque on devait impérativement les déclarer dans cet ordre :\n",
    "\n",
    "> positionnels, nommés, forme `*`, forme `**`\n",
    "\n",
    "comme dans notre fonction `foo`."
   ]
  },
  {
   "cell_type": "markdown",
   "metadata": {},
   "source": [
    "Ça reste une bonne approximation, mais depuis Python-3, les choses ont un petit peu changé suite à [l'adoption du PEP 3102](https://www.python.org/dev/peps/pep-3102/), qui vise à introduire la notion de paramètre qu'il faut impérativement nommer lors de l'appel (en anglais : *keyword-only* argument)"
   ]
  },
  {
   "cell_type": "markdown",
   "metadata": {},
   "source": [
    "Pour résumer, il est maintenant possible de déclarer des **paramètres nommés après la forme `*`**\n",
    "\n",
    "Voyons cela sur un exemple"
   ]
  },
  {
   "cell_type": "code",
   "execution_count": null,
   "metadata": {
    "collapsed": true
   },
   "outputs": [],
   "source": [
    "# on peut déclarer un paramètre nommé **après** l'attrape-tout *args\n",
    "def bar(a, *args, b=100, **kwds):\n",
    "        print(f\"a={a}, b={b}, args={args}, kwds={kwds}\")"
   ]
  },
  {
   "cell_type": "markdown",
   "metadata": {},
   "source": [
    "L'effet de cette déclaration est que, si je veux passer un argument au paramètre `b`, **je dois le nommer**"
   ]
  },
  {
   "cell_type": "code",
   "execution_count": null,
   "metadata": {
    "cell_style": "center"
   },
   "outputs": [],
   "source": [
    "# je peux toujours faire ceci\n",
    "bar(1)"
   ]
  },
  {
   "cell_type": "code",
   "execution_count": null,
   "metadata": {
    "cell_style": "center"
   },
   "outputs": [],
   "source": [
    "# mais si je fais ceci l'argument 2 va aller dans args\n",
    "bar(1, 2)"
   ]
  },
  {
   "cell_type": "code",
   "execution_count": null,
   "metadata": {},
   "outputs": [],
   "source": [
    "# pour passer b=2, je **dois** nommer mon argument\n",
    "bar(1, b=2)"
   ]
  },
  {
   "cell_type": "markdown",
   "metadata": {},
   "source": [
    "Ce trait n'est objectivement pas utilisé massivement en Python, mais cela peut être utile de le savoir :\n",
    "\n",
    "* en tant qu'utilisateur d'une bibliothèque, car cela vous impose une certaine façon d'appeler une fonction ;\n",
    "* en tant que concepteur d'une fonction, car cela vous permet de manifester qu'un paramètre optionnel joue un rôle particulier."
   ]
  }
 ],
 "metadata": {
  "kernelspec": {
   "display_name": "Python 3",
   "language": "python",
   "name": "python3"
  },
  "language_info": {
   "codemirror_mode": {
    "name": "ipython",
    "version": 3
   },
   "file_extension": ".py",
   "mimetype": "text/x-python",
   "name": "python",
   "nbconvert_exporter": "python",
   "pygments_lexer": "ipython3",
   "version": "3.6.3"
  },
  "livereveal": {
   "auto_select": "code",
   "auto_select_fragment": true,
   "autolaunch": false,
   "backimage": "media/nologo.png",
   "height": "100%",
   "start_slideshow_at": "selected",
   "theme": "simple",
   "transition": "fade",
   "width": "100%"
  },
  "notebookname": "Arguments *keyword-only*",
  "version": "3.0"
 },
 "nbformat": 4,
 "nbformat_minor": 2
}
