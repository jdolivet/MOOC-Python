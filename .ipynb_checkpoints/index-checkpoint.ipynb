{
 "cells": [
  {
   "cell_type": "markdown",
   "metadata": {},
   "source": [
    "# Python 3 : des fondamentaux aux concepts avancés du langage"
   ]
  },
  {
   "cell_type": "markdown",
   "metadata": {},
   "source": [
    "L'objectif de ce projet est de permettre de réutiliser les notebooks du MOOC mis en place par l'INRA et l'UCA et présenté par Thierry Parmentelat et Arnaud Legout."
   ]
  },
  {
   "cell_type": "markdown",
   "metadata": {},
   "source": [
    "## [Introduction aux outils Python](01-Generalites/index.ipynb)"
   ]
  },
  {
   "cell_type": "markdown",
   "metadata": {},
   "source": [
    "## Premiers pas\n",
    "* ### [Notions de variable, d'objet et typage dynamique](02-Variables_et_types/index.ipynb)\n",
    "* ### [Les types numériques](03-Types_numeriques/index.ipynb)"
   ]
  },
  {
   "cell_type": "markdown",
   "metadata": {},
   "source": [
    "## Notions de base pour écrire son premier programme en Python\n",
    "* ### [Codage, jeux de caractères et Unicode](04-Codage/index.ipynb)\n",
    "* ### [Les chaînes de caractères](05-Chaines_de_caracteres/index.ipynb)\n",
    "* ### [Les séquences](06-Sequences/index.ipynb)\n",
    "* ### [Les listes](07-Listes/index.ipynb)\n",
    "* ### [Introduction aux tests `if` et à la syntaxe](08-Tests/index.ipynb)\n",
    "* ### [Introduction aux boucles `for` et aux fonctions](09-Fonctions-1/index.ipynb)\n",
    "* ### [Introduction aux compréhensions de listes](https://youtu.be/Mvx1fOr2Hrg)\n",
    "* ### [Introduction aux modules](https://youtu.be/sb9vqobH5Ns)"
   ]
  },
  {
   "cell_type": "markdown",
   "metadata": {},
   "source": [
    "## Renforcement des notions de base, références partagées\n",
    "* ### [Les fichiers](10-Fichiers/index.ipynb)\n",
    "* ### [Les tuples](11-Tuples/index.ipynb)\n",
    "* ### [Tables de hash](https://youtu.be/IhJo8sXLfVw)\n",
    "* ### [Les dictionnaires](12-Dictionnaires/index.ipynb)\n",
    "* ### [Les ensembles](13-Ensembles/index.ipynb)\n",
    "* ### [Les exceptions](14-Exceptions/index.ipynb)\n",
    "* ### [Les références partagées](15-References_partagees/index.ipynb)\n",
    "* ### [Introduction aux classes](https://youtu.be/gCQRp2qKhLs)"
   ]
  },
  {
   "cell_type": "markdown",
   "metadata": {},
   "source": [
    "## Fonctions et portée des variables\n",
    "* ### [Fonctions](16-Fonctions-2/index.ipynb)\n",
    "* ### [Tests `if`/`elif`/`else` et opérateurs booléens](17-Operateurs_booleens/index.ipynb)\n",
    "* ### [Boucles `while`](18-Boucles_while/index.ipynb)\n",
    "* ### [Portée des variables - règle LEGB](19-Portee_des_variables/index.ipynb)\n",
    "* ### [Modification de la portée avec `global` et `nonlocal`](20-Modification_de_la_portee/index.ipynb)\n",
    "* ### [Passage d'arguments et appel de fonctions](21-Passage_d'arguments/index.ipynb)"
   ]
  },
  {
   "cell_type": "markdown",
   "metadata": {},
   "source": [
    "## Itération, importation et espace de nommage\n",
    "* ### [Itérable, itérateur, itération](22-Iteration/index.ipynb)\n",
    "* ### [Objet fonction, fonction `lambda`, `map` et `filter`](23-Objet_fonction/index.ipynb)\n",
    "* ### [Compréhension de listes, sets et dictionnaires](24-Comprehension/index.ipynb)\n",
    "* ### [Expressions et fonctions génératrices](25-Expressions_generatrices/index.ipynb)\n",
    "* ### [Modules et espaces de nommage](https://youtu.be/UT63R03Tet8)\n",
    "* ### [Importation des modules](26-Importation_des_modules/index.ipynb)"
   ]
  },
  {
   "cell_type": "markdown",
   "metadata": {},
   "source": [
    "## Conception des classes\n",
    "* ### [Classes, instances et méthodes](27-Classes_instances_methodes/index.ipynb)\n",
    "* ### [Méthodes spéciales](28-Methodes_speciales/index.ipynb)\n",
    "* ### [Héritage](29-Heritage/index.ipynb)\n",
    "* ### [Héritage multiple et ordre de résolution des attributs](30-Heritage_multiple/index.ipynb)\n",
    "* ### [Variables et attributs](31-Variables_et_attributs/index.ipynb)\n",
    "* ### [Conception d'itérateurs](32-Conception_iterateurs/index.ipynb)\n",
    "* ### [Conception d'exceptions personnalisées](https://youtu.be/KnYB61GwVdI)\n",
    "* ### [Conception de context manager](33-Context_manager/index.ipynb)"
   ]
  },
  {
   "cell_type": "markdown",
   "metadata": {},
   "source": [
    "## L'écosystème data science Python"
   ]
  },
  {
   "cell_type": "markdown",
   "metadata": {},
   "source": [
    "<a href=\"http://www.youtube.com/watch?feature=player_embedded&v=0pyAjw2HenQ\n",
    "\" target=\"_blank\"><img src=\"http://img.youtube.com/vi/0pyAjw2HenQ/0.jpg\" \n",
    "alt=\"Vidéo du cours\" width=\"240\" height=\"180\" border=\"10\" /></a>"
   ]
  },
  {
   "cell_type": "markdown",
   "metadata": {},
   "source": [
    "* ### [`numpy`](Annexe1-NumPy/index.ipynb)\n",
    "* ### [`pandas`](Annexe2-pandas/index.ipynb)\n",
    "* ### [`matplotlib`](Annexe3-Matplotlib/index.ipynb)"
   ]
  },
  {
   "cell_type": "markdown",
   "metadata": {},
   "source": [
    "L'ensemble du cours est consigné dans ce [document](MOOC-Python3.pdf)."
   ]
  }
 ],
 "metadata": {
  "kernelspec": {
   "display_name": "Python 3",
   "language": "python",
   "name": "python3"
  },
  "language_info": {
   "codemirror_mode": {
    "name": "ipython",
    "version": 3
   },
   "file_extension": ".py",
   "mimetype": "text/x-python",
   "name": "python",
   "nbconvert_exporter": "python",
   "pygments_lexer": "ipython3",
   "version": "3.6.6"
  }
 },
 "nbformat": 4,
 "nbformat_minor": 2
}
