{
 "cells": [
  {
   "cell_type": "markdown",
   "metadata": {},
   "source": [
    "<style>div.title-slide {    width: 100%;    display: flex;    flex-direction: row;            /* default value; can be omitted */    flex-wrap: nowrap;              /* default value; can be omitted */    justify-content: space-between;}</style><div class=\"title-slide\">\n",
    "<span style=\"float:left;\">Licence CC BY-NC-ND</span>\n",
    "<span>Thierry Parmentelat &amp; Arnaud Legout</span>\n",
    "<span><img src=\"media/both-logos-small-alpha.png\" style=\"display:inline\" /></span>\n",
    "</div>"
   ]
  },
  {
   "cell_type": "markdown",
   "metadata": {},
   "source": [
    "# Les *property*"
   ]
  },
  {
   "cell_type": "markdown",
   "metadata": {},
   "source": [
    "**Note** : nous reviendrons largement sur cette notion de property lorsque nous parlerons des _property et descripteurs_ en semaine 9. Cependant, cette notion est suffisamment importante pour que nous vous proposions un complément dès maintenant dessus. "
   ]
  },
  {
   "cell_type": "markdown",
   "metadata": {},
   "source": [
    "## Complément - niveau intermédiaire"
   ]
  },
  {
   "cell_type": "markdown",
   "metadata": {},
   "source": [
    "Comme on l'a vu dans le complément précédent, il est fréquent en Python qu'une classe expose dans sa documentation un ou plusieurs attributs ; c'est une pratique qui, en apparence seulement, paraît casser l'idée d'une bonne encapsulation.\n",
    "\n",
    "En réalité, grâce au mécanisme de *property*, il n'en est rien. Nous allons voir dans ce complément comment une classe peut en quelque sorte intercepter les accès à ses attributs, et par là fournir une encapsulation forte."
   ]
  },
  {
   "cell_type": "markdown",
   "metadata": {},
   "source": [
    "Pour être concret, on va parler d'une classe `Temperature`. Au lieu de proposer, comme ce serait l'usage dans d'autres langages, une interface avec `get_kelvin()` et `set_kelvin()`, on va se contenter d'exposer l'attribut `kelvin`, et malgré cela on va pouvoir faire diverses vérifications et autres."
   ]
  },
  {
   "cell_type": "markdown",
   "metadata": {},
   "source": [
    "##### Implémentation naïve"
   ]
  },
  {
   "cell_type": "markdown",
   "metadata": {},
   "source": [
    "Je vais commencer par une implémentation naïve, qui ne tire pas profit des *properties* :"
   ]
  },
  {
   "cell_type": "code",
   "execution_count": null,
   "metadata": {},
   "outputs": [],
   "source": [
    "# dans sa version la plus épurée, une classe\n",
    "# température pourrait ressembler à ça :\n",
    "\n",
    "class Temperature1:\n",
    "    def __init__(self, kelvin):\n",
    "        self.kelvin = kelvin\n",
    "        \n",
    "    def __repr__(self):\n",
    "        return f\"{self.kelvin}K\""
   ]
  },
  {
   "cell_type": "code",
   "execution_count": null,
   "metadata": {},
   "outputs": [],
   "source": [
    "# créons une instance\n",
    "t1 = Temperature1(20)\n",
    "t1"
   ]
  },
  {
   "cell_type": "code",
   "execution_count": null,
   "metadata": {},
   "outputs": [],
   "source": [
    "# et pour accéder à la valeur numérique je peux faire\n",
    "t1.kelvin"
   ]
  },
  {
   "cell_type": "markdown",
   "metadata": {},
   "source": [
    "Avec cette implémentation il est très facile de créer une température négative, qui n'a bien sûr pas de sens physique, ce n'est pas bon."
   ]
  },
  {
   "cell_type": "markdown",
   "metadata": {},
   "source": [
    "##### Interface *getter/setter*"
   ]
  },
  {
   "cell_type": "markdown",
   "metadata": {},
   "source": [
    "Si vous avez été déjà exposés à des langages orientés objet comme C++, Java ou autre, vous avez peut-être l'habitude d'accéder aux données internes des instances par des **méthodes** de type *getter** ou **setter*, de façon à contrôler les accès et, dans une optique d'encapsulation, de préserver des invariants, comme ici le fait que la température doit être positive.\n",
    "\n",
    "C'est-à-dire que vous vous dites peut-être, ça ne devrait pas être fait comme ça, on devrait plutôt proposer une interface pour accéder à l'implémentation interne ; quelque chose comme :"
   ]
  },
  {
   "cell_type": "code",
   "execution_count": null,
   "metadata": {},
   "outputs": [],
   "source": [
    "class Temperature2:\n",
    "    def __init__(self, kelvin):\n",
    "        # au lieu d'écrire l'attribut il est plus sûr\n",
    "        # d'utiliser le setter\n",
    "        self.set_kelvin(kelvin)\n",
    "        \n",
    "    def set_kelvin(self, kelvin):\n",
    "        # je m'assure que _kelvin est toujours positif\n",
    "        # et j'utilise un nom d'attribut avec un _ pour signifier\n",
    "        # que l'attribut est privé et qu'il ne faut pas y toucher directement\n",
    "        # on pourrait aussi bien sûr lever une exception \n",
    "        # mais ce n'est pas mon sujet ici\n",
    "        self._kelvin = max(0, kelvin)\n",
    "        \n",
    "    def get_kelvin(self):\n",
    "        return self._kelvin\n",
    "        \n",
    "    def __repr__(self):\n",
    "        return f\"{self._kelvin}K\""
   ]
  },
  {
   "cell_type": "markdown",
   "metadata": {},
   "source": [
    "Bon c'est vrai que d'un coté, c'est mieux parce que je garantis un invariant, la température est toujours positive :"
   ]
  },
  {
   "cell_type": "code",
   "execution_count": null,
   "metadata": {},
   "outputs": [],
   "source": [
    "t2 = Temperature2(-30)\n",
    "t2"
   ]
  },
  {
   "cell_type": "markdown",
   "metadata": {},
   "source": [
    "Mais par contre, d'un autre coté, c'est très lourd, parce que chaque fois que je veux utiliser mon objet, je dois faire pour y accéder :"
   ]
  },
  {
   "cell_type": "code",
   "execution_count": null,
   "metadata": {},
   "outputs": [],
   "source": [
    "t2.get_kelvin()"
   ]
  },
  {
   "cell_type": "markdown",
   "metadata": {},
   "source": [
    "et aussi, si j'avais déjà du code qui utilisait `t.kelvin` il va falloir le modifier entièrement."
   ]
  },
  {
   "cell_type": "markdown",
   "metadata": {},
   "source": [
    "##### Implémentation pythonique"
   ]
  },
  {
   "cell_type": "markdown",
   "metadata": {},
   "source": [
    "La façon de s'en sortir ici consiste à définir une property. Comme on va le voir ce mécanisme permet d'écrire du code qui fait référence à l'attribut `kelvin` de l'instance, mais qui passe tout de même par une couche de logique.\n",
    "\n",
    "Ça ressemblerait à ceci :"
   ]
  },
  {
   "cell_type": "code",
   "execution_count": null,
   "metadata": {},
   "outputs": [],
   "source": [
    "class Temperature3:\n",
    "    def __init__(self, kelvin):\n",
    "        self.kelvin = kelvin\n",
    "\n",
    "    # je définis bel et bien mes accesseurs de type getter et setter\n",
    "    # mais _get_kelvin commence avec un _ \n",
    "    # car il n'est pas censé être appelé par l'extérieur\n",
    "    def _get_kelvin(self):\n",
    "        return self._kelvin\n",
    "\n",
    "    # idem\n",
    "    def _set_kelvin(self, kelvin):\n",
    "        self._kelvin = max(0, kelvin)\n",
    "        \n",
    "    # une fois que j'ai ces deux éléments je peux créer une property\n",
    "    kelvin = property(_get_kelvin, _set_kelvin)\n",
    "    \n",
    "    # et toujours la façon d'imprimer\n",
    "    def __repr__(self):\n",
    "        return f\"{self._kelvin}K\"    "
   ]
  },
  {
   "cell_type": "code",
   "execution_count": null,
   "metadata": {},
   "outputs": [],
   "source": [
    "t3 = Temperature3(200)\n",
    "t3"
   ]
  },
  {
   "cell_type": "code",
   "execution_count": null,
   "metadata": {},
   "outputs": [],
   "source": [
    "# par contre ici on va le mettre à zéro\n",
    "# à nouveau, une exception serait préférable sans doute\n",
    "t3.kelvin = -30\n",
    "t3"
   ]
  },
  {
   "cell_type": "markdown",
   "metadata": {},
   "source": [
    "Comme vous pouvez le voir, cette technique a plusieurs avantages :\n",
    "\n",
    "* on a ce qu'on cherchait, c'est-à-dire une façon d'ajouter une couche de logique lors des accès en lecture et en écriture à l'intérieur de l'objet,\n",
    "* mais **sans toutefois** demander à l'utilisateur de passer son temps à envoyer des méthodes `get_` et `set()` sur l'objet, ce qui a tendance à alourdir considérablement le code.\n",
    "\n",
    "C'est pour cette raison que vous ne rencontrerez presque jamais en Python une bibliothèque qui offre une interface à base de méthodes `get_something` et `set_something`, mais au contraire les API vous exposeront directement des attributs que vous devez utiliser directement."
   ]
  },
  {
   "cell_type": "markdown",
   "metadata": {},
   "source": [
    "## Complément - niveau avancé"
   ]
  },
  {
   "cell_type": "markdown",
   "metadata": {},
   "source": [
    "À titre d'exemple d'utilisation, voici une dernière implémentation de `Temperature` qui donne l'illusion d'avoir 3 attributs (`kelvin`, `celsius` et `fahrenheit`), alors qu'en réalité le seul attribut de donnée est `_kelvin`."
   ]
  },
  {
   "cell_type": "code",
   "execution_count": null,
   "metadata": {},
   "outputs": [],
   "source": [
    "class Temperature:\n",
    "\n",
    "    ## les constantes de conversion\n",
    "    # kelvin / celsius\n",
    "    K = 273.16\n",
    "    # fahrenheit / celsius\n",
    "    RF = 5 / 9\n",
    "    KF = (K / RF) - 32\n",
    "\n",
    "    def __init__(self, kelvin=None, celsius=None, fahrenheit=None):\n",
    "        \"\"\"\n",
    "        Création à partir de n'importe quelle unité\n",
    "        Il faut préciser exactement une des trois unités\n",
    "        \"\"\"\n",
    "        # on passe par les properties pour initialiser\n",
    "        if kelvin is not None:\n",
    "            self.kelvin = kelvin\n",
    "        elif celsius is not None:\n",
    "            self.celsius = celsius\n",
    "        elif fahrenheit is not None:\n",
    "            self.fahrenheit = fahrenheit\n",
    "        else:\n",
    "            self.kelvin = 0\n",
    "            raise ValueError(\"need to specify at least one unit\")\n",
    "\n",
    "    # pour le confort\n",
    "    def __repr__(self):\n",
    "        return f\"<{self.kelvin:g}K == {self.celsius:g}℃ \" \\\n",
    "               f\"== {self.fahrenheit:g}F>\"\n",
    "\n",
    "    def __str__(self):\n",
    "        return f\"{self.kelvin:g}K\"\n",
    "\n",
    "\n",
    "    # l'attribut 'kelvin' n'a pas de conversion à faire,\n",
    "    # mais il vérifie que la valeur est positive\n",
    "    def _get_kelvin(self):\n",
    "        return self._kelvin\n",
    "\n",
    "    def _set_kelvin(self, kelvin):\n",
    "        if kelvin < 0:\n",
    "            raise ValueError(f\"Kelvin {kelvin} must be positive\")\n",
    "        self._kelvin = kelvin\n",
    "\n",
    "    # la property qui définit l'attribut `kelvin`\n",
    "    kelvin = property(_get_kelvin, _set_kelvin)\n",
    "\n",
    "\n",
    "    # les deux autres properties font la conversion, puis \n",
    "    # sous-traitent à la property kelvin pour le contrôle de borne\n",
    "    def _set_celsius(self, celsius):\n",
    "        # using .kelvin instead of ._kelvin to enforce\n",
    "        self.kelvin = celsius + self.K\n",
    "\n",
    "    def _get_celsius(self):\n",
    "        return self._kelvin - self.K\n",
    "    \n",
    "    celsius = property(_get_celsius, _set_celsius)\n",
    "\n",
    "    def _set_fahrenheit(self, fahrenheit):\n",
    "        # using .kelvin instead of ._kelvin to enforce\n",
    "        self.kelvin = (fahrenheit + self.KF) * self.RF\n",
    "\n",
    "    def _get_fahrenheit(self):\n",
    "        return self._kelvin / self.RF - self.KF\n",
    "    \n",
    "    fahrenheit = property(_get_fahrenheit, _set_fahrenheit)"
   ]
  },
  {
   "cell_type": "markdown",
   "metadata": {},
   "source": [
    "Et voici ce qu'on peut en faire :"
   ]
  },
  {
   "cell_type": "code",
   "execution_count": null,
   "metadata": {
    "cell_style": "split"
   },
   "outputs": [],
   "source": [
    "t = Temperature(celsius=0)\n",
    "t"
   ]
  },
  {
   "cell_type": "code",
   "execution_count": null,
   "metadata": {
    "cell_style": "split"
   },
   "outputs": [],
   "source": [
    "t.fahrenheit"
   ]
  },
  {
   "cell_type": "code",
   "execution_count": null,
   "metadata": {
    "cell_style": "split"
   },
   "outputs": [],
   "source": [
    "t.celsius += 100\n",
    "print(t)"
   ]
  },
  {
   "cell_type": "code",
   "execution_count": null,
   "metadata": {
    "cell_style": "center"
   },
   "outputs": [],
   "source": [
    "try:\n",
    "    t = Temperature(fahrenheit = -1000)\n",
    "except Exception as e:\n",
    "    print(f\"OOPS, {type(e)}, {e}\")"
   ]
  },
  {
   "cell_type": "markdown",
   "metadata": {},
   "source": [
    "##### Pour en savoir plus"
   ]
  },
  {
   "cell_type": "markdown",
   "metadata": {},
   "source": [
    "Voir aussi [la documentation officielle](https://docs.python.org/3.6/library/functions.html#property)."
   ]
  },
  {
   "cell_type": "markdown",
   "metadata": {},
   "source": [
    "Vous pouvez notamment aussi, en option, ajouter un *deleter* pour intercepter les instructions du type :"
   ]
  },
  {
   "cell_type": "code",
   "execution_count": null,
   "metadata": {},
   "outputs": [],
   "source": [
    "# comme on n'a pas défini de deleter, on ne peut pas faire ceci\n",
    "try:\n",
    "    del t.kelvin\n",
    "except Exception as e:\n",
    "    print(f\"OOPS {type(e)} {e}\")"
   ]
  }
 ],
 "metadata": {
  "kernelspec": {
   "display_name": "Python 3",
   "language": "python",
   "name": "python3"
  },
  "language_info": {
   "codemirror_mode": {
    "name": "ipython",
    "version": 3
   },
   "file_extension": ".py",
   "mimetype": "text/x-python",
   "name": "python",
   "nbconvert_exporter": "python",
   "pygments_lexer": "ipython3",
   "version": "3.7.0"
  },
  "livereveal": {
   "auto_select": "code",
   "auto_select_fragment": true,
   "autolaunch": false,
   "backimage": "media/nologo.png",
   "height": "100%",
   "slideNumber": "c",
   "start_slideshow_at": "selected",
   "theme": "simple",
   "transition": "fade",
   "width": "100%"
  },
  "notebookname": "properties",
  "version": "3.0"
 },
 "nbformat": 4,
 "nbformat_minor": 2
}
