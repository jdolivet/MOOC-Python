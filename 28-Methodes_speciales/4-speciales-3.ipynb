{
 "cells": [
  {
   "cell_type": "markdown",
   "metadata": {},
   "source": [
    "<style>div.title-slide {    width: 100%;    display: flex;    flex-direction: row;            /* default value; can be omitted */    flex-wrap: nowrap;              /* default value; can be omitted */    justify-content: space-between;}</style><div class=\"title-slide\">\n",
    "<span style=\"float:left;\">Licence CC BY-NC-ND</span>\n",
    "<span>Thierry Parmentelat &amp; Arnaud Legout</span>\n",
    "<span><img src=\"media/both-logos-small-alpha.png\" style=\"display:inline\" /></span>\n",
    "</div>"
   ]
  },
  {
   "cell_type": "markdown",
   "metadata": {},
   "source": [
    "# Méthodes spéciales (3/3)"
   ]
  },
  {
   "cell_type": "markdown",
   "metadata": {},
   "source": [
    "## Complément - niveau avancé"
   ]
  },
  {
   "cell_type": "markdown",
   "metadata": {},
   "source": [
    "Ce complément termine la série sur les méthodes spéciales."
   ]
  },
  {
   "cell_type": "markdown",
   "metadata": {},
   "source": [
    "### `__getattr__` et apparentés"
   ]
  },
  {
   "cell_type": "markdown",
   "metadata": {},
   "source": [
    "Dans cette dernière partie nous allons voir comment avec la méthode `__getattr__`, on peut redéfinir la façon que le langage a d'évaluer :\n",
    "\n",
    "```python\n",
    "objet.attribut\n",
    "```"
   ]
  },
  {
   "cell_type": "markdown",
   "metadata": {},
   "source": [
    "**Avertissement :** on a vu dans la séquence consacrée à l'héritage que, pour l'essentiel, le mécanisme d'héritage repose **précisément** sur la façon d'évaluer les attributs d'un objet, aussi nous vous recommandons d'utiliser ce trait avec précaution, car il vous donne la possibilité de \"faire muter le langage\" comme on dit."
   ]
  },
  {
   "cell_type": "markdown",
   "metadata": {},
   "source": [
    "**Remarque :** on verra en toute dernière semaine que `__getattr__` est *une* façon d'agir sur la façon dont le langage opère les accès aux attributs. Sachez qu'en réalité, le protocole d'accès aux attributs peut être modifié beaucoup plus profondément si nécessaire."
   ]
  },
  {
   "cell_type": "markdown",
   "metadata": {},
   "source": [
    "##### Un exemple : la classe `RPCProxy`"
   ]
  },
  {
   "cell_type": "markdown",
   "metadata": {},
   "source": [
    "Pour illustrer `__getattr__`, nous allons considérer le problème suivant. Une application utilise un service distant, avec laquelle elle interagit au travers d'une API.\n",
    "\n",
    "C'est une situation très fréquente : lorsqu'on utilise un service météo, ou de géolocalisation, ou de réservation, le prestataire vous propose une **API** (Application Programming Interface) qui se présente bien souvent comme une **liste de fonctions**, que votre fonction peut appeler à distance au travers d'un mécanisme de **RPC** (Remote Procedure Call).\n",
    "\n",
    "Imaginez pour fixer les idées que vous utilisez un service de réservation de ressources dans un Cloud, qui vous permet d'appeler les fonctions suivantes :\n",
    "\n",
    " * `GetNodes`(...) pour obtenir des informations sur les noeuds disponibles ;\n",
    " * `BookNode`(...) pour réserver un noeud ;\n",
    " * `ReleaseNode`(...) pour abandonner un noeud."
   ]
  },
  {
   "cell_type": "markdown",
   "metadata": {},
   "source": [
    "Naturellement ceci est une API extrêmement simplifiée. Le point que nous voulons illustrer ici est que le dialogue avec le service distant :\n",
    "\n",
    " * requiert ses propres données - comme l'URL où on peut joindre le service, et les identifiants à utiliser pour s'authentifier ;\n",
    " * et possède sa propre logique - dans le cas d'une authentification par session par exemple, il faut s'authentifier une première fois avec un login/password, pour obtenir une session qu'on peut utiliser dans les appels suivants."
   ]
  },
  {
   "cell_type": "markdown",
   "metadata": {},
   "source": [
    "Pour ces raisons il est naturel de concevoir une classe `RPCProxy` dans laquelle on va rassembler à la fois ces données et cette logique, pour soulager toute l'application de ces détails, comme on l'a illustré ci-dessous :\n",
    "\n",
    "<img src=\"media/rpcproxy.png\">"
   ]
  },
  {
   "cell_type": "markdown",
   "metadata": {},
   "source": [
    "Pour implémenter la plomberie liée à RPC, à l'encodage et décodage des données, et qui sera interne à la classe `RPCProxy`, on pourra en vraie grandeur utiliser des outils comme :\n",
    "\n",
    " * [`xmlrpc.client`](https://docs.python.org/3/library/xmlrpc.client.html) qui fait partie de la bibliothèque standard ; \n",
    " * ou, pour JSON, une des nombreuses implémentations qu'un moteur de recherche vous exposera si vous cherchez `python rpc json`, comme par exemple [`json-rpc`](https://pypi.python.org/pypi/json-rpc/).\n",
    "\n",
    "Cela n'est toutefois pas notre sujet ici, et nous nous contenterons, dans notre code simplifié, d'imprimer un message."
   ]
  },
  {
   "cell_type": "markdown",
   "metadata": {},
   "source": [
    "##### Une approche naïve"
   ]
  },
  {
   "cell_type": "markdown",
   "metadata": {},
   "source": [
    "Se pose donc la question de savoir quelle interface la classe `RPCProxy` doit offrir au reste du monde. Dans une première version naïve on pourrait écrire quelque chose comme :"
   ]
  },
  {
   "cell_type": "code",
   "execution_count": null,
   "metadata": {
    "collapsed": true
   },
   "outputs": [],
   "source": [
    "# la version naïve de la classe RPCProxy\n",
    "\n",
    "class RPCProxy:\n",
    "    \n",
    "    def __init__(self, url, login, password):\n",
    "        self.url = url\n",
    "        self.login = login\n",
    "        self.password = password\n",
    "        \n",
    "    def _forward_call(self, functionname, *args):\n",
    "        \"\"\"\n",
    "        helper method that marshalls and forwards \n",
    "        the function and arguments to the remote end\n",
    "        \"\"\"\n",
    "        print(f\"\"\"Envoi à {self.url}\n",
    "de la fonction {functionname} -- args= {args}\"\"\")\n",
    "        return \"retour de la fonction \" + functionname\n",
    "    \n",
    "    def GetNodes (self, *args):\n",
    "        return self._forward_call ('GetNodes', *args)\n",
    "    def BookNode (self, *args):\n",
    "        return self._forward_call ('BookNode', *args)\n",
    "    def ReleaseNode (self, *args):\n",
    "        return self._forward_call ('ReleaseNode', *args)"
   ]
  },
  {
   "cell_type": "markdown",
   "metadata": {},
   "source": [
    "Ainsi l'application utilise la classe de cette façon :"
   ]
  },
  {
   "cell_type": "code",
   "execution_count": null,
   "metadata": {},
   "outputs": [],
   "source": [
    "# création d'une instance de RPCProxy\n",
    "\n",
    "rpc_proxy = RPCProxy(url='http://cloud.provider.com/JSONAPI', \n",
    "                     login='dupont',\n",
    "                     password='***')\n",
    "\n",
    "# cette partie du code, en tant qu'utilisateur de l'API, \n",
    "# est supposée connaître les détails\n",
    "# des arguments à passer \n",
    "# et de comment utiliser les valeurs de retour\n",
    "nodes_list = rpc_proxy.GetNodes ( \n",
    "    [ ('phy_mem', '>=', '32G') ] )\n",
    "\n",
    "# réserver un noeud\n",
    "node_lease = rpc_proxy.BookNode (\n",
    "    { 'id' : 1002, 'phy_mem' : '32G' } )"
   ]
  },
  {
   "cell_type": "markdown",
   "metadata": {},
   "source": [
    "##### Discussion"
   ]
  },
  {
   "cell_type": "markdown",
   "metadata": {},
   "source": [
    "Quelques commentaires en vrac au sujet de cette approche :\n",
    "\n",
    "* l'interface est correcte ; l'objet `rcp_proxy` se comporte bien comme un proxy, on a donné au programmeur l'illusion complète qu'il utilise une classe locale (sauf pour les performances bien entendu...) ;\n",
    "* la séparation des rôles est raisonnable également, la classe RPCProxy n'a pas à connaître le détail de la signature de chaque méthode, charge à l'appelant d'utiliser l'API correctement ;\n",
    "* par contre ce qui cloche, c'est que l'implémentation de la classe RPCProxy dépend de la liste des fonctions exposées par l'API ; imaginez une API avec 100 ou 200 méthodes, cela donne une dépendance assez forte et surtout inutile ;\n",
    "* enfin, nous avons escamoté la nécessité de faire de RPCProxy un [singleton](http://en.wikipedia.org/wiki/Singleton_pattern), mais c'est une toute autre histoire."
   ]
  },
  {
   "cell_type": "markdown",
   "metadata": {},
   "source": [
    "##### Une approche plus subtile"
   ]
  },
  {
   "cell_type": "markdown",
   "metadata": {},
   "source": [
    "Pour obtenir une implémentation qui conserve toutes les qualités de la version naïve, mais sans la nécessité de définir une à une toutes les fonctions de l'API, on peut tirer profit de `__getattr__`, comme dans cette deuxième version :"
   ]
  },
  {
   "cell_type": "code",
   "execution_count": null,
   "metadata": {
    "collapsed": true
   },
   "outputs": [],
   "source": [
    "# une deuxième implémentation de RPCProxy\n",
    "\n",
    "class RPCProxy:\n",
    "    \n",
    "    def __init__(self, url, login, password):\n",
    "        self.url = url\n",
    "        self.login = login\n",
    "        self.password = password\n",
    "        \n",
    "    def __getattr__(self, function):\n",
    "        \"\"\"\n",
    "        Crée à la volée une méthode sur RPCProxy qui correspond\n",
    "        à la fonction distante 'function'\n",
    "        \"\"\"\n",
    "        def forwarder(*args):\n",
    "            print(f\"Envoi à {self.url}...\")\n",
    "            print(f\"de la fonction {function} -- args= {args}\")\n",
    "            return \"retour de la fonction \" + function\n",
    "        return forwarder"
   ]
  },
  {
   "cell_type": "markdown",
   "metadata": {},
   "source": [
    "Qui est cette fois **totalement découplée** des détails de l'API, et qu'on peut utiliser exactement comme tout à l'heure :"
   ]
  },
  {
   "cell_type": "code",
   "execution_count": null,
   "metadata": {},
   "outputs": [],
   "source": [
    "# création d'une instance de RPCProxy\n",
    "\n",
    "rpc_proxy = RPCProxy (url='http://cloud.provider.com/JSONAPI', \n",
    "                      login='dupont',\n",
    "                      password='***')\n",
    "\n",
    "# cette partie du code, en tant qu'utilisateur de l'API, \n",
    "# est supposée connaître les détails\n",
    "# des arguments à passer \n",
    "# et de comment utiliser les valeurs de retour\n",
    "nodes_list = rpc_proxy.GetNodes ( \n",
    "    [ ('phy_mem', '>=', '32G') ] )\n",
    "\n",
    "# réserver un noeud\n",
    "node_lease = rpc_proxy.BookNode (\n",
    "    { 'id' : 1002, 'phy_mem' : '32G' } )"
   ]
  }
 ],
 "metadata": {
  "kernelspec": {
   "display_name": "Python 3",
   "language": "python",
   "name": "python3"
  },
  "language_info": {
   "codemirror_mode": {
    "name": "ipython",
    "version": 3
   },
   "file_extension": ".py",
   "mimetype": "text/x-python",
   "name": "python",
   "nbconvert_exporter": "python",
   "pygments_lexer": "ipython3",
   "version": "3.7.0"
  },
  "livereveal": {
   "auto_select": "code",
   "auto_select_fragment": true,
   "autolaunch": false,
   "backimage": "media/nologo.png",
   "height": "100%",
   "start_slideshow_at": "selected",
   "theme": "simple",
   "transition": "fade",
   "width": "100%"
  },
  "notebookname": "Méthodes spéciales (3/3)",
  "version": "3.0"
 },
 "nbformat": 4,
 "nbformat_minor": 2
}
