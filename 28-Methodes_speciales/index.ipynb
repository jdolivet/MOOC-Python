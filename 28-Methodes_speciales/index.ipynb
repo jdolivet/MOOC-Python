{
 "cells": [
  {
   "cell_type": "markdown",
   "metadata": {},
   "source": [
    "# Méthodes spéciales"
   ]
  },
  {
   "cell_type": "markdown",
   "metadata": {},
   "source": [
    "<a href=\"http://www.youtube.com/watch?feature=player_embedded&v=Dfg48HHnGf8\n",
    "\" target=\"_blank\"><img src=\"http://img.youtube.com/vi/Dfg48HHnGf8/0.jpg\" \n",
    "alt=\"Vidéo du cours\" width=\"240\" height=\"180\" border=\"10\" /></a>"
   ]
  },
  {
   "cell_type": "markdown",
   "metadata": {},
   "source": [
    "* ## [Instance hashable](1-Instance-hashable.ipynb)\n",
    "* ## [Surcharge d'opérateurs](2-speciales-1.ipynb)\n",
    "* ## [Méthodes spéciales 1](3-speciales-2.ipynb)\n",
    "* ## [Méthodes spéciales 2](4-speciales-3.ipynb)"
   ]
  }
 ],
 "metadata": {
  "kernelspec": {
   "display_name": "Python 3",
   "language": "python",
   "name": "python3"
  },
  "language_info": {
   "codemirror_mode": {
    "name": "ipython",
    "version": 3
   },
   "file_extension": ".py",
   "mimetype": "text/x-python",
   "name": "python",
   "nbconvert_exporter": "python",
   "pygments_lexer": "ipython3",
   "version": "3.6.6"
  }
 },
 "nbformat": 4,
 "nbformat_minor": 2
}
