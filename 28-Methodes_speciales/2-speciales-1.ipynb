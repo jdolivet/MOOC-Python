{
 "cells": [
  {
   "cell_type": "markdown",
   "metadata": {},
   "source": [
    "<style>div.title-slide {    width: 100%;    display: flex;    flex-direction: row;            /* default value; can be omitted */    flex-wrap: nowrap;              /* default value; can be omitted */    justify-content: space-between;}</style><div class=\"title-slide\">\n",
    "<span style=\"float:left;\">Licence CC BY-NC-ND</span>\n",
    "<span>Thierry Parmentelat &amp; Arnaud Legout</span>\n",
    "<span><img src=\"media/both-logos-small-alpha.png\" style=\"display:inline\" /></span>\n",
    "</div>"
   ]
  },
  {
   "cell_type": "markdown",
   "metadata": {},
   "source": [
    "# Surcharge d'opérateurs (1)"
   ]
  },
  {
   "cell_type": "markdown",
   "metadata": {},
   "source": [
    "## Complément - niveau intermédiaire"
   ]
  },
  {
   "cell_type": "markdown",
   "metadata": {},
   "source": [
    "Ce complément vise à illustrer certaines des possibilités de surcharge d'opérateurs, ou plus généralement les mécanismes disponibles pour étendre le langage et donner un sens à des fragments de code comme :\n",
    "\n",
    " * `objet1 + objet2`\n",
    " * `item in objet`\n",
    " * `objet[key]`\n",
    " * `objet.key`\n",
    " * `for i in objet:`\n",
    " * `if objet:`\n",
    " * `objet(arg1, arg2)`  (et non pas `classe(arg1, arg2)`)\n",
    " * etc..\n",
    "\n",
    "que jusqu'ici, sauf pour la boucle `for` et pour le hachage, on n'a expliqués que pour des objets de type prédéfini."
   ]
  },
  {
   "cell_type": "markdown",
   "metadata": {},
   "source": [
    "Le mécanisme général pour cela consiste à définir des **méthodes spéciales**, avec un nom en `__nom__`. Il existe un total de près de 80 méthodes dans ce système de surcharges, aussi il n'est pas question ici d'être exhaustif. Vous trouverez [dans ce document une liste complète de ces possibilités](https://docs.python.org/3/reference/datamodel.html#specialnames)."
   ]
  },
  {
   "cell_type": "markdown",
   "metadata": {},
   "source": [
    "Il nous faut également signaler que les mécanismes mis en jeu ici sont **de difficultés assez variables**. Dans le cas le plus simple il suffit de définir une méthode sur la classe pour obtenir le résultat (par exemple, définir `__call__` pour rendre un objet callable). Mais parfois on parle d'un ensemble de méthodes qui doivent être cohérentes, voyez par exemple les [descriptors](https://docs.python.org/3/reference/datamodel.html#invoking-descriptors) qui mettent en jeu les méthodes `__get__`, `__set__` et `__delete__`, et qui peuvent sembler particulièrement cryptiques. On aura d'ailleurs l'occasion d'approfondir les descriptors en semaine 9 avec les sujets avancés."
   ]
  },
  {
   "cell_type": "markdown",
   "metadata": {},
   "source": [
    "Nous vous conseillons de commencer par des choses simples, et surtout de n'utiliser ces techniques que lorsqu'elles apportent vraiment quelque chose. Le constructeur et l'affichage sont pratiquement toujours définis, mais pour tout le reste il convient d'utiliser ces traits avec le plus grand discernement. Dans tous les cas écrivez votre code avec la documentation sous les yeux, c'est plus prudent :)"
   ]
  },
  {
   "cell_type": "markdown",
   "metadata": {},
   "source": [
    "Nous avons essayé de présenter cette sélection par difficulté croissante. \n",
    "Par ailleurs, et pour alléger la présentation, cet exposé a été coupé en trois notebooks différents."
   ]
  },
  {
   "cell_type": "markdown",
   "metadata": {},
   "source": [
    "*****"
   ]
  },
  {
   "cell_type": "markdown",
   "metadata": {},
   "source": [
    "### Rappels"
   ]
  },
  {
   "cell_type": "markdown",
   "metadata": {},
   "source": [
    "Pour rappel, on a vu dans la vidéo :\n",
    "\n",
    " * la méthode `__init__` pour définir un **constructeur** ; \n",
    " * la méthode `__str__` pour définir comment une instance s'imprime avec `print`."
   ]
  },
  {
   "cell_type": "markdown",
   "metadata": {},
   "source": [
    "### Affichage : `__repr__` et `__str__`"
   ]
  },
  {
   "cell_type": "markdown",
   "metadata": {},
   "source": [
    "Nous commençons par signaler la méthode `__repr__` qui est assez voisine de `__str__`, et qui donc doit retourner un objet de type chaîne de caractères, sauf que :\n",
    "\n",
    " * `__str__` est utilisée par `print` (affichage orienté utilisateur du programme, priorité au confort visuel) ;\n",
    " * alors que `__repr__` est utilisée par la fonction `repr()` (affichage orienté programmeur, aussi peu ambigu que possible) ;\n",
    " * enfin il faut savoir que `__repr__` est utilisée **aussi** par `print` si `__str__` n'est pas définie."
   ]
  },
  {
   "cell_type": "markdown",
   "metadata": {},
   "source": [
    "Pour cette dernière raison, on trouve dans la nature `__repr__` plutôt plus souvent que `__str__` ; voyez [ce lien](https://docs.python.org/3/reference/datamodel.html#object.__repr__) pour davantage de détails. "
   ]
  },
  {
   "cell_type": "markdown",
   "metadata": {},
   "source": [
    "##### Quand est utilisée `repr()` ?"
   ]
  },
  {
   "cell_type": "markdown",
   "metadata": {},
   "source": [
    "La fonction `repr()` est utilisée massivement dans les informations de debugging comme les traces de pile lorsqu'une exception est levée. Elle est aussi utilisée lorsque vous affichez un objet sans passer par `print`, c'est-à-dire par exemple : "
   ]
  },
  {
   "cell_type": "code",
   "execution_count": null,
   "metadata": {},
   "outputs": [],
   "source": [
    "class Foo: \n",
    "    def __repr__(self):\n",
    "        return 'custom repr'\n",
    "    \n",
    "foo = Foo()\n",
    "# lorsque vous affichez un objet comme ceci\n",
    "foo\n",
    "# en fait vous utilisez repr()"
   ]
  },
  {
   "cell_type": "markdown",
   "metadata": {},
   "source": [
    "##### Deux exemples"
   ]
  },
  {
   "cell_type": "markdown",
   "metadata": {},
   "source": [
    "Voici deux exemples simples de classes ; dans le premier on n'a défini que `__repr__`, dans le second on a redéfini les deux méthodes :"
   ]
  },
  {
   "cell_type": "code",
   "execution_count": null,
   "metadata": {},
   "outputs": [],
   "source": [
    "# une classe qui ne définit que __repr__\n",
    "class Point:\n",
    "    \"première version de Point - on ne définit que __repr__\"\n",
    "    def __init__(self, x, y):\n",
    "        self.x = x\n",
    "        self.y = y\n",
    "    def __repr__(self):\n",
    "        return f\"Point({self.x},{self.y})\"\n",
    "    \n",
    "point = Point (0,100)\n",
    "\n",
    "print(\"avec print\", point)\n",
    "\n",
    "# si vous affichez un objet sans passer par print\n",
    "# vous utilisez repr()\n",
    "point"
   ]
  },
  {
   "cell_type": "code",
   "execution_count": null,
   "metadata": {},
   "outputs": [],
   "source": [
    "# la même chose mais où on redéfinit __str__ et __repr__\n",
    "class Point2:\n",
    "    \"seconde version de Point - on définit __repr__ et __str__\"\n",
    "    def __init__(self, x, y):\n",
    "        self.x = x\n",
    "        self.y = y\n",
    "    def __repr__(self):\n",
    "        return f\"Point2({self.x},{self.y})\"\n",
    "    def __str__(self):\n",
    "        return f\"({self.x},{self.y})\"\n",
    "    \n",
    "point2 = Point2 (0,100)\n",
    "\n",
    "print(\"avec print\", point2)\n",
    "\n",
    "# les f-strings (ou format) utilisent aussi __str__\n",
    "print(f\"avec format {point2}\")\n",
    "\n",
    "# et si enfin vous affichez un objet sans passer par print\n",
    "# vous utilisez repr()\n",
    "point2"
   ]
  },
  {
   "cell_type": "markdown",
   "metadata": {},
   "source": [
    "*****"
   ]
  },
  {
   "cell_type": "markdown",
   "metadata": {},
   "source": [
    "### `__bool__`"
   ]
  },
  {
   "cell_type": "markdown",
   "metadata": {},
   "source": [
    "Vous vous souvenez que la condition d'un test dans un `if` peut ne pas retourner un booléen (nous avons vu cela en Semaine 4, Séquence \"Test if/elif/else et opérateurs booléens\"). Nous avions noté que pour les types prédéfinis, sont considérés comme *faux* les objets : `None`, la liste vide, un tuple vide, etc.\n",
    "\n",
    "Avec `__bool__` on peut redéfinir le comportement des objets d'une classe vis-à-vis des conditions - ou si l'on préfère, quel doit être le résultat de `bool(instance)`.\n",
    "\n",
    "**Attention** pour éviter les comportements imprévus, comme on est en train de redéfinir le comportement des conditions, il **faut** renvoyer un **booléen** (ou à la rigueur 0 ou 1), on ne peut pas dans ce contexte retourner d'autres types d'objet.\n",
    "\n",
    "Nous allons **illustrer** cette méthode dans un petit moment avec une nouvelle implémentation de la classe **`Matrix2`**.\n",
    "\n",
    "Remarquez enfin qu'en l'absence de méthode `__bool__`, on cherche aussi la méthode `__len__` pour déterminer le résultat du test ; une instance de longueur nulle est alors considéré comme `False`, en cohérence avec ce qui se passe avec les types *built-in* `list`, `dict`, `tuple`, etc.\n",
    "\n",
    "Ce genre de *protocole*, qui cherche d'abord une méthode (`__bool__`), puis une autre (`__len__`) en cas d'absence de la première, est relativement fréquent dans la mécanique de surcharge des opérateurs ; c'est entre autres pourquoi la documentation est indispensable lorsqu'on surcharge les opérateurs."
   ]
  },
  {
   "cell_type": "markdown",
   "metadata": {},
   "source": [
    "### `__add__` et apparentés (`__mul__`, `__sub__`, `__div__`, `__and__`, etc.)"
   ]
  },
  {
   "cell_type": "markdown",
   "metadata": {},
   "source": [
    "On peut également redéfinir les opérateurs arithmétiques et logiques. Dans l'exemple qui suit, nous allons l'illustrer sur l'addition de matrices. On rappelle pour mémoire que :\n",
    "\n",
    "$\\left( \\begin{array}{cc} a_{11} & a_{12} \\\\\n",
    "a_{21} & a_{22}\\end{array} \\right) \n",
    "+\n",
    "\\left( \\begin{array}{cc} b_{11} & b_{12} \\\\\n",
    "b_{21} & b_{22}\\end{array} \\right) \n",
    "= \n",
    "\\left( \\begin{array}{cc} a_{11}+b_{11} & a_{12}+b_{12} \\\\\n",
    "a_{21}+b_{21} & a_{22}+b_{22}\\end{array} \\right)$"
   ]
  },
  {
   "cell_type": "markdown",
   "metadata": {},
   "source": [
    "### Une nouvelle version de la classe `Matrix2`"
   ]
  },
  {
   "cell_type": "markdown",
   "metadata": {},
   "source": [
    "Voici (encore) une nouvelle implémentation de la classe de matrices 2x2, qui illustre cette fois :\n",
    "\n",
    "* la possibilité d'ajouter deux matrices ;\n",
    "* la possibilité de faire un test sur une matrice - le test sera faux si la matrice a tous ses coefficients nuls ;\n",
    "* et, bien que ce ne soit pas le sujet immédiat, cette implémentation illustre aussi la possibilité de construire la matrice à partir :\n",
    "  * soit des 4 coefficients, comme par exemple : `Matrix2(a, b, c, d)`\n",
    "  * soit d'une séquence, comme par exemple : `Matrix2(range(4))`\n",
    " \n",
    " Cette dernière possibilité va nous permettre de simplifier le code de l'addition, comme on va le voir."
   ]
  },
  {
   "cell_type": "code",
   "execution_count": null,
   "metadata": {
    "collapsed": true
   },
   "outputs": [],
   "source": [
    "# notre classe Matrix2 avec encore une autre implémentation\n",
    "class Matrix2:\n",
    "\n",
    "    def __init__(self, *args):\n",
    "        \"\"\"\n",
    "        le constructeur accepte \n",
    "        (*) soit les 4 coefficients individuellement\n",
    "        (*) soit une liste - ou + généralement une séquence - des mêmes\n",
    "        \"\"\"\n",
    "        # on veut pouvoir créer l'objet à partir des 4 coefficients\n",
    "        # souvenez-vous qu'avec la forme *args, args est toujours un tuple\n",
    "        if len(args) == 4:\n",
    "            self.coefs = args\n",
    "        # ou bien d'une séquence de 4 coefficients\n",
    "        elif len(args) == 1:\n",
    "            self.coefs = tuple(*args)\n",
    "\n",
    "    def __repr__(self):\n",
    "        \"l'affichage\"\n",
    "        return \"[\" + \", \".join([str(c) for c in self.coefs]) + \"]\"\n",
    "\n",
    "    def __add__(self, other):\n",
    "        \"\"\"\n",
    "        l'addition de deux matrices retourne un nouvel objet\n",
    "        la possibilité de créer une matrice à partir\n",
    "        d'une liste rend ce code beaucoup plus facile à écrire\n",
    "        \"\"\"\n",
    "        return Matrix2([a + b for a, b in zip(self.coefs, other.coefs)])\n",
    "\n",
    "    def __bool__(self):\n",
    "        \"\"\"\n",
    "        on considère que la matrice est non nulle \n",
    "        si un au moins de ses coefficients est non nul\n",
    "        \"\"\"\n",
    "        # ATTENTION le retour doit être un booléen \n",
    "        # ou à la rigueur 0 ou 1\n",
    "        for c in self.coefs:\n",
    "            if c:\n",
    "                return True\n",
    "        return False"
   ]
  },
  {
   "cell_type": "markdown",
   "metadata": {},
   "source": [
    "On peut à présent créer deux objets, les ajouter, et vérifier que la matrice nulle se comporte bien comme attendu :"
   ]
  },
  {
   "cell_type": "code",
   "execution_count": null,
   "metadata": {},
   "outputs": [],
   "source": [
    "zero     = Matrix2 ([0,0,0,0])\n",
    "\n",
    "matrice1 = Matrix2 (1,2,3,4)\n",
    "matrice2 = Matrix2 (list(range(10,50,10)))\n",
    "\n",
    "print('avant matrice1', matrice1)\n",
    "print('avant matrice2', matrice2)\n",
    "\n",
    "print('somme', matrice1 + matrice2)\n",
    "\n",
    "print('après matrice1', matrice1)\n",
    "print('après matrice2', matrice2)\n",
    "\n",
    "if matrice1: \n",
    "    print(matrice1,\"n'est pas nulle\")\n",
    "if not zero: \n",
    "    print(zero,\"est nulle\")"
   ]
  },
  {
   "cell_type": "markdown",
   "metadata": {},
   "source": [
    "Voici en vrac quelques commentaires sur cet exemple."
   ]
  },
  {
   "cell_type": "markdown",
   "metadata": {},
   "source": [
    "##### Utiliser un tuple"
   ]
  },
  {
   "cell_type": "markdown",
   "metadata": {},
   "source": [
    "Avant de parler de la surcharge des opérateurs *per se*, vous remarquerez que l'on range les coefficients dans un **tuple**, de façon à ce que notre objet `Matrix2` soit indépendant de l'objet qu'on a utilisé pour le créer (et qui peut être ensuite modifié par l'appelant)."
   ]
  },
  {
   "cell_type": "markdown",
   "metadata": {},
   "source": [
    "##### Créer un nouvel objet"
   ]
  },
  {
   "cell_type": "markdown",
   "metadata": {},
   "source": [
    "Vous remarquez que l'addition `__add__` renvoie un **nouvel objet**, au lieu de modifier `self` en place. C'est la bonne façon de procéder tout simplement parce que lorsqu'on écrit :\n",
    "\n",
    "```python\n",
    "print('somme', matrice1 + matrice2)\n",
    "```\n",
    "\n",
    "on ne s'attend pas du tout à ce que `matrice1` soit modifiée après cet appel. "
   ]
  },
  {
   "cell_type": "markdown",
   "metadata": {},
   "source": [
    "##### Du code qui ne dépend que des 4 opérations"
   ]
  },
  {
   "cell_type": "markdown",
   "metadata": {},
   "source": [
    "Le fait d'avoir défini l'addition nous permet par exemple de bénéficier de la fonction *built-in* `sum`. En effet le code de `sum` fait lui-même des additions, il n'y a donc aucune raison de ne pas pouvoir l'exécuter avec en entrée une liste de matrices puisque maintenant on sait les additionner, (mais on a dû toutefois passer à `sum` comme élément neutre `zero`) :"
   ]
  },
  {
   "cell_type": "code",
   "execution_count": null,
   "metadata": {},
   "outputs": [],
   "source": [
    "sum([matrice1, matrice2, matrice1] , zero)"
   ]
  },
  {
   "cell_type": "markdown",
   "metadata": {},
   "source": [
    "C'est un effet de bord du typage dynamique. On ne vérifie pas *a priori* que tous les arguments passés à `sum` savent faire une addition ; *a contrario*, s'ils savent s'additionner on peut exécuter le code de `sum`.\n",
    "\n",
    "De manière plus générale, si vous écrivez par exemple un morceau de code qui travaille sur les éléments d'un anneau (au sens anneau des entiers $\\mathbb{Z}$) - imaginez un code qui factorise des polynômes - vous pouvez espérer utiliser ce code avec n'importe quel anneau, c'est à dire avec une classe qui implémente les 4 opérations (pourvu bien sûr que cet ensemble soit effectivement un anneau)."
   ]
  },
  {
   "cell_type": "markdown",
   "metadata": {},
   "source": [
    "##### On peut aussi redéfinir un ordre"
   ]
  },
  {
   "cell_type": "markdown",
   "metadata": {},
   "source": [
    "La place nous manque pour illustrer la possibilité, avec les opérateurs `__eq__`, `__ne__`, `__lt__`, `__le__`, `__gt__`, et `__ge__`, de redéfinir un ordre sur les instances d'une classe.\n",
    "\n",
    "Signalons à cet égard qu'il existe un mécanisme \"intelligent\" qui permet de définir un ordre à partir d'un sous-ensemble seulement de ces méthodes, l'idée étant que si vous savez faire `>`\n",
    " et `=`, vous savez sûrement faire tout le reste. Ce mécanisme est [documenté ici](https://docs.python.org/3/library/functools.html#functools.total_ordering) ; il repose sur **un décorateur** (`@total_ordering`), un mécanisme que nous étudierons en semaine 9, mais que vous pouvez utiliser dès à présent."
   ]
  },
  {
   "cell_type": "markdown",
   "metadata": {},
   "source": [
    "De manière analogue à `sum` qui fonctionne sur une liste de matrices, si on avait défini un ordre sur les matrices, on aurait pu alors utiliser les *built-in* `min` et `max` pour calculer une borne supérieure ou inférieure dans une séquence de matrices."
   ]
  },
  {
   "cell_type": "markdown",
   "metadata": {},
   "source": [
    "## Complément - niveau avancé"
   ]
  },
  {
   "cell_type": "markdown",
   "metadata": {},
   "source": [
    "##### Le produit avec un scalaire"
   ]
  },
  {
   "cell_type": "markdown",
   "metadata": {},
   "source": [
    "On implémenterait la multiplication de deux matrices d'une façon identique (quoique plus fastidieuse naturellement). \n",
    "\n",
    "La multiplication d'une matrice par un scalaire (un réel ou complexe pour fixer les idées), comme ici :\n",
    "\n",
    "```python\n",
    "matrice2 = reel * matrice1\n",
    "```\n",
    "\n",
    "peut être également réalisée par surcharge de l'opérateur `__rmul__`.\n",
    "\n",
    "Il s'agit d'une astuce, destinée précisément à ce genre de situations, où on veut étendre la classe de l'opérande de **droite**, sachant que dans ce cas précis l'opérande de gauche est un type de base, qu'on ne peut pas étendre (les classes *built-in* sont non mutables, pour garantir la stabilité de l'interpréteur).\n",
    "\n",
    "Voici donc comment on s'y prendrait. Pour éviter de reproduire tout le code de la classe, on va l'étendre à la volée."
   ]
  },
  {
   "cell_type": "code",
   "execution_count": null,
   "metadata": {
    "collapsed": true
   },
   "outputs": [],
   "source": [
    "# remarquez que les opérandes sont apparemment inversés\n",
    "# dans le sens où pour evaluer \n",
    "#     reel * matrice\n",
    "# on écrit une méthode qui prend en argument\n",
    "#   la matrice, puis le réel\n",
    "# mais n'oubliez pas qu'on est en fait en train\n",
    "# d'écrire une méthode sur la classe `Matrix2`\n",
    "def multiplication_scalaire(self, alpha):\n",
    "    return Matrix2([alpha * coef for coef in self.coefs])\n",
    "\n",
    "# on ajoute la méthode spéciale __rmul__\n",
    "Matrix2.__rmul__ = multiplication_scalaire"
   ]
  },
  {
   "cell_type": "code",
   "execution_count": null,
   "metadata": {},
   "outputs": [],
   "source": [
    "matrice1"
   ]
  },
  {
   "cell_type": "code",
   "execution_count": null,
   "metadata": {},
   "outputs": [],
   "source": [
    "12 * matrice1"
   ]
  }
 ],
 "metadata": {
  "kernelspec": {
   "display_name": "Python 3",
   "language": "python",
   "name": "python3"
  },
  "language_info": {
   "codemirror_mode": {
    "name": "ipython",
    "version": 3
   },
   "file_extension": ".py",
   "mimetype": "text/x-python",
   "name": "python",
   "nbconvert_exporter": "python",
   "pygments_lexer": "ipython3",
   "version": "3.7.0"
  },
  "livereveal": {
   "auto_select": "code",
   "auto_select_fragment": true,
   "autolaunch": false,
   "backimage": "media/nologo.png",
   "height": "100%",
   "slideNumber": "c",
   "start_slideshow_at": "selected",
   "theme": "simple",
   "transition": "fade",
   "width": "100%"
  },
  "notebookname": "Surcharge op. (1)",
  "version": "3.0"
 },
 "nbformat": 4,
 "nbformat_minor": 1
}
