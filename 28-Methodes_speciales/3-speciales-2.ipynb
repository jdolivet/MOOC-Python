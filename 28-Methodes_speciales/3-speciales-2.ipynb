{
 "cells": [
  {
   "cell_type": "markdown",
   "metadata": {},
   "source": [
    "<style>div.title-slide {    width: 100%;    display: flex;    flex-direction: row;            /* default value; can be omitted */    flex-wrap: nowrap;              /* default value; can be omitted */    justify-content: space-between;}</style><div class=\"title-slide\">\n",
    "<span style=\"float:left;\">Licence CC BY-NC-ND</span>\n",
    "<span>Thierry Parmentelat &amp; Arnaud Legout</span>\n",
    "<span><img src=\"media/both-logos-small-alpha.png\" style=\"display:inline\" /></span>\n",
    "</div>"
   ]
  },
  {
   "cell_type": "markdown",
   "metadata": {},
   "source": [
    "# Méthodes spéciales (2/3)"
   ]
  },
  {
   "cell_type": "markdown",
   "metadata": {},
   "source": [
    "## Complément - niveau avancé"
   ]
  },
  {
   "cell_type": "markdown",
   "metadata": {},
   "source": [
    "Nous poursuivons dans ce complément la sélection de méthodes spéciales entreprise en première partie."
   ]
  },
  {
   "cell_type": "markdown",
   "metadata": {},
   "source": [
    "***"
   ]
  },
  {
   "cell_type": "markdown",
   "metadata": {},
   "source": [
    "### `__contains__`, `__len__`, `__getitem__` et apparentés"
   ]
  },
  {
   "cell_type": "markdown",
   "metadata": {},
   "source": [
    "La méthode `__contains__` permet de donner un sens à :\n",
    "\n",
    "```python\n",
    "item in objet\n",
    "```\n",
    "\n",
    "Sans grande surprise, elle prend en argument un objet et un item, et doit renvoyer un booléen. Nous l'illustrons ci-dessous avec la classe `DualQueue`."
   ]
  },
  {
   "cell_type": "markdown",
   "metadata": {},
   "source": [
    "La méthode `__len__` est utilisée par la fonction *built-in* `len` pour retourner la longueur d'un objet. "
   ]
  },
  {
   "cell_type": "markdown",
   "metadata": {},
   "source": [
    "##### La classe `DualQueue`"
   ]
  },
  {
   "cell_type": "markdown",
   "metadata": {},
   "source": [
    "Nous allons illustrer ceci avec un exemple de classe, un peu artificiel, qui implémente une queue de type FIFO. Les objets sont d'abord admis dans la file d'entrée (`add_input`), puis déplacés dans la file de sortie (`move_input_to_output`), et enfin sortis (`emit_output`).\n",
    "\n",
    "Clairement, cet exemple est à but uniquement pédagogique ; on veut montrer comment une implémentation qui repose sur deux listes séparées peut donner l'illusion d'une continuité, et se présenter comme un container unique. De plus cette implémentation ne fait aucun contrôle pour ne pas obscurcir le code. "
   ]
  },
  {
   "cell_type": "code",
   "execution_count": null,
   "metadata": {
    "collapsed": true
   },
   "outputs": [],
   "source": [
    "class DualQueue:\n",
    "    \"\"\"Une double file d'attente FIFO\"\"\"\n",
    "\n",
    "    def __init__(self):\n",
    "        \"constructeur, sans argument\"\n",
    "        self.inputs = []\n",
    "        self.outputs = []\n",
    "\n",
    "    def __repr__ (self):\n",
    "        \"affichage\"\n",
    "        return f\"<DualQueue, inputs={self.inputs}, outputs={self.outputs}>\"\n",
    "\n",
    "    # la partie qui nous intéresse ici\n",
    "    def __contains__(self, item):\n",
    "        \"appartenance d'un objet à la queue\"\n",
    "        return item in self.inputs or item in self.outputs\n",
    "    \n",
    "    def __len__(self):\n",
    "        \"longueur de la queue\"\n",
    "        return len(self.inputs) + len(self.outputs)        \n",
    "\n",
    "    # l'interface publique de la classe\n",
    "    # le plus simple possible et sans aucun contrôle\n",
    "    def add_input(self, item):\n",
    "        \"faire entrer un objet dans la queue d'entrée\"\n",
    "        self.inputs.insert(0, item)\n",
    "        \n",
    "    def move_input_to_output (self):\n",
    "        \"\"\"\n",
    "        l'objet le plus ancien de la queue d'entrée\n",
    "        est promu dans la queue de sortie\n",
    "        \"\"\"\n",
    "        self.outputs.insert(0, self.inputs.pop())\n",
    "        \n",
    "    def emit_output (self):\n",
    "        \"l'objet le plus ancien de la queue de sortie est émis\"\n",
    "        return self.outputs.pop()"
   ]
  },
  {
   "cell_type": "code",
   "execution_count": null,
   "metadata": {},
   "outputs": [],
   "source": [
    "# on construit une instance pour nos essais\n",
    "queue = DualQueue()\n",
    "queue.add_input('zero')\n",
    "queue.add_input('un')\n",
    "queue.move_input_to_output()\n",
    "queue.move_input_to_output()\n",
    "queue.add_input('deux')\n",
    "queue.add_input('trois')\n",
    "\n",
    "print(queue)"
   ]
  },
  {
   "cell_type": "markdown",
   "metadata": {},
   "source": [
    "##### Longueur et appartenance"
   ]
  },
  {
   "cell_type": "markdown",
   "metadata": {},
   "source": [
    "Avec cette première version de la classe `DualQueue` on peut utiliser `len` et le test d'appartenance :"
   ]
  },
  {
   "cell_type": "code",
   "execution_count": null,
   "metadata": {},
   "outputs": [],
   "source": [
    "print(f'len() = {len(queue)}')\n",
    "\n",
    "print(f\"deux appartient-il ? {'deux' in queue}\")\n",
    "print(f\"1 appartient-il ? {1 in queue}\")"
   ]
  },
  {
   "cell_type": "markdown",
   "metadata": {},
   "source": [
    "##### Accès séquentiel (accès par un index entier)"
   ]
  },
  {
   "cell_type": "markdown",
   "metadata": {},
   "source": [
    "Lorsqu'on a la notion de longueur de l'objet avec  `__len__`, il peut être opportun -  quoique cela n'est pas imposé par le langage, comme on vient de le voir - de proposer également un accès indexé par un entier pour pouvoir faire :\n",
    "\n",
    "```python\n",
    "queue[1]\n",
    "```\n",
    "\n",
    "**Pour ne pas répéter tout le code de la classe**, nous allons étendre `DualQueue` ; pour cela nous définissons une fonction, que nous affectons ensuite à `DualQueue.__getitem__`, comme nous avons déjà eu l'occasion de le faire :"
   ]
  },
  {
   "cell_type": "code",
   "execution_count": null,
   "metadata": {
    "collapsed": true
   },
   "outputs": [],
   "source": [
    "# une première version de DualQueue.__getitem__\n",
    "# pour uniquement l'accès par index\n",
    "\n",
    "# on définit une fonction\n",
    "def dual_queue_getitem (self, index):\n",
    "    \"redéfinit l'accès [] séquentiel\"\n",
    "\n",
    "    # on vérifie que l'index a un sens\n",
    "    if not (0 <= index < len(self)):\n",
    "        raise IndexError(f\"Mauvais indice {index} pour DualQueue\")\n",
    "    # on décide que l'index 0 correspond à l'élément le plus ancien\n",
    "    # ce qui oblige à une petite gymnastique\n",
    "    li = len(self.inputs)\n",
    "    lo = len(self.outputs)\n",
    "    if index < lo:\n",
    "        return self.outputs[lo - index - 1]\n",
    "    else:\n",
    "        return self.inputs[li - (index-lo) - 1]\n",
    "\n",
    "# et on affecte cette fonction à l'intérieur de la classe\n",
    "DualQueue.__getitem__ = dual_queue_getitem"
   ]
  },
  {
   "cell_type": "markdown",
   "metadata": {},
   "source": [
    "À présent, on peut **accéder** aux objets de la queue **séquentiellement** :"
   ]
  },
  {
   "cell_type": "code",
   "execution_count": null,
   "metadata": {},
   "outputs": [],
   "source": [
    "print(queue[0])"
   ]
  },
  {
   "cell_type": "markdown",
   "metadata": {},
   "source": [
    "ce qui lève la même exception qu'avec une vraie liste si on utilise un mauvais index :"
   ]
  },
  {
   "cell_type": "code",
   "execution_count": null,
   "metadata": {},
   "outputs": [],
   "source": [
    "try:\n",
    "    print(queue[5])\n",
    "except IndexError as e:\n",
    "    print('ERREUR',e)"
   ]
  },
  {
   "cell_type": "markdown",
   "metadata": {},
   "source": [
    "##### Amélioration : accès par slice"
   ]
  },
  {
   "cell_type": "markdown",
   "metadata": {},
   "source": [
    "Si on veut aussi supporter l'accès par slice comme ceci :\n",
    "\n",
    "```python\n",
    "queue[1:3]\n",
    "```\n",
    "\n",
    "il nous faut modifier la méthode `__getitem__`. "
   ]
  },
  {
   "cell_type": "markdown",
   "metadata": {},
   "source": [
    "Le second argument de `__getitem__` correspond naturellement au contenu des crochets `[]`, on utilise donc `isinstance` pour écrire un code qui s'adapte au type d'indexation, comme ceci :"
   ]
  },
  {
   "cell_type": "code",
   "execution_count": null,
   "metadata": {
    "collapsed": true
   },
   "outputs": [],
   "source": [
    "# une deuxième version de DualQueue.__getitem__\n",
    "# pour l'accès par index et/ou par slice\n",
    "\n",
    "def dual_queue_getitem (self, key):\n",
    "    \"redéfinit l'accès par [] pour entiers, slices, et autres\"\n",
    "\n",
    "    # l'accès par slice queue[1:3] \n",
    "    # nous donne pour key un objet de type slice\n",
    "    if isinstance(key, slice):\n",
    "        # key.indices donne les indices qui vont bien\n",
    "        return [self[index] for index in range(*key.indices(len(self)))]\n",
    "\n",
    "    # queue[3] nous donne pour key un entier\n",
    "    elif isinstance(key, int):\n",
    "        index = key\n",
    "        # on vérifie que l'index a un sens\n",
    "        if index < 0 or index >= len(self):\n",
    "            raise IndexError(f\"Mauvais indice {index} pour DualQueue\")\n",
    "        # on décide que l'index 0 correspond à l'élément le plus ancien\n",
    "        # ce qui oblige à une petite gymnastique\n",
    "        li = len(self.inputs)\n",
    "        lo = len(self.outputs)\n",
    "        if index < lo:\n",
    "            return self.outputs[lo-index-1]\n",
    "        else:\n",
    "            return self.inputs[li-(index-lo)-1]\n",
    "    # queue ['foo'] n'a pas de sens pour nous\n",
    "    else:\n",
    "        raise KeyError(f\"[] avec type non reconnu {key}\")\n",
    "\n",
    "# et on affecte cette fonction à l'intérieur de la classe\n",
    "DualQueue.__getitem__ = dual_queue_getitem"
   ]
  },
  {
   "cell_type": "markdown",
   "metadata": {},
   "source": [
    "Maintenant on peut accéder par slice :"
   ]
  },
  {
   "cell_type": "code",
   "execution_count": null,
   "metadata": {},
   "outputs": [],
   "source": [
    "queue[1:3]"
   ]
  },
  {
   "cell_type": "markdown",
   "metadata": {},
   "source": [
    "Et on reçoit bien une exception si on essaie d'accéder par clé :"
   ]
  },
  {
   "cell_type": "code",
   "execution_count": null,
   "metadata": {},
   "outputs": [],
   "source": [
    "try:\n",
    "    queue['key']\n",
    "except KeyError as e:\n",
    "    print(f\"OOPS: {type(e).__name__}: {e}\")"
   ]
  },
  {
   "cell_type": "markdown",
   "metadata": {},
   "source": [
    "##### L'objet est itérable (même sans avoir `__iter__`)"
   ]
  },
  {
   "cell_type": "markdown",
   "metadata": {},
   "source": [
    "Avec seulement `__getitem__`, on peut **faire une boucle** sur l'objet queue. On l'a mentionné rapidement dans la séquence sur les itérateurs, mais la **méthode `__iter__` n'est pas la seule façon** de rendre un objet itérable :"
   ]
  },
  {
   "cell_type": "code",
   "execution_count": null,
   "metadata": {},
   "outputs": [],
   "source": [
    "# grâce à __getitem__ on a rendu les \n",
    "# objets de type DualQueue itérables\n",
    "for item in queue:\n",
    "   print(item)"
   ]
  },
  {
   "cell_type": "markdown",
   "metadata": {},
   "source": [
    "##### On peut faire un test sur l'objet"
   ]
  },
  {
   "cell_type": "markdown",
   "metadata": {},
   "source": [
    "De manière similaire, même sans la méthode `__bool__`, cette classe sait **faire des tests de manière correcte** grâce uniquement à la méthode `__len__` :"
   ]
  },
  {
   "cell_type": "code",
   "execution_count": null,
   "metadata": {},
   "outputs": [],
   "source": [
    "# un test fait directement sur la queue\n",
    "if queue:\n",
    "    print(f\"La queue {queue} est considérée comme True\")"
   ]
  },
  {
   "cell_type": "code",
   "execution_count": null,
   "metadata": {},
   "outputs": [],
   "source": [
    "# le même test sur une queue vide\n",
    "empty = DualQueue()\n",
    "\n",
    "# maintenant le test est négatif (notez bien le *not* ici)\n",
    "if not empty:\n",
    "    print(f\"La queue {empty} est considérée comme False\")"
   ]
  },
  {
   "cell_type": "markdown",
   "metadata": {},
   "source": [
    "***"
   ]
  },
  {
   "cell_type": "markdown",
   "metadata": {},
   "source": [
    "### `__call__` et les *callables*"
   ]
  },
  {
   "cell_type": "markdown",
   "metadata": {},
   "source": [
    "Le langage introduit de manière similaire la notion de ***callable*** - littéralement, qui peut être appelé.\n",
    "L'idée est très simple, on cherche à donner un sens à un fragment de code du genre de :"
   ]
  },
  {
   "cell_type": "markdown",
   "metadata": {},
   "source": [
    "```python\n",
    "# on crée une instance\n",
    "objet = Classe(arguments)\n",
    "```\n",
    "\n",
    "et c'est l'objet (Attention : **l'objet, pas la classe**) qu'on utilise comme une fonction\n",
    "\n",
    "```python\n",
    "objet(arg1, arg2)\n",
    "```"
   ]
  },
  {
   "cell_type": "markdown",
   "metadata": {},
   "source": [
    "Le protocole ici est très simple ; cette dernière ligne a un sens en Python dès lors que :\n",
    "\n",
    " * `objet` possède une méthode `__call__` ;\n",
    " * et que celle-ci peut être envoyée à `objet` avec les arguments `arg1, arg2` ;\n",
    " * et c'est ce résultat qui sera alors retourné par `objet(arg1, arg2)` :"
   ]
  },
  {
   "cell_type": "markdown",
   "metadata": {},
   "source": [
    "```python\n",
    "objet(arg1, arg2) ⟺ objet.__call__(arg1, arg2)\n",
    "```"
   ]
  },
  {
   "cell_type": "markdown",
   "metadata": {},
   "source": [
    "Voyons cela sur un exemple :"
   ]
  },
  {
   "cell_type": "code",
   "execution_count": null,
   "metadata": {
    "collapsed": true
   },
   "outputs": [],
   "source": [
    "class PlusClosure:\n",
    "    \"\"\"Une classe callable qui permet de faire un peu comme la \n",
    "    fonction built-in sum mais en ajoutant une valeur initiale\"\"\"\n",
    "    def __init__(self, initial):\n",
    "        self.initial = initial\n",
    "    def __call__(self, *args):\n",
    "        return self.initial + sum(args)\n",
    "    \n",
    "# on crée une instance avec une valeur initiale 2 pour la somme\n",
    "plus2 = PlusClosure (2)"
   ]
  },
  {
   "cell_type": "code",
   "execution_count": null,
   "metadata": {},
   "outputs": [],
   "source": [
    "# on peut maintenant utiliser cet objet \n",
    "# comme une fonction qui fait sum(*arg)+2\n",
    "plus2()"
   ]
  },
  {
   "cell_type": "code",
   "execution_count": null,
   "metadata": {},
   "outputs": [],
   "source": [
    "plus2(1)"
   ]
  },
  {
   "cell_type": "code",
   "execution_count": null,
   "metadata": {},
   "outputs": [],
   "source": [
    "plus2(1, 2)"
   ]
  },
  {
   "cell_type": "markdown",
   "metadata": {},
   "source": [
    "Pour ceux qui connaissent, nous avons choisi à dessein un exemple qui s'apparente à [une clôture](http://en.wikipedia.org/wiki/Closure_%28computer_programming%29). Nous reviendrons sur cette notion de *callable* lorsque nous verrons les décorateurs en semaine 9. "
   ]
  }
 ],
 "metadata": {
  "kernelspec": {
   "display_name": "Python 3",
   "language": "python",
   "name": "python3"
  },
  "language_info": {
   "codemirror_mode": {
    "name": "ipython",
    "version": 3
   },
   "file_extension": ".py",
   "mimetype": "text/x-python",
   "name": "python",
   "nbconvert_exporter": "python",
   "pygments_lexer": "ipython3",
   "version": "3.7.0"
  },
  "livereveal": {
   "auto_select": "code",
   "auto_select_fragment": true,
   "autolaunch": false,
   "backimage": "media/nologo.png",
   "height": "100%",
   "slideNumber": "c",
   "start_slideshow_at": "selected",
   "theme": "simple",
   "transition": "fade",
   "width": "100%"
  },
  "notebookname": "Surcharge op. (2)",
  "version": "3.0"
 },
 "nbformat": 4,
 "nbformat_minor": 2
}
