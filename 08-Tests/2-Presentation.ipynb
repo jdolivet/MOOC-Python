{
 "cells": [
  {
   "cell_type": "markdown",
   "metadata": {},
   "source": [
    "<style>div.title-slide {    width: 100%;    display: flex;    flex-direction: row;            /* default value; can be omitted */    flex-wrap: nowrap;              /* default value; can be omitted */    justify-content: space-between;}</style><div class=\"title-slide\">\n",
    "<span style=\"float:left;\">Licence CC BY-NC-ND</span>\n",
    "<span>Thierry Parmentelat &amp; Arnaud Legout</span>\n",
    "<span><img src=\"media/both-logos-small-alpha.png\" style=\"display:inline\" /></span>\n",
    "</div>"
   ]
  },
  {
   "cell_type": "markdown",
   "metadata": {},
   "source": [
    "# Bonnes pratiques de présentation de code"
   ]
  },
  {
   "cell_type": "markdown",
   "metadata": {},
   "source": [
    "## Complément - niveau basique"
   ]
  },
  {
   "cell_type": "markdown",
   "metadata": {},
   "source": [
    "### La PEP-008"
   ]
  },
  {
   "cell_type": "markdown",
   "metadata": {},
   "source": [
    "On trouve [dans la PEP-008 (en anglais)](http://legacy.python.org/dev/peps/pep-0008/) les conventions de codage qui s'appliquent à toute la librairie standard, et qui sont certainement un bon point de départ pour vous aider à trouver le style de présentation qui vous convient. \n",
    "\n",
    "Nous vous recommandons en particulier les sections sur\n",
    "\n",
    " * [l'indentation](http://legacy.python.org/dev/peps/pep-0008/#code-lay-out)\n",
    " * [les espaces](http://legacy.python.org/dev/peps/pep-0008/#whitespace-in-expressions-and-statements) \n",
    " * [les commentaires](http://legacy.python.org/dev/peps/pep-0008/#comments)"
   ]
  },
  {
   "cell_type": "markdown",
   "metadata": {},
   "source": [
    "### Un peu de lecture : le module `pprint`"
   ]
  },
  {
   "cell_type": "markdown",
   "metadata": {},
   "source": [
    "Voici par exemple le code du module `pprint` (comme PrettyPrint) de la librairie standard qui permet d'imprimer des données. \n",
    "\n",
    "La fonction du module - le pretty printing - est évidemment accessoire ici, mais vous pouvez y voir illustré\n",
    "\n",
    " * le *docstring* pour le module: les lignes de 11 à 35,\n",
    " * les indentations, comme nous l'avons déjà mentionné sont à 4 espaces, et sans tabulation,\n",
    " * l'utilisation des espaces, notamment autour des affectations et opérateurs, des définitions de fonction, des appels de fonctions...\n",
    " * les lignes qui restent dans une largeur \"raisonnable\" (79 caractères)\n",
    " * vous pouvez regarder notamment la façon de couper les lignes pour respecter cette limite en largeur."
   ]
  },
  {
   "cell_type": "code",
   "execution_count": null,
   "metadata": {},
   "outputs": [],
   "source": [
    "from modtools import show_module_html\n",
    "import pprint\n",
    "show_module_html(pprint)"
   ]
  },
  {
   "cell_type": "markdown",
   "metadata": {},
   "source": [
    "### Espaces"
   ]
  },
  {
   "cell_type": "markdown",
   "metadata": {},
   "source": [
    "Comme vous pouvez le voir dans `pprint.py`, les règles principales concernant les espaces sont les suivantes."
   ]
  },
  {
   "cell_type": "markdown",
   "metadata": {},
   "source": [
    "* S'agissant des **affectations** et **opérateurs**, on fera\n",
    "\n",
    "    `x = y + z` \n",
    "    \n",
    "  Et non pas\n",
    "    \n",
    "    ~~`x=y+z`~~\n",
    "    \n",
    "  Ni \n",
    "    \n",
    "    ~~`x = y+z`~~\n",
    "    \n",
    "  Ni encore \n",
    "    \n",
    "    ~~`x=y + z`~~\n",
    "    \n",
    "L'idée étant d'aérer de manière homogène pour faciliter la lecture."
   ]
  },
  {
   "cell_type": "markdown",
   "metadata": {},
   "source": [
    "* On **déclare une fonction** comme ceci\n",
    "\n",
    "    `def foo(x, y, z):`\n",
    "    \n",
    "   Et non pas comme ceci (un espace en trop avant la parenthèse ouvrante)\n",
    "   \n",
    "    ~~`def foo (x, y, z):`~~\n",
    "\n",
    "   Ni surtout comme ceci (pas d'espace entre les paramètres)\n",
    "\n",
    "    ~~`def foo (x,y,z):`~~"
   ]
  },
  {
   "cell_type": "markdown",
   "metadata": {},
   "source": [
    "* La même règle s'applique naturellement aux **appels de fonction**:\n",
    "\n",
    "    `foo(x, y, z)` \n",
    "    \n",
    "    et non pas\n",
    "    \n",
    "    ~~`foo (x,y,z)`~~ \n",
    "    \n",
    "    ni\n",
    "    \n",
    "    ~~`def foo (x, y, z):`~~"
   ]
  },
  {
   "cell_type": "markdown",
   "metadata": {},
   "source": [
    "Il est important de noter qu'il s'agit ici de **règles d'usage** et non pas de règles syntaxiques; tous les exemples barrés ci-dessus sont en fait **syntaxiquement corrects**, l'interpréteur les accepterait sans souci; mais ces règles sont **très largement adoptées**, et obligatoires pour intégrer du code dans la librairie standard."
   ]
  },
  {
   "cell_type": "markdown",
   "metadata": {},
   "source": [
    "### Coupures de ligne"
   ]
  },
  {
   "cell_type": "markdown",
   "metadata": {},
   "source": [
    "Nous allons à présent zoomer dans ce module pour voir quelques exemples de coupure de ligne. Par contraste avec ce qui précède, il s'agit cette fois surtout de **règles syntaxiques**, qui peuvent rendre un code non valide si elles ne sont pas suivies."
   ]
  },
  {
   "cell_type": "markdown",
   "metadata": {},
   "source": [
    "##### Coupure de ligne sans *backslash* (\\\\)"
   ]
  },
  {
   "cell_type": "code",
   "execution_count": null,
   "metadata": {},
   "outputs": [],
   "source": [
    "show_module_html(pprint, \n",
    "                 beg=\"def pprint\",\n",
    "                 end=\"def pformat\")"
   ]
  },
  {
   "cell_type": "markdown",
   "metadata": {},
   "source": [
    "La fonction `pprint` (ligne ~47) est une commodité (qui crée une instance de `PrettyPrinter`, sur lequel on envoie la méthode `pprint`).\n",
    "\n",
    "Vous voyez ici qu'il n'est **pas nécessaire** d'insérer un *backslash* (`\\`) à la fin des lignes 50 et 51, car il y a une parenthèse ouvrante qui n'est pas fermée à ce stade.\n",
    "\n",
    "De manière générale, lorsqu'une parenthèse ouvrante `(` - idem avec les crochets `[` et accolades `{` - n'est pas fermée sur la même ligne, l'interpréteur suppose qu'elle sera fermée plus loin et n'impose pas de *backslash*."
   ]
  },
  {
   "cell_type": "markdown",
   "metadata": {},
   "source": [
    "Ainsi par exemple on peut écrire sans *backslash*:\n",
    "\n",
    "```python\n",
    "valeurs = [ \n",
    "   1,\n",
    "   2,\n",
    "   3,\n",
    "   5,\n",
    "   7,\n",
    "]\n",
    "```\n",
    "\n",
    "Ou encore\n",
    "\n",
    "```python\n",
    "x = un_nom_de_fonction_tres_tres_long(\n",
    "       argument1, argument2,\n",
    "       argument3, argument4,\n",
    "    )\n",
    "```"
   ]
  },
  {
   "cell_type": "markdown",
   "metadata": {},
   "source": [
    "À titre de rappel, signalons aussi les chaînes de caractères à base de `\"\"\"` ou `'''` qui permettent elles aussi d'utiliser plusieures lignes consécutives sans *backslash*, comme :\n",
    "\n",
    "```python\n",
    "texte = \"\"\"Les sanglots longs\n",
    "Des violons\n",
    "De l'automne\"\"\"\n",
    "```"
   ]
  },
  {
   "cell_type": "markdown",
   "metadata": {},
   "source": [
    "##### Coupure de ligne avec *backslash* (\\\\)"
   ]
  },
  {
   "cell_type": "markdown",
   "metadata": {},
   "source": [
    "Par contre il est des cas où le backslash est nécessaire:"
   ]
  },
  {
   "cell_type": "code",
   "execution_count": null,
   "metadata": {},
   "outputs": [],
   "source": [
    "show_module_html(pprint, \n",
    "                 beg=\"components), readable, recursive\", \n",
    "                 end=\"elif len(object) \", \n",
    "                 lineno_width=3)"
   ]
  },
  {
   "cell_type": "markdown",
   "metadata": {},
   "source": [
    "Dans ce fragment au contraire, vous voyez en ligne 521 qu'**il a fallu cette fois** insérer un *backslash* `\\` comme caractère de continuation pour que l'instruction puisse se poursuivre en ligne 522. "
   ]
  },
  {
   "cell_type": "markdown",
   "metadata": {},
   "source": [
    "##### Coupures de lignes - épilogue"
   ]
  },
  {
   "cell_type": "markdown",
   "metadata": {},
   "source": [
    "Dans tous les cas où une instruction est répartie sur plusieurs lignes, c'est naturellement l'indentation de **la première ligne** qui est significative pour savoir à quel bloc rattacher cette instruction."
   ]
  },
  {
   "cell_type": "markdown",
   "metadata": {},
   "source": [
    "Notez bien enfin qu'on peut toujours mettre un *backslash* même lorsque ce n'est pas nécessaire, mais on évite cette pratique en règle générale car les *backslash* nuisent à la lisibilité."
   ]
  },
  {
   "cell_type": "markdown",
   "metadata": {},
   "source": [
    "## Complément - niveau intermédiaire"
   ]
  },
  {
   "cell_type": "markdown",
   "metadata": {},
   "source": [
    "### Outils liés à PEP008\n",
    "\n",
    "Il existe plusieurs outils liés à la PEP0008, pour vérifier si votre code est conforme, ou même le modifier pour qu'il le devienne.\n",
    "\n",
    "Ce qui nous donne un excellent prétexte pour parler un peu de [https://pypi.python.org](https://pypi.python.org), qui est la plateforme qui distribue les logiciels disponibles via l'outil `pip3`.\n",
    "\n",
    "Je vous signale notamment:\n",
    "\n",
    "* [l'outil `pep8`](https://pypi.python.org/pypi/pep8/) pour vérifier, et \n",
    "* [l'outil `autopep8`](https://pypi.python.org/pypi/autopep8/) pour modifier automatiquement votre code et le rendre conforme."
   ]
  },
  {
   "cell_type": "markdown",
   "metadata": {},
   "source": [
    "### Les deux-points ':'"
   ]
  },
  {
   "cell_type": "markdown",
   "metadata": {},
   "source": [
    "Dans un autre registre entièrement, vous pouvez [vous reporter à ce lien](https://docs.python.org/3/faq/design.html#why-are-colons-required-for-the-if-while-def-class-statements) si vous êtes intéressé par la question de savoir pourquoi on a choisi un délimiteur (le caractère deux-points `:`) pour terminer les instructions comme `if`, `for` et `def`."
   ]
  }
 ],
 "metadata": {
  "kernelspec": {
   "display_name": "Python 3",
   "language": "python",
   "name": "python3"
  },
  "language_info": {
   "codemirror_mode": {
    "name": "ipython",
    "version": 3
   },
   "file_extension": ".py",
   "mimetype": "text/x-python",
   "name": "python",
   "nbconvert_exporter": "python",
   "pygments_lexer": "ipython3",
   "version": "3.7.0"
  },
  "livereveal": {
   "auto_select": "code",
   "auto_select_fragment": true,
   "autolaunch": false,
   "backimage": "media/nologo.png",
   "height": "100%",
   "slideNumber": "c",
   "start_slideshow_at": "selected",
   "theme": "simple",
   "transition": "fade",
   "width": "100%"
  },
  "notebookname": "Présentation du code",
  "version": "3.0"
 },
 "nbformat": 4,
 "nbformat_minor": 1
}
