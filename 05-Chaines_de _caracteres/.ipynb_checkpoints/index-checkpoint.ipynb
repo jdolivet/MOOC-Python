{
 "cells": [
  {
   "cell_type": "markdown",
   "metadata": {},
   "source": [
    "# Les chaînes de caractères"
   ]
  },
  {
   "cell_type": "markdown",
   "metadata": {},
   "source": [
    "<a href=\"http://www.youtube.com/watch?feature=player_embedded&v=LjjCFDCbHhQ\n",
    "\" target=\"_blank\"><img src=\"http://img.youtube.com/vi/LjjCFDCbHhQ/0.jpg\" \n",
    "alt=\"Vidéo du cours\" width=\"240\" height=\"180\" border=\"10\" /></a>"
   ]
  },
  {
   "cell_type": "markdown",
   "metadata": {},
   "source": [
    "* ## [Les outils de base sur les strings](1-Outils-chaines.ipynb)\n",
    "* ## [Formatage des chaînes](2-Formatage.ipynb)\n",
    "* ## [Obtenir une réponse de l'utilisateur](3-La-fonction-input.ipynb)\n",
    "* ## [Expressions régulières et le module `re`](4-Expressions-regulieres.ipynb)"
   ]
  }
 ],
 "metadata": {
  "kernelspec": {
   "display_name": "Python 3",
   "language": "python",
   "name": "python3"
  },
  "language_info": {
   "codemirror_mode": {
    "name": "ipython",
    "version": 3
   },
   "file_extension": ".py",
   "mimetype": "text/x-python",
   "name": "python",
   "nbconvert_exporter": "python",
   "pygments_lexer": "ipython3",
   "version": "3.6.6"
  }
 },
 "nbformat": 4,
 "nbformat_minor": 2
}
