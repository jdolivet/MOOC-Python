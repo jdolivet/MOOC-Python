{
 "cells": [
  {
   "cell_type": "markdown",
   "metadata": {},
   "source": [
    "<style>div.title-slide {    width: 100%;    display: flex;    flex-direction: row;            /* default value; can be omitted */    flex-wrap: nowrap;              /* default value; can be omitted */    justify-content: space-between;}</style><div class=\"title-slide\">\n",
    "<span style=\"float:left;\">Licence CC BY-NC-ND</span>\n",
    "<span>Thierry Parmentelat &amp; Arnaud Legout</span>\n",
    "<span><img src=\"media/both-logos-small-alpha.png\" style=\"display:inline\" /></span>\n",
    "</div>"
   ]
  },
  {
   "cell_type": "markdown",
   "metadata": {},
   "source": [
    "# Expressions régulières et le module `re`"
   ]
  },
  {
   "cell_type": "markdown",
   "metadata": {},
   "source": [
    "## Complément - niveau basique"
   ]
  },
  {
   "cell_type": "markdown",
   "metadata": {},
   "source": [
    "### Avertissement\n",
    "\n",
    "Après avoir joué ce cours plusieurs années de suite, l'expérience nous montre qu'il est difficile de trouver le bon moment pour appréhender les expressions régulières.\n",
    "\n",
    "D'un côté il s'agit de manipulations de chaînes de caractères, mais d'un autre cela nécessite de créer des instances de classes, et donc d'avoir vu la programmation orientée objet.\n",
    "Du coup, les premières années nous les avions étudiées tout à la fin du cours, ce qui avait pu créer une certaine frustration.\n",
    "\n",
    "C'est pourquoi nous avons décidé à présent de les étudier très tôt, dans cette séquence consacrée aux chaines de caractères. Les étudiants qui seraient décontenancés par ce contenu sont invités à y retourner après la semaine 6, consacrée à la programmation objet. \n",
    "\n",
    "Il nous semble important de savoir que ces fonctionnalités existent dans le langage, le détail de leur utilisation n'est toutefois pas critique, et on peut parfaitement faire l'impasse sur ce complément en première lecture.\n"
   ]
  },
  {
   "cell_type": "markdown",
   "metadata": {},
   "source": [
    "Une expression régulière est un objet mathématique permettant de décrire un ensemble de textes qui possèdent des propriétés communes. Par exemple, s'il vous arrive d'utiliser un terminal, et que vous tapez\n",
    "\n",
    "```bash\n",
    "$ dir *.txt\n",
    "```\n",
    "\n",
    "(ou `ls *.txt` sur linux ou mac), vous utilisez l'expression régulière `*.txt` qui désigne tous les fichiers dont le nom se termine par `.txt`. On dit que l'expression régulière *filtre* toutes les chaînes qui se terminent par `.txt` (l'expression anglaise consacrée est le *pattern matching*)."
   ]
  },
  {
   "cell_type": "markdown",
   "metadata": {},
   "source": [
    "Le langage Perl a été le premier à populariser l'utilisation des expressions régulières en les supportant nativement dans le langage, et non au travers d'une librairie. En python, les expressions régulières sont disponibles de manière plus traditionnelle, via le module `re` (regular expressions) de la librairie standard.\n",
    "Le propos de ce complément est de vous en donner une première introduction. "
   ]
  },
  {
   "cell_type": "code",
   "execution_count": null,
   "metadata": {},
   "outputs": [],
   "source": [
    "import re"
   ]
  },
  {
   "cell_type": "markdown",
   "metadata": {},
   "source": [
    "### Survol"
   ]
  },
  {
   "cell_type": "markdown",
   "metadata": {},
   "source": [
    "Pour ceux qui ne souhaitent pas approfondir, voici un premier exemple; on cherche à savoir si un objet `chaine` est ou non de la forme `*-*.txt`, et si oui, à calculer la partie de la chaine qui remplace le `*` :"
   ]
  },
  {
   "cell_type": "code",
   "execution_count": null,
   "metadata": {},
   "outputs": [],
   "source": [
    "# un objet 'expression régulière' - on dit aussi \"pattern\"\n",
    "regexp = \"(.*)-(.*)\\.txt\""
   ]
  },
  {
   "cell_type": "code",
   "execution_count": null,
   "metadata": {},
   "outputs": [],
   "source": [
    "# la chaine de départ\n",
    "chaine = \"abcdef.txt\""
   ]
  },
  {
   "cell_type": "code",
   "execution_count": null,
   "metadata": {},
   "outputs": [],
   "source": [
    "# la fonction qui calcule si la chaine \"matche\" le pattern\n",
    "match = re.match(regexp, chaine)\n",
    "match is None"
   ]
  },
  {
   "cell_type": "markdown",
   "metadata": {},
   "source": [
    "Le fait que l'objet `match` vaut `None` indique que la chaine n'est pas de la bonne forme (il manque un `-` dans le nom); avec une autre chaine par contre :"
   ]
  },
  {
   "cell_type": "code",
   "execution_count": null,
   "metadata": {},
   "outputs": [],
   "source": [
    "# la chaine de départ\n",
    "chaine = \"abc-def.txt\""
   ]
  },
  {
   "cell_type": "code",
   "execution_count": null,
   "metadata": {},
   "outputs": [],
   "source": [
    "match = re.match(regexp, chaine)\n",
    "match is None"
   ]
  },
  {
   "cell_type": "markdown",
   "metadata": {},
   "source": [
    "Ici `match` est un objet, qui nous permet ensuite d'\"extraire\" les différentes parties, comme ceci :"
   ]
  },
  {
   "cell_type": "code",
   "execution_count": null,
   "metadata": {
    "cell_style": "split"
   },
   "outputs": [],
   "source": [
    "match[1]"
   ]
  },
  {
   "cell_type": "code",
   "execution_count": null,
   "metadata": {
    "cell_style": "split"
   },
   "outputs": [],
   "source": [
    "match[2]"
   ]
  },
  {
   "cell_type": "markdown",
   "metadata": {},
   "source": [
    "Bien sûr on peut faire des choses beaucoup plus élaborées avec `re`, mais en première lecture cette introduction doit vous suffire pour avoir une idée de ce qu'on peut faire avec les expressions régulières."
   ]
  },
  {
   "cell_type": "markdown",
   "metadata": {},
   "source": [
    "## Complément - niveau intermédiaire"
   ]
  },
  {
   "cell_type": "markdown",
   "metadata": {},
   "source": [
    "Approfondissons à présent: "
   ]
  },
  {
   "cell_type": "markdown",
   "metadata": {},
   "source": [
    "Dans un terminal, `*.txt` est une expression régulière très simple. Le module `re` fournit le moyen de construire des expressions régulières très élaborées et plus puissantes que ce que supporte le terminal. C'est pourquoi la syntaxe des regexps de `re` est un peu différente. Par exemple comme on vient de le voir, pour filtrer la même famille de chaînes que `*-*.txt` avec le module `re`, il nous a fallu écrire l'expression régulière sous une forme légèrement différente."
   ]
  },
  {
   "cell_type": "markdown",
   "metadata": {},
   "source": [
    "Je vous conseille d'avoir sous la main la [documentation du module `re`](https://docs.python.org/3/library/re.html) pendant que vous lisez ce complément."
   ]
  },
  {
   "cell_type": "markdown",
   "metadata": {},
   "source": [
    "### Avertissement"
   ]
  },
  {
   "cell_type": "markdown",
   "metadata": {},
   "source": [
    "Dans ce complément nous serons amenés à utiliser des traits qui dépendent du LOCALE, c'est-à-dire, pour faire simple, de la configuration de l'ordinateur vis-à-vis de la langue. \n",
    "\n",
    "Tant que vous exécutez ceci dans le notebook sur la plateforme, en principe tout le monde verra exactement la même chose. Par contre, si vous faites tourner le même code sur votre ordinateur, il se peut que vous obteniez des résultats légèrement différents."
   ]
  },
  {
   "cell_type": "markdown",
   "metadata": {},
   "source": [
    "### Un exemple simple"
   ]
  },
  {
   "cell_type": "markdown",
   "metadata": {},
   "source": [
    "##### `findall`"
   ]
  },
  {
   "cell_type": "markdown",
   "metadata": {},
   "source": [
    "On se donne deux exemples de chaînes"
   ]
  },
  {
   "cell_type": "code",
   "execution_count": null,
   "metadata": {},
   "outputs": [],
   "source": [
    "sentences = ['Lacus a donec, vitae gravida proin sociis.', \n",
    "             'Neque ipsum! rhoncus cras quam.']"
   ]
  },
  {
   "cell_type": "markdown",
   "metadata": {},
   "source": [
    "On peut **chercher tous** les mots se terminant par `a` ou `m` dans une chaîne avec `findall`"
   ]
  },
  {
   "cell_type": "code",
   "execution_count": null,
   "metadata": {},
   "outputs": [],
   "source": [
    "for sentence in sentences:\n",
    "    print(f\"---- dans >{sentence}<\")\n",
    "    print(re.findall(r\"\\w*[am]\\W\", sentence))"
   ]
  },
  {
   "cell_type": "markdown",
   "metadata": {},
   "source": [
    "Ce code permet de chercher toutes (`findall`) les occurrences de l'expression régulière, qui ici est définie par le *raw-string*\n",
    "\n",
    "```python\n",
    "r\"\\w*[am]\\W\"\n",
    "```\n",
    "\n",
    "(On rappelle qu'un *raw-string* est une chaine précédée par la lettre `r`, et que c'est utile surtout lorsqu'on veut insérer un backslash `\\` dans la chaine.)\n",
    "\n",
    "Nous verrons tout à l'heure comment fabriquer des expressions régulières plus en détail, mais pour démystifier au moins celle-ci, on a mis bout à bout les morceaux suivants.\n",
    "\n",
    " * `\\w*` : on veut trouver une sous-chaîne qui commence par un nombre quelconque, y compris nul (`*`) de caractères alphanumériques (`\\w`). Ceci est défini en fonction de votre LOCALE, on y reviendra.\n",
    " * `[am]` : immédiatement après, il nous faut trouver un caratère `a` ou `m`.\n",
    " * `\\W` : et enfin, il nous faut un caractère qui ne soit **pas** alphanumérique. Ceci est important puisqu'on cherche les mots qui **se terminent** par un `a` ou un `m`, si on ne le mettait pas on obtiendrait ceci"
   ]
  },
  {
   "cell_type": "code",
   "execution_count": null,
   "metadata": {},
   "outputs": [],
   "source": [
    "# le \\W final est important\n",
    "# voici ce qu'on obtient si on l'omet\n",
    "for sentence in sentences:\n",
    "    print(f\"---- dans >{sentence}<\")\n",
    "    print(re.findall(r\"\\w*[am]\", sentence))\n",
    "    \n",
    "# NB: Comme vous le devinez, ici la notation for ... in ... \n",
    "# permet de parcourir successivement tous les éléments de la séquence"
   ]
  },
  {
   "cell_type": "markdown",
   "metadata": {},
   "source": [
    "##### `split`"
   ]
  },
  {
   "cell_type": "markdown",
   "metadata": {},
   "source": [
    "Une autre forme simple d'utilisation des regexps est `re.split`, qui fournit une fonctionnalité voisine de `str.split`, mais ou les séparateurs sont exprimés comme une expression régulière"
   ]
  },
  {
   "cell_type": "code",
   "execution_count": null,
   "metadata": {},
   "outputs": [],
   "source": [
    "for sentence in sentences:\n",
    "    print(f\"---- dans >{sentence}<\")\n",
    "    print(re.split(r\"\\W+\", sentence))\n",
    "    print()"
   ]
  },
  {
   "cell_type": "markdown",
   "metadata": {},
   "source": [
    "Ici l'expression régulière, qui bien sûr décrit le séparateur, est simplement `\\W+` c'est-à-dire toute suite d'au moins un caractère non alphanumérique. \n",
    "\n",
    "Nous avons donc là un moyen simple, et plus puissant que `str.split`, de couper un texte en mots."
   ]
  },
  {
   "cell_type": "markdown",
   "metadata": {},
   "source": [
    "##### `sub`"
   ]
  },
  {
   "cell_type": "markdown",
   "metadata": {},
   "source": [
    "Une troisième méthode utilitaire est `re.sub` qui permet de remplacer les occurrences d'une *regexp*, comme par exemple"
   ]
  },
  {
   "cell_type": "code",
   "execution_count": null,
   "metadata": {},
   "outputs": [],
   "source": [
    "for sentence in sentences:\n",
    "    print(f\"---- dans >{sentence}<\")\n",
    "    print(re.sub(r\"(\\w+)\", r\"X\\1Y\", sentence))\n",
    "    print()"
   ]
  },
  {
   "cell_type": "markdown",
   "metadata": {},
   "source": [
    "Ici, l'expression régulière (le premier argument) contient un **groupe**&nbsp;: on a utilisé des parenthèses autour du `\\w+`. Le second argument est la chaîne de remplacement, dans laquelle on a fait **référence au groupe** en écrivant `\\1`, qui veut dire tout simplement \"le premier groupe\".\n",
    "\n",
    "Donc au final, l'effet de cet appel est d'entourer toutes les suites de caractères alphanumériques par `X` et `Y`. "
   ]
  },
  {
   "cell_type": "markdown",
   "metadata": {},
   "source": [
    "##### Pourquoi un *raw-string* ?"
   ]
  },
  {
   "cell_type": "markdown",
   "metadata": {},
   "source": [
    "En guise de digression, il n'y a aucune obligation à utiliser un *raw-string*, d'ailleurs on rappelle qu'il n'y a pas de différence de nature entre un *raw-string* et une chaîne usuelle"
   ]
  },
  {
   "cell_type": "code",
   "execution_count": null,
   "metadata": {},
   "outputs": [],
   "source": [
    "raw = r'abc'\n",
    "regular = 'abc'\n",
    "# comme on a pris une 'petite' chaîne ce sont les mêmes objets\n",
    "print(f\"both compared with is → {raw is regular}\")\n",
    "# et donc a fortiori\n",
    "print(f\"both compared with == → {raw == regular}\")"
   ]
  },
  {
   "cell_type": "markdown",
   "metadata": {},
   "source": [
    "Il se trouve que le *backslash* `\\` à l'intérieur des expressions régulières est d'un usage assez courant - on l'a vu déjà plusieurs fois. C'est pourquoi on **utilise fréquemment un *raw-string*** pour décrire une expression régulière. On rappelle que le raw-string désactive l'interprétation des `\\` à l'intérieur de la chaîne, par exemple, `\\t` est interprété comme un caractère de tabulation dans une chaine usuelle. Sans raw-string, il faut doubler tous les `\\` pour qu'il n'y ait pas d'interprétation."
   ]
  },
  {
   "cell_type": "markdown",
   "metadata": {},
   "source": [
    "### Un deuxième exemple"
   ]
  },
  {
   "cell_type": "markdown",
   "metadata": {},
   "source": [
    "Nous allons maintenant voir comment on peut d'abord vérifier si une chaîne est conforme au critère défini par l'expression régulière, mais aussi *extraire* les morceaux de la chaîne qui correspondent aux différentes parties de l'expression. \n",
    "\n",
    "Pour cela, supposons qu'on s'intéresse aux chaînes qui comportent 5 parties, une suite de chiffres, une suite de lettres, des chiffres à nouveau, des lettres et enfin de nouveau des chiffres."
   ]
  },
  {
   "cell_type": "markdown",
   "metadata": {},
   "source": [
    "Pour cela on considère ces trois chaines en entrée"
   ]
  },
  {
   "cell_type": "code",
   "execution_count": null,
   "metadata": {},
   "outputs": [],
   "source": [
    "samples = ['890hj000nnm890',    # cette entrée convient\n",
    "          '123abc456def789',   # celle-ci aussi\n",
    "          '8090abababab879',   # celle-ci non\n",
    "          ]"
   ]
  },
  {
   "cell_type": "markdown",
   "metadata": {},
   "source": [
    "##### `match`"
   ]
  },
  {
   "cell_type": "markdown",
   "metadata": {},
   "source": [
    "Pour commencer, voyons que l'on peut facilement **vérifier si une chaîne vérifie** ou non le critère."
   ]
  },
  {
   "cell_type": "code",
   "execution_count": null,
   "metadata": {},
   "outputs": [],
   "source": [
    "regexp1 = \"[0-9]+[A-Za-z]+[0-9]+[A-Za-z]+[0-9]+\""
   ]
  },
  {
   "cell_type": "markdown",
   "metadata": {},
   "source": [
    "Si on applique cette expression régulière à toutes nos entrées"
   ]
  },
  {
   "cell_type": "code",
   "execution_count": null,
   "metadata": {},
   "outputs": [],
   "source": [
    "for sample in samples:\n",
    "    match = re.match(regexp1, sample)\n",
    "    print(f\"{sample:16s} → {match}\")"
   ]
  },
  {
   "cell_type": "markdown",
   "metadata": {},
   "source": [
    "Pour rendre ce résultat un peu plus lisible nous nous définissons une petite fonction de confort."
   ]
  },
  {
   "cell_type": "code",
   "execution_count": null,
   "metadata": {},
   "outputs": [],
   "source": [
    "# pour simplement visualiser si on a un match ou pas\n",
    "def nice(match):\n",
    "    # le retour de re.match est soit None, soit un objet match\n",
    "    return \"no\" if match is None else \"Match!\""
   ]
  },
  {
   "cell_type": "markdown",
   "metadata": {},
   "source": [
    "Avec quoi on peut refaire l'essai sur toutes nos entrées."
   ]
  },
  {
   "cell_type": "code",
   "execution_count": null,
   "metadata": {},
   "outputs": [],
   "source": [
    "# la même chose mais un peu moins encombrant\n",
    "print(f\"REGEXP={regexp1}\\n\")\n",
    "for sample in samples:\n",
    "    match = re.match(regexp1, sample)\n",
    "    print(f\"{sample:>16s} → {nice(match)}\")"
   ]
  },
  {
   "cell_type": "markdown",
   "metadata": {},
   "source": [
    "Ici plutôt que d'utiliser les raccourcis comme `\\w` j'ai préféré écrire explicitement les ensembles de caractères en jeu. De cette façon, on rend son code indépendant du LOCALE si c'est ce qu'on veut faire. Il y a deux morceaux qui interviennent tour à tour&nbsp;:\n",
    "\n",
    " * `[0-9]+` signifie une suite de au moins un caractère dans l'intervalle `[0-9]`,\n",
    " * `[A-Za-z]+` pour une suite d'au moins un caractère dans l'intervalle `[A-Z]` ou dans l'intervalle `[a-z]`. \n",
    " \n",
    "Et comme tout à l'heure on a simplement juxtaposé les morceaux dans le bon ordre pour construire l'expression régulière complète."
   ]
  },
  {
   "cell_type": "markdown",
   "metadata": {},
   "source": [
    "##### Nommer un morceau (un groupe)"
   ]
  },
  {
   "cell_type": "code",
   "execution_count": null,
   "metadata": {},
   "outputs": [],
   "source": [
    "# on se concentre sur une entrée correcte\n",
    "haystack = samples[1]\n",
    "haystack"
   ]
  },
  {
   "cell_type": "markdown",
   "metadata": {},
   "source": [
    "Maintenant, on va même pouvoir **donner un nom** à un morceau de la regexp, ici on désigne par `needle` le groupe de chiffres du milieu."
   ]
  },
  {
   "cell_type": "code",
   "execution_count": null,
   "metadata": {},
   "outputs": [],
   "source": [
    "# la même regexp, mais on donne un nom au groupe de chiffres central\n",
    "regexp2 = \"[0-9]+[A-Za-z]+(?P<needle>[0-9]+)[A-Za-z]+[0-9]+\""
   ]
  },
  {
   "cell_type": "markdown",
   "metadata": {},
   "source": [
    "Et une fois que c'est fait, on peut demander à l'outil de nous **retrouver la partie correspondante** dans la chaine initiale:"
   ]
  },
  {
   "cell_type": "code",
   "execution_count": null,
   "metadata": {},
   "outputs": [],
   "source": [
    "print(re.match(regexp2, haystack).group('needle'))"
   ]
  },
  {
   "cell_type": "markdown",
   "metadata": {},
   "source": [
    "Dans cette expression on a utilisé un **groupe nommé** `(?P<needle>[0-9]+)`, dans lequel&nbsp;:\n",
    "\n",
    " * les parenthèses définissent un groupe,\n",
    " * `?P<needle>` spécifie que ce groupe pourra être référencé sous le nom `needle` (cette syntaxe très absconse est héritée semble-t-il de perl)."
   ]
  },
  {
   "cell_type": "markdown",
   "metadata": {},
   "source": [
    "### Un troisième exemple"
   ]
  },
  {
   "cell_type": "markdown",
   "metadata": {},
   "source": [
    "Enfin, et c'est un trait qui n'est pas présent dans tous les langages, on peut restreindre un morceau de chaîne à être identique à un groupe déjà vu plus tôt dans la chaîne. Dans l'exemple ci-dessus, on pourrait ajouter comme contrainte que le premier et le dernier groupes de chiffres soient identiques, comme ceci"
   ]
  },
  {
   "cell_type": "code",
   "execution_count": null,
   "metadata": {},
   "outputs": [],
   "source": [
    "regexp3 = \"(?P<id>[0-9]+)[A-Za-z]+(?P<needle>[0-9]+)[A-Za-z]+(?P=id)\""
   ]
  },
  {
   "cell_type": "markdown",
   "metadata": {},
   "source": [
    "Si bien que maintenant, avec les mêmes entrées que tout à l'heure"
   ]
  },
  {
   "cell_type": "code",
   "execution_count": null,
   "metadata": {},
   "outputs": [],
   "source": [
    "print(f\"REGEXP={regexp3}\\n\")\n",
    "for sample in samples:\n",
    "    match = re.match(regexp3, sample)\n",
    "    print(f\"{sample:>16s} → {nice(match)}\")    "
   ]
  },
  {
   "cell_type": "markdown",
   "metadata": {},
   "source": [
    "Comme précédemment on a défini le groupe nommé `id` comme étant la première suite de chiffres. \n",
    "La nouveauté ici est la **contrainte** qu'on a imposée sur le dernier groupe avec `(?P=id)`. Comme vous le voyez, on n'obtient un *match* qu'avec les entrées dans lesquelles le dernier groupe de chiffres est identique au premier."
   ]
  },
  {
   "cell_type": "markdown",
   "metadata": {},
   "source": [
    "### Comment utiliser la librairie - Compilation des expressions régulières"
   ]
  },
  {
   "cell_type": "markdown",
   "metadata": {},
   "source": [
    "Avant d'apprendre à écrire une expression régulière, disons quelques mots du mode d'emploi de la librairie."
   ]
  },
  {
   "cell_type": "markdown",
   "metadata": {},
   "source": [
    "##### Fonctions de commodité et *workflow*"
   ]
  },
  {
   "cell_type": "markdown",
   "metadata": {},
   "source": [
    "Comme vous le savez peut-être, une expression régulière décrite sous forme de chaîne, comme par exemple `\"\\w*[am]\\W\"`, peut être traduite dans un **automate fini** qui permet de faire le filtrage avec une chaîne. C'est ce qui explique le *workflow* que nous avons résumé dans cette figure.\n",
    "\n",
    "<img src=\"media/re-workflow.png\">"
   ]
  },
  {
   "cell_type": "markdown",
   "metadata": {},
   "source": [
    "La méthode recommandée pour utiliser la librairie, lorsque vous avez le même *pattern* à appliquer à un grand nombre de chaînes, est de&nbsp;:\n",
    "\n",
    " * compiler **une seule fois** votre chaîne en un automate, qui est matérialisé par un objet de la classe `re.RegexObject`, en utilisant `re.compile`, \n",
    " * puis d'**utiliser directement cet objet** autant de fois que vous avez de chaînes."
   ]
  },
  {
   "cell_type": "markdown",
   "metadata": {},
   "source": [
    "Nous avons utilisé dans les exemples plus haut (et nous continuerons plus bas pour une meilleure lisibilité) des **fonctions de commodité** du module, qui sont pratiques, par exemple, pour mettre au  point une expression régulière en mode interactif, mais qui ne **sont pas forcément** adaptées dans tous les cas. \n",
    "\n",
    "Ces fonctions de commodité fonctionnent toutes sur le même principe&nbsp;:\n",
    "\n",
    "`re.match(regexp, sample)`  $\\Longleftrightarrow$ `re.compile(regexp).match(sample)`\n",
    "\n",
    "Donc à chaque fois qu'on utilise une fonction de commodité, on recompile la chaîne en automate, ce qui, dès qu'on a plus d'une chaîne à traiter, représente un surcoût."
   ]
  },
  {
   "cell_type": "code",
   "execution_count": null,
   "metadata": {
    "cell_style": "split"
   },
   "outputs": [],
   "source": [
    "# au lieu de faire comme ci-dessus:\n",
    "\n",
    "# imaginez 10**6 chaînes dans samples\n",
    "for sample in samples:\n",
    "    match = re.match(regexp3, sample)\n",
    "    print(f\"{sample:>16s} → {nice(match)}\")    "
   ]
  },
  {
   "cell_type": "code",
   "execution_count": null,
   "metadata": {
    "cell_style": "split"
   },
   "outputs": [],
   "source": [
    "# dans du vrai code on fera plutôt:\n",
    "\n",
    "# on compile la chaîne en automate une seule fois\n",
    "re_obj3 = re.compile(regexp3)\n",
    "\n",
    "# ensuite on part directement de l'automate\n",
    "for sample in samples:\n",
    "    match = re_obj3.match(sample)\n",
    "    print(f\"{sample:>16s} → {nice(match)}\")"
   ]
  },
  {
   "cell_type": "markdown",
   "metadata": {},
   "source": [
    "Cette deuxième version ne compile qu'une fois la chaîne en automate, et donc est plus efficace."
   ]
  },
  {
   "cell_type": "markdown",
   "metadata": {},
   "source": [
    "##### Les méthodes sur la classe `RegexObject`"
   ]
  },
  {
   "cell_type": "markdown",
   "metadata": {},
   "source": [
    "Les objets de la classe `RegexObject` représentent donc l'automate à état fini qui est le résultat de la compilation de l'expression régulière. \n",
    "Pour résumer ce qu'on a déjà vu, les méthodes les plus utiles sur un objet `RegexObject` sont&nbsp;:\n",
    "\n",
    " * `match` et `search`, qui cherchent un *match* soit uniquement au début (`match`) ou n'importe où dans la chaîne (`search`),\n",
    " * `findall` et `split` pour chercher toutes les occurences (`findall`) ou leur négatif (`split`),\n",
    " * `sub` (qui aurait pu sans doute s'appeler `replace`, mais c'est comme ça) pour remplacer les occurrences de pattern."
   ]
  },
  {
   "cell_type": "markdown",
   "metadata": {},
   "source": [
    "##### Exploiter le résultat"
   ]
  },
  {
   "cell_type": "markdown",
   "metadata": {},
   "source": [
    "Les **méthodes** disponibles sur la classe **`re.MatchObject`** sont [documentées en détail ici](https://docs.python.org/3/library/re.html#match-objects). On en a déjà rencontré quelques-unes, en voici à nouveau un aperçu rapide."
   ]
  },
  {
   "cell_type": "code",
   "execution_count": null,
   "metadata": {},
   "outputs": [],
   "source": [
    "# exemple\n",
    "sample = \"    Isaac Newton, physicist\"\n",
    "match = re.search(r\"(\\w+) (?P<name>\\w+)\", sample)"
   ]
  },
  {
   "cell_type": "markdown",
   "metadata": {},
   "source": [
    "`re` et `string` pour retrouver les données d'entrée du match."
   ]
  },
  {
   "cell_type": "code",
   "execution_count": null,
   "metadata": {},
   "outputs": [],
   "source": [
    "match.string"
   ]
  },
  {
   "cell_type": "code",
   "execution_count": null,
   "metadata": {},
   "outputs": [],
   "source": [
    "match.re"
   ]
  },
  {
   "cell_type": "markdown",
   "metadata": {},
   "source": [
    "`group`, `groups`, `groupdict` pour retrouver les morceaux de la chaîne d'entrée qui correspondent aux **groupes** de la regexp. On peut y accéder par rang, ou par nom (comme on l'a vu plus haut avec `needle`)."
   ]
  },
  {
   "cell_type": "code",
   "execution_count": null,
   "metadata": {},
   "outputs": [],
   "source": [
    "match.groups()"
   ]
  },
  {
   "cell_type": "code",
   "execution_count": null,
   "metadata": {},
   "outputs": [],
   "source": [
    "match.group(1)"
   ]
  },
  {
   "cell_type": "code",
   "execution_count": null,
   "metadata": {},
   "outputs": [],
   "source": [
    "match.group('name')"
   ]
  },
  {
   "cell_type": "code",
   "execution_count": null,
   "metadata": {},
   "outputs": [],
   "source": [
    "match.group(2)"
   ]
  },
  {
   "cell_type": "code",
   "execution_count": null,
   "metadata": {},
   "outputs": [],
   "source": [
    "match.groupdict()"
   ]
  },
  {
   "cell_type": "markdown",
   "metadata": {},
   "source": [
    " Comme on le voit pour l'accès par rang **les indices commencent à 1** pour des raisons historiques (on peut déjà référencer `\\1` en sed depuis la fin des années 70). \n",
    " \n",
    " On peut aussi accéder au **groupe 0** comme étant la partie de la chaîne de départ qui a effectivement été filtrée par l'expression régulière, et qui peut tout à fait être au beau milieu de la chaîne de départ, comme dans notre exemple"
   ]
  },
  {
   "cell_type": "code",
   "execution_count": null,
   "metadata": {},
   "outputs": [],
   "source": [
    "match.group(0)"
   ]
  },
  {
   "cell_type": "markdown",
   "metadata": {},
   "source": [
    "`expand` permet de faire une espèce de `str.format` avec les valeurs des groupes."
   ]
  },
  {
   "cell_type": "code",
   "execution_count": null,
   "metadata": {},
   "outputs": [],
   "source": [
    "match.expand(r\"last_name \\g<name> first_name \\1\")"
   ]
  },
  {
   "cell_type": "markdown",
   "metadata": {},
   "source": [
    "`span` pour connaître les index dans la chaîne d'entrée pour un groupe donné."
   ]
  },
  {
   "cell_type": "code",
   "execution_count": null,
   "metadata": {},
   "outputs": [],
   "source": [
    "# NB: seq[i:j] est une opération de slicing que nous verrons plus tard\n",
    "# Elle retourne une séquence contenant les éléments de i à j-1 de seq\n",
    "begin, end = match.span('name')\n",
    "sample[begin:end]"
   ]
  },
  {
   "cell_type": "markdown",
   "metadata": {},
   "source": [
    "##### Les différents modes (*flags*)"
   ]
  },
  {
   "cell_type": "markdown",
   "metadata": {},
   "source": [
    "Enfin il faut noter qu'on peut passer à `re.compile` un certain nombre de *flags* qui modifient globalement l'interprétation de la chaîne, et qui peuvent rendre service. "
   ]
  },
  {
   "cell_type": "markdown",
   "metadata": {},
   "source": [
    "Vous trouverez [une liste exhaustive de ces *flags* ici](https://docs.python.org/3/library/re.html#module-contents). Ils ont en général un nom long et parlant, et un alias court sur un seul caractère. Les plus utiles sont sans doute&nbsp;:\n",
    "\n",
    " * `IGNORECASE` (*alias* `I`) pour, eh bien, ne pas faire la différence entre minuscules et majuscules,\n",
    " * `UNICODE` (*alias* `U`) pour rendre les séquences `\\w` et autres basées sur les propriétés des caractères dans la norme Unicode,\n",
    " * `LOCALE` (*alias* `L`) cette fois `\\w` dépend du `locale` courant,\n",
    " * `MULTILINE` (*alias* `M`), et\n",
    " * `DOTALL` (*alias* S) - pour ces deux derniers flags, voir la discussion à la fin du complément."
   ]
  },
  {
   "cell_type": "markdown",
   "metadata": {},
   "source": [
    "Comme c'est souvent le cas, on doit passer à `re.compile` un **ou logique** (caractère `|`) des différents flags que l'on veut utiliser, c'est-à-dire qu'on fera par exemple"
   ]
  },
  {
   "cell_type": "code",
   "execution_count": null,
   "metadata": {},
   "outputs": [],
   "source": [
    "regexp = \"a*b+\"\n",
    "re_obj = re.compile(regexp, flags=re.IGNORECASE | re.DEBUG)"
   ]
  },
  {
   "cell_type": "code",
   "execution_count": null,
   "metadata": {},
   "outputs": [],
   "source": [
    "# on ignore la casse des caractères \n",
    "print(regexp, \"->\", nice(re_obj.match(\"AabB\")))"
   ]
  },
  {
   "cell_type": "markdown",
   "metadata": {},
   "source": [
    "### Comment construire une expression régulière"
   ]
  },
  {
   "cell_type": "markdown",
   "metadata": {},
   "source": [
    "Nous pouvons à présent voir comment construire une expression régulière, en essayant de rester synthétique (la [documentation du module `re`](https://docs.python.org/3/library/re.html) en donne une version exhaustive)."
   ]
  },
  {
   "cell_type": "markdown",
   "metadata": {},
   "source": [
    "##### La brique de base : le caractère"
   ]
  },
  {
   "cell_type": "markdown",
   "metadata": {},
   "source": [
    "Au commencement il faut spécifier des caractères.\n",
    "\n",
    "* **un seul** caractère: \n",
    "  * vous le citez tel quel, en le précédent d'un backslash `\\` s'il a par ailleurs un sens spécial dans le micro-langage de regexps (comme `+`, `*`, `[`, etc.);\n",
    "* l'**attrape-tout** (*wildcard*):\n",
    "   * un point `.` signifie \"n'importe quel caractère\";\n",
    "* **un ensemble** de caractères avec la notation `[...]` qui permet de décrire par exemple:\n",
    "  * `[a1=]` un ensemble in extenso, ici un caractère parmi `a`, `1`, ou `=`,\n",
    "  * `[a-z]` un intervalle de caractères, ici de `a` à `z`,\n",
    "  * `[15e-g]` un mélange des deux, ici un ensemble qui contiendrait `1`, `5`, `e`, `f` et `g`,\n",
    "  * `[^15e-g]` une **négation**, qui a `^` comme premier caractère dans les `[]`, ici tout sauf l'ensemble précédent;\n",
    "* un **ensemble prédéfini** de caractères, qui peuvent alors dépendre de l'environnement (UNICODE et LOCALE) avec entre autres les notations:\n",
    "  * `\\w` les caractères alphanumériques, et `\\W` (les autres),\n",
    "  * `\\s` les caractères \"blancs\" - espace, tabulation, saut de ligne, etc., et `\\S` (les autres),\n",
    "  * `\\d` pour les chiffres, et `\\D` (les autres)."
   ]
  },
  {
   "cell_type": "code",
   "execution_count": null,
   "metadata": {},
   "outputs": [],
   "source": [
    "sample = \"abcd\"\n",
    "\n",
    "for regexp in ['abcd', 'ab[cd][cd]', 'ab[a-z]d', r'abc.', r'abc\\.']:\n",
    "    match = re.match(regexp, sample)\n",
    "    print(f\"{sample} / {regexp:<10s} → {nice(match)}\")"
   ]
  },
  {
   "cell_type": "markdown",
   "metadata": {},
   "source": [
    "Pour ce dernier exemple, comme on a backslashé le `.` il faut que la chaîne en entrée contienne vraiment un `.`"
   ]
  },
  {
   "cell_type": "code",
   "execution_count": null,
   "metadata": {},
   "outputs": [],
   "source": [
    "print(nice(re.match (r\"abc\\.\", \"abc.\")))"
   ]
  },
  {
   "cell_type": "markdown",
   "metadata": {},
   "source": [
    "##### En série ou en parallèle"
   ]
  },
  {
   "cell_type": "markdown",
   "metadata": {},
   "source": [
    "Si je fais une analogie avec les montages électriques, jusqu'ici on a vu le montage en série, on met des expressions régulières bout à bout qui filtrent (`match`) la chaine en entrée séquentiellement du début à la fin. On a *un peu* de marge pour spécifier des alternatives, lorsqu'on fait par exemple\n",
    "\n",
    "```python\n",
    "\"ab[cd]ef\"\n",
    "```\n",
    "\n",
    "mais c'est limité à **un seul** caractère. Si on veut reconnaitre deux mots qui n'ont pas grand-chose à voir comme `abc` **ou** `def`, il faut en quelque sorte mettre deux regexps en parallèle, et c'est ce que permet l'opérateur `|`"
   ]
  },
  {
   "cell_type": "code",
   "execution_count": null,
   "metadata": {},
   "outputs": [],
   "source": [
    "regexp = \"abc|def\"\n",
    "\n",
    "for sample in ['abc', 'def', 'aef']:\n",
    "    match = re.match(regexp, sample)\n",
    "    print(f\"{sample} / {regexp} → {nice(match)}\")"
   ]
  },
  {
   "cell_type": "markdown",
   "metadata": {},
   "source": [
    "##### Fin(s) de chaîne"
   ]
  },
  {
   "cell_type": "markdown",
   "metadata": {},
   "source": [
    "Selon que vous utilisez `match` ou `search`, vous précisez si vous vous intéressez uniquement à un match en début (`match`) ou n'importe où (`search`) dans la chaîne.\n",
    "\n",
    "Mais indépendamment de cela, il peut être intéressant de \"coller\" l'expression en début ou en fin de ligne, et pour ça il existe des caractères spéciaux:\n",
    "\n",
    " * `^` lorsqu'il est utilisé comme un caractère (c'est à dire pas en début de `[]`) signifie un début de chaîne;\n",
    " * `\\A` a le même sens (sauf en mode MULTILINE), et je le recommande de préférence à `^` qui est déjà pas mal surchargé;\n",
    " * `$` matche une fin de ligne;\n",
    " * `\\Z` est voisin de `$` mais pas tout à fait identique.\n",
    "\n",
    "Reportez-vous à la documentation pour le détails des différences. Attention aussi à entrer le `^` correctement, il vous faut le caractère ASCII et non un voisin dans la ménagerie Unicode."
   ]
  },
  {
   "cell_type": "code",
   "execution_count": null,
   "metadata": {},
   "outputs": [],
   "source": [
    "sample = 'abcd'\n",
    "\n",
    "for regexp in [ r'bc', r'\\Aabc', r'^abc', \n",
    "                r'\\Abc', r'^bc', r'bcd\\Z', \n",
    "                r'bcd$', r'bc\\Z', r'bc$' ]:\n",
    "    match = re.match(regexp, sample)\n",
    "    search = re.search(regexp, sample)\n",
    "    print(f\"{sample} / {regexp:5s} match → {nice(match):6s},\"\n",
    "          f\" search → {nice(search)}\")"
   ]
  },
  {
   "cell_type": "markdown",
   "metadata": {},
   "source": [
    "On a en effet bien le pattern `bc` dans la chaine en entrée, mais il n'est ni au début ni à la fin."
   ]
  },
  {
   "cell_type": "markdown",
   "metadata": {},
   "source": [
    "##### Parenthéser - (grouper)"
   ]
  },
  {
   "cell_type": "markdown",
   "metadata": {},
   "source": [
    "Pour pouvoir faire des montages élaborés, il faut pouvoir parenthéser."
   ]
  },
  {
   "cell_type": "code",
   "execution_count": null,
   "metadata": {
    "cell_style": "split"
   },
   "outputs": [],
   "source": [
    "# une parenthése dans une RE \n",
    "# pour mettre en ligne:\n",
    "# un début 'a', \n",
    "# un milieu 'bc' ou 'de' \n",
    "# et une fin 'f'\n",
    "regexp = \"a(bc|de)f\""
   ]
  },
  {
   "cell_type": "markdown",
   "metadata": {
    "cell_style": "split"
   },
   "source": [
    "<img src=\"media/re-serie-parallele.png\">"
   ]
  },
  {
   "cell_type": "code",
   "execution_count": null,
   "metadata": {
    "cell_style": "center"
   },
   "outputs": [],
   "source": [
    "for sample in ['abcf', 'adef',  'abef', 'abf']:\n",
    "    match = re.match(regexp, sample)\n",
    "    print(f\"{sample:>4s} → {nice(match)}\")"
   ]
  },
  {
   "cell_type": "markdown",
   "metadata": {},
   "source": [
    "Les parenthèses jouent un rôle additionel de **groupe**, ce qui signifie qu'on **peut retrouver** le texte correspondant à l'expression régulière comprise dans les `()`. Par exemple, pour le premier match"
   ]
  },
  {
   "cell_type": "code",
   "execution_count": null,
   "metadata": {},
   "outputs": [],
   "source": [
    "sample = 'abcf'\n",
    "match = re.match(regexp, sample)\n",
    "print(f\"{sample}, {regexp} → {match.groups()}\")"
   ]
  },
  {
   "cell_type": "markdown",
   "metadata": {},
   "source": [
    "dans cet exemple, on n'a utilisé qu'un seul groupe `()`, et le morceau de chaîne qui correspond à ce groupe se trouve donc être le seul groupe retourné par `MatchObject.group`."
   ]
  },
  {
   "cell_type": "markdown",
   "metadata": {},
   "source": [
    "##### Compter les répétitions"
   ]
  },
  {
   "cell_type": "markdown",
   "metadata": {},
   "source": [
    "Vous disposez des opérateurs suivants&nbsp;:\n",
    "\n",
    " * `*` l'étoile qui signifie n'importe quel nombre, même nul, d'occurrences  - par exemple, `(ab)*` pour indiquer `''` ou `'ab'` ou `'abab'` ou etc.,\n",
    " * `+` le plus qui signifie au moins une occurrence - e.g. `(ab)+` pour `ab` ou `abab` ou `ababab` ou etc,\n",
    " * `?` qui indique une option, c'est-à-dire 0 ou 1 occurence - autrement dit `(ab)?` matche `''` ou `ab`, \n",
    " * `{n}` pour exactement n occurrences de `(ab)` - e.g. `(ab){3}` qui serait exactement équivalent à `ababab`,\n",
    " * `{m,n}` entre m et n fois inclusivement."
   ]
  },
  {
   "cell_type": "code",
   "execution_count": null,
   "metadata": {},
   "outputs": [],
   "source": [
    "# NB: la construction\n",
    "#   [op(elt) for elt in iterable] \n",
    "# est une compréhension de liste que nous étudierons plus tard.\n",
    "# Elle retourne une liste contenant les résultats\n",
    "# de l'opération op sur chaque élément de la liste de départ\n",
    "\n",
    "samples = [n*'ab' for n in [0, 1, 3, 4]] + ['baba']\n",
    "\n",
    "for regexp in ['(ab)*', '(ab)+', '(ab){3}', '(ab){3,4}']:\n",
    "    # on ajoute \\A \\Z pour matcher toute la chaine\n",
    "    line_regexp = r\"\\A{}\\Z\".format(regexp)\n",
    "    for sample in samples:\n",
    "        match = re.match(line_regexp, sample)\n",
    "        print(f\"{sample:>8s} / {line_regexp:14s} → {nice(match)}\")"
   ]
  },
  {
   "cell_type": "markdown",
   "metadata": {},
   "source": [
    "##### Groupes et contraintes"
   ]
  },
  {
   "cell_type": "markdown",
   "metadata": {},
   "source": [
    "Nous avons déjà vu un exemple de groupe nommé (voir `needle` plus haut), les opérateurs que l'on peut citer dans cette catégorie sont&nbsp;:\n",
    "\n",
    " * `(...)` les parenthèses définissent un groupe anonyme,\n",
    " * `(?P<name>...)` définit un groupe nommé,\n",
    " * `(?:...)` permet de mettre des parenthèses mais sans créer un groupe, pour optimiser l'exécution puisqu'on n'a pas besoin de  conserver les liens vers la chaîne d'entrée,\n",
    " * `(?P=name)` qui ne matche que si l'on retrouve à cet endroit de l'entrée la même sous-chaîne que celle trouvée pour le groupe `name` en amont,\n",
    " * enfin `(?=...)`, `(?!...)`et `(?<=...)` permettent des contraintes encore plus élaborées, nous vous laissons le soin d'expérimenter avec elles si vous êtes intéressés; sachez toutefois que l'utilisation de telles constructions peut en théorie rendre l'interprétation de votre expression régulière beaucoup moins efficace."
   ]
  },
  {
   "cell_type": "markdown",
   "metadata": {},
   "source": [
    "##### Greedy *vs* non-greedy"
   ]
  },
  {
   "cell_type": "markdown",
   "metadata": {},
   "source": [
    "Lorsqu'on stipule une répétition un nombre indéfini de fois, il se peut qu'il existe **plusieurs** façons de filtrer l'entrée avec l'expression régulière. Que ce soit avec `*`, ou `+`, ou `?`, l'algorithme va toujours essayer de trouver la **séquence la plus longue**, c'est pourquoi on qualifie l'approche de *greedy* - quelque chose comme glouton en français."
   ]
  },
  {
   "cell_type": "code",
   "execution_count": null,
   "metadata": {},
   "outputs": [],
   "source": [
    "# un fragment d'HTML \n",
    "line='<h1>Title</h1>'\n",
    "\n",
    "# si on cherche un texte quelconque entre crochets\n",
    "# c'est-à-dire l'expression régulière \"<.*>\"\n",
    "re_greedy = '<.*>'\n",
    "\n",
    "# on obtient ceci\n",
    "# on rappelle que group(0) montre la partie du fragment\n",
    "# HTML qui matche l'expression régulière\n",
    "match = re.match(re_greedy, line)\n",
    "match.group(0)"
   ]
  },
  {
   "cell_type": "markdown",
   "metadata": {},
   "source": [
    "Ça n'est pas forcément ce qu'on voulait faire, aussi on peut spécifier l'approche inverse, c'est-à-dire de trouver la **plus-petite** chaîne qui matche, dans une approche dite *non-greedy*, avec les opérateurs suivants&nbsp;:\n",
    "\n",
    " * `*?` : `*` mais *non-greedy*,\n",
    " * `+?` : `+` mais *non-greedy*,\n",
    " * `??` : `?` mais *non-greedy*,"
   ]
  },
  {
   "cell_type": "code",
   "execution_count": null,
   "metadata": {},
   "outputs": [],
   "source": [
    "# ici on va remplacer * par *? pour rendre l'opérateur * non-greedy\n",
    "re_non_greedy = re_greedy = '<.*?>'\n",
    "\n",
    "# mais on continue à cherche un texte entre <> naturellement\n",
    "# si bien que cette fois, on obtient\n",
    "match = re.match(re_non_greedy, line)\n",
    "match.group(0)"
   ]
  },
  {
   "cell_type": "markdown",
   "metadata": {},
   "source": [
    "##### S'agissant du traitement des fins de ligne"
   ]
  },
  {
   "cell_type": "markdown",
   "metadata": {},
   "source": [
    "Il peut être utile, pour conclure cette présentation, de préciser un peu le comportement de la librairie vis-à-vis des fins de ligne.\n",
    "\n",
    "Historiquement, les expressions régulières telles qu'on les trouve dans les librairies C, donc dans `sed`, `grep` et autre utilitaires Unix, sont associées au modèle mental où on filtre les entrées ligne par ligne.\n",
    "\n",
    "Le module `re` en garde des traces, puisque"
   ]
  },
  {
   "cell_type": "code",
   "execution_count": null,
   "metadata": {},
   "outputs": [],
   "source": [
    "# un exemple de traitement des 'newlines' \n",
    "sample = \"\"\"une entrée\n",
    "sur\n",
    "plusieurs\n",
    "lignes\n",
    "\"\"\""
   ]
  },
  {
   "cell_type": "code",
   "execution_count": null,
   "metadata": {},
   "outputs": [],
   "source": [
    "match = re.compile(\"(.*)\").match(sample)\n",
    "match.groups()"
   ]
  },
  {
   "cell_type": "markdown",
   "metadata": {},
   "source": [
    "Vous voyez donc que l'attrape-tout `'.'` en fait n'attrape pas le caractère de fin de ligne `\\n`, puisque si c'était le cas et  compte tenu du coté *greedy* de l'algorithme on devrait voir ici tout le contenu de `sample`. Il existe un *flag* `re.DOTALL` qui permet de faire de `.` un vrai attrape-tout qui capture aussi les *newline*"
   ]
  },
  {
   "cell_type": "code",
   "execution_count": null,
   "metadata": {},
   "outputs": [],
   "source": [
    "match = re.compile(\"(.*)\", flags=re.DOTALL).match(sample)\n",
    "match.groups()"
   ]
  },
  {
   "cell_type": "markdown",
   "metadata": {},
   "source": [
    "Cela dit, le caractère *newline* est par ailleurs considéré comme un caractère comme un autre, on peut le mentionner **dans une regexp** comme les autres. Voici quelques exemples pour illustrer tout ceci"
   ]
  },
  {
   "cell_type": "code",
   "execution_count": null,
   "metadata": {},
   "outputs": [],
   "source": [
    "# sans mettre le flag unicode \\w ne matche que l'ASCII\n",
    "match = re.compile(\"([\\w ]*)\").match(sample)\n",
    "match.groups()"
   ]
  },
  {
   "cell_type": "code",
   "execution_count": null,
   "metadata": {},
   "outputs": [],
   "source": [
    "# sans mettre le flag unicode \\w ne matche que l'ASCII\n",
    "match = re.compile(\"([\\w ]*)\", flags=re.U).match(sample)\n",
    "match.groups()"
   ]
  },
  {
   "cell_type": "code",
   "execution_count": null,
   "metadata": {},
   "outputs": [],
   "source": [
    "# si on ajoute \\n à la liste des caractères attendus \n",
    "# on obtient bien tout le contenu initial\n",
    "\n",
    "# attention ici il ne FAUT PAS utiliser un raw string,\n",
    "# car on veut vraiment écrire un newline dans la regexp\n",
    "\n",
    "match = re.compile(\"([\\w \\n]*)\", flags=re.UNICODE).match(sample)\n",
    "match.groups()"
   ]
  },
  {
   "cell_type": "markdown",
   "metadata": {},
   "source": [
    "### Conclusion"
   ]
  },
  {
   "cell_type": "markdown",
   "metadata": {},
   "source": [
    "La mise au point d'expressions régulières est certes un peu exigeante, et demande pas mal de pratique, mais permet d'écrire en quelques lignes des fonctionnalités très puissantes, c'est un investissement très rentable :)"
   ]
  },
  {
   "cell_type": "markdown",
   "metadata": {},
   "source": [
    "Je vous signale enfin l'existence de **sites web** qui évaluent une expression régulière **de manière interactive** et qui peuvent rendre la mise au point moins fastidieuse. \n",
    "\n",
    "Je vous signale notamment [https://pythex.org/](https://pythex.org/), et il en existe beaucoup d'autres."
   ]
  },
  {
   "cell_type": "markdown",
   "metadata": {},
   "source": [
    "### Pour en savoir plus"
   ]
  },
  {
   "cell_type": "markdown",
   "metadata": {},
   "source": [
    "Pour ceux qui ont quelques rudiments de la théorie des langages, vous savez qu'on distingue en général \n",
    "\n",
    " * l'**analyse lexicale**, qui découpe le texte en morceaux (qu'on appelle des *tokens*),\n",
    " * et l'**analyse syntaxique** qui décrit pour simplifier à l'extrême l'ordre dans lequel on peut trouver les tokens.\n",
    " \n",
    "Avec les expression régulières, on adresse le niveau de l'analyse lexicale. Pour l'analyse syntaxique, qui est franchement au delà des objectifs de ce cours, il existe de nombreuses alternatives, parmi lesquelles:\n",
    "\n",
    " * [`pyparsing`](http://pyparsing.wikispaces.com/Download+and+Installation)\n",
    " * [`PLY` (Python Lex-Yacc)](http://www.dabeaz.com/ply/)\n",
    " * [`ANTLR`](http://www.antlr.org) qui est un outil écrit en Java mais qui peut générer des parsers en python,\n",
    " * ...\n"
   ]
  }
 ],
 "metadata": {
  "kernelspec": {
   "display_name": "Python 3",
   "language": "python",
   "name": "python3"
  },
  "language_info": {
   "codemirror_mode": {
    "name": "ipython",
    "version": 3
   },
   "file_extension": ".py",
   "mimetype": "text/x-python",
   "name": "python",
   "nbconvert_exporter": "python",
   "pygments_lexer": "ipython3",
   "version": "3.7.0"
  },
  "livereveal": {
   "auto_select": "code",
   "auto_select_fragment": true,
   "autolaunch": false,
   "backimage": "media/nologo.png",
   "height": "100%",
   "start_slideshow_at": "selected",
   "theme": "simple",
   "transition": "fade",
   "width": "100%"
  },
  "notebookname": "Expressions régulières",
  "version": "3.0"
 },
 "nbformat": 4,
 "nbformat_minor": 1
}
