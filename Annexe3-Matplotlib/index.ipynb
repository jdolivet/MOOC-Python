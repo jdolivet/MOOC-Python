{
 "cells": [
  {
   "cell_type": "markdown",
   "metadata": {},
   "source": [
    "# `matplotlib`"
   ]
  },
  {
   "cell_type": "markdown",
   "metadata": {},
   "source": [
    "* ## [`matplotlib` 2D](1-Matplotlib-2d.ipynb)\n",
    "* ## [`matplotlib` 3D](2-Matplotlib-3d.ipynb)\n",
    "* ## [Notebooks interactifs](3-Notebooks-interactifs.ipynb)\n",
    "* ## [Animations avec `matplotlib`](4-Animations-matplotlib.ipynb)\n",
    "* ## [Autres bibliothèques de visualisation](5-bokeh-et-al.ipynb)"
   ]
  }
 ],
 "metadata": {
  "kernelspec": {
   "display_name": "Python 3",
   "language": "python",
   "name": "python3"
  },
  "language_info": {
   "codemirror_mode": {
    "name": "ipython",
    "version": 3
   },
   "file_extension": ".py",
   "mimetype": "text/x-python",
   "name": "python",
   "nbconvert_exporter": "python",
   "pygments_lexer": "ipython3",
   "version": "3.6.6"
  }
 },
 "nbformat": 4,
 "nbformat_minor": 2
}
