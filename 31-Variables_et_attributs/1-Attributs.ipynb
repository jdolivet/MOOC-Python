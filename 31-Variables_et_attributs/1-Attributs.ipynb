{
 "cells": [
  {
   "cell_type": "markdown",
   "metadata": {},
   "source": [
    "<style>div.title-slide {    width: 100%;    display: flex;    flex-direction: row;            /* default value; can be omitted */    flex-wrap: nowrap;              /* default value; can be omitted */    justify-content: space-between;}</style><div class=\"title-slide\">\n",
    "<span style=\"float:left;\">Licence CC BY-NC-ND</span>\n",
    "<span>Thierry Parmentelat &amp; Arnaud Legout</span>\n",
    "<span><img src=\"media/both-logos-small-alpha.png\" style=\"display:inline\" /></span>\n",
    "</div>"
   ]
  },
  {
   "cell_type": "markdown",
   "metadata": {},
   "source": [
    "# Les attributs"
   ]
  },
  {
   "cell_type": "markdown",
   "metadata": {},
   "source": [
    "## Compléments - niveau basique"
   ]
  },
  {
   "cell_type": "markdown",
   "metadata": {},
   "source": [
    "### La notation `.` et les attributs"
   ]
  },
  {
   "cell_type": "markdown",
   "metadata": {},
   "source": [
    "La notation `module.variable` que nous avons vue dans la vidéo est un cas particulier de la notion d'attribut, qui permet d'étendre un objet, ou si on préfère de lui accrocher des données.\n",
    "\n",
    "Nous avons déjà rencontré ceci de nombreuses fois à présent, c'est exactement le même mécanisme d'attribut qui est utilisé pour les méthodes ; pour le système d'attribut il n'y a pas de différence entre `module.variable`, `module.fonction`, `objet.methode`, etc.\n",
    "\n",
    "Nous verrons très bientôt que ce mécanisme est massivement utilisé également dans les instances de classe."
   ]
  },
  {
   "cell_type": "markdown",
   "metadata": {},
   "source": [
    "### Les fonctions de gestion des attributs"
   ]
  },
  {
   "cell_type": "markdown",
   "metadata": {},
   "source": [
    "Pour accéder programmativement aux attributs d'un objet, on dispose des 3 fonctions *built-in* `getattr`, `setattr`, et `hasattr`, que nous allons illustrer tout de suite."
   ]
  },
  {
   "cell_type": "markdown",
   "metadata": {},
   "source": [
    "##### Lire un attribut"
   ]
  },
  {
   "cell_type": "code",
   "execution_count": null,
   "metadata": {},
   "outputs": [],
   "source": [
    "import math\n",
    "# nous savons lire un attribut comme ceci \n",
    "# qui lit l'attribut de nom 'pi' dans le module math\n",
    "math.pi"
   ]
  },
  {
   "cell_type": "markdown",
   "metadata": {},
   "source": [
    "La [fonction *built-in* `getattr`](https://docs.python.org/3/library/functions.html#getattr) permet de lire un attribut programmativement :"
   ]
  },
  {
   "cell_type": "code",
   "execution_count": null,
   "metadata": {},
   "outputs": [],
   "source": [
    "# si on part d'une chaîne qui désigne le nom de l'attribut\n",
    "# la formule équivalente est alors\n",
    "getattr(math, 'pi')"
   ]
  },
  {
   "cell_type": "code",
   "execution_count": null,
   "metadata": {},
   "outputs": [],
   "source": [
    "# on peut utiliser les attributs avec la plupart des objets\n",
    "# ici nous allons le faire sur une fonction\n",
    "def foo(): \n",
    "    \"une fonction vide\"\n",
    "    pass\n",
    "\n",
    "# on a déjà vu certains attributs des fonctions\n",
    "print(f\"nom={foo.__name__}, docstring=`{foo.__doc__}`\")"
   ]
  },
  {
   "cell_type": "code",
   "execution_count": null,
   "metadata": {},
   "outputs": [],
   "source": [
    "# on peut préciser une valeur par défaut pour le cas où l'attribut\n",
    "# n'existe pas\n",
    "getattr(foo, \"attribut_inexistant\", 'valeur_par_defaut')"
   ]
  },
  {
   "cell_type": "markdown",
   "metadata": {},
   "source": [
    "##### Écrire un attribut"
   ]
  },
  {
   "cell_type": "code",
   "execution_count": null,
   "metadata": {},
   "outputs": [],
   "source": [
    "# on peut ajouter un attribut arbitraire (toujours sur l'objet fonction)\n",
    "foo.hauteur = 100\n",
    "\n",
    "foo.hauteur"
   ]
  },
  {
   "cell_type": "markdown",
   "metadata": {},
   "source": [
    "Comme pour la lecture on peut écrire un attribut programmativement avec la [fonction *built-in* `setattr`](https://docs.python.org/3/library/functions.html#setattr) :"
   ]
  },
  {
   "cell_type": "code",
   "execution_count": null,
   "metadata": {},
   "outputs": [],
   "source": [
    "# écrire un attribut avec setattr\n",
    "setattr(foo, \"largeur\", 200)\n",
    "\n",
    "# on peut bien sûr le lire indifféremment\n",
    "# directement comme ici, ou avec getattr\n",
    "foo.largeur"
   ]
  },
  {
   "cell_type": "markdown",
   "metadata": {},
   "source": [
    "##### Liste des attributs"
   ]
  },
  {
   "cell_type": "markdown",
   "metadata": {},
   "source": [
    "La [fonction *built-in* `hasattr`](https://docs.python.org/3/library/functions.html#hasattr) permet de savoir si un objet possède ou pas un attribut :"
   ]
  },
  {
   "cell_type": "code",
   "execution_count": null,
   "metadata": {},
   "outputs": [],
   "source": [
    "# pour savoir si un attribut existe\n",
    "hasattr(math, 'pi')"
   ]
  },
  {
   "cell_type": "markdown",
   "metadata": {},
   "source": [
    "Ce qui peut aussi être retrouvé autrement, avec la [fonction *built-in* `vars`](https://docs.python.org/3/library/functions.html#vars) :"
   ]
  },
  {
   "cell_type": "code",
   "execution_count": null,
   "metadata": {},
   "outputs": [],
   "source": [
    "vars(foo)"
   ]
  },
  {
   "cell_type": "markdown",
   "metadata": {},
   "source": [
    "### Sur quels objets"
   ]
  },
  {
   "cell_type": "markdown",
   "metadata": {},
   "source": [
    "Il n'est pas possible d'ajouter des attributs sur les types de base, car ce sont des classes immuables :"
   ]
  },
  {
   "cell_type": "code",
   "execution_count": null,
   "metadata": {},
   "outputs": [],
   "source": [
    "for builtin_type in (int, str, float, complex, tuple, dict, set, frozenset):\n",
    "    obj = builtin_type()\n",
    "    try: \n",
    "        obj.foo = 'bar'\n",
    "    except AttributeError as e: \n",
    "        print(f\"{builtin_type.__name__:>10} → exception {type(e)} - {e}\")"
   ]
  },
  {
   "cell_type": "markdown",
   "metadata": {},
   "source": [
    "C'est par contre possible sur virtuellement tout le reste, et notamment là où c'est très utile, c'est-à-dire pour ce qui nous concerne sur les :\n",
    "\n",
    " * modules\n",
    " * packages\n",
    " * fonctions\n",
    " * classes\n",
    " * instances"
   ]
  }
 ],
 "metadata": {
  "kernelspec": {
   "display_name": "Python 3",
   "language": "python",
   "name": "python3"
  },
  "language_info": {
   "codemirror_mode": {
    "name": "ipython",
    "version": 3
   },
   "file_extension": ".py",
   "mimetype": "text/x-python",
   "name": "python",
   "nbconvert_exporter": "python",
   "pygments_lexer": "ipython3",
   "version": "3.7.0"
  },
  "livereveal": {
   "auto_select": "code",
   "auto_select_fragment": true,
   "autolaunch": false,
   "backimage": "media/nologo.png",
   "height": "100%",
   "slideNumber": "c",
   "start_slideshow_at": "selected",
   "theme": "simple",
   "transition": "fade",
   "width": "100%"
  },
  "notebookname": "Les attributs",
  "version": "3.0"
 },
 "nbformat": 4,
 "nbformat_minor": 1
}
