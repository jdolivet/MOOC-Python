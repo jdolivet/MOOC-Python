{
 "cells": [
  {
   "cell_type": "markdown",
   "metadata": {},
   "source": [
    "<style>div.title-slide {    width: 100%;    display: flex;    flex-direction: row;            /* default value; can be omitted */    flex-wrap: nowrap;              /* default value; can be omitted */    justify-content: space-between;}</style><div class=\"title-slide\">\n",
    "<span style=\"float:left;\">Licence CC BY-NC-ND</span>\n",
    "<span>Thierry Parmentelat &amp; Arnaud Legout</span>\n",
    "<span><img src=\"media/both-logos-small-alpha.png\" style=\"display:inline\" /></span>\n",
    "</div>"
   ]
  },
  {
   "cell_type": "markdown",
   "metadata": {},
   "source": [
    "# Compréhensions imbriquées"
   ]
  },
  {
   "cell_type": "markdown",
   "metadata": {},
   "source": [
    "## Compléments - niveau intermédiaire "
   ]
  },
  {
   "cell_type": "markdown",
   "metadata": {},
   "source": [
    "### Imbrications"
   ]
  },
  {
   "cell_type": "markdown",
   "metadata": {},
   "source": [
    "On peut également imbriquer plusieurs niveaux pour ne construire qu'une seule liste, comme par exemple :"
   ]
  },
  {
   "cell_type": "code",
   "execution_count": null,
   "metadata": {},
   "outputs": [],
   "source": [
    "[n + p for n in [2, 4] for p in [10, 20, 30]]"
   ]
  },
  {
   "cell_type": "markdown",
   "metadata": {},
   "source": [
    "Bien sûr on peut aussi restreindre ces compréhensions, comme par exemple :"
   ]
  },
  {
   "cell_type": "code",
   "execution_count": null,
   "metadata": {},
   "outputs": [],
   "source": [
    "[n + p for n in [2, 4] for p in [10, 20, 30] if n*p >= 40]"
   ]
  },
  {
   "cell_type": "markdown",
   "metadata": {},
   "source": [
    "Observez surtout que le résultat ci-dessus est une liste simple (de profondeur 1), à comparer avec :"
   ]
  },
  {
   "cell_type": "code",
   "execution_count": null,
   "metadata": {},
   "outputs": [],
   "source": [
    "[[n + p for n in [2, 4]] for p in [10, 20, 30]]"
   ]
  },
  {
   "cell_type": "markdown",
   "metadata": {},
   "source": [
    "qui est de profondeur 2, et où les résultats atomiques apparaissent dans un ordre différent."
   ]
  },
  {
   "cell_type": "markdown",
   "metadata": {},
   "source": [
    "Un moyen mnémotechnique pour se souvenir dans quel ordre les compréhensions imbriquées produisent leur résultat, est de penser à la version \"naïve\" du code qui produirait le même résultat ; dans ce code les clause `for` et `if` apparaissent **dans le même ordre** que dans la compréhension :"
   ]
  },
  {
   "cell_type": "code",
   "execution_count": null,
   "metadata": {},
   "outputs": [],
   "source": [
    "# notre exemple :\n",
    "# [n + p for n in [2, 4] for p in [10, 20, 30] if n*p >= 40]\n",
    "\n",
    "# est équivalent à ceci :\n",
    "resultat = []\n",
    "for n in [2, 4]:\n",
    "    for p in [10, 20, 30]:\n",
    "        if n*p >= 40:\n",
    "            resultat.append(n + p)\n",
    "resultat"
   ]
  },
  {
   "cell_type": "markdown",
   "metadata": {},
   "source": [
    "### Ordre d'évaluation de `[[ .. for .. ] .. for .. ]`"
   ]
  },
  {
   "cell_type": "markdown",
   "metadata": {},
   "source": [
    "Pour rappel, on peut imbriquer des compréhensions de compréhensions. Commençons par poser"
   ]
  },
  {
   "cell_type": "code",
   "execution_count": null,
   "metadata": {},
   "outputs": [],
   "source": [
    "n = 4"
   ]
  },
  {
   "cell_type": "markdown",
   "metadata": {},
   "source": [
    "On peut alors créer une liste de listes comme ceci :"
   ]
  },
  {
   "cell_type": "code",
   "execution_count": null,
   "metadata": {},
   "outputs": [],
   "source": [
    "[[(i, j) for i in range(1, j + 1)] for j in range(1, n + 1)]"
   ]
  },
  {
   "cell_type": "markdown",
   "metadata": {},
   "source": [
    "Et dans ce cas, très logiquement, l'évaluation se fait **en commençant par la fin**, ou si on préfère **\"par l'extérieur\"**, c'est-à-dire que le code ci-dessus est équivalent à :"
   ]
  },
  {
   "cell_type": "code",
   "execution_count": null,
   "metadata": {},
   "outputs": [],
   "source": [
    "# en version bavarde, pour illustrer l'ordre des \"for\"\n",
    "resultat_exterieur = []\n",
    "for j in range(1, n + 1):\n",
    "    resultat_interieur = []\n",
    "    for i in range(1, j + 1):\n",
    "        resultat_interieur.append((i, j))\n",
    "    resultat_exterieur.append(resultat_interieur)\n",
    "resultat_exterieur"
   ]
  },
  {
   "cell_type": "markdown",
   "metadata": {},
   "source": [
    "### Avec `if`"
   ]
  },
  {
   "cell_type": "markdown",
   "metadata": {},
   "source": [
    "Lorsqu'on assortit les compréhensions imbriquées de cette manière de clauses `if`, l'ordre d'évaluation est tout aussi logique. Par exemple, si on voulait se limiter - arbitrairement - aux lignes correspondant à `j` pair, et aux diagonales où `i+j` est pair, on écrirait :"
   ]
  },
  {
   "cell_type": "code",
   "execution_count": null,
   "metadata": {},
   "outputs": [],
   "source": [
    "[[(i, j) for i in range(1, j + 1) if (i + j)%2 == 0]\n",
    "         for j in range(1, n + 1) if j % 2 == 0]"
   ]
  },
  {
   "cell_type": "markdown",
   "metadata": {},
   "source": [
    "ce qui est équivalent à :"
   ]
  },
  {
   "cell_type": "code",
   "execution_count": null,
   "metadata": {},
   "outputs": [],
   "source": [
    "# en version bavarde à nouveau\n",
    "resultat_exterieur = []\n",
    "for j in range(1, n + 1):\n",
    "    if j % 2 == 0:\n",
    "        resultat_interieur = []\n",
    "        for i in range(1, j + 1):\n",
    "            if (i + j) % 2 == 0:\n",
    "                resultat_interieur.append((i, j))\n",
    "        resultat_exterieur.append(resultat_interieur)\n",
    "resultat_exterieur"
   ]
  },
  {
   "cell_type": "markdown",
   "metadata": {},
   "source": [
    "Le point important ici est que l'**ordre** dans lequel il faut lire le code est **naturel**, et dicté par l'imbrication des `[ .. ]`."
   ]
  },
  {
   "cell_type": "markdown",
   "metadata": {},
   "source": [
    "## Compléments - niveau avancé"
   ]
  },
  {
   "cell_type": "markdown",
   "metadata": {},
   "source": [
    "### Les variables de boucle *fuient*"
   ]
  },
  {
   "cell_type": "markdown",
   "metadata": {},
   "source": [
    "Nous avons déjà signalé que les variables de boucle **restent définies** après la sortie de la boucle, ainsi nous pouvons examiner :"
   ]
  },
  {
   "cell_type": "code",
   "execution_count": null,
   "metadata": {},
   "outputs": [],
   "source": [
    "i, j"
   ]
  },
  {
   "cell_type": "markdown",
   "metadata": {},
   "source": [
    "C'est pourquoi, afin de comparer les deux formes de compréhension imbriquées nous allons explicitement retirer les variables `i` et `j` de l'environnement"
   ]
  },
  {
   "cell_type": "code",
   "execution_count": null,
   "metadata": {},
   "outputs": [],
   "source": [
    "del i, j"
   ]
  },
  {
   "cell_type": "markdown",
   "metadata": {},
   "source": [
    "### Ordre d'évaluation de `[ .. for .. for .. ]`"
   ]
  },
  {
   "cell_type": "markdown",
   "metadata": {},
   "source": [
    "Toujours pour rappel, on peut également construire une compréhension imbriquée mais **à un seul niveau**. Dans une forme simple cela donne :"
   ]
  },
  {
   "cell_type": "code",
   "execution_count": null,
   "metadata": {},
   "outputs": [],
   "source": [
    "[(x, y) for x in [1, 2] for y in [1, 2]]"
   ]
  },
  {
   "cell_type": "markdown",
   "metadata": {},
   "source": [
    "**Avertissement** méfiez-vous toutefois, car il est facile de ne pas voir du premier coup d'oeil qu'ici on évalue les deux clauses `for` **dans un ordre différent**."
   ]
  },
  {
   "cell_type": "markdown",
   "metadata": {},
   "source": [
    "Pour mieux le voir, essayons de reprendre la logique de notre tout premier exemple, mais avec une forme de double compréhension *à plat* :"
   ]
  },
  {
   "cell_type": "code",
   "execution_count": null,
   "metadata": {
    "latex:skip-eval": true
   },
   "outputs": [],
   "source": [
    "# ceci ne fonctionne pas\n",
    "# NameError: name 'j' is not defined\n",
    "\n",
    "[ (i, j) for i in range(1, j + 1) for j in range(1, n + 1) ]"
   ]
  },
  {
   "cell_type": "markdown",
   "metadata": {},
   "source": [
    "On obtient une erreur, l'interpréteur se plaint à propos de la variable `j` (c'est pourquoi nous l'avons effacée de l'environnement au préalable)."
   ]
  },
  {
   "cell_type": "markdown",
   "metadata": {},
   "source": [
    "Ce qui se passe ici, c'est que, comme nous l'avons déjà mentionné en semaine 3, le code que nous avons écrit est en fait équivalent à :"
   ]
  },
  {
   "cell_type": "code",
   "execution_count": null,
   "metadata": {
    "latex:skip-eval": true
   },
   "outputs": [],
   "source": [
    "# la version bavarde de cette imbrication à plat, à nouveau :\n",
    "# [ (i, j) for i in range(1, j + 1) for j in range(1, n + 1) ]\n",
    "# serait\n",
    "resultat = []\n",
    "for i in range(1, j + 1):\n",
    "    for j in range(1, n + 1):\n",
    "        resultat.append((i, j))"
   ]
  },
  {
   "cell_type": "markdown",
   "metadata": {},
   "source": [
    "Et dans cette version * dépliée* on voit bien qu'en effet on utilise `j` avant qu'elle ne soit définie."
   ]
  },
  {
   "cell_type": "markdown",
   "metadata": {},
   "source": [
    "### Conclusion"
   ]
  },
  {
   "cell_type": "markdown",
   "metadata": {},
   "source": [
    "La possibilité d'imbriquer des compréhensions avec plusieurs niveaux de `for` dans la même compréhension est un trait qui peut rendre service, car c'est une manière de simplifier la structure des entrées (on passe essentiellement d'une liste de profondeur 2 à une liste de profondeur 1).\n",
    "\n",
    "Mais il faut savoir ne pas en abuser, et rester conscient de la confusion qui peut en résulter, et en particulier être prudent et prendre le temps de bien se relire. N'oublions pas non plus ces deux phrases du Zen de Python : \"*Flat is better than nested*\" et surtout \"*Readability counts*\"."
   ]
  }
 ],
 "metadata": {
  "kernelspec": {
   "display_name": "Python 3",
   "language": "python",
   "name": "python3"
  },
  "language_info": {
   "codemirror_mode": {
    "name": "ipython",
    "version": 3
   },
   "file_extension": ".py",
   "mimetype": "text/x-python",
   "name": "python",
   "nbconvert_exporter": "python",
   "pygments_lexer": "ipython3",
   "version": "3.6.3"
  },
  "livereveal": {
   "auto_select": "code",
   "auto_select_fragment": true,
   "autolaunch": false,
   "backimage": "media/nologo.png",
   "height": "100%",
   "slideNumber": "c",
   "start_slideshow_at": "selected",
   "theme": "simple",
   "transition": "fade",
   "width": "100%"
  },
  "notebookname": "Rappels",
  "version": "3.0"
 },
 "nbformat": 4,
 "nbformat_minor": 2
}
