{
 "cells": [
  {
   "cell_type": "markdown",
   "metadata": {},
   "source": [
    "<style>div.title-slide {    width: 100%;    display: flex;    flex-direction: row;            /* default value; can be omitted */    flex-wrap: nowrap;              /* default value; can be omitted */    justify-content: space-between;}</style><div class=\"title-slide\">\n",
    "<span style=\"float:left;\">Licence CC BY-NC-ND</span>\n",
    "<span>Thierry Parmentelat &amp; Arnaud Legout</span>\n",
    "<span><img src=\"media/both-logos-small-alpha.png\" style=\"display:inline\" /></span>\n",
    "</div>"
   ]
  },
  {
   "cell_type": "markdown",
   "metadata": {},
   "source": [
    "# *Context managers* et exceptions"
   ]
  },
  {
   "cell_type": "markdown",
   "metadata": {},
   "source": [
    "## Complément - niveau intermédiaire"
   ]
  },
  {
   "cell_type": "markdown",
   "metadata": {},
   "source": [
    "On a vu jusqu'ici dans la vidéo comment écrire un context manager; on a vu notamment qu'il était bon pour la méthode `__exit__()` de retourner `False`, de façon à ce que l'exception soit propagée à l'instruction `with`:"
   ]
  },
  {
   "cell_type": "code",
   "execution_count": null,
   "metadata": {},
   "outputs": [],
   "source": [
    "import time\n",
    "\n",
    "class Timer1:\n",
    "    def __enter__(self):\n",
    "        print(\"Entering Timer1\")\n",
    "        self.start = time.time()\n",
    "        return self\n",
    "    \n",
    "    # en règle générale on se contente de propager l'exception \n",
    "    # à l'instruction with englobante\n",
    "    def __exit__(self, *args):\n",
    "        print(f\"Total duration {time.time()-self.start:2f}\")\n",
    "\n",
    "        # et pour cela il suffit que __exit__ retourne False\n",
    "        return False"
   ]
  },
  {
   "cell_type": "markdown",
   "metadata": {},
   "source": [
    "Ainsi si le corps de l'instruction lève une exception, celle-ci est propagée :"
   ]
  },
  {
   "cell_type": "code",
   "execution_count": null,
   "metadata": {},
   "outputs": [],
   "source": [
    "import time\n",
    "try:\n",
    "    with Timer1():\n",
    "        time.sleep(0.5)\n",
    "        1/0\n",
    "except Exception as exc:\n",
    "    # on va bien recevoir cette exception\n",
    "    print(f\"OOPS -> {type(exc)}\")"
   ]
  },
  {
   "cell_type": "markdown",
   "metadata": {},
   "source": [
    "À la toute première itération de la boucle, on fait une division par 0 qui lève l'exception `ZeroDivisionError`, qui passe bien à l'appelant.\n",
    "\n",
    "Il est important, lorsqu'on conçoit un context manager, de bien **propager** les exceptions qui ne sont pas liées au fonctionnement attendu du context manager. Par exemple un objet de type fichier va par exemple devoir attraper les exceptions liées à la fin du fichier, mais doit par contre laisser passer une exception comme `ZeroDivisionError`."
   ]
  },
  {
   "cell_type": "markdown",
   "metadata": {},
   "source": [
    "### Les paramètres de `__exit__`"
   ]
  },
  {
   "cell_type": "markdown",
   "metadata": {},
   "source": [
    "Si on a besoin de filtrer entre les exceptions - c'est-à-dire en laisser passer certaines et pas d'autres - il nous faut quelque chose de plus pour pouvoir faire le tri. \n",
    "Comme [vous pouvez le retrouver ici](https://docs.python.org/3/reference/datamodel.html#with-statement-context-managers), la méthode `__exit__` reçoit trois arguments :\n",
    "\n",
    "```python\n",
    "def __exit__(self, exc_type, exc_value, traceback):\n",
    "```\n",
    "\n",
    "* si l'on sort du bloc `with` sans qu'une exception soit levée, ces trois arguments valent `None`;\n",
    "* par contre si une exception est levée, ils permettent d'accéder respectivement au type, à la valeur de l'exception, et à l'état de la pile lorsque l'exception est levée."
   ]
  },
  {
   "cell_type": "markdown",
   "metadata": {},
   "source": [
    "Pour illustrer cela, écrivons une nouvelle version de `Timer` qui filtre, disons, l'exception `ZeroDivisionError` que je choisis au hasard, c'est uniquement pour illustrer le mécanisme."
   ]
  },
  {
   "cell_type": "code",
   "execution_count": null,
   "metadata": {},
   "outputs": [],
   "source": [
    "# une deuxième version de Timer\n",
    "# qui propage toutes les exceptions sauf 'OSError'\n",
    "\n",
    "class Timer2:\n",
    "    def __enter__(self):\n",
    "        print(\"Entering Timer1\")\n",
    "        self.start = time.time()\n",
    "        # rappel : le retour de __enter__ est ce qui est passé\n",
    "        # à la clause `as` du `with`\n",
    "        return self\n",
    "    \n",
    "    def __exit__(self, exc_type, exc_value, traceback):\n",
    "        if exc_type is None:\n",
    "            # pas d'exception levée dans le corps du 'with'\n",
    "            print(f\"Total duration {time.time()-self.start:2f}\")\n",
    "            # dans ce cas la valeur de retour n'est pas utilisée\n",
    "        else:\n",
    "            # il y a eu une exception de type 'exc_type'\n",
    "            if exc_type in (ZeroDivisionError,) :\n",
    "                print(\"on étouffe\")\n",
    "                # on peut l'étouffer en retournant True\n",
    "                return True\n",
    "            else:\n",
    "                print(f\"OOPS : on propage l'exception \"\n",
    "                      f\"{exc_type} - {exc_value}\")\n",
    "                # et pour ça il suffit... de ne rien faire du tout\n",
    "                # ce qui renverra None "
   ]
  },
  {
   "cell_type": "code",
   "execution_count": null,
   "metadata": {},
   "outputs": [],
   "source": [
    "# commençons avec un code sans souci\n",
    "try:\n",
    "    with Timer2():\n",
    "        time.sleep(0.5)\n",
    "except Exception as e:\n",
    "    # on va bien recevoir cette exception\n",
    "    print(f\"OOPS -> {type(e)}\")"
   ]
  },
  {
   "cell_type": "code",
   "execution_count": null,
   "metadata": {},
   "outputs": [],
   "source": [
    "# avec une exception filtrée\n",
    "try:\n",
    "    with Timer2():\n",
    "        time.sleep(0.5)\n",
    "        1/0\n",
    "except Exception as e:\n",
    "    # on va bien recevoir cette exception\n",
    "    print(f\"OOPS -> {type(e)}\")"
   ]
  },
  {
   "cell_type": "code",
   "execution_count": null,
   "metadata": {},
   "outputs": [],
   "source": [
    "# avec une autre exception \n",
    "try:\n",
    "    with Timer2():\n",
    "        time.sleep(0.5)\n",
    "        raise OSError()\n",
    "except Exception as e:\n",
    "    # on va bien recevoir cette exception\n",
    "    print(f\"OOPS -> {type(e)}\")"
   ]
  },
  {
   "cell_type": "markdown",
   "metadata": {},
   "source": [
    "### La bibliothèque `contextlib`"
   ]
  },
  {
   "cell_type": "markdown",
   "metadata": {},
   "source": [
    "Je vous signale aussi [la bibliothèque `contextlib`](https://docs.python.org/3/library/contextlib.html) qui offre quelques utilitaires pour se définir un contextmanager.\n",
    "\n",
    "Notamment, elle permet d'implémenter un context manager sous une forme compacte à l'aide d'une fonction génératrice - et du décorateur `contextmanager`:"
   ]
  },
  {
   "cell_type": "code",
   "execution_count": null,
   "metadata": {},
   "outputs": [],
   "source": [
    "from contextlib import contextmanager"
   ]
  },
  {
   "cell_type": "code",
   "execution_count": null,
   "metadata": {},
   "outputs": [],
   "source": [
    "# l'objet compact_timer est un context manager !\n",
    "@contextmanager\n",
    "def compact_timer(message):\n",
    "    start = time.time()\n",
    "    yield\n",
    "    print(f\"{message}: duration = {time.time() - start}\")"
   ]
  },
  {
   "cell_type": "code",
   "execution_count": null,
   "metadata": {},
   "outputs": [],
   "source": [
    "with compact_timer(\"Squares sum\"):\n",
    "    print(sum(x**2 for x in range(10**5)))"
   ]
  },
  {
   "cell_type": "markdown",
   "metadata": {},
   "source": [
    "Un peu comme on peut implémenter un itérateur à partir d'une fonction génératrice qui fait (n'importe quel nombre de) `yield`, ici on implémente un context manager compact sous la forme d'une fonction génératrice.\n",
    "\n",
    "Comme vous l'avez sans doute deviné sur la base de cet exemple, il faut que la fonction fasse **exactement un `yield`**: ce qui se passe avant le `yield` est du ressort de `__enter__`, et la fin est du ressort de `__exit__()`. \n",
    "\n",
    "Bien entendu on n'a pas la même puissance d'expression avec cette méthode par rapport à une vraie classe, mais cela permet de créer des context managers avec le minimum de code."
   ]
  }
 ],
 "metadata": {
  "kernelspec": {
   "display_name": "Python 3",
   "language": "python",
   "name": "python3"
  },
  "language_info": {
   "codemirror_mode": {
    "name": "ipython",
    "version": 3
   },
   "file_extension": ".py",
   "mimetype": "text/x-python",
   "name": "python",
   "nbconvert_exporter": "python",
   "pygments_lexer": "ipython3",
   "version": "3.7.0"
  },
  "livereveal": {
   "auto_select": "code",
   "auto_select_fragment": true,
   "autolaunch": false,
   "backimage": "media/nologo.png",
   "height": "100%",
   "start_slideshow_at": "selected",
   "theme": "simple",
   "transition": "fade",
   "width": "100%"
  },
  "notebookname": "*Context managers* et exceptions",
  "version": "3.0"
 },
 "nbformat": 4,
 "nbformat_minor": 2
}