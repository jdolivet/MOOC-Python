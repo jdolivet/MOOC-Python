{
 "cells": [
  {
   "cell_type": "markdown",
   "metadata": {},
   "source": [
    "<style>div.title-slide {    width: 100%;    display: flex;    flex-direction: row;            /* default value; can be omitted */    flex-wrap: nowrap;              /* default value; can be omitted */    justify-content: space-between;}</style><div class=\"title-slide\">\n",
    "<span style=\"float:left;\">Licence CC BY-NC-ND</span>\n",
    "<span>Thierry Parmentelat &amp; Arnaud Legout</span>\n",
    "<span><img src=\"media/both-logos-small-alpha.png\" style=\"display:inline\" /></span>\n",
    "</div>"
   ]
  },
  {
   "cell_type": "markdown",
   "metadata": {},
   "source": [
    "# `try` … `else` … `finally`"
   ]
  },
  {
   "cell_type": "markdown",
   "metadata": {},
   "source": [
    "## Complément - niveau intermédiaire"
   ]
  },
  {
   "cell_type": "markdown",
   "metadata": {},
   "source": [
    "L'instruction `try` est généralement assortie d'une une ou plusieurs clauses `except`, comme on l'a vu dans la vidéo.\n",
    "\n",
    "Sachez que l'on peut aussi utiliser - après toutes les clauses `except` :\n",
    "\n",
    "* une clause `else`, qui va être exécutée si aucune exception n'est attrapée ;\n",
    "* et/ou une clause `finally` qui sera alors exécutée quoi qu'il arrive."
   ]
  },
  {
   "cell_type": "markdown",
   "metadata": {},
   "source": [
    "Voyons cela sur des exemples."
   ]
  },
  {
   "cell_type": "markdown",
   "metadata": {},
   "source": [
    "### `finally`"
   ]
  },
  {
   "cell_type": "markdown",
   "metadata": {},
   "source": [
    "C'est sans doute `finally` qui est la plus utile de ces deux clauses, car elle permet de faire un nettoyage **dans tous les cas de figure** - de ce point de vue, cela rappelle un peu les *context managers*.\n",
    "\n",
    "Et par exemple, comme avec les *context managers*, une fonction peut faire des choses même après un `return`."
   ]
  },
  {
   "cell_type": "code",
   "execution_count": null,
   "metadata": {},
   "outputs": [],
   "source": [
    "# une fonction qui fait des choses après un return\n",
    "def return_with_finally(number):\n",
    "    try:\n",
    "        return 1/number\n",
    "    except ZeroDivisionError as e:\n",
    "        print(f\"OOPS, {type(e)}, {e}\")\n",
    "        return(\"zero-divide\")\n",
    "    finally:\n",
    "        print(\"on passe ici même si on a vu un return\")"
   ]
  },
  {
   "cell_type": "code",
   "execution_count": null,
   "metadata": {},
   "outputs": [],
   "source": [
    "# sans exception\n",
    "return_with_finally(1)"
   ]
  },
  {
   "cell_type": "code",
   "execution_count": null,
   "metadata": {},
   "outputs": [],
   "source": [
    "# avec exception\n",
    "return_with_finally(0)"
   ]
  },
  {
   "cell_type": "markdown",
   "metadata": {},
   "source": [
    "### `else`"
   ]
  },
  {
   "cell_type": "markdown",
   "metadata": {},
   "source": [
    "La logique ici est assez similaire, sauf que le code du `else` n'est exécuté que dans le cas où aucune exception n'est attrapée."
   ]
  },
  {
   "cell_type": "markdown",
   "metadata": {},
   "source": [
    "En première approximation, on pourrait penser que c'est équivalent de mettre du code dans la clause `else` ou à la fin de la clause `try`. En fait il y a une différence subtile :\n",
    "\n",
    "> *The use of the `else` clause is better than adding additional code to the `try` clause because it avoids accidentally catching an exception that wasn’t raised by the code being protected by the `try` … `except` statement.*\n",
    "\n",
    "Dit autrement, si le code dans la clause `else` lève une exception, celle-ci ne **sera pas attrapée** par le `try` courant, et sera donc propagée."
   ]
  },
  {
   "cell_type": "markdown",
   "metadata": {},
   "source": [
    "Voici un exemple rapide, en pratique on rencontre assez peu souvent une clause `else` dans un `try` :"
   ]
  },
  {
   "cell_type": "code",
   "execution_count": null,
   "metadata": {},
   "outputs": [],
   "source": [
    "# pour montrer la clause else dans un usage banal\n",
    "def function_with_else(number):\n",
    "    try:\n",
    "        x = 1/number\n",
    "    except ZeroDivisionError as e:\n",
    "        print(f\"OOPS, {type(e)}, {e}\")\n",
    "    else:\n",
    "        print(\"on passe ici seulement avec un nombre non nul\")\n",
    "    return 'something else'"
   ]
  },
  {
   "cell_type": "code",
   "execution_count": null,
   "metadata": {},
   "outputs": [],
   "source": [
    "# sans exception\n",
    "function_with_else(1)"
   ]
  },
  {
   "cell_type": "code",
   "execution_count": null,
   "metadata": {},
   "outputs": [],
   "source": [
    "# avec exception\n",
    "function_with_else(0)"
   ]
  },
  {
   "cell_type": "markdown",
   "metadata": {},
   "source": [
    "Remarquez que `else` ne présente pas cette particularité de \"traverser\" le `return`, que l'on a vue avec `finally` :"
   ]
  },
  {
   "cell_type": "code",
   "execution_count": null,
   "metadata": {},
   "outputs": [],
   "source": [
    "# la clause else ne traverse pas les return\n",
    "def return_with_else(number):\n",
    "    try:\n",
    "        return 1/number\n",
    "    except ZeroDivisionError as e:\n",
    "        print(f\"OOPS, {type(e)}, {e}\")\n",
    "        return(\"zero-divide\")\n",
    "    else:\n",
    "        print(\"on ne passe jamais ici à cause des return\")"
   ]
  },
  {
   "cell_type": "code",
   "execution_count": null,
   "metadata": {},
   "outputs": [],
   "source": [
    "# sans exception\n",
    "return_with_else(1)"
   ]
  },
  {
   "cell_type": "code",
   "execution_count": null,
   "metadata": {},
   "outputs": [],
   "source": [
    "# avec exception\n",
    "return_with_else(0)"
   ]
  },
  {
   "cell_type": "markdown",
   "metadata": {},
   "source": [
    "### Pour en savoir plus"
   ]
  },
  {
   "cell_type": "markdown",
   "metadata": {},
   "source": [
    "Voyez [le tutorial sur les exceptions](https://docs.python.org/3/tutorial/errors.html#handling-exceptions) dans la documentation officielle."
   ]
  }
 ],
 "metadata": {
  "kernelspec": {
   "display_name": "Python 3",
   "language": "python",
   "name": "python3"
  },
  "language_info": {
   "codemirror_mode": {
    "name": "ipython",
    "version": 3
   },
   "file_extension": ".py",
   "mimetype": "text/x-python",
   "name": "python",
   "nbconvert_exporter": "python",
   "pygments_lexer": "ipython3",
   "version": "3.6.4"
  },
  "livereveal": {
   "auto_select": "code",
   "auto_select_fragment": true,
   "autolaunch": false,
   "backimage": "media/nologo.png",
   "height": "100%",
   "start_slideshow_at": "selected",
   "theme": "simple",
   "transition": "fade",
   "width": "100%"
  },
  "notebookname": "try..else..finally",
  "version": "3.0"
 },
 "nbformat": 4,
 "nbformat_minor": 2
}