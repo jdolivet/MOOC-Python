{
 "cells": [
  {
   "cell_type": "markdown",
   "metadata": {},
   "source": [
    "<style>div.title-slide {    width: 100%;    display: flex;    flex-direction: row;            /* default value; can be omitted */    flex-wrap: nowrap;              /* default value; can be omitted */    justify-content: space-between;}</style><div class=\"title-slide\">\n",
    "<span style=\"float:left;\">Licence CC BY-NC-ND</span>\n",
    "<span>Thierry Parmentelat &amp; Arnaud Legout</span>\n",
    "<span><img src=\"media/both-logos-small-alpha.png\" style=\"display:inline\" /></span>\n",
    "</div>"
   ]
  },
  {
   "cell_type": "markdown",
   "metadata": {},
   "source": [
    "# Opérations *bit à bit* (*bitwise*)"
   ]
  },
  {
   "cell_type": "markdown",
   "metadata": {},
   "source": [
    "## Compléments - niveau avancé"
   ]
  },
  {
   "cell_type": "markdown",
   "metadata": {},
   "source": [
    "Les compléments ci-dessous expliquent des fonctions évoluées sur les entiers. Les débutants en programmation peuvent sans souci sauter cette partie en cas de difficultés."
   ]
  },
  {
   "cell_type": "markdown",
   "metadata": {},
   "source": [
    "### Opérations logiques : *ET* `&`, *OU* `|` et *OU* exclusif `^`"
   ]
  },
  {
   "cell_type": "markdown",
   "metadata": {},
   "source": [
    "Il est possible aussi de faire des opérations *bit à bit* sur les nombres entiers. Le plus simple est de penser à l'écriture du nombre en base 2.\n",
    "\n",
    "Considérons par exemple deux entiers constants dans cet exercice"
   ]
  },
  {
   "cell_type": "code",
   "execution_count": null,
   "metadata": {},
   "outputs": [],
   "source": [
    "x49 = 49\n",
    "y81 = 81"
   ]
  },
  {
   "cell_type": "markdown",
   "metadata": {},
   "source": [
    "Ce qui nous donne comme décomposition binaire :\n",
    "\n",
    "$\\begin{array}{rcccccc}\n",
    "x49 & = & 49 & = & 32 + 16 + 1 & \\rightarrow &(0,1,1,0,0,0,1) \\\\\n",
    "y81 & = & 81 & = & 64 + 16 + 1 & \\rightarrow &(1,0,1,0,0,0,1)\n",
    "\\end{array}$"
   ]
  },
  {
   "cell_type": "markdown",
   "metadata": {},
   "source": [
    "Pour comprendre comment passer de $32 + 16 + 1$ à $(0,1,1,0,0,0,1)$ il suffit d'observer que :\n",
    "\n",
    "$32 + 16 + 1 =\n",
    "\\textbf{0}*2^6 +\n",
    "\\textbf{1}*2^5 +\n",
    "\\textbf{1}*2^4 +\n",
    "\\textbf{0}*2^3 +\n",
    "\\textbf{0}*2^2 +\n",
    "\\textbf{0}*2^1 +\n",
    "\\textbf{1}*2^0$"
   ]
  },
  {
   "cell_type": "markdown",
   "metadata": {},
   "source": [
    "#### *ET* logique : opérateur `&`"
   ]
  },
  {
   "cell_type": "markdown",
   "metadata": {},
   "source": [
    "L'opération logique `&` va faire un *et* logique bit à bit entre les opérandes, ainsi"
   ]
  },
  {
   "cell_type": "code",
   "execution_count": null,
   "metadata": {},
   "outputs": [],
   "source": [
    "x49 & y81"
   ]
  },
  {
   "cell_type": "markdown",
   "metadata": {},
   "source": [
    "Et en effet :\n",
    "\n",
    "$\\begin{array}{rcl}\n",
    "x49          & \\rightarrow & (0,1,1,0,0,0,1) \\\\\n",
    "y81          & \\rightarrow & (1,0,1,0,0,0,1) \\\\\n",
    "x49\\ \\&\\ y81 & \\rightarrow & (0,0,1,0,0,0,1) \\rightarrow 16 + 1 \\rightarrow 17\n",
    "\\end{array}$"
   ]
  },
  {
   "cell_type": "markdown",
   "metadata": {},
   "source": [
    "#### *OU* logique : opérateur `|`"
   ]
  },
  {
   "cell_type": "markdown",
   "metadata": {},
   "source": [
    "De même, l'opérateur logique `|` fait simplement un *ou* logique, comme ceci :"
   ]
  },
  {
   "cell_type": "code",
   "execution_count": null,
   "metadata": {},
   "outputs": [],
   "source": [
    "x49 | y81"
   ]
  },
  {
   "cell_type": "markdown",
   "metadata": {},
   "source": [
    "On s'y retrouve parce que :\n",
    "\n",
    "$\\begin{array}{rcl}\n",
    "x49         & \\rightarrow & (0,1,1,0,0,0,1) \\\\\n",
    "y81         & \\rightarrow & (1,0,1,0,0,0,1) \\\\\n",
    "x49\\ |\\ y81 & \\rightarrow & (1,1,1,0,0,0,1) \\rightarrow 64 + 32 + 16 + 1 \\rightarrow 113\n",
    "\\end{array}$"
   ]
  },
  {
   "cell_type": "markdown",
   "metadata": {},
   "source": [
    "#### *OU* exclusif : opérateur `^`"
   ]
  },
  {
   "cell_type": "markdown",
   "metadata": {},
   "source": [
    "Enfin, on peut également faire la même opération à base de *ou* exclusif avec l'opérateur `^` :"
   ]
  },
  {
   "cell_type": "code",
   "execution_count": null,
   "metadata": {},
   "outputs": [],
   "source": [
    "x49 ^ y81"
   ]
  },
  {
   "cell_type": "markdown",
   "metadata": {},
   "source": [
    "Je vous laisse le soin de décortiquer le calcul à titre d'exercice (le *ou* exclusif de deux bits est vrai si et seulement si exactement une des deux entrées est vraie)."
   ]
  },
  {
   "cell_type": "markdown",
   "metadata": {},
   "source": [
    "### Décalages"
   ]
  },
  {
   "cell_type": "markdown",
   "metadata": {},
   "source": [
    "Un décalage **à gauche** de, par exemple, 4 positions, revient à décaler tout le champ de bits de 4 cases à gauche (les 4 nouveaux bits insérés sont toujours des 0). C'est donc équivalent à une **multiplication** par $2^4 = 16$ :"
   ]
  },
  {
   "cell_type": "code",
   "execution_count": null,
   "metadata": {},
   "outputs": [],
   "source": [
    "x49 << 4"
   ]
  },
  {
   "cell_type": "markdown",
   "metadata": {},
   "source": [
    "$\\begin{array}{rcl}\n",
    "x49        & \\rightarrow & (0,1,1,0,0,0,1) \\\\\n",
    "x49\\ <<\\ 4 & \\rightarrow & (0,1,1,0,0,0,1,0,0,0,0) \\rightarrow 512 + 256 + 16 \\rightarrow 784\n",
    "\\end{array}$\n"
   ]
  },
  {
   "cell_type": "markdown",
   "metadata": {},
   "source": [
    "De la même manière, le décalage à **droite** de $n$ revient à une **division** par $2^n$ (plus précisément, le quotient de la division) :"
   ]
  },
  {
   "cell_type": "code",
   "execution_count": null,
   "metadata": {},
   "outputs": [],
   "source": [
    "x49 >> 4"
   ]
  },
  {
   "cell_type": "markdown",
   "metadata": {},
   "source": [
    "$\\begin{array}{rcl}\n",
    "x49        & \\rightarrow &         (0,1,1,0,0,0,1) \\\\\n",
    "x49\\ >>\\ 4 & \\rightarrow & (0,0,0,0,0,1,1) \\rightarrow 2 + 1 \\rightarrow 3\n",
    "\\end{array}$"
   ]
  },
  {
   "cell_type": "markdown",
   "metadata": {},
   "source": [
    "### Une astuce"
   ]
  },
  {
   "cell_type": "markdown",
   "metadata": {},
   "source": [
    "On peut utiliser la fonction *built-in* `bin` pour calculer la représentation binaire d'un entier. Attention, la valeur de retour est une chaîne de caractères de type `str` :"
   ]
  },
  {
   "cell_type": "code",
   "execution_count": null,
   "metadata": {},
   "outputs": [],
   "source": [
    "bin(x49)"
   ]
  },
  {
   "cell_type": "markdown",
   "metadata": {},
   "source": [
    "Dans l'autre sens, on peut aussi entrer un entier directement en base 2 comme ceci :  "
   ]
  },
  {
   "cell_type": "code",
   "execution_count": null,
   "metadata": {},
   "outputs": [],
   "source": [
    "x49bis = 0b110001\n",
    "x49bis == x49"
   ]
  },
  {
   "cell_type": "markdown",
   "metadata": {},
   "source": [
    "Ici, comme on le voit, `x49bis` est bien un entier."
   ]
  },
  {
   "cell_type": "markdown",
   "metadata": {},
   "source": [
    "### Pour en savoir plus"
   ]
  },
  {
   "cell_type": "markdown",
   "metadata": {},
   "source": [
    "[Section de la documentation Python](https://docs.python.org/3/library/stdtypes.html#bitwise-operations-on-integer-types)."
   ]
  }
 ],
 "metadata": {
  "kernelspec": {
   "display_name": "Python 3",
   "language": "python",
   "name": "python3"
  },
  "language_info": {
   "codemirror_mode": {
    "name": "ipython",
    "version": 3
   },
   "file_extension": ".py",
   "mimetype": "text/x-python",
   "name": "python",
   "nbconvert_exporter": "python",
   "pygments_lexer": "ipython3",
   "version": "3.7.0"
  },
  "livereveal": {
   "auto_select": "code",
   "auto_select_fragment": true,
   "autolaunch": false,
   "backimage": "media/nologo.png",
   "height": "100%",
   "slideNumber": "c",
   "start_slideshow_at": "selected",
   "theme": "simple",
   "transition": "fade",
   "width": "100%"
  },
  "notebookname": "Opérations bitwise",
  "version": "3.0"
 },
 "nbformat": 4,
 "nbformat_minor": 1
}
