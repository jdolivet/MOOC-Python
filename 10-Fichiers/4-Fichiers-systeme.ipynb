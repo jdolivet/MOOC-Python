{
 "cells": [
  {
   "cell_type": "markdown",
   "metadata": {},
   "source": [
    "<style>div.title-slide {    width: 100%;    display: flex;    flex-direction: row;            /* default value; can be omitted */    flex-wrap: nowrap;              /* default value; can be omitted */    justify-content: space-between;}</style><div class=\"title-slide\">\n",
    "<span style=\"float:left;\">Licence CC BY-NC-ND</span>\n",
    "<span>Thierry Parmentelat &amp; Arnaud Legout</span>\n",
    "<span><img src=\"media/both-logos-small-alpha.png\" style=\"display:inline\" /></span>\n",
    "</div>"
   ]
  },
  {
   "cell_type": "markdown",
   "metadata": {},
   "source": [
    "# Fichiers systèmes"
   ]
  },
  {
   "cell_type": "markdown",
   "metadata": {},
   "source": [
    "## Complément - niveau avancé"
   ]
  },
  {
   "cell_type": "markdown",
   "metadata": {},
   "source": [
    "Dans ce complément, nous allons voir comment un programme Python interagit avec ce qu'il est convenu d'appeler le système d'entrées-sorties standard du système d'exploitation."
   ]
  },
  {
   "cell_type": "markdown",
   "metadata": {},
   "source": [
    "### Introduction"
   ]
  },
  {
   "cell_type": "markdown",
   "metadata": {},
   "source": [
    "Dans un ordinateur, le système d'exploitation (Windows, Linux, macOS, etc.) comprend un noyau (*kernel*) qui est un logiciel qui a l'exclusivité  pour interagir physiquement avec le matériel (processeur(s), mémoire, disque(s), périphériques, etc.) ; il offre aux programmes utilisateur (*userspace*) des abstractions pour interagir avec ce matériel.\n",
    "\n",
    "La notion de fichier, telle qu'on l'a vue dans la vidéo, correspond à une de ces abstractions ; elle repose principalement sur les quatre opérations élémentaires suivantes :\n",
    "\n",
    " * `open` ;\n",
    " * `close` ;\n",
    " * `read` ;\n",
    " * `write`."
   ]
  },
  {
   "cell_type": "markdown",
   "metadata": {},
   "source": [
    "Parmi les autres conventions d'interaction entre le système (pour être précis : le [*shell*](http://fr.wikipedia.org/wiki/Interface_système)) et une application, il y a les notions de :\n",
    "\n",
    " * entrée standard (*standard input*, en abrégé `stdin`) ;\n",
    " * sortie standard (*standard output*, en abrégé `stdout`) ;\n",
    " * erreur standard (*standard error*, en abrégé `stderr`).\n",
    "\n",
    "Ceci est principalement pertinent dans le contexte d'un terminal. L'idée c'est que l'on a envie de pouvoir [*rediriger* les entrées-sorties](http://en.wikipedia.org/wiki/Redirection_%28computing%29) d'un programme sans avoir à le modifier. De la sorte, on peut également *chaîner* des traitements [à l'aide de *pipes*](http://en.wikipedia.org/wiki/Redirection_%28computing%29#Piping), sans avoir besoin de sauver les résultats intermédiaires sur disque."
   ]
  },
  {
   "cell_type": "markdown",
   "metadata": {},
   "source": [
    "Ainsi par exemple lorsque l'on écrit :\n",
    "\n",
    "```bash\n",
    "$ monprogramme < fichier_entree > fichier_sortie\n",
    "```\n",
    "\n",
    "Les deux fichiers en question sont ouverts par le *shell*, et passés à `monprogramme` - que celui-ci soit écrit en C, en Python ou en Java - sous la forme des fichiers `stdin` et `stdout` respectivement, et donc **déjà ouverts**."
   ]
  },
  {
   "cell_type": "markdown",
   "metadata": {},
   "source": [
    "### Le module `sys`"
   ]
  },
  {
   "cell_type": "markdown",
   "metadata": {},
   "source": [
    "L'interpréteur Python vous expose ces trois fichiers sous la forme d'attributs du module `sys` :"
   ]
  },
  {
   "cell_type": "code",
   "execution_count": null,
   "metadata": {},
   "outputs": [],
   "source": [
    "import sys\n",
    "for channel in (sys.stdin, sys.stdout, sys.stderr):\n",
    "    print(channel)"
   ]
  },
  {
   "cell_type": "markdown",
   "metadata": {},
   "source": [
    "Dans le contexte du notebook vous pouvez constater que les deux flux de sortie sont implémentés comme des classes spécifiques à IPython. Si vous exécutez ce code localement dans votre ordinateur vous allez sans doute obtenir quelque chose comme :\n",
    "\n",
    "```python\n",
    "<_io.TextIOWrapper name='<stdin>' mode='r' encoding='UTF-8'>\n",
    "<_io.TextIOWrapper name='<stdout>' mode='w' encoding='UTF-8'>\n",
    "<_io.TextIOWrapper name='<stderr>' mode='w' encoding='UTF-8'>\n",
    "```"
   ]
  },
  {
   "cell_type": "markdown",
   "metadata": {},
   "source": [
    "On n'a pas extrêmement souvent besoin d'utiliser ces variables en règle générale, mais elles peuvent s'avérer utiles dans des contextes spécifiques.\n",
    "\n",
    "Par exemple, l'instruction `print` écrit dans `sys.stdout` (c'est-à-dire la sortie standard). Et comme `sys.stdout` est une variable (plus exactement `stdout` est un attribut dans le module référencé par la variable `sys`) et qu'elle référence un objet fichier, on peut lui faire référencer un autre objet fichier et ainsi rediriger depuis notre programme tous les sorties, qui sinon iraient sur le terminal, vers un fichier de notre choix :"
   ]
  },
  {
   "cell_type": "code",
   "execution_count": null,
   "metadata": {},
   "outputs": [],
   "source": [
    "# ici je fais exprès de ne pas utiliser un `with`\n",
    "# car très souvent les deux redirections apparaissent\n",
    "# dans des fonctions différentes\n",
    "import sys\n",
    "# on ouvre le fichier destination\n",
    "autre_stdout = open('ma_sortie.txt', 'w', encoding='utf-8')\n",
    "# on garde un lien vers le fichier sortie standard\n",
    "# pour le réinstaller plus tard si besoin.\n",
    "tmp = sys.stdout\n",
    "print('sur le terminal')\n",
    "\n",
    "# première redirection\n",
    "sys.stdout = autre_stdout\n",
    "print('dans le fichier')\n",
    "\n",
    "# on remet comme c'était au début\n",
    "sys.stdout = tmp\n",
    "# et alors pour être propre on n'oublie pas de fermer\n",
    "autre_stdout.close()\n",
    "print('de nouveau sur le terminal')"
   ]
  },
  {
   "cell_type": "code",
   "execution_count": null,
   "metadata": {},
   "outputs": [],
   "source": [
    "# et en effet, dans le fichier on a bien\n",
    "with open(\"ma_sortie.txt\", encoding='utf-8') as check:\n",
    "    print(check.read())"
   ]
  }
 ],
 "metadata": {
  "kernelspec": {
   "display_name": "Python 3",
   "language": "python",
   "name": "python3"
  },
  "language_info": {
   "codemirror_mode": {
    "name": "ipython",
    "version": 3
   },
   "file_extension": ".py",
   "mimetype": "text/x-python",
   "name": "python",
   "nbconvert_exporter": "python",
   "pygments_lexer": "ipython3",
   "version": "3.6.4"
  },
  "livereveal": {
   "auto_select": "code",
   "auto_select_fragment": true,
   "autolaunch": false,
   "backimage": "media/nologo.png",
   "height": "100%",
   "slideNumber": "c",
   "start_slideshow_at": "selected",
   "theme": "simple",
   "transition": "fade",
   "width": "100%"
  },
  "notebookname": "Fichiers systèmes",
  "version": "3.0"
 },
 "nbformat": 4,
 "nbformat_minor": 1
}