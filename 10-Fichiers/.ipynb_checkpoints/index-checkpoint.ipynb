{
 "cells": [
  {
   "cell_type": "markdown",
   "metadata": {},
   "source": [
    "# Les fichiers"
   ]
  },
  {
   "cell_type": "markdown",
   "metadata": {},
   "source": [
    "<a href=\"http://www.youtube.com/watch?feature=player_embedded&v=WU8wry_x6-A\n",
    "\" target=\"_blank\"><img src=\"http://img.youtube.com/vi/WU8wry_x6-A/0.jpg\" \n",
    "alt=\"Vidéo du cours\" width=\"240\" height=\"180\" border=\"10\" /></a>"
   ]
  },
  {
   "cell_type": "markdown",
   "metadata": {},
   "source": [
    "<a href=\"http://www.youtube.com/watch?feature=player_embedded&v=hN0R0X70d5w\n",
    "\" target=\"_blank\"><img src=\"http://img.youtube.com/vi/hN0R0X70d5w/0.jpg\" \n",
    "alt=\"Vidéo du cours\" width=\"240\" height=\"180\" border=\"10\" /></a>"
   ]
  },
  {
   "cell_type": "markdown",
   "metadata": {},
   "source": [
    "* ## [Utiliser Python comme une calculette](1-Fichiers.ipynb)\n",
    "* ## [Affectations & opérations (à la +=)](2-Utilitaires-sur-fichiers.ipynb)\n",
    "* ## [Notions sur la précision des calculs flottants](3-Format-json-et-autres.ipynb)\n",
    "* ## [Opérations bit à bit (bitwise)](4-Fichiers-systeme.ipynb)"
   ]
  }
 ],
 "metadata": {
  "kernelspec": {
   "display_name": "Python 3",
   "language": "python",
   "name": "python3"
  },
  "language_info": {
   "codemirror_mode": {
    "name": "ipython",
    "version": 3
   },
   "file_extension": ".py",
   "mimetype": "text/x-python",
   "name": "python",
   "nbconvert_exporter": "python",
   "pygments_lexer": "ipython3",
   "version": "3.6.6"
  }
 },
 "nbformat": 4,
 "nbformat_minor": 2
}
