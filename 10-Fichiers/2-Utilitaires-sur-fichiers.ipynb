{
 "cells": [
  {
   "cell_type": "markdown",
   "metadata": {},
   "source": [
    "<style>div.title-slide {    width: 100%;    display: flex;    flex-direction: row;            /* default value; can be omitted */    flex-wrap: nowrap;              /* default value; can be omitted */    justify-content: space-between;}</style><div class=\"title-slide\">\n",
    "<span style=\"float:left;\">Licence CC BY-NC-ND</span>\n",
    "<span>Thierry Parmentelat &amp; Arnaud Legout</span>\n",
    "<span><img src=\"media/both-logos-small-alpha.png\" style=\"display:inline\" /></span>\n",
    "</div>"
   ]
  },
  {
   "cell_type": "markdown",
   "metadata": {},
   "source": [
    "# Fichiers et utilitaires"
   ]
  },
  {
   "cell_type": "markdown",
   "metadata": {},
   "source": [
    "## Complément - niveau basique"
   ]
  },
  {
   "cell_type": "markdown",
   "metadata": {},
   "source": [
    "Outre les objets fichiers créés avec la fonction `open`, comme on l'a vu dans la vidéo, et qui servent à lire et écrire à un endroit précis, une application a besoin d'un minimum d'utilitaires pour **parcourir l'arborescence de répertoires et fichiers**, c'est notre propos dans ce complément."
   ]
  },
  {
   "cell_type": "markdown",
   "metadata": {},
   "source": [
    "### Le module `os.path` (obsolète)"
   ]
  },
  {
   "cell_type": "markdown",
   "metadata": {},
   "source": [
    "Avant la version python-3.4, la librairie standard offrait une conjonction d'outils pour ce type de fonctionnalités:\n",
    "\n",
    "* le module `os.path`, pour faire des calculs sur les les chemins et noms de fichiers [doc](https://docs.python.org/3/library/os.html),\n",
    "* le module `os` pour certaines fonctions complémentaires comme renommer ou détruire un fichier [doc](https://docs.python.org/3/library/os.path.html),\n",
    "* et enfin le module `glob` pour la recherche de fichiers, par exemple pour trouver tous les fichiers en `*.txt` [doc](https://docs.python.org/3/library/glob.html)."
   ]
  },
  {
   "cell_type": "markdown",
   "metadata": {},
   "source": [
    "Cet ensemble un peu disparate a été remplacé par une **librairie unique `pathlib`**, qui fournit toutes ces fonctionnalités sous un interface unique et moderne, que nous **recommandons** évidemment d'utiliser pour **du nouveau code**.\n",
    "\n",
    "Avant d'aborder `pathlib`, voici un très bref aperçu de ces trois anciens modules, pour le cas - assez probable - où vous les rencontreriez dans du code existant; tous les noms qui suivent correspondent à des **fonctions** - par opposition à `pathlib` qui, comme nous allons le voir, offre une interface orientée objet:"
   ]
  },
  {
   "cell_type": "markdown",
   "metadata": {},
   "source": [
    "* `os.path.join` ajoute '/' ou '\\' entre deux morceaux de chemin, selon l'OS\n",
    "* `os.path.basename` trouve le nom de fichier dans un chemin\n",
    "* `os.path.dirname` trouve le nom du directory dans un chemin\n",
    "* `os.path.abspath` calcule un chemin absolu, c'est-à-dire à partir de la racine du filesystem "
   ]
  },
  {
   "cell_type": "markdown",
   "metadata": {},
   "source": [
    "* `os.path.exists` pour savoir si un chemin existe ou pas (fichier ou répertoire)\n",
    "* `os.path.isfile` (et `isdir`) pour savoir si un chemin est un fichier  (et un répertoire)\n",
    "* `os.path.getsize` pour obtenir la taille du fichier \n",
    "* `os.path.getatime` et aussi `getmtime` et `getctime`  pour obtenir les dates de création/modification d'un fichier"
   ]
  },
  {
   "cell_type": "markdown",
   "metadata": {},
   "source": [
    "* `os.remove` (ou son ancien nom `os.unlink`), qui permet de supprimer un fichier\n",
    "* `os.rmdir` pour supprimer un répertoire (mais qui doit être vide)\n",
    "* `os.removedirs` pour supprimer tout un répertoire avec son contenu, récursivement si nécessaire\n",
    "* `os.rename` pour renommer un fichier"
   ]
  },
  {
   "cell_type": "markdown",
   "metadata": {},
   "source": [
    "* `glob.glob` comme dans par exemple `glob.glob(\"*.txt\")`"
   ]
  },
  {
   "cell_type": "markdown",
   "metadata": {},
   "source": [
    "### Le module `pathlib`"
   ]
  },
  {
   "cell_type": "markdown",
   "metadata": {},
   "source": [
    "C'est la méthode recommandée aujourd'hui pour travailler sur les fichiers et répertoires."
   ]
  },
  {
   "cell_type": "markdown",
   "metadata": {},
   "source": [
    "##### Orienté Objet"
   ]
  },
  {
   "cell_type": "markdown",
   "metadata": {},
   "source": [
    "Comme on l'a mentionné `pathlib` offre une interface orientée objet; mais qu'est-ce que ça veut dire au juste ? \n",
    "\n",
    "Ceci nous donne un prétexte pour une première application pratique des notions de module (que nous avons introduits en fin de semaine 2) et de classe (que nous allons voir en fin de semaine)."
   ]
  },
  {
   "cell_type": "markdown",
   "metadata": {},
   "source": [
    "De même que le langage nous propose les types *builtin* `int` et `str`, le module `pathlib` nous expose **un type** (on dira plutôt **une classe**) qui s'appelle `Path`, que nous allons importer comme ceci:"
   ]
  },
  {
   "cell_type": "code",
   "execution_count": null,
   "metadata": {
    "collapsed": true
   },
   "outputs": [],
   "source": [
    "from pathlib import Path"
   ]
  },
  {
   "cell_type": "markdown",
   "metadata": {},
   "source": [
    "Nous allons faire tourner un petit scénario qui va créer un fichier:"
   ]
  },
  {
   "cell_type": "code",
   "execution_count": null,
   "metadata": {
    "collapsed": true
   },
   "outputs": [],
   "source": [
    "# le nom de notre fichier jouet \n",
    "nom = 'fichier-temoin'"
   ]
  },
  {
   "cell_type": "markdown",
   "metadata": {},
   "source": [
    "Pour commencer, nous allons vérifier si le fichier en question existe. \n",
    "\n",
    "Pour ça nous créons un **objet** qui est une **instance** de la classe `Path`, comme ceci:"
   ]
  },
  {
   "cell_type": "code",
   "execution_count": null,
   "metadata": {
    "collapsed": true
   },
   "outputs": [],
   "source": [
    "# on crée un objet de la classe Path, associé au nom de fichier\n",
    "path = Path(nom)"
   ]
  },
  {
   "cell_type": "markdown",
   "metadata": {},
   "source": [
    "Vous remarquez que c'est cohérent avec par exemple:"
   ]
  },
  {
   "cell_type": "code",
   "execution_count": null,
   "metadata": {
    "cell_style": "center",
    "collapsed": true
   },
   "outputs": [],
   "source": [
    "# transformer un float en int\n",
    "i = int(3.5)"
   ]
  },
  {
   "cell_type": "markdown",
   "metadata": {
    "cell_style": "center"
   },
   "source": [
    "en ce sens que le type (`int` ou `Path`) se comporte comme une usine pour créer des objets du type en question."
   ]
  },
  {
   "cell_type": "markdown",
   "metadata": {},
   "source": [
    "Quoi qu'il en soit, cet objet `path` offre un certain nombre de méthodes; pour les voir puisque nous sommes dans un notebook, je vous invite dans la cellule suivante à utiliser l'aide en ligne en appuyant sur la touche 'Tabulation' après avoir ajouté un `.` comme si vous alliez envoyer une méthode à cet objet\n",
    "\n",
    "```python\n",
    "path.[taper la touche TAB]\n",
    "```\n",
    "\n",
    "et le notebook vous montrera la liste des méthodes disponibles."
   ]
  },
  {
   "cell_type": "code",
   "execution_count": null,
   "metadata": {},
   "outputs": [],
   "source": [
    "# ajouter un . et utilisez la touche <Tabulation>\n",
    "path"
   ]
  },
  {
   "cell_type": "markdown",
   "metadata": {},
   "source": [
    "Ainsi par exemple on peut savoir si le fichier existe avec la méthode `exists()`"
   ]
  },
  {
   "cell_type": "code",
   "execution_count": null,
   "metadata": {},
   "outputs": [],
   "source": [
    "# au départ le fichier n'existe pas\n",
    "path.exists()"
   ]
  },
  {
   "cell_type": "code",
   "execution_count": null,
   "metadata": {},
   "outputs": [],
   "source": [
    "# si j'écris dedans je le crée\n",
    "with open(nom, 'w', encoding='utf-8') as output:\n",
    "    output.write('0123456789\\n')"
   ]
  },
  {
   "cell_type": "code",
   "execution_count": null,
   "metadata": {},
   "outputs": [],
   "source": [
    "# et maintenant il existe\n",
    "path.exists()"
   ]
  },
  {
   "cell_type": "markdown",
   "metadata": {},
   "source": [
    "##### Métadonnées"
   ]
  },
  {
   "cell_type": "markdown",
   "metadata": {},
   "source": [
    "Voici quelques exemples qui montrent comment accéder aux métadonnées de ce fichier:"
   ]
  },
  {
   "cell_type": "code",
   "execution_count": null,
   "metadata": {},
   "outputs": [],
   "source": [
    "# cette méthode retourne (en un seul appel système) les métadonnées agrégées\n",
    "path.stat()"
   ]
  },
  {
   "cell_type": "markdown",
   "metadata": {},
   "source": [
    "Pour ceux que ça intéresse, l'objet retourné par cette méthode `stat` est un `namedtuple`, que l'on va voir très bientôt.\n",
    "\n",
    "On accède aux différentes informations comme ceci:"
   ]
  },
  {
   "cell_type": "code",
   "execution_count": null,
   "metadata": {},
   "outputs": [],
   "source": [
    "# la taille du fichier en octets est de 11 \n",
    "# car il faut compter un caractère \"newline\" en fin de ligne \n",
    "path.stat().st_size"
   ]
  },
  {
   "cell_type": "code",
   "execution_count": null,
   "metadata": {},
   "outputs": [],
   "source": [
    "# la date de dernière modification, sous forme d'un nombre\n",
    "# c'est le nombre de secondes depuis le 1er Janvier 1970\n",
    "mtime = path.stat().st_mtime\n",
    "mtime"
   ]
  },
  {
   "cell_type": "code",
   "execution_count": null,
   "metadata": {},
   "outputs": [],
   "source": [
    "# que je peux rendre lisible comme ceci\n",
    "# en anticipant sur le module datetime\n",
    "from datetime import datetime\n",
    "mtime_datetime = datetime.fromtimestamp(mtime)\n",
    "mtime_datetime"
   ]
  },
  {
   "cell_type": "code",
   "execution_count": null,
   "metadata": {},
   "outputs": [],
   "source": [
    "# ou encore, si je formatte pour n'obtenir que\n",
    "# l'heure et la minute\n",
    "f\"{mtime_datetime:%H:%M}\""
   ]
  },
  {
   "cell_type": "markdown",
   "metadata": {},
   "source": [
    "##### Détruire un fichier"
   ]
  },
  {
   "cell_type": "code",
   "execution_count": null,
   "metadata": {
    "collapsed": true
   },
   "outputs": [],
   "source": [
    "# je peux maintenant détruire le fichier\n",
    "path.unlink()"
   ]
  },
  {
   "cell_type": "code",
   "execution_count": null,
   "metadata": {},
   "outputs": [],
   "source": [
    "# ou encore mieux, si je veux détruire \n",
    "# seulement dans le cas où il existe je peux aussi faire\n",
    "try: \n",
    "    path.unlink()\n",
    "except FileNotFoundError:\n",
    "    print(\"no need to remove\")"
   ]
  },
  {
   "cell_type": "code",
   "execution_count": null,
   "metadata": {},
   "outputs": [],
   "source": [
    "# et maintenant il n'existe plus\n",
    "path.exists()"
   ]
  },
  {
   "cell_type": "code",
   "execution_count": null,
   "metadata": {},
   "outputs": [],
   "source": [
    "# je peux aussi retrouver le nom du fichier comme ceci\n",
    "# attention ce n'est pas une méthode mais un attribut \n",
    "# c'est pourquoi il n'y a pas de parenthèses\n",
    "path.name"
   ]
  },
  {
   "cell_type": "markdown",
   "metadata": {},
   "source": [
    "##### Recherche de fichiers"
   ]
  },
  {
   "cell_type": "markdown",
   "metadata": {},
   "source": [
    "Maintenant je voudrais connaître la liste des fichiers de nom `*.json` dans le directory `data`. \n",
    "\n",
    "La méthode la plus naturelle consiste à créer une instance de `Path` associée au directory lui-même:"
   ]
  },
  {
   "cell_type": "code",
   "execution_count": null,
   "metadata": {
    "collapsed": true
   },
   "outputs": [],
   "source": [
    "dirpath = Path('./data/')"
   ]
  },
  {
   "cell_type": "markdown",
   "metadata": {},
   "source": [
    "Sur cet objet la méthode `glob` nous retourne un itérable qui contient ce qu'on veut:"
   ]
  },
  {
   "cell_type": "code",
   "execution_count": null,
   "metadata": {
    "collapsed": true
   },
   "outputs": [],
   "source": [
    "# tous les fichiers *.json dans le répertoire data/\n",
    "for json in dirpath.glob(\"*.json\"):\n",
    "    print(json)"
   ]
  },
  {
   "cell_type": "markdown",
   "metadata": {},
   "source": [
    "##### Documentation complète"
   ]
  },
  {
   "cell_type": "markdown",
   "metadata": {},
   "source": [
    "Voyez [la documentation complète ici](https://docs.python.org/3/library/pathlib.html)"
   ]
  },
  {
   "cell_type": "markdown",
   "metadata": {},
   "source": [
    "## Complément - niveau avancé"
   ]
  },
  {
   "cell_type": "markdown",
   "metadata": {},
   "source": [
    "Pour ceux qui sont déjà familiers avec les classes, j'en profite pour vous faire remarquer le type de notre objet path"
   ]
  },
  {
   "cell_type": "code",
   "execution_count": null,
   "metadata": {},
   "outputs": [],
   "source": [
    "type(path)"
   ]
  },
  {
   "cell_type": "markdown",
   "metadata": {},
   "source": [
    "qui n'est pas `Path`, mais en fait une sous-classe de `Path` qui est - sur la plateforme du MOOC au moins, qui fonctionne sous linux - un objet de type `PosixPath`, qui est une sous-classe de `Path`, comme vous pouvez le voir:"
   ]
  },
  {
   "cell_type": "code",
   "execution_count": null,
   "metadata": {},
   "outputs": [],
   "source": [
    "from pathlib import PosixPath\n",
    "issubclass(PosixPath, Path)"
   ]
  },
  {
   "cell_type": "markdown",
   "metadata": {},
   "source": [
    "Ce qui fait que mécaniquement, path est bien une instance de `Path`"
   ]
  },
  {
   "cell_type": "code",
   "execution_count": null,
   "metadata": {},
   "outputs": [],
   "source": [
    "isinstance(path, Path)"
   ]
  },
  {
   "cell_type": "markdown",
   "metadata": {},
   "source": [
    "ce qui est heureux puisqu'on avait utilisé `Path()` pour construire l'objet `path` au départ :)"
   ]
  }
 ],
 "metadata": {
  "kernelspec": {
   "display_name": "Python 3",
   "language": "python",
   "name": "python3"
  },
  "language_info": {
   "codemirror_mode": {
    "name": "ipython",
    "version": 3
   },
   "file_extension": ".py",
   "mimetype": "text/x-python",
   "name": "python",
   "nbconvert_exporter": "python",
   "pygments_lexer": "ipython3",
   "version": "3.7.0"
  },
  "livereveal": {
   "auto_select": "code",
   "auto_select_fragment": true,
   "autolaunch": false,
   "backimage": "media/nologo.png",
   "height": "100%",
   "slideNumber": "c",
   "start_slideshow_at": "selected",
   "theme": "simple",
   "transition": "fade",
   "width": "100%"
  },
  "notebookname": "Fichiers et utilitaires",
  "version": "3.0"
 },
 "nbformat": 4,
 "nbformat_minor": 1
}
