{
 "cells": [
  {
   "cell_type": "markdown",
   "metadata": {},
   "source": [
    "# Les listes"
   ]
  },
  {
   "cell_type": "markdown",
   "metadata": {},
   "source": [
    "<a href=\"http://www.youtube.com/watch?feature=player_embedded&v=aHycOtc8G9k\n",
    "\" target=\"_blank\"><img src=\"http://img.youtube.com/vi/aHycOtc8G9k/0.jpg\" \n",
    "alt=\"Vidéo du cours\" width=\"560\" height=\"315\" border=\"10\" /></a>"
   ]
  },
  {
   "cell_type": "markdown",
   "metadata": {},
   "source": [
    "* ## [Méthodes spécifiques aux listes](1-Listes.ipynb)\n",
    "* ## [Objet mutables et objets immuables](2-Listes-mutables.ipynb)\n",
    "* ## [Tris des listes](3-Tris-de-liste-1.ipynb)"
   ]
  }
 ],
 "metadata": {
  "kernelspec": {
   "display_name": "Python 3",
   "language": "python",
   "name": "python3"
  },
  "language_info": {
   "codemirror_mode": {
    "name": "ipython",
    "version": 3
   },
   "file_extension": ".py",
   "mimetype": "text/x-python",
   "name": "python",
   "nbconvert_exporter": "python",
   "pygments_lexer": "ipython3",
   "version": "3.6.6"
  }
 },
 "nbformat": 4,
 "nbformat_minor": 2
}
