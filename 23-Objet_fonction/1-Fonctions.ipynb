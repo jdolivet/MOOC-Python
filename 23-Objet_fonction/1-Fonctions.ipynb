{
 "cells": [
  {
   "cell_type": "markdown",
   "metadata": {},
   "source": [
    "<style>div.title-slide {    width: 100%;    display: flex;    flex-direction: row;            /* default value; can be omitted */    flex-wrap: nowrap;              /* default value; can be omitted */    justify-content: space-between;}</style><div class=\"title-slide\">\n",
    "<span style=\"float:left;\">Licence CC BY-NC-ND</span>\n",
    "<span>Thierry Parmentelat &amp; Arnaud Legout</span>\n",
    "<span><img src=\"media/both-logos-small-alpha.png\" style=\"display:inline\" /></span>\n",
    "</div>"
   ]
  },
  {
   "cell_type": "markdown",
   "metadata": {},
   "source": [
    "# Programmation fonctionnelle"
   ]
  },
  {
   "cell_type": "markdown",
   "metadata": {},
   "source": [
    "## Complément - niveau basique"
   ]
  },
  {
   "cell_type": "markdown",
   "metadata": {},
   "source": [
    "### Pour résumer"
   ]
  },
  {
   "cell_type": "markdown",
   "metadata": {},
   "source": [
    "La notion de programmation fonctionnelle consiste essentiellement à pouvoir manipuler les fonctions comme des objets à part entière, et à les passer en argument à d'autres fonctions, comme cela est illustré dans la vidéo."
   ]
  },
  {
   "cell_type": "markdown",
   "metadata": {},
   "source": [
    "On peut créer une fonction par l'intermédiaire de :\n",
    "\n",
    " * l'*expression* `lambda:`, on obtient alors une fonction *anonyme* ;\n",
    " * l'*instruction* `def` et dans ce cas on peut accéder à l'objet fonction par son nom.\n",
    "\n",
    "Pour des raisons de syntaxe surtout, on a davantage de puissance avec `def`."
   ]
  },
  {
   "cell_type": "markdown",
   "metadata": {},
   "source": [
    "On peut calculer la liste des résultats d'une fonction sur une liste (plus généralement un itérable) d'entrées par :\n",
    "\n",
    " * `map`, éventuellement combiné à `filter` ;\n",
    " * une compréhension de liste, éventuellement assortie d'un `if`.\n",
    "\n",
    "Nous allons revoir les compréhensions dans la prochaine vidéo."
   ]
  },
  {
   "cell_type": "markdown",
   "metadata": {},
   "source": [
    "## Complément - niveau intermédiaire"
   ]
  },
  {
   "cell_type": "markdown",
   "metadata": {},
   "source": [
    "Pour les curieux qui ont entendu le terme de *map - reduce* , voici la logique derrière l'opération `reduce`, qui est également disponible en Python au travers du module `functools`."
   ]
  },
  {
   "cell_type": "markdown",
   "metadata": {},
   "source": [
    "### `reduce`"
   ]
  },
  {
   "cell_type": "markdown",
   "metadata": {},
   "source": [
    "La fonction `reduce` permet d'appliquer une opération associative à une liste d'entrées. Pour faire simple, étant donné un opérateur binaire $\\otimes$ on veut pouvoir calculer\n",
    "\n",
    " $x_1 \\otimes x_2 ... \\otimes x_n$\n",
    "\n",
    "De manière un peu moins abstraite, on suppose qu'on dispose d'une **fonction binaire** `f` qui implémente l'opérateur $\\otimes$, et alors \n",
    "\n",
    "   `reduce` $( f, [x_1, .. x_n] ) = f ( ... f(f(x_1,x_2), x_3), .. , x_n)$"
   ]
  },
  {
   "cell_type": "markdown",
   "metadata": {},
   "source": [
    "En fait `reduce` accepte un troisième argument - qu'il faut comprendre comme l'élément neutre de l'opérateur/fonction en question - et qui est retourné lorsque la liste en entrée est vide."
   ]
  },
  {
   "cell_type": "markdown",
   "metadata": {},
   "source": [
    "Par exemple voici - encore - une autre implémentation possible de la fonction `factoriel`.\n",
    "\n",
    "On utilise ici [le module `operator`](https://docs.python.org/3/library/operator.html), qui fournit sous forme de fonctions la plupart des opérateurs du langage, et notamment, dans notre cas, `operator.mul` ; cette fonction retourne tout simplement le produit de ses deux arguments."
   ]
  },
  {
   "cell_type": "code",
   "execution_count": null,
   "metadata": {},
   "outputs": [],
   "source": [
    "# la fonction reduce dans Python 3 n'est plus une built-in comme en Python 2\n",
    "# elle fait partie du module functools\n",
    "from functools import reduce\n",
    "\n",
    "# la multiplication, mais sous forme de fonction et non d'opérateur\n",
    "from operator import mul\n",
    "\n",
    "def factoriel(n):\n",
    "    return reduce(mul, range(1, n+1), 1)\n",
    "\n",
    "# ceci fonctionne aussi pour factoriel (0)\n",
    "for i in range(5):\n",
    "    print(f\"{i} -> {factoriel(i)}\")"
   ]
  },
  {
   "cell_type": "markdown",
   "metadata": {},
   "source": [
    "##### Cas fréquents de `reduce`"
   ]
  },
  {
   "cell_type": "markdown",
   "metadata": {},
   "source": [
    "Par commodité, Python fournit des fonctions built-in qui correspondent en fait à des `reduce` fréquents, comme la somme, et les opérations `min` et `max` :"
   ]
  },
  {
   "cell_type": "code",
   "execution_count": null,
   "metadata": {},
   "outputs": [],
   "source": [
    "entrees = [8, 5, 12, 4, 45, 7]\n",
    "\n",
    "print('sum', sum(entrees))\n",
    "print('min', min(entrees))\n",
    "print('max', max(entrees))"
   ]
  }
 ],
 "metadata": {
  "kernelspec": {
   "display_name": "Python 3",
   "language": "python",
   "name": "python3"
  },
  "language_info": {
   "codemirror_mode": {
    "name": "ipython",
    "version": 3
   },
   "file_extension": ".py",
   "mimetype": "text/x-python",
   "name": "python",
   "nbconvert_exporter": "python",
   "pygments_lexer": "ipython3",
   "version": "3.7.0"
  },
  "livereveal": {
   "auto_select": "code",
   "auto_select_fragment": true,
   "autolaunch": false,
   "backimage": "media/nologo.png",
   "height": "100%",
   "slideNumber": "c",
   "start_slideshow_at": "selected",
   "theme": "simple",
   "transition": "fade",
   "width": "100%"
  },
  "notebookname": "Prog. fonctionnelle",
  "version": "3.0"
 },
 "nbformat": 4,
 "nbformat_minor": 1
}
