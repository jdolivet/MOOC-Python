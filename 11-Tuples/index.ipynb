{
 "cells": [
  {
   "cell_type": "markdown",
   "metadata": {},
   "source": [
    "# Les tuples"
   ]
  },
  {
   "cell_type": "markdown",
   "metadata": {},
   "source": [
    "<a href=\"http://www.youtube.com/watch?feature=player_embedded&v=ayDFICA3kxs\n",
    "\" target=\"_blank\"><img src=\"http://img.youtube.com/vi/ayDFICA3kxs/0.jpg\" \n",
    "alt=\"Vidéo du cours\" width=\"560\" height=\"315\" border=\"10\" /></a>"
   ]
  },
  {
   "cell_type": "markdown",
   "metadata": {},
   "source": [
    "* ## [La construction de tuples](1-Tuple-et-virgule.ipynb)\n",
    "* ## [Séquence unpacking](2-Sequence-unpacking.ipynb)\n",
    "* ## [Plusieurs variables dans une boucle for](3-For-sur-plusieurs-variables.ipynb)"
   ]
  }
 ],
 "metadata": {
  "kernelspec": {
   "display_name": "Python 3",
   "language": "python",
   "name": "python3"
  },
  "language_info": {
   "codemirror_mode": {
    "name": "ipython",
    "version": 3
   },
   "file_extension": ".py",
   "mimetype": "text/x-python",
   "name": "python",
   "nbconvert_exporter": "python",
   "pygments_lexer": "ipython3",
   "version": "3.6.6"
  }
 },
 "nbformat": 4,
 "nbformat_minor": 2
}
