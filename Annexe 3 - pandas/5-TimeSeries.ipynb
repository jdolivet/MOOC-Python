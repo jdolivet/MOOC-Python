{
 "cells": [
  {
   "cell_type": "markdown",
   "metadata": {},
   "source": [
    "<style>div.title-slide {    width: 100%;    display: flex;    flex-direction: row;            /* default value; can be omitted */    flex-wrap: nowrap;              /* default value; can be omitted */    justify-content: space-between;}</style><div class=\"title-slide\">\n",
    "<span style=\"float:left;\">Licence CC BY-NC-ND</span>\n",
    "<span>Thierry Parmentelat &amp; Arnaud Legout</span>\n",
    "<span><img src=\"media/both-logos-small-alpha.png\" style=\"display:inline\" /></span>\n",
    "</div>"
   ]
  },
  {
   "cell_type": "markdown",
   "metadata": {},
   "source": [
    "\n",
    "# Séries temporelles en `pandas`"
   ]
  },
  {
   "cell_type": "markdown",
   "metadata": {},
   "source": [
    "## Complément - niveau intermédiaire"
   ]
  },
  {
   "cell_type": "markdown",
   "metadata": {},
   "source": [
    "### Parsing des dates et gestion des erreurs"
   ]
  },
  {
   "cell_type": "markdown",
   "metadata": {},
   "source": [
    "Lorsqu'il y a des erreurs de parsing des dates, pandas offre la possibilité de lancer une exception ou de produire un objet `NaT` pour *Not a Number* qui se manipule ensuite comme un `NaN`."
   ]
  },
  {
   "cell_type": "code",
   "execution_count": null,
   "metadata": {},
   "outputs": [],
   "source": [
    "import pandas as pd\n",
    "date = '100/06/2018' # cette date ne peut pas être parsée\n",
    "\n",
    "try:\n",
    "    pd.to_datetime(date) # comportement pas défaut qui lance une exception\n",
    "except ValueError as e:\n",
    "    print(e)"
   ]
  },
  {
   "cell_type": "code",
   "execution_count": null,
   "metadata": {},
   "outputs": [],
   "source": [
    "# retourne l'input en cas d'erreur\n",
    "pd.to_datetime(date, errors='ignore')"
   ]
  },
  {
   "cell_type": "code",
   "execution_count": null,
   "metadata": {},
   "outputs": [],
   "source": [
    "# retourne NaT en cas d'erreur\n",
    "pd.to_datetime(date, errors='coerce')"
   ]
  },
  {
   "cell_type": "code",
   "execution_count": null,
   "metadata": {},
   "outputs": [],
   "source": [
    "# la dernière date n'est pas valide\n",
    "d = pd.to_datetime(['jun 2018', '10/12/1980',\n",
    "                    '25 january 2000', '100 june 1900'], \n",
    "                   errors='coerce')\n",
    "print(d)"
   ]
  },
  {
   "cell_type": "code",
   "execution_count": null,
   "metadata": {},
   "outputs": [],
   "source": [
    "# on peut utiliser les méthodes pour les NaN directement sur un NaT\n",
    "d.fillna(pd.to_datetime('10 june 1980'))"
   ]
  },
  {
   "cell_type": "markdown",
   "metadata": {},
   "source": [
    "### Pour aller plus loin"
   ]
  },
  {
   "cell_type": "markdown",
   "metadata": {},
   "source": [
    "Vous trouverez de nombreux exemples [dans la documentation officielle de pandas)[https://pandas.pydata.org/pandas-docs/stable/timeseries.html]"
   ]
  },
  {
   "cell_type": "markdown",
   "metadata": {},
   "source": [
    "## Conclusion"
   ]
  },
  {
   "cell_type": "markdown",
   "metadata": {},
   "source": [
    "Ce notebook clôt notre survol de `numpy` et `pandas`. C'est un sujet vaste que nous avons déjà largement dégrossi. Pour aller plus loin vous avez évidemment la documentation officielle de `numpy` et `pandas` :\n",
    "\n",
    "* [reference numpy](https://docs.scipy.org/doc/numpy-1.13.0/reference/)\n",
    "* [reference pandas](http://pandas.pydata.org/pandas-docs/stable/index.html)"
   ]
  },
  {
   "cell_type": "markdown",
   "metadata": {},
   "source": [
    "Mais vous avez aussi l'excellent livre de Jake VanderPlas \"Python Data Science Handbook\" qui est entièrement disponible sous forme de notebooks en ligne :\n",
    "\n",
    "https://github.com/jakevdp/PythonDataScienceHandbook\n",
    "\n",
    "Il s'agit d'un très beau travail (c'est rare) utilisant les dernières versions de Python, `pandas` and `numpy` (c'est encore plus rare), fait par un physicien qui fait de la data science et qui a contribué au développement de nombreux modules de data science en Python.\n",
    "\n",
    "Je vous conseille par ailleurs, pour ceux qui sont à l'aise en anglais, [une série de 10 vidéos sur YouTube](https://www.youtube.com/watch?v=_ZEWDGpM-vM) publiées par le même Jake VanderPlas, où il étudie un jeu de données du début (chargement des données) à la fin (classification)."
   ]
  },
  {
   "cell_type": "markdown",
   "metadata": {},
   "source": [
    "Pour finir, si vous voulez faire de la data science, il y a un livre incontournable : \"An Introduction de Statistical Learning\" de G. James, D. Witten, T. Hastie, R. Tibshirani. Ce livre utilise R, mais vous pouvez facilement l'appliquer en utilisant `pandas`.\n",
    "\n",
    "Les auteurs mettent à disposition gratuitement le PDF du livre ici :\n",
    "\n",
    "http://www-bcf.usc.edu/~gareth/ISL/"
   ]
  },
  {
   "cell_type": "markdown",
   "metadata": {},
   "source": [
    "N'oubliez pas, si ces ressources vous sont utiles, d'acheter ces livres pour supporter ces auteurs. Les ressources de grande qualité sont rares, elles demandent un travail énorme à produire, elles doivent être encouragées et recompensées."
   ]
  }
 ],
 "metadata": {
  "kernelspec": {
   "display_name": "Python 3",
   "language": "python",
   "name": "python3"
  },
  "language_info": {
   "codemirror_mode": {
    "name": "ipython",
    "version": 3
   },
   "file_extension": ".py",
   "mimetype": "text/x-python",
   "name": "python",
   "nbconvert_exporter": "python",
   "pygments_lexer": "ipython3",
   "version": "3.7.0"
  },
  "livereveal": {
   "auto_select": "code",
   "auto_select_fragment": true,
   "autolaunch": false,
   "backimage": "media/nologo.png",
   "height": "100%",
   "start_slideshow_at": "selected",
   "theme": "simple",
   "transition": "fade",
   "width": "100%"
  },
  "notebookname": "NO HEADING 1 found",
  "version": "3.0"
 },
 "nbformat": 4,
 "nbformat_minor": 2
}