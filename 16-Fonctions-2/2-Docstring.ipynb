{
 "cells": [
  {
   "cell_type": "markdown",
   "metadata": {},
   "source": [
    "<style>div.title-slide {    width: 100%;    display: flex;    flex-direction: row;            /* default value; can be omitted */    flex-wrap: nowrap;              /* default value; can be omitted */    justify-content: space-between;}</style><div class=\"title-slide\">\n",
    "<span style=\"float:left;\">Licence CC BY-NC-ND</span>\n",
    "<span>Thierry Parmentelat &amp; Arnaud Legout</span>\n",
    "<span><img src=\"media/both-logos-small-alpha.png\" style=\"display:inline\" /></span>\n",
    "</div>"
   ]
  },
  {
   "cell_type": "markdown",
   "metadata": {},
   "source": [
    "# Rappels sur *docstring*"
   ]
  },
  {
   "cell_type": "markdown",
   "metadata": {},
   "source": [
    "## Complément - niveau basique"
   ]
  },
  {
   "cell_type": "markdown",
   "metadata": {},
   "source": [
    "### Comment documenter une fonction"
   ]
  },
  {
   "cell_type": "markdown",
   "metadata": {},
   "source": [
    "Pour rappel, il est recommandé de toujours documenter les fonctions en ajoutant une chaîne comme première instruction. "
   ]
  },
  {
   "cell_type": "code",
   "execution_count": null,
   "metadata": {},
   "outputs": [],
   "source": [
    "def flatten(containers):\n",
    "    \"returns a list of the elements of the elements in containers\"\n",
    "    return [element for container in containers for element in container]"
   ]
  },
  {
   "cell_type": "markdown",
   "metadata": {},
   "source": [
    "Cette information peut être consultée, soit interactivement :"
   ]
  },
  {
   "cell_type": "code",
   "execution_count": null,
   "metadata": {},
   "outputs": [],
   "source": [
    "help(flatten)"
   ]
  },
  {
   "cell_type": "markdown",
   "metadata": {},
   "source": [
    "Soit programmativement :"
   ]
  },
  {
   "cell_type": "code",
   "execution_count": null,
   "metadata": {},
   "outputs": [],
   "source": [
    "flatten.__doc__"
   ]
  },
  {
   "cell_type": "markdown",
   "metadata": {},
   "source": [
    "### Sous quel format ?"
   ]
  },
  {
   "cell_type": "markdown",
   "metadata": {},
   "source": [
    "L'usage est d'utiliser une chaîne simple (délimitée par « `\"` » ou « `'` ») lorsque le *docstring* tient sur une seule ligne, comme ci-dessus."
   ]
  },
  {
   "cell_type": "markdown",
   "metadata": {},
   "source": [
    "Lorsque ce n'est pas le cas - et pour du vrai code, c'est rarement le cas - on utilise des chaînes multi-lignes (délimitées par « `\"\"\"` » ou « `'''` »). Dans ce cas le format est très flexible, car le *docstring* est normalisé, comme on le voit sur ces deux exemples, où le rendu final est identique :"
   ]
  },
  {
   "cell_type": "code",
   "execution_count": null,
   "metadata": {},
   "outputs": [],
   "source": [
    "# un style de docstring multi-lignes\n",
    "def flatten(containers):\n",
    "    \"\"\"\n",
    "provided that containers is a list (or more generally an iterable)\n",
    "of elements that are themselves iterables, this function\n",
    "returns a list of the items in these elements\n",
    "    \"\"\"\n",
    "    return [element for container in containers for element in container]\n",
    "\n",
    "help(flatten)"
   ]
  },
  {
   "cell_type": "code",
   "execution_count": null,
   "metadata": {},
   "outputs": [],
   "source": [
    "# un autre style, qui donne le même résultat\n",
    "def flatten(containers):\n",
    "    \"\"\"\n",
    "    provided that containers is a list (or more generally an iterable)\n",
    "    of elements that are themselves iterables, this function\n",
    "    returns a list of the items in these elements\n",
    "    \"\"\"\n",
    "    return [element for container in containers for element in container]\n",
    "\n",
    "help(flatten)"
   ]
  },
  {
   "cell_type": "markdown",
   "metadata": {},
   "source": [
    "### Quelle information ?"
   ]
  },
  {
   "cell_type": "markdown",
   "metadata": {},
   "source": [
    "On remarquera que dans ces exemples, le *docstring* ne répète pas le nom de la fonction ou des arguments (en mots savants, sa *signature*), et que ça n'empêche pas `help` de nous afficher cette information.\n",
    "\n",
    "Le [PEP 257](http://legacy.python.org/dev/peps/pep-0257/) qui donne les conventions autour du *docstring* précise bien ceci :"
   ]
  },
  {
   "cell_type": "markdown",
   "metadata": {},
   "source": [
    ">  The one-line docstring should NOT be a \"signature\" reiterating the function/method parameters (which can be obtained by introspection). Don't do:\n",
    "\n",
    "  ```python\n",
    "  def function(a, b):\n",
    "      \"\"\"function(a, b) -> list\"\"\"\n",
    "  ```\n",
    "\n",
    ">    <...>\n",
    "\n",
    ">    The preferred form for such a docstring would be something like:\n",
    "\n",
    "  ```python\n",
    "  def function(a, b):\n",
    "      \"\"\"Do X and return a list.\"\"\"\n",
    "  ```\n",
    "\n",
    ">    (Of course \"Do X\" should be replaced by a useful description!)"
   ]
  },
  {
   "cell_type": "markdown",
   "metadata": {},
   "source": [
    "### Pour en savoir plus"
   ]
  },
  {
   "cell_type": "markdown",
   "metadata": {},
   "source": [
    "Vous trouverez tous les détails sur *docstring* dans le [PEP 257](http://legacy.python.org/dev/peps/pep-0257/)."
   ]
  }
 ],
 "metadata": {
  "kernelspec": {
   "display_name": "Python 3",
   "language": "python",
   "name": "python3"
  },
  "language_info": {
   "codemirror_mode": {
    "name": "ipython",
    "version": 3
   },
   "file_extension": ".py",
   "mimetype": "text/x-python",
   "name": "python",
   "nbconvert_exporter": "python",
   "pygments_lexer": "ipython3",
   "version": "3.6.3"
  },
  "livereveal": {
   "auto_select": "code",
   "auto_select_fragment": true,
   "autolaunch": false,
   "backimage": "media/nologo.png",
   "height": "100%",
   "slideNumber": "c",
   "start_slideshow_at": "selected",
   "theme": "simple",
   "transition": "fade",
   "width": "100%"
  },
  "notebookname": "docstring",
  "version": "3.0"
 },
 "nbformat": 4,
 "nbformat_minor": 1
}
