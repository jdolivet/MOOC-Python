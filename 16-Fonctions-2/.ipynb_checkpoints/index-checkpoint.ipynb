{
 "cells": [
  {
   "cell_type": "markdown",
   "metadata": {},
   "source": [
    "# Fonctions"
   ]
  },
  {
   "cell_type": "markdown",
   "metadata": {},
   "source": [
    "<a href=\"http://www.youtube.com/watch?feature=player_embedded&v=Ffok2RagwgY\n",
    "\" target=\"_blank\"><img src=\"http://img.youtube.com/vi/Ffok2RagwgY/0.jpg\" \n",
    "alt=\"Vidéo du cours\" width=\"240\" height=\"180\" border=\"10\" /></a>"
   ]
  },
  {
   "cell_type": "markdown",
   "metadata": {},
   "source": [
    "* ## [Passage d'arguments par référence](1-Passage-par-reference.ipynb)\n",
    "* ## [Rappels sur docstring](2-Docstring.ipynb)\n",
    "* ## [`isinstance`](3-Isinstance.ipynb)\n",
    "* ## [Type hints](4-Type-hints.ipynb)"
   ]
  }
 ],
 "metadata": {
  "kernelspec": {
   "display_name": "Python 3",
   "language": "python",
   "name": "python3"
  },
  "language_info": {
   "codemirror_mode": {
    "name": "ipython",
    "version": 3
   },
   "file_extension": ".py",
   "mimetype": "text/x-python",
   "name": "python",
   "nbconvert_exporter": "python",
   "pygments_lexer": "ipython3",
   "version": "3.6.6"
  }
 },
 "nbformat": 4,
 "nbformat_minor": 2
}
