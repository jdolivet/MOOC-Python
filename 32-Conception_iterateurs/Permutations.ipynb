{
 "cells": [
  {
   "cell_type": "markdown",
   "metadata": {},
   "source": [
    "<style>div.title-slide {    width: 100%;    display: flex;    flex-direction: row;            /* default value; can be omitted */    flex-wrap: nowrap;              /* default value; can be omitted */    justify-content: space-between;}</style><div class=\"title-slide\">\n",
    "<span style=\"float:left;\">Licence CC BY-NC-ND</span>\n",
    "<span>Thierry Parmentelat &amp; Arnaud Legout</span>\n",
    "<span><img src=\"media/both-logos-small-alpha.png\" style=\"display:inline\" /></span>\n",
    "</div>"
   ]
  },
  {
   "cell_type": "markdown",
   "metadata": {},
   "source": [
    "## Complément - niveau avancé"
   ]
  },
  {
   "cell_type": "markdown",
   "metadata": {},
   "source": [
    "### Implémenter un itérateur de permutations"
   ]
  },
  {
   "cell_type": "markdown",
   "metadata": {},
   "source": [
    "Dans ce complément nous allons nous amuser à implémenter une fonctionnalité qui est déjà disponible dans le module `itertools`. "
   ]
  },
  {
   "cell_type": "markdown",
   "metadata": {},
   "source": [
    "##### C'est quoi déjà les permutations ?"
   ]
  },
  {
   "cell_type": "markdown",
   "metadata": {},
   "source": [
    "En guise de rappel, l'ensemble des permutations d'un ensemble fini correspond à toutes les façons d'ordonner ses éléments ; si l'ensemble est de cardinal $n$, il possède $n!$ permutations : on a $n$ façons de choisir le premier élément, $n-1$ façons de choisir le second, etc."
   ]
  },
  {
   "cell_type": "markdown",
   "metadata": {},
   "source": [
    "Un itérateur sur les permutations est disponible au travers du module standard `itertools`. Cependant il nous a semblé intéressant de vous montrer comment nous pourrions écrire nous-mêmes cette fonctionnalité, de manière relativement simple."
   ]
  },
  {
   "cell_type": "markdown",
   "metadata": {},
   "source": [
    "Pour illustrer le concept, voici à quoi ressemblent les 6 permutations d'un ensemble à trois éléments :"
   ]
  },
  {
   "cell_type": "code",
   "execution_count": null,
   "metadata": {
    "collapsed": true
   },
   "outputs": [],
   "source": [
    "from itertools import permutations"
   ]
  },
  {
   "cell_type": "code",
   "execution_count": null,
   "metadata": {},
   "outputs": [],
   "source": [
    "set = {1, 2, 3}\n",
    "\n",
    "for p in permutations(set):\n",
    "    print(p)"
   ]
  },
  {
   "cell_type": "markdown",
   "metadata": {},
   "source": [
    "##### Une implémentation "
   ]
  },
  {
   "cell_type": "markdown",
   "metadata": {},
   "source": [
    "Voici une implémentation possible pour un itérateur de permutations :"
   ]
  },
  {
   "cell_type": "code",
   "execution_count": null,
   "metadata": {
    "collapsed": true
   },
   "outputs": [],
   "source": [
    "class Permutations:\n",
    "    \"\"\"\n",
    "    Un itérateur qui énumère les permutations de n\n",
    "    sous la forme d'une liste d'indices commençant à 0\n",
    "    \"\"\"\n",
    "    def __init__(self, n):\n",
    "        # le constructeur bien sûr ne fait (presque) rien\n",
    "        self.n = n\n",
    "        # au fur et à mesure des itérations\n",
    "        # le compteur va aller de 0 à n-1\n",
    "        # puis retour à 0 et comme ça en boucle sans fin\n",
    "        self.counter = 0\n",
    "        # on se contente d'allouer un iterateur de rang n-1\n",
    "        # si bien qu'une fois qu'on a fini de construire\n",
    "        # l'objet d'ordre n on a n objets Permutations en tout\n",
    "        if n >= 2:\n",
    "            self.subiterator = Permutations(n-1)\n",
    "\n",
    "    # pour satisfaire le protocole d'itération\n",
    "    def __iter__(self):\n",
    "        return self\n",
    "\n",
    "    # c'est ici bien sûr que se fait tout le travail\n",
    "    def __next__(self):\n",
    "        # pour n == 1\n",
    "        # le travail est très simple\n",
    "        if self.n == 1:\n",
    "            # on doit renvoyer une fois la liste [0]\n",
    "            # car les indices commencent à 0\n",
    "            if self.counter == 0: \n",
    "                self.counter += 1\n",
    "                return [0]\n",
    "            # et ensuite c'est terminé\n",
    "            else:\n",
    "                raise StopIteration\n",
    "\n",
    "        # pour n >= 2\n",
    "        # lorsque counter est nul,\n",
    "        # on traite la permutation d'ordre n-1 suivante\n",
    "        # si next() lève StopIteration on n'a qu'à laisser passer\n",
    "        # car en effet c'est qu'on a terminé\n",
    "        if self.counter == 0:\n",
    "            self.subsequence = next(self.subiterator)\n",
    "        #\n",
    "        # on insère alors n-1 (car les indices commencent à 0)\n",
    "        # successivement dans la sous-sequence\n",
    "        #\n",
    "        # naivement on écrirait\n",
    "        # result = self.subsequence[0:self.counter] \\\n",
    "        #    + [self.n - 1] \\\n",
    "        #    + self.subsequence[self.counter:self.n-1]\n",
    "        # mais c'est mettre le nombre le plus élevé en premier\n",
    "        # et donc à itérer les permutations dans le mauvais ordre,\n",
    "        # en commençant par la fin\n",
    "        #\n",
    "        # donc on fait plutôt une symétrie\n",
    "        # pour insérer en commençant par la fin\n",
    "        cutter = self.n-1 - self.counter\n",
    "        result = self.subsequence[0:cutter] + [self.n - 1] \\\n",
    "                 + self.subsequence[cutter:self.n-1]\n",
    "        # \n",
    "        # on n'oublie pas de maintenir le compteur et de\n",
    "        # le remettre à zéro tous les n tours\n",
    "        self.counter = (self.counter+1) % self.n\n",
    "        return result\n",
    "\n",
    "    # la longeur de cet itérateur est connue\n",
    "    def __len__(self):\n",
    "        import math\n",
    "        return math.factorial(self.n)"
   ]
  },
  {
   "cell_type": "markdown",
   "metadata": {},
   "source": [
    "Ce qu'on a essayé d'expliquer dans les commentaires, c'est qu'on procède en fin de compte par récurrence. Un objet `Permutations` de rang `n` possède un sous-itérateur de rang `n-1` qu'on crée dans le constructeur. Ensuite l'objet de rang `n` va faire successivement (c'est-à-dire à chaque appel de `next()`) :\n",
    "\n",
    "* appel *0* :\n",
    "  * demander à son sous-itérateur une permutation de rang `n-1` (en lui envoyant `next`),\n",
    "  * la stocker dans l'objet de rang `n`, ce sera utilisé par les *n* premier appels,\n",
    "  * et construire une liste de taille `n` en insérant `n-1` à la fin de la séquence de taille `n-1`,  \n",
    "\n",
    "\n",
    "* appel *1* :\n",
    "  * insérer `n-1` dans la même séquence de rang `n-1` mais cette fois 1 cran avant la fin,\n",
    "\n",
    "\n",
    "* ...\n",
    "\n",
    "\n",
    "* appel *n-1* :\n",
    "  * insérer `n-1` au début de la séquence de rang `n-1`,\n",
    "\n",
    "\n",
    "* appel *n* :\n",
    "  * refaire `next()` sur le sous-itérateur pour traiter une nouvelle sous-séquence,\n",
    "  * la stocker dans l'objet de rang `n`, comme à l'appel *0*, pour ce bloc de n appels,\n",
    "  * et construire la permutation en insérant *n-1* à la fin, comme à l'appel 0,\n",
    "\n",
    "\n",
    "* ..."
   ]
  },
  {
   "cell_type": "markdown",
   "metadata": {},
   "source": [
    "On voit donc le caractère cyclique d'ordre *n* qui est matérialisé par `counter`, que l'on incrémente à chaque boucle mais modulo *n* - notez d'ailleurs que pour ce genre de comportement on dispose aussi de `itertools.cycle` comme on le verra dans une deuxième version, mais pour l'instant j'ai préféré ne pas l'utiliser pour ne pas tout embrouiller ;) \n",
    "\n",
    "La terminaison se gère très simplement, car une fois que l'on a traité toutes les séquences d'ordre *n-1* eh bien on a fini, on n'a même pas besoin de lever StopIteration explicitement, sauf bien sûr dans le cas *n=1*.\n",
    "\n",
    "Le seul point un peu délicat, si on veut avoir les permutations dans le \"bon\" ordre, consiste à commencer à insérer `n-1` par la droite (la fin de la sous-séquence)."
   ]
  },
  {
   "cell_type": "markdown",
   "metadata": {},
   "source": [
    "##### Discussion"
   ]
  },
  {
   "cell_type": "markdown",
   "metadata": {},
   "source": [
    "Il existe certainement des tas d'autres façons de faire bien entendu. Le point important ici, et qui donne toute sa puissance à la notion d'itérateur, c'est **qu'à aucun moment on ne construit** une liste ou une séquence quelconque de **n! termes**. \n",
    "\n",
    "C'est une erreur fréquente chez les débutants que de calculer une telle liste dans le constructeur, mais procéder de cette façon c'est aller exactement à l'opposé de ce pourquoi les itérateurs ont été conçus ; au contraire, on veut éviter à tout prix le coût d'une telle construction.\n",
    "\n",
    "On peut le voir sur un code qui n'utiliserait que les 20 premières valeurs de l'itérateur, vous constatez que ce code est immédiat :"
   ]
  },
  {
   "cell_type": "code",
   "execution_count": null,
   "metadata": {
    "collapsed": true
   },
   "outputs": [],
   "source": [
    "def show_first_items(iterable, nb_items):\n",
    "    \"\"\"\n",
    "    montre les <nb_items> premiers items de iterable\n",
    "    \"\"\"\n",
    "    print(f\"Il y a {len(iterable)} items dans l'itérable\")\n",
    "    for i, item in enumerate(iterable):\n",
    "        print(item)\n",
    "        if i >= nb_items:\n",
    "            print('....')\n",
    "            break"
   ]
  },
  {
   "cell_type": "code",
   "execution_count": null,
   "metadata": {},
   "outputs": [],
   "source": [
    "show_first_items(Permutations(12), 20)"
   ]
  },
  {
   "cell_type": "markdown",
   "metadata": {},
   "source": [
    "Ce tableau vous montre par ailleurs sous un autre angle comment fonctionne l'algorithme, si vous observez le `11` qui balaie en diagonale les 12 premières lignes, puis les 12 suivantes, etc.."
   ]
  },
  {
   "cell_type": "markdown",
   "metadata": {},
   "source": [
    "##### Ultimes améliorations"
   ]
  },
  {
   "cell_type": "markdown",
   "metadata": {},
   "source": [
    "Dernières remarques, sur des améliorations possibles - mais tout à fait optionnelles :\n",
    "\n",
    "* le lecteur attentif aura remarqué qu'au lieu d'un entier `counter` on aurait pu profitablement utiliser une instance de `itertools.cycle`, ce qui aurait eu l'avantage d'être plus clair sur le propos de ce compteur ;\n",
    "* aussi dans le même mouvement, au lieu de se livrer à la gymnastique qui calcule `cutter` à partir de `counter`, on pourrait dès le départ créer dans le cycle les bonnes valeurs en commençant à `n-1`."
   ]
  },
  {
   "cell_type": "markdown",
   "metadata": {},
   "source": [
    "C'est ce qu'on a fait dans cette deuxième version ; après avoir enlevé la logorrhée de commentaires ça redevient presque lisible ;)"
   ]
  },
  {
   "cell_type": "code",
   "execution_count": null,
   "metadata": {
    "collapsed": true
   },
   "outputs": [],
   "source": [
    "import itertools\n",
    "\n",
    "class Permutations2:\n",
    "    \"\"\"\n",
    "    Un itérateur qui énumère les permutations de n\n",
    "    sous la forme d'une liste d'indices commençant à 0\n",
    "    \"\"\"\n",
    "    def __init__(self, n):\n",
    "        self.n = n\n",
    "        # on commence à insérer à la fin \n",
    "        self.cycle = itertools.cycle(list(range(n))[::-1])\n",
    "        if n >= 2:\n",
    "            self.subiterator = Permutations2(n-1)\n",
    "        # pour savoir quand terminer le cas n==1\n",
    "        if n == 1:\n",
    "            self.done = False\n",
    "\n",
    "    def __iter__(self):\n",
    "        return self\n",
    "\n",
    "    def __next__(self):\n",
    "        cutter = next(self.cycle)\n",
    "\n",
    "        # quand n==1 on a toujours la même valeur 0\n",
    "        if self.n == 1:\n",
    "            if not self.done:\n",
    "                self.done = True\n",
    "                return [0]\n",
    "            else:\n",
    "                raise StopIteration\n",
    "\n",
    "        # au début de chaque séquence de n appels\n",
    "        # il faut appeler une nouvelle sous-séquence\n",
    "        if cutter == self.n-1:\n",
    "            self.subsequence = next(self.subiterator)\n",
    "        # dans laquelle on insére n-1\n",
    "        return self.subsequence[0:cutter] + [self.n-1] \\\n",
    "                 + self.subsequence[cutter:self.n-1]\n",
    "\n",
    "    # la longeur de cet itérateur est connue\n",
    "    def __len__(self):\n",
    "        import math\n",
    "        return math.factorial(self.n)"
   ]
  },
  {
   "cell_type": "code",
   "execution_count": null,
   "metadata": {},
   "outputs": [],
   "source": [
    "show_first_items(Permutations2(5), 20)"
   ]
  },
  {
   "cell_type": "markdown",
   "metadata": {},
   "source": [
    "***\n",
    "***"
   ]
  },
  {
   "cell_type": "markdown",
   "metadata": {},
   "source": [
    "Il me semble intéressant de montrer une autre façon, plus simple, d'écrire un itérateur de permutations, à base cette fois de générateurs; c'est un tout petit peu une digression par rapport au cours qui est sur la conception d'itérateurs et d'itérables. Ça va nous permettre surtout de réviser la notion de `yield from`."
   ]
  },
  {
   "cell_type": "markdown",
   "metadata": {},
   "source": [
    "On commence par une version très rustique qui fait des impressions :"
   ]
  },
  {
   "cell_type": "code",
   "execution_count": null,
   "metadata": {},
   "outputs": [],
   "source": [
    "# pour simplifier ici on suppose que l'entrée est une vraie liste\n",
    "# que l'on va ainsi pouvoir modifier par effets de bord\n",
    "def gen_perm1(subject, k=0):\n",
    "    if k == len(subject):\n",
    "        # cette version hyper rustique se contente de faire une impression\n",
    "        print(subject)\n",
    "    else:\n",
    "        for i in range(k, len(subject)):\n",
    "            # on échange \n",
    "            subject[k], subject[i] = subject[i], subject[k]\n",
    "            gen_perm1(subject, k+1)\n",
    "            # on remet comme c'était pour le prochain échange\n",
    "            subject[k], subject[i] = subject[i], subject[k]"
   ]
  },
  {
   "cell_type": "code",
   "execution_count": null,
   "metadata": {},
   "outputs": [],
   "source": [
    "gen_perm1(['a', 'b', 'c', 'd'])"
   ]
  },
  {
   "cell_type": "markdown",
   "metadata": {},
   "source": [
    "Très bien, mais on ne veut pas imprimer, on veut itérer. On pourrait se dire, il me suffit de remplacer `print` par `yield`. Essayons cela :"
   ]
  },
  {
   "cell_type": "code",
   "execution_count": null,
   "metadata": {},
   "outputs": [],
   "source": [
    "# pour simplifier ici on suppose que l'entrée est une vraie liste\n",
    "# que l'on va ainsi pouvoir modifier par effets de bord\n",
    "def gen_perm2(subject, k=0):\n",
    "    if k == len(subject):\n",
    "        # cette version hyper rustique se contente de faire une impression\n",
    "        yield subject\n",
    "    else:\n",
    "        for i in range(k, len(subject)):\n",
    "            # on échange \n",
    "            subject[k], subject[i] = subject[i], subject[k]\n",
    "            gen_perm2(subject, k+1)\n",
    "            # on remet comme c'était pour le prochain échange\n",
    "            subject[k], subject[i] = subject[i], subject[k]"
   ]
  },
  {
   "cell_type": "code",
   "execution_count": null,
   "metadata": {},
   "outputs": [],
   "source": [
    "for perm in gen_perm2(['a', 'b', 'c', 'd']):\n",
    "    print(perm)"
   ]
  },
  {
   "cell_type": "markdown",
   "metadata": {},
   "source": [
    "On est exactement dans le cas où il nous faut utiliser `yield from`. En effet lorsqu'on appelle `gen_perm(subject, k+1)` ici, ce qu'on obtient en retour c'est maintenant un objet générateur. Pour faire ce qu'on cherche à faire il nous faut bien utiliser cet objet générateur, et pour cela on utilise `yield from`."
   ]
  },
  {
   "cell_type": "code",
   "execution_count": null,
   "metadata": {},
   "outputs": [],
   "source": [
    "# pour simplifier ici on suppose que l'entrée est une vraie liste\n",
    "# que l'on va ainsi pouvoir modifier par effets de bord\n",
    "def gen_perm3(subject, k=0):\n",
    "    if k == len(subject):\n",
    "        # cette version hyper rustique se contente de faire une impression\n",
    "        yield subject\n",
    "    else:\n",
    "        for i in range(k, len(subject)):\n",
    "            # on échange \n",
    "            subject[k], subject[i] = subject[i], subject[k]\n",
    "            yield from gen_perm3(subject, k+1)\n",
    "            # on remet comme c'était pour le prochain échange\n",
    "            subject[k], subject[i] = subject[i], subject[k]"
   ]
  },
  {
   "cell_type": "code",
   "execution_count": null,
   "metadata": {},
   "outputs": [],
   "source": [
    "for perm in gen_perm3(['a', 'b', 'c', 'd']):\n",
    "    print(perm)"
   ]
  }
 ],
 "metadata": {
  "kernelspec": {
   "display_name": "Python 3",
   "language": "python",
   "name": "python3"
  },
  "language_info": {
   "codemirror_mode": {
    "name": "ipython",
    "version": 3
   },
   "file_extension": ".py",
   "mimetype": "text/x-python",
   "name": "python",
   "nbconvert_exporter": "python",
   "pygments_lexer": "ipython3",
   "version": "3.7.0"
  },
  "livereveal": {
   "auto_select": "code",
   "auto_select_fragment": true,
   "autolaunch": false,
   "backimage": "media/nologo.png",
   "height": "100%",
   "start_slideshow_at": "selected",
   "theme": "simple",
   "transition": "fade",
   "width": "100%"
  },
  "notebookname": "NO HEADING 1 found",
  "version": "3.0"
 },
 "nbformat": 4,
 "nbformat_minor": 2
}
