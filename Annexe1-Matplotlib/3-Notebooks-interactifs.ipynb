{
 "cells": [
  {
   "cell_type": "markdown",
   "metadata": {},
   "source": [
    "<style>div.title-slide {    width: 100%;    display: flex;    flex-direction: row;            /* default value; can be omitted */    flex-wrap: nowrap;              /* default value; can be omitted */    justify-content: space-between;}</style><div class=\"title-slide\">\n",
    "<span style=\"float:left;\">Licence CC BY-NC-ND</span>\n",
    "<span>Thierry Parmentelat &amp; Arnaud Legout</span>\n",
    "<span><img src=\"media/both-logos-small-alpha.png\" style=\"display:inline\" /></span>\n",
    "</div>"
   ]
  },
  {
   "cell_type": "markdown",
   "metadata": {},
   "source": [
    "# Notebooks interactifs"
   ]
  },
  {
   "cell_type": "code",
   "execution_count": null,
   "metadata": {
    "run_control": {
     "frozen": false,
     "read_only": false
    }
   },
   "outputs": [],
   "source": [
    "import matplotlib.pyplot as plt\n",
    "import numpy as np\n",
    "plt.ion()"
   ]
  },
  {
   "cell_type": "markdown",
   "metadata": {},
   "source": [
    "## Complément - niveau basique"
   ]
  },
  {
   "cell_type": "markdown",
   "metadata": {},
   "source": [
    "Pour conclure cette série sur les outils de visualisation, nous allons voir quelques fonctionnalités disponibles uniquement dans l'environnement des notebooks, et qui offrent des possibilités supplémentaires par rapport aux visualisations que l'on a vues jusqu'à maintenant."
   ]
  },
  {
   "cell_type": "markdown",
   "metadata": {},
   "source": [
    "Pour commencer et en guise d'exemple, je vous invite à consulter un [exemple de notebook publié par la célèbre revue *Nature*](http://www.nature.com/news/ipython-interactive-demo-7.21492), qui pourra vous donner une idée de ce qu'il est possible de faire de cette façon ; essayez de bien penser à cliquer sur `Expand to fullscreen` pour un meilleur confort.\n",
    "\n",
    "Je vous signale d'ailleurs que [ce notebook est disponible sur github ici](https://github.com/jupyter/nature-demo)."
   ]
  },
  {
   "cell_type": "markdown",
   "metadata": {},
   "source": [
    "### Une visualisation interactive simple : `interact`"
   ]
  },
  {
   "cell_type": "markdown",
   "metadata": {},
   "source": [
    "Pour refaire de notre coté quelque chose d'analogue, nous allons commencer par animer la fonction sinus, avec un bouton pour régler la fréquence. Pour cela nous allons utiliser la fonction `interact` ; à nouveau c'est un utilitaire qui fait partie de l'écosystème des notebooks, et plus précisément du module `ipywidgets` :"
   ]
  },
  {
   "cell_type": "code",
   "execution_count": null,
   "metadata": {},
   "outputs": [],
   "source": [
    "from ipywidgets import interact"
   ]
  },
  {
   "cell_type": "markdown",
   "metadata": {
    "run_control": {
     "frozen": false,
     "read_only": false
    },
    "slideshow": {
     "slide_type": "-"
    }
   },
   "source": [
    "Dans un premier temps, j'écris une fonction qui prend en paramètre la fréquence, et qui dessine la fonction sinus sur un intervalle fixe de 0. à $4\\pi$ :"
   ]
  },
  {
   "cell_type": "code",
   "execution_count": null,
   "metadata": {
    "run_control": {
     "frozen": false,
     "read_only": false
    },
    "slideshow": {
     "slide_type": "slide"
    }
   },
   "outputs": [],
   "source": [
    "def sinus(freq):\n",
    "    X = np.linspace(0., 4*np.pi, 200)\n",
    "    Y = np.sin(freq*X)\n",
    "    plt.plot(X, Y)"
   ]
  },
  {
   "cell_type": "code",
   "execution_count": null,
   "metadata": {
    "cell_style": "split",
    "run_control": {
     "frozen": false,
     "read_only": false
    }
   },
   "outputs": [],
   "source": [
    "sinus(1)"
   ]
  },
  {
   "cell_type": "code",
   "execution_count": null,
   "metadata": {
    "cell_style": "split",
    "run_control": {
     "frozen": false,
     "read_only": false
    }
   },
   "outputs": [],
   "source": [
    "sinus(0.5)"
   ]
  },
  {
   "cell_type": "markdown",
   "metadata": {},
   "source": [
    "Maintenant, plutôt que de tracer individuellement les courbes une à une, j'utilise `interact` qui va m'afficher une réglette pour changer le paramètre `freq`. Ça se présente comme ceci :"
   ]
  },
  {
   "cell_type": "code",
   "execution_count": null,
   "metadata": {
    "run_control": {
     "frozen": false,
     "read_only": false
    }
   },
   "outputs": [],
   "source": [
    "# je change maintenant la taille des visualisations\n",
    "plt.figure(figsize=(12, 4));"
   ]
  },
  {
   "cell_type": "code",
   "execution_count": null,
   "metadata": {
    "run_control": {
     "frozen": false,
     "read_only": false
    }
   },
   "outputs": [],
   "source": [
    "interact(sinus, freq=(0.5, 10., 0.25));"
   ]
  },
  {
   "cell_type": "markdown",
   "metadata": {
    "run_control": {
     "frozen": false,
     "read_only": false
    },
    "slideshow": {
     "slide_type": "slide"
    }
   },
   "source": [
    "## Mécanisme d'`interact`"
   ]
  },
  {
   "cell_type": "markdown",
   "metadata": {
    "run_control": {
     "frozen": false,
     "read_only": false
    }
   },
   "source": [
    "La fonction `interact` s'attend à recevoir :\n",
    "\n",
    "* en premier argument : une fonction `f` ;\n",
    "* et ensuite autant d'arguments nommés supplémentaires que de paramètres attendus par `f`.\n",
    "\n",
    "Comme dans mon cas la fonction `sinus` attend un paramètre nommé `freq`, le deuxième argument de `interact` lui est passé aussi avec le nom `freq`."
   ]
  },
  {
   "cell_type": "markdown",
   "metadata": {},
   "source": [
    "### Les objets `Slider`"
   ]
  },
  {
   "cell_type": "markdown",
   "metadata": {
    "run_control": {
     "frozen": false,
     "read_only": false
    }
   },
   "source": [
    "Chacun des arguments à `interact` (en plus de la fonction) correspond à un objet de type `Slider` (dans la ménagerie de `ipywidget`). Ici en passant juste le tuple `(0.5, 10., 0.25)` j'utilise un raccourci pour dire que je veux pouvoir régler le paramètre `freq` sur une plage allant de `0.5` à `10` avec un pas de `0.25`."
   ]
  },
  {
   "cell_type": "markdown",
   "metadata": {},
   "source": [
    "Mon premier exemple avec `interact` est en réalité équivalent à ceci :"
   ]
  },
  {
   "cell_type": "code",
   "execution_count": null,
   "metadata": {},
   "outputs": [],
   "source": [
    "from ipywidgets import FloatSlider"
   ]
  },
  {
   "cell_type": "code",
   "execution_count": null,
   "metadata": {},
   "outputs": [],
   "source": [
    "# exactement équivalent à la version ci-dessus\n",
    "interact(sinus, freq=FloatSlider(min=0.5, max=10., step=0.25));"
   ]
  },
  {
   "cell_type": "markdown",
   "metadata": {},
   "source": [
    "Mais en utilisant la forme bavarde, je peux choisir davantage d'options, comme notamment :\n",
    "\n",
    "* mettre `continuous_update = False` ; l'effet de ce réglage, c'est que l'on met à jour la figure seulement lorsque je lâche la réglette ; c'est utile lorsque les calculs sont un peu lents, comme ici avec l'infrastructure notebook qui est à distance ;\n",
    "* mettre `value=1.` pour choisir la valeur initiale :\n"
   ]
  },
  {
   "cell_type": "code",
   "execution_count": null,
   "metadata": {},
   "outputs": [],
   "source": [
    "# exactement équivalent à la version ci-dessus\n",
    "# sauf qu'on ne redessine que lorsque la réglette\n",
    "# est relâchée\n",
    "interact(sinus, freq=FloatSlider(min=0.5, max=10., \n",
    "                                 step=0.25, value=1.,\n",
    "                                 continuous_update=False));"
   ]
  },
  {
   "cell_type": "markdown",
   "metadata": {},
   "source": [
    "### Plusieurs paramètres"
   ]
  },
  {
   "cell_type": "markdown",
   "metadata": {},
   "source": [
    "Voyons tout de suite un exemple avec deux paramètres, je vais écrire maintenant une fonction qui me permet de changer aussi la phase :"
   ]
  },
  {
   "cell_type": "code",
   "execution_count": null,
   "metadata": {},
   "outputs": [],
   "source": [
    "def sinus2(freq, phase):\n",
    "    X = np.linspace(0., 4*np.pi, 200)\n",
    "    Y = np.sin(freq*(X+phase))\n",
    "    plt.plot(X, Y)"
   ]
  },
  {
   "cell_type": "markdown",
   "metadata": {},
   "source": [
    "Et donc maintenant je passe à `interact` un troisième paramètre :"
   ]
  },
  {
   "cell_type": "code",
   "execution_count": null,
   "metadata": {},
   "outputs": [],
   "source": [
    "interact(sinus2,\n",
    "         freq=FloatSlider(min=0.5, max=10., step=0.5,\n",
    "                          continuous_update=False),\n",
    "         phase=FloatSlider(min=0., max=2*np.pi, step=np.pi/6, \n",
    "                           continuous_update=False),\n",
    "        );"
   ]
  },
  {
   "cell_type": "markdown",
   "metadata": {
    "run_control": {
     "frozen": false,
     "read_only": false
    },
    "slideshow": {
     "slide_type": "slide"
    }
   },
   "source": [
    "## Bouche-trou : `fixed`"
   ]
  },
  {
   "cell_type": "markdown",
   "metadata": {
    "run_control": {
     "frozen": false,
     "read_only": false
    }
   },
   "source": [
    "Si j'ai une fonction qui prend plus de paramètres que je ne veux montrer de réglettes, je peux fixer un des paramètres  par exemple comme ceci :"
   ]
  },
  {
   "cell_type": "code",
   "execution_count": null,
   "metadata": {},
   "outputs": [],
   "source": [
    "from ipywidgets import fixed"
   ]
  },
  {
   "cell_type": "code",
   "execution_count": null,
   "metadata": {
    "run_control": {
     "frozen": false,
     "read_only": false
    }
   },
   "outputs": [],
   "source": [
    "# avec une fonction à deux argument,\n",
    "# je peux en fixer un, et n'avoir qu'une réglette\n",
    "# pour fixer celui qui est libre\n",
    "interact(sinus2, freq=fixed(1.),\n",
    "         phase=FloatSlider(min=0., max=2*np.pi, step=np.pi/6),\n",
    "        );"
   ]
  },
  {
   "cell_type": "markdown",
   "metadata": {
    "run_control": {
     "frozen": false,
     "read_only": false
    },
    "slideshow": {
     "slide_type": "slide"
    }
   },
   "source": [
    "## Widgets"
   ]
  },
  {
   "cell_type": "markdown",
   "metadata": {
    "run_control": {
     "frozen": false,
     "read_only": false
    }
   },
   "source": [
    "Il existe toute une famille de widgets, dont `FloatSlider` est l'exemple le plus courant, mais vous pouvez aussi :\n",
    "\n",
    "* créer des radio bouton pour entrer un paramètre booléen ;\n",
    "* ou une saisie de texte pour entre un paramètre de type `str` ;\n",
    "* ou une liste à choix multiples…\n",
    "\n",
    "Bref, vous pouvez créer une mini interface-utilisateur avec des objets graphiques simples choisis dans une palette assez complète pour ce type d'application.\n",
    "\n",
    "Voyez [les détails complets sur `readthedocs.io`](http://ipywidgets.readthedocs.io/en/latest/examples/Using%20Interact.html)"
   ]
  },
  {
   "cell_type": "code",
   "execution_count": null,
   "metadata": {
    "run_control": {
     "frozen": false,
     "read_only": false
    },
    "slideshow": {
     "slide_type": "slide"
    }
   },
   "outputs": [],
   "source": [
    "# de même qu'un tuple était ci-dessus un raccourci pour un FloatSlider\n",
    "# une liste ou un dictionnaire est transformé(e) en un Dropdown\n",
    "interact(sinus, freq={'rapide': 10., 'moyenne': 1., 'lente': 0.1});"
   ]
  },
  {
   "cell_type": "markdown",
   "metadata": {
    "run_control": {
     "frozen": false,
     "read_only": false
    },
    "slideshow": {
     "slide_type": "slide"
    }
   },
   "source": [
    "Voyez la [liste complète des widgets ici](http://ipywidgets.readthedocs.io/en/latest/examples/Widget%20List.html).\n"
   ]
  },
  {
   "cell_type": "markdown",
   "metadata": {},
   "source": [
    "# Dashboards"
   ]
  },
  {
   "cell_type": "markdown",
   "metadata": {},
   "source": [
    "Lorsqu'on a besoin de faire une interface un peu plus soignée, on peut créer sa propre disposition de boutons et autres réglages."
   ]
  },
  {
   "cell_type": "markdown",
   "metadata": {},
   "source": [
    "Voici un exemple de dashboard, uniquement pour vous donner une meilleure idée, qui pour changer agit sur une visualisation réalisée avec plot.ly plutôt que matplotlib :"
   ]
  },
  {
   "cell_type": "code",
   "execution_count": null,
   "metadata": {},
   "outputs": [],
   "source": [
    "import plotly\n",
    "plotly.__version__"
   ]
  },
  {
   "cell_type": "code",
   "execution_count": null,
   "metadata": {},
   "outputs": [],
   "source": [
    "# on importe la bibliothèque plot.ly\n",
    "import plotly.plotly as py\n",
    "import plotly.graph_objs as go"
   ]
  },
  {
   "cell_type": "code",
   "execution_count": null,
   "metadata": {},
   "outputs": [],
   "source": [
    "# il est impératif d'utiliser plot.ly en mode 'offline' \n",
    "# pour in mode interactif, \n",
    "# car sinon les affichages sont beaucoup trop lents\n",
    "import plotly.offline as pyoff\n",
    "\n",
    "pyoff.init_notebook_mode()"
   ]
  },
  {
   "cell_type": "code",
   "execution_count": null,
   "metadata": {},
   "outputs": [],
   "source": [
    "# les widgets pour construire le tableau de bord\n",
    "from ipywidgets import (interactive_output,\n",
    "                        IntSlider, Dropdown, Layout, HBox, VBox, Text)\n",
    "from IPython.display import display"
   ]
  },
  {
   "cell_type": "code",
   "execution_count": null,
   "metadata": {},
   "outputs": [],
   "source": [
    "# une fonction sinus à 4 réglages\n",
    "# qu'on réalise pour changer avec plot.ly\n",
    "# et non pas avec matplotlib\n",
    "def sinus4(freq, phase, amplitude, domain):\n",
    "\n",
    "    X = np.linspace(0., domain*np.pi, 500)\n",
    "    Y = amplitude * np.sin(freq*(X+phase))\n",
    "\n",
    "    data = [ go.Scatter(x=X, y=Y, mode='lines', name='sinus') ]\n",
    "    # je fixe l'amplitude à 10 pour que les animations\n",
    "    # soient plus parlantes\n",
    "    layout = go.Layout(\n",
    "        yaxis = {'range' : [-10, 10]},\n",
    "        title=\"Exemple de graphique interactif avec dashboard\",\n",
    "    )\n",
    "    figure = go.Figure(data = data, layout=layout)\n",
    "    pyoff.iplot(figure)"
   ]
  },
  {
   "cell_type": "code",
   "execution_count": null,
   "metadata": {
    "cell_style": "center",
    "run_control": {
     "frozen": false,
     "read_only": false
    }
   },
   "outputs": [],
   "source": [
    "def my_dashboard():\n",
    "    \"\"\"\n",
    "    create and display a dashboard\n",
    "    return a dictionary name->widget suitable for interactive_output\n",
    "    \"\"\"\n",
    "    # dashboard pieces as widgets\n",
    "    l_75 = Layout(width='75%')\n",
    "    l_50 = Layout(width='50%')\n",
    "    l_25 = Layout(width='25%')\n",
    "\n",
    "    w_freq = Dropdown(options=list(range(1, 10)),\n",
    "                      value = 1,\n",
    "                      description = \"fréquence\",\n",
    "                      layout=l_50)\n",
    "    w_phase = FloatSlider(min=0., max = 2*np.pi, step=np.pi/12,\n",
    "                          description=\"phase\",\n",
    "                          value=0., layout=l_75)\n",
    "    w_amplitude = Dropdown(options={\"micro\" : .1,\n",
    "                                    \"mini\" : .5,\n",
    "                                    \"normal\" : 1.,\n",
    "                                    \"grand\" : 3.,\n",
    "                                    \"énorme\" : 10.},\n",
    "                           value = 3.,\n",
    "                           description = \"amplitude\",\n",
    "                           layout = l_25)\n",
    "    w_domain = IntSlider(min=1, max=10, description=\"dom. n * π\", layout=l_50)\n",
    "\n",
    "    # make up a dashboard\n",
    "    dashboard = VBox([HBox([w_amplitude, w_phase]),\n",
    "                      HBox([w_domain, w_freq]),\n",
    "                     ])\n",
    "    display(dashboard)\n",
    "    return dict(freq=w_freq, phase=w_phase,\n",
    "                amplitude=w_amplitude, domain=w_domain)"
   ]
  },
  {
   "cell_type": "markdown",
   "metadata": {},
   "source": [
    "*****\n",
    "Avec tout ceci en place on peut montrer un dialogue interactif pour changer tous les paramètres de sinus4."
   ]
  },
  {
   "cell_type": "code",
   "execution_count": null,
   "metadata": {
    "run_control": {
     "frozen": false,
     "read_only": false
    }
   },
   "outputs": [],
   "source": [
    "# interactively call sinus4\n",
    "# attention il reste un bug:\n",
    "# au tout début rien ne s'affiche,\n",
    "# il faut faire bouger au moins un réglage\n",
    "interactive_output(sinus4, my_dashboard())"
   ]
  }
 ],
 "metadata": {
  "kernelspec": {
   "display_name": "Python 3",
   "language": "python",
   "name": "python3"
  },
  "language_info": {
   "codemirror_mode": {
    "name": "ipython",
    "version": 3
   },
   "file_extension": ".py",
   "mimetype": "text/x-python",
   "name": "python",
   "nbconvert_exporter": "python",
   "pygments_lexer": "ipython3",
   "version": "3.7.0"
  },
  "livereveal": {
   "auto_select": "code",
   "auto_select_fragment": true,
   "autolaunch": false,
   "backimage": "media/nologo.png",
   "height": "100%",
   "start_slideshow_at": "selected",
   "theme": "simple",
   "transition": "fade",
   "width": "100%"
  },
  "notebookname": "Notebooks interactifs",
  "version": "3.0"
 },
 "nbformat": 4,
 "nbformat_minor": 2
}