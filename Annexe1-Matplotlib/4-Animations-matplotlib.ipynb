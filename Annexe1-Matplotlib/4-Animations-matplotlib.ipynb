{
 "cells": [
  {
   "cell_type": "markdown",
   "metadata": {},
   "source": [
    "<style>div.title-slide {    width: 100%;    display: flex;    flex-direction: row;            /* default value; can be omitted */    flex-wrap: nowrap;              /* default value; can be omitted */    justify-content: space-between;}</style><div class=\"title-slide\">\n",
    "<span style=\"float:left;\">Licence CC BY-NC-ND</span>\n",
    "<span>Thierry Parmentelat &amp; Arnaud Legout</span>\n",
    "<span><img src=\"media/both-logos-small-alpha.png\" style=\"display:inline\" /></span>\n",
    "</div>"
   ]
  },
  {
   "cell_type": "markdown",
   "metadata": {},
   "source": [
    "# Animations interactives avec `matplotlib`"
   ]
  },
  {
   "cell_type": "markdown",
   "metadata": {},
   "source": [
    "## Complément - niveau avancé"
   ]
  },
  {
   "cell_type": "markdown",
   "metadata": {},
   "source": [
    "Nous allons voir dans ce notebook comment créer une animation avec matplotlib et tirer parti des *widgets* dans un notebook pour rendre ces animations interactives.\n",
    "\n",
    "Ce sera l'occasion de décortiquer un exemple un peu sophistiqué, où l'utilisation d'un générateur permet de rendre l'implémentation plus propre et plus élégante."
   ]
  },
  {
   "cell_type": "markdown",
   "metadata": {},
   "source": [
    "### Le sujet"
   ]
  },
  {
   "cell_type": "markdown",
   "metadata": {},
   "source": [
    "En guise d'illustration, nous allons créer :\n",
    "\n",
    "* une animation matplotlib : disons que l'on veut faire défiler horizontalement une sinusoïde ;\n",
    "* un widget interactif : disons que l'on veut pouvoir changer la vitesse de défilement."
   ]
  },
  {
   "cell_type": "markdown",
   "metadata": {},
   "source": [
    "### Les outils"
   ]
  },
  {
   "cell_type": "markdown",
   "metadata": {},
   "source": [
    "Pour fabriquer cela nous aurons besoin principalement :\n",
    "\n",
    "* de la librairie d'animation de matplotlib, et spécifiquement le sous-package `animation`,\n",
    "* et des widgets du module `ipywidgets`."
   ]
  },
  {
   "cell_type": "code",
   "execution_count": null,
   "metadata": {},
   "outputs": [],
   "source": [
    "import numpy as np\n",
    "from matplotlib import pyplot as plt\n",
    "from matplotlib import animation"
   ]
  },
  {
   "cell_type": "code",
   "execution_count": null,
   "metadata": {},
   "outputs": [],
   "source": [
    "from IPython.display import display as display_widget\n",
    "from ipywidgets import IntSlider"
   ]
  },
  {
   "cell_type": "markdown",
   "metadata": {},
   "source": [
    "### La logique"
   ]
  },
  {
   "cell_type": "markdown",
   "metadata": {},
   "source": [
    "Dans un notebook précédent nous avions abordé la fonction `interact`, de la librairie `ipywidgets`, qui nous permettait d'appeler interactivement une fonction avec des arguments choisis interactivement via une série de widgets.\n",
    "\n",
    "Si on essaie d'utiliser `interact` pour faire des animations, l'effet visuel, qui revient à effacer/recalculer une visualisation à chaque changement de valeur des entrées, donne un rendu peu agréable à l'oeil.\n",
    "\n",
    "C'est pourquoi ici la logique va être un petit peu différente :\n",
    "\n",
    "* c'est une fonction native de `matplotlib` qui implémente la boucle principale, en travaillant sur un objet `Figure`,\n",
    "* et le widget est utilisé uniquement pour modifier une variable python ;\n",
    "* pour simplifier notre code, l'échange d'informations entre ces deux morceaux se fait le plus simplement possible, via une variable globale. \n",
    "\n",
    "Bien entendu cette dernière pratique n'est pas recommandée dans du code de production, et le lecteur intéressé est invité à améliorer ce point."
   ]
  },
  {
   "cell_type": "markdown",
   "metadata": {},
   "source": [
    "### Version non interactive et basique"
   ]
  },
  {
   "cell_type": "markdown",
   "metadata": {},
   "source": [
    "Pour commencer nous allons voir comment utiliser `matplotlib.animation` sans interactivité. \n",
    "\n",
    "Cette version est inspirée du [tutorial matplotlib sur les animations](https://jakevdp.github.io/blog/2012/08/18/matplotlib-animation-tutorial/), qui montre d'ailleurs d'autres animations plus complexes et convaincantes, comme le double pendule par exemple."
   ]
  },
  {
   "cell_type": "markdown",
   "metadata": {},
   "source": [
    "Mais avant tout choisissons ce mode de rendu :"
   ]
  },
  {
   "cell_type": "code",
   "execution_count": null,
   "metadata": {},
   "outputs": [],
   "source": [
    "%matplotlib notebook"
   ]
  },
  {
   "cell_type": "markdown",
   "metadata": {},
   "source": [
    "Nous allons utiliser la fonction `animation.FuncAnimation`; celle-ci s'attend à recevoir en argument, principalement :\n",
    "\n",
    "* une figure,\n",
    "* et une fonction d'affichage.\n",
    "\n",
    "La logique est que la fonction d'affichage est appelée à intervalles réguliers par `FuncAnimation`, elle doit retourner un itérable d'objets affichable dans la figure. \n",
    "\n",
    "Dans notre cas, nous allons créer une instance unique d'un objet `plot`; cette instance sera modifiée à chaque frame par la fonction d'affichage, qui le renverra dans un tuple à un élément (ceci parce qu'un itérable est attendu)."
   ]
  },
  {
   "cell_type": "markdown",
   "metadata": {},
   "source": [
    "##### Version basique dite *tout-en-un*"
   ]
  },
  {
   "cell_type": "code",
   "execution_count": null,
   "metadata": {},
   "outputs": [],
   "source": [
    "import numpy as np\n",
    "from matplotlib import pyplot as plt\n",
    "from matplotlib import animation\n",
    "\n",
    "# on commence par créer une figure; \n",
    "figure1 = plt.figure(figsize=(4, 2))\n",
    "\n",
    "# en général pour une animation \n",
    "# il est important de fixer les bornes en x et en y \n",
    "# pour ne pas avoir d'artefacts de changement d'échelle\n",
    "# pendant l'animation\n",
    "ax1 = plt.axes(xlim=(0, 2), ylim=(-1.5, 1.5))\n",
    "\n",
    "# on crée aussi un plot vide qui va être modifié à chaque frame\n",
    "line1, = ax1.plot([], [], linewidth=2)\n",
    "\n",
    "# la vitesse de défilement\n",
    "speed = 1\n",
    "\n",
    "# une globale; c'est vilain !\n",
    "offset = 0.\n",
    "\n",
    "# la fonction qui calcule et affiche chaque frame\n",
    "def compute_and_display(n):\n",
    "    global offset\n",
    "    offset += speed / 100\n",
    "    x = np.linspace(0, 2, 1000)\n",
    "    y = np.sin(2 * np.pi * (x - offset))\n",
    "    line1.set_data(x, y)\n",
    "    return line1,\n",
    "\n",
    "\n",
    "# la fonction magique pour animer une figure\n",
    "# blit=True est une optimisation graphique \n",
    "# pour ne rafficher que le nécessaire\n",
    "anim = animation.FuncAnimation(figure1, \n",
    "                               func=compute_and_display, \n",
    "                               frames=50, repeat=False,\n",
    "                               interval=40, blit=True)\n",
    "plt.show()"
   ]
  },
  {
   "cell_type": "markdown",
   "metadata": {},
   "source": [
    "### Séparation calcul et affichage"
   ]
  },
  {
   "cell_type": "code",
   "execution_count": null,
   "metadata": {},
   "outputs": [],
   "source": [
    "plt.ion()"
   ]
  },
  {
   "cell_type": "markdown",
   "metadata": {},
   "source": [
    "On voit qu'on a appelé `FuncAnimation` avec `frames=50` et `interval=40` (ms); ce qui correspond donc à 25 images par seconde, soit une durée de deux secondes.\n",
    "\n",
    "Profitons-en pour voir tout de suite une amélioration possible. \n",
    "Il serait souhaitable de séparer :\n",
    "\n",
    "* d'une part la logique du calcul - ou de l'acquisition, si on voulait par exemple faire du postprocessing temps réel d'images vidéo,\n",
    "* et d'autre part l'affichage à proprement parler."
   ]
  },
  {
   "cell_type": "markdown",
   "metadata": {},
   "source": [
    "Pour cela, remarquez que le paramètre `frames` est documenté comme pouvant être **un itérateur**. La logique en fait à l'oeuvre dans `FuncAnimation` est que \n",
    "\n",
    "* `frames` est un itérateur qui va énumérer des données,\n",
    "* à chaque frame cet itérateur est avancé avec `next()`, et son retour est passé à la fonction d'affichage.\n",
    "\n",
    "En guise de commodité, lorsqu'on passe comme ci-dessus `frames=200`, la fonction transforme cela en `frames=range(200)`. C'est pourquoi d'ailleurs il est important que `compute_and_display` accepte un paramètre unique, même si nous n'en avons pas eu besoin."
   ]
  },
  {
   "cell_type": "markdown",
   "metadata": {},
   "source": [
    "Cette constatation nous amène à une deuxième version, en concevant un **générateur** pour le calcul, qui est passé à `FuncAnimation` comme paramètre `frames`."
   ]
  },
  {
   "cell_type": "markdown",
   "metadata": {},
   "source": [
    "##### Version non interactive, mais avec séparation calcul / affichage"
   ]
  },
  {
   "cell_type": "code",
   "execution_count": null,
   "metadata": {},
   "outputs": [],
   "source": [
    "import numpy as np\n",
    "from matplotlib import pyplot as plt\n",
    "from matplotlib import animation\n",
    "\n",
    "figure2 = plt.figure(figsize=(4, 2))\n",
    "ax2 = plt.axes(xlim=(0, 2), ylim=(-1.5, 1.5))\n",
    "line2, = ax2.plot([], [], linewidth=2)\n",
    "\n",
    "# la vitesse de défilement\n",
    "speed = 1\n",
    "\n",
    "# remarquez qu'on n'a plus besoin de globale ici\n",
    "# une locale dans le générateur est bien plus propre\n",
    "\n",
    "# la logique du calcul est conçue comme un générateur\n",
    "def compute():\n",
    "    offset = 0.\n",
    "    # nous sommes dans un générateur, il n'y a pas \n",
    "    # de contrindication à tourner indéfiniment\n",
    "    while True:\n",
    "        offset += speed / 100\n",
    "        x = np.linspace(0, 2, 1000)\n",
    "        y = np.sin(2 * np.pi * (x - offset))\n",
    "        # on décide de retourner un tuple X, Y\n",
    "        # qui est passé tel-quel à l'affichage\n",
    "        yield x, y \n",
    "\n",
    "# la fonction qui affiche\n",
    "def display(frame):\n",
    "    # on retrouve nos deux éléments x et y\n",
    "    x, y = frame\n",
    "    # il n'y a plus qu'à les afficher\n",
    "    line2.set_data(x, y)\n",
    "    return line2,\n",
    "\n",
    "\n",
    "anim = animation.FuncAnimation(figure2,\n",
    "                               func=display,\n",
    "                               frames=compute(),\n",
    "                               interval=40, blit=True)\n",
    "plt.show()"
   ]
  },
  {
   "cell_type": "markdown",
   "metadata": {},
   "source": [
    "Cette fois l'animation ne se termine jamais, mais dans le notebook vous pouvez cliquer le bouton bleu en haut à droite de la figure pour la faire cesser."
   ]
  },
  {
   "cell_type": "markdown",
   "metadata": {},
   "source": [
    "### Avec interactivité"
   ]
  },
  {
   "cell_type": "markdown",
   "metadata": {},
   "source": [
    "Pour rendre ceci interactif, nous allons simplement ajouter un widget qui nous permettra de régler la vitesse de défilement. "
   ]
  },
  {
   "cell_type": "markdown",
   "metadata": {},
   "source": [
    "##### Version interactive avec widget pour choisir la vitesse"
   ]
  },
  {
   "cell_type": "code",
   "execution_count": null,
   "metadata": {},
   "outputs": [],
   "source": [
    "import numpy as np\n",
    "from matplotlib import pyplot as plt\n",
    "from matplotlib import animation\n",
    "\n",
    "from IPython.display import display as display_widget\n",
    "from ipywidgets import IntSlider\n",
    "\n",
    "figure3 = plt.figure(figsize=(4, 2))\n",
    "ax3 = plt.axes(xlim=(0, 2), ylim=(-1.5, 1.5))\n",
    "line3, = ax3.plot([], [], linewidth=2)\n",
    "\n",
    "# un widget pour choisir la vitesse de défilement\n",
    "speed_slider = IntSlider(min=1, max=10, value=3,\n",
    "                         description=\"Vitesse:\")\n",
    "\n",
    "def compute():\n",
    "    offset = 0.\n",
    "    # nous sommes dans un générateur, il n'y a pas \n",
    "    # de contrindication à tourner indéfiniment\n",
    "    while True:\n",
    "        # on accède à la vitesse via le widget\n",
    "        offset += speed_slider.value / 100\n",
    "        x = np.linspace(0, 2, 1000)\n",
    "        y = np.sin(2 * np.pi * (x - offset))\n",
    "        # on décide de retourner un tuple X, Y\n",
    "        # qui est passé tel-quel à l'affichage\n",
    "        yield x, y \n",
    "\n",
    "# la fonction qui affiche\n",
    "def display(frame):\n",
    "    # on retrouve nos deux éléments x et y\n",
    "    x, y = frame\n",
    "    # il n'y a plus qu'à les afficher\n",
    "    line3.set_data(x, y)\n",
    "    return line3,\n",
    "\n",
    "\n",
    "anim = animation.FuncAnimation(figure3,\n",
    "                               func=display,\n",
    "                               frames=compute(),\n",
    "                               interval=40, blit=True)\n",
    "\n",
    "display_widget(speed_slider)\n",
    "plt.show()"
   ]
  },
  {
   "cell_type": "markdown",
   "metadata": {},
   "source": [
    "### Conclusion"
   ]
  },
  {
   "cell_type": "markdown",
   "metadata": {},
   "source": [
    "Avec une approche de programmation plus traditionnelle, on pourrait penser avoir besoin de recourir à plusieurs *threads* pour implémenter ce genre de visualisation interactive.\n",
    "\n",
    "En effet, vous remarquerez que dans cette dernière version, en termes de parallèlisme, on peut avoir l'impression que 3 choses ont lieu principalement en même temps :\n",
    "\n",
    "* la logique de calcul, qui en substance est décrite comme un unique `while True:`,\n",
    "* la logique d'affichage, qui est cadencée par `FuncAnimation`,\n",
    "* et la logique interactive, qui gère le widget sur interaction de l'utilisateur.\n",
    "\n",
    "Le point à retenir ici est que, grâce à la fois au générateur et au notebook, on n'a pas du tout besoin de gérer soi-même cet aspect de programmation parallèle.\n",
    "\n",
    "Nous verrons d'ailleurs dans la semaine suivante comment le paradigme de programmation asynchrone de Python a été bâti, au dessus de cette capacité qu'offre le générateur, pour utiliser ce type d'approche de manière systématique, afin de faire tourner dans un seul *thread* et de manière transparente, un grand nombre de logiques."
   ]
  },
  {
   "cell_type": "markdown",
   "metadata": {},
   "source": [
    "### Pour en savoir plus\n",
    "\n",
    "Voyez : \n",
    "\n",
    "* [la documentation du module `animation`](https://matplotlib.org/api/animation_api.html),\n",
    "* ainsi que [le tutoriel dont on s'est inspiré pour ce notebook](https://jakevdp.github.io/blog/2012/08/18/matplotlib-animation-tutorial/), surtout pour voir d'autres animations plus élaborées."
   ]
  }
 ],
 "metadata": {
  "kernelspec": {
   "display_name": "Python 3",
   "language": "python",
   "name": "python3"
  },
  "language_info": {
   "codemirror_mode": {
    "name": "ipython",
    "version": 3
   },
   "file_extension": ".py",
   "mimetype": "text/x-python",
   "name": "python",
   "nbconvert_exporter": "python",
   "pygments_lexer": "ipython3",
   "version": "3.7.0"
  },
  "livereveal": {
   "auto_select": "code",
   "auto_select_fragment": true,
   "autolaunch": false,
   "backimage": "media/nologo.png",
   "height": "100%",
   "start_slideshow_at": "selected",
   "theme": "simple",
   "transition": "fade",
   "width": "100%"
  },
  "notebookname": "Animations interactives avec `matplotlib`",
  "version": "3.0"
 },
 "nbformat": 4,
 "nbformat_minor": 2
}
