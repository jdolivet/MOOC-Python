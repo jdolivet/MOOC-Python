{
 "cells": [
  {
   "cell_type": "markdown",
   "metadata": {},
   "source": [
    "<style>div.title-slide {    width: 100%;    display: flex;    flex-direction: row;            /* default value; can be omitted */    flex-wrap: nowrap;              /* default value; can be omitted */    justify-content: space-between;}</style><div class=\"title-slide\">\n",
    "<span style=\"float:left;\">Licence CC BY-NC-ND</span>\n",
    "<span>Thierry Parmentelat &amp; Arnaud Legout</span>\n",
    "<span><img src=\"media/both-logos-small-alpha.png\" style=\"display:inline\" /></span>\n",
    "</div>"
   ]
  },
  {
   "cell_type": "markdown",
   "metadata": {},
   "source": [
    "# Outils périphériques"
   ]
  },
  {
   "cell_type": "markdown",
   "metadata": {},
   "source": [
    "## Compléments - niveau intermédiaire"
   ]
  },
  {
   "cell_type": "markdown",
   "metadata": {},
   "source": [
    "Pour conclure le tronc commun de ce cours Python, nous allons très rapidement citer quelques outils qui ne sont pas nécessairement dans la bibliothèque standard, mais qui sont très largement utilisés dans l'écosystème python.\n",
    "\n",
    "Il s'agit d'une liste non exhaustive bien entendu."
   ]
  },
  {
   "cell_type": "markdown",
   "metadata": {},
   "source": [
    "### Distribution et packaging"
   ]
  },
  {
   "cell_type": "markdown",
   "metadata": {},
   "source": [
    "On l'a rapidement mentionné, il existe une infrastructure globale pour la distribution de librairies écrites en python. Celle-ci repose sur\n",
    "\n",
    "* un site web <https://pypi.org/> où l'on peut consulter les - très nombreuses - bibliothèques diffusées, avec leurs historiques et révisions,\n",
    "* un outil en ligne de commande `pip`, pour installer et mettre à jour ces bibliothèques (utiliser `pip3` comme `python3` si vous avez python2 installé en parallèle),\n",
    "* et enfin un système de packaging à destination des éditeurs.\n",
    "\n",
    "Je vous signale, par rapport à ce dernier point, que la bibliothèque standard vient avec un outil qui s'appelle `distutils`, qui est essentiellement obsolète, et qui n'est conservé que pour des questions de compatibilité. Si vous devez commencer depuis une feuille blanche le packaging d'une nouvelle librairie, je vous recommande d'utiliser plutôt `setuptools` qui est le standard de fait dans le domaine. "
   ]
  },
  {
   "cell_type": "markdown",
   "metadata": {},
   "source": [
    "Dans une domaine très voisin, l'outil `virtualenv` est très populaire également ; il permet de créer sur une seul machine, plusieurs environnements python avec des versions et contenus différents.\n",
    "\n",
    "C'est très utile si vous travaillez sur plusieurs projets, dont l'un a besoin de python-3.5 avec numpy et sans pandas, et Django-1.11, et un second avec python-3.6 sans numpy et avec Django-2.0."
   ]
  },
  {
   "cell_type": "markdown",
   "metadata": {},
   "source": [
    "Pour finir, on ne peut pas parler de packaging sans citer `conda`, l'outil de référence pour la packaging et les environnements virtuels en data science. Quelques références sur conda :\n",
    "\n",
    " * une documentation complète de conda <https://conda.io/docs/>\n",
    " * une excellente discussion (en anglais) sur le positionnement de `pip` et `conda` <http://jakevdp.github.io/blog/2016/08/25/conda-myths-and-misconceptions/>"
   ]
  },
  {
   "cell_type": "markdown",
   "metadata": {},
   "source": [
    "### Debugging"
   ]
  },
  {
   "cell_type": "markdown",
   "metadata": {},
   "source": [
    "Pour le debugging, la bibliothèque standard s'appelle `pdb`. Typiquement pour mettre un *breakpoint* on écrit :\n",
    "\n",
    "```python\n",
    "def foo(n):\n",
    "    n = n ** 2\n",
    "    # pour mettre un point d'arrêt\n",
    "    import pdb\n",
    "    pdb.set_trace()\n",
    "    # la suite de foo()\n",
    "    return n / 10\n",
    "```"
   ]
  },
  {
   "cell_type": "markdown",
   "metadata": {},
   "source": [
    "Je vous signale d'ailleurs qu'à partir de Python 3.7, il est recommandé d'utiliser la nouvelle fonction *built-in* _breakpoint()_ qui rend le même service."
   ]
  },
  {
   "cell_type": "markdown",
   "metadata": {},
   "source": [
    "### Tests"
   ]
  },
  {
   "cell_type": "markdown",
   "metadata": {},
   "source": [
    "Le module `unittest` de la bibliothèque standard fournit des fonctionnalités de base pour écrire des tests unitaires.\n",
    "\n",
    "Je vous signale par ailleurs des outils comme `nosetests` et `pytest`, qui ne sont pas dans la distribution standard, mais qui enrichissent les capacités de `unittest` pour en rendre l'utilisation quotidienne plus fluide."
   ]
  },
  {
   "cell_type": "markdown",
   "metadata": {},
   "source": [
    "### Documentation"
   ]
  },
  {
   "cell_type": "markdown",
   "metadata": {},
   "source": [
    "Le standard de fait dans ce domaine est clairement une combinaison basée sur\n",
    "\n",
    "* l'outil `sphinx`, qui permet de générer la documentation à partir du source, avec\n",
    "  * des plugins pour divers sous-formats dans les docstrings,\n",
    "  * un système de templating,\n",
    "  * et de nombreuses autres possibilités ;\n",
    "* `readthedocs.io` qui est une plateforme ouverte pour l'hébergement des documentations ; elle-même facilement intégrable avec un repository type `github.io`, \n",
    "\n",
    "Pour vous donner une idée du résultat, je vous invite à consulter un module de ma facture :\n",
    "\n",
    "* les sources sur github sur <https://github.com/parmentelat/asynciojobs>, et notamment le sous-répertoire `sphinx`,\n",
    "* et la documentation en ligne sur <http://asynciojobs.readthedocs.io/>."
   ]
  },
  {
   "cell_type": "markdown",
   "metadata": {},
   "source": [
    "### Linter"
   ]
  },
  {
   "cell_type": "markdown",
   "metadata": {},
   "source": [
    "Au delà de la vérification automatique de la présentation du code (PEP8), il existe un outil `pylint` qui fait de l'analyse de code source en vue de détecter des erreurs le plus tôt possible dans le cycle de développement.\n",
    "\n",
    "En quelques mots, ma recommandation à ce sujet est que :\n",
    "\n",
    "* tout d'abord, et comme dans tous les langages en fait, il est **très utile** de faire passer systématiquement son code dans un linter de ce genre ;\n",
    "* idéalement on ne devrait commiter que du code qui passe cette étape ;\n",
    "* cependant, il y a un petit travail de filtrage à faire au démarrage, car pylint détecte plusieurs centaines de sortes d'erreurs, du coup il convient de passer un moment à configurer l'outil pour qu'il en ignore certaines."
   ]
  },
  {
   "cell_type": "markdown",
   "metadata": {},
   "source": [
    "Dès que vous commencez à travailler sur des projets sérieux, vous devez utiliser un éditeur qui intègre et exécute automatiquement `pylint`. On peut notamment recommander [PyCharm](https://www.jetbrains.com/pycharm/). "
   ]
  },
  {
   "cell_type": "markdown",
   "metadata": {},
   "source": [
    "### Type hints"
   ]
  },
  {
   "cell_type": "markdown",
   "metadata": {},
   "source": [
    "Je voudrais citer enfin l'outil `mypy` qui est un complément crucial dans la mise en oeuvre des *type hints*. \n",
    "\n",
    "Comme on l'a vu en Semaine 4 dans la séquence consacrée aux type hints, et en tous cas jusque Python-3.6, les annotations de typage que vous insérez éventuellement dans votre code sont complètement ignorées de l'interpréteur. \n",
    "\n",
    "Elles sont par contre analysées par l'outil `mypy` qui fournit une sorte de couche supplémentaire de *linter* et permet de détecter, ici encore, les éventuelles erreurs qui peuvent résulter notamment d'une mauvaise utilisation de telle ou telle librairie."
   ]
  },
  {
   "cell_type": "markdown",
   "metadata": {},
   "source": [
    "### Conclusion"
   ]
  },
  {
   "cell_type": "markdown",
   "metadata": {},
   "source": [
    "À nouveau cette liste n'est pas exhaustive, elle s'efforce simplement de guider vos premiers pas dans cet écosystème.\n",
    "\n",
    "Je vous invite à creuser de votre coté les différents aspects qui, parmi cette liste, vous semblent les plus intéressants pour votre usage. "
   ]
  }
 ],
 "metadata": {
  "kernelspec": {
   "display_name": "Python 3",
   "language": "python",
   "name": "python3"
  },
  "language_info": {
   "codemirror_mode": {
    "name": "ipython",
    "version": 3
   },
   "file_extension": ".py",
   "mimetype": "text/x-python",
   "name": "python",
   "nbconvert_exporter": "python",
   "pygments_lexer": "ipython3",
   "version": "3.7.0"
  },
  "livereveal": {
   "auto_select": "code",
   "auto_select_fragment": true,
   "autolaunch": false,
   "backimage": "media/nologo.png",
   "height": "100%",
   "start_slideshow_at": "selected",
   "theme": "simple",
   "transition": "fade",
   "width": "100%"
  },
  "notebookname": "Outils périphériques",
  "version": "3.0"
 },
 "nbformat": 4,
 "nbformat_minor": 2
}