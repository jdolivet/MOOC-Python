{
 "cells": [
  {
   "cell_type": "markdown",
   "metadata": {},
   "source": [
    "<span>Thierry Parmentelat &amp; Arnaud Legout</span>\n",
    "<span><img src=\"../media/both-logos-small-alpha.png\"/></span>\n",
    "<span>Licence CC BY-NC-ND</span> "
   ]
  },
  {
   "cell_type": "markdown",
   "metadata": {},
   "source": [
    "# Installer la distribution standard Python"
   ]
  },
  {
   "cell_type": "markdown",
   "metadata": {},
   "source": [
    "## Complément - niveau basique"
   ]
  },
  {
   "cell_type": "markdown",
   "metadata": {},
   "source": [
    "Ce complément a pour but de vous donner quelques guides pour l'installation de la distribution standard Python 3.\n",
    "\n",
    "Notez bien qu'il ne s'agit ici que d'indications, il existe de nombreuses façons de procéder.\n",
    "\n",
    "En cas de souci, commencez par chercher par vous-même, sur Google ou autre, une solution à votre problème ; pensez également à utiliser le forum du cours."
   ]
  },
  {
   "cell_type": "markdown",
   "metadata": {},
   "source": [
    "Le point important est de **bien vérifier le numéro de version** de votre installation qui doit être **au moins 3.6**"
   ]
  },
  {
   "cell_type": "markdown",
   "metadata": {},
   "source": [
    "## Sachez à qui vous parlez "
   ]
  },
  {
   "cell_type": "markdown",
   "metadata": {},
   "source": [
    "Mais avant qu'on n'avance sur l'installation proprement dite, il nous faut insister sur un point qui déroute parfois les débutants. On a parfois besoin de recourir à l'emploi d'un terminal, surtout justement pendant la phase d'installation. \n",
    "\n",
    "Lorsque c'est le cas, il est important de bien distinguer :\n",
    "\n",
    "* les cas où on s'adresse **au terminal** (en jargon, on dit le *shell*), \n",
    "* et les cas où on s'adresse à **l'interpréteur Python**.\n",
    "\n",
    "C'est très important car ces deux programmes ne parlent **pas** du tout le **même langage** ! \n",
    "Il peut arriver au début qu'on écrive une commande juste, mais au mauvais interlocuteur, et cela peut être source de frustration. Essayons de bien comprendre ce point."
   ]
  },
  {
   "cell_type": "markdown",
   "metadata": {},
   "source": [
    "### Le terminal\n",
    "\n",
    "Je peux dire que je parle à mon **terminal** quand l'invite de commande (en jargon on dit le *prompt*) **se termine par un dollar `$`** - ou un simple chevron `>` sur Windows \n",
    "\n",
    "Par exemple sur un mac :\n",
    "\n",
    "```bash\n",
    "~/git/flotpython/w1 $ \n",
    "```\n",
    "\n",
    "Ou sur Windows :\n",
    "\n",
    "```bash\n",
    "C:\\Users>\n",
    "```"
   ]
  },
  {
   "cell_type": "markdown",
   "metadata": {},
   "source": [
    "### L'interprète Python\n",
    "\n",
    "À partir du terminal, je peux lancer un **interpréteur Python**, qui se reconnaît car son prompt est fait de **3 chevrons `>>> `**\n",
    "\n",
    "```bash\n",
    "~/git/flotpython/w1 $ python3\n",
    "Python 3.7.0 (default, Jun 29 2018, 20:14:27)\n",
    "[Clang 9.0.0 (clang-900.0.39.2)] on darwin\n",
    "Type \"help\", \"copyright\", \"credits\" or \"license\" for more information.\n",
    ">>>\n",
    "```"
   ]
  },
  {
   "cell_type": "markdown",
   "metadata": {},
   "source": [
    "Pour sortir de l'interpréteur Python, et retourner au terminal, j'utilise la fonction Python `exit()` :\n",
    "\n",
    "```bash\n",
    "~/git/flotpython/w1 $ python3\n",
    ">>> 20 * 60\n",
    "1200\n",
    ">>> exit()\n",
    "~/git/flotpython/w1 $ python3\n",
    "```    "
   ]
  },
  {
   "cell_type": "markdown",
   "metadata": {},
   "source": [
    "### Les erreurs typiques\n",
    "\n",
    "Gardez bien cette distinction présente à l'esprit, lorsque vous lisez la suite. \n",
    "Voici quelques symptômes habituels de ce qu'on obtient si on se trompe.\n",
    "\n",
    "Par exemple, la commande `python3 -V` est une commande qui s'adresse au terminal ; c'est pourquoi nous la faisons précéder d'un dollar `$ `.\n",
    "\n",
    "Si vous essayez de la taper alors que vous êtes déjà dans un interpréteur python - ou sous IDLE d'ailleurs -, vous obtenez un message d'erreur de ce genre :\n",
    "\n",
    "```bash\n",
    ">>> python3 -V\n",
    "Traceback (most recent call last):\n",
    "  File \"<stdin>\", line 1, in <module>\n",
    "NameError: name 'python3' is not defined\n",
    "```"
   ]
  },
  {
   "cell_type": "markdown",
   "metadata": {},
   "source": [
    "Réciproquement, si vous essayez de taper du Python directement dans un terminal, ça se passe mal aussi, forcément. Par exemple sur Mac, avec des fragments Python tout simples :\n",
    "\n",
    "```bash\n",
    "~/git/flotpython/w1 $ import math\n",
    "-bash: import: command not found\n",
    "~/git/flotpython/w1 $ 30 * 60\n",
    "-bash: 30: command not found\n",
    "~/git/flotpython/w1 $ foo = 30 * 60\n",
    "-bash: foo: command not found\n",
    "```"
   ]
  },
  {
   "cell_type": "markdown",
   "metadata": {},
   "source": [
    "## Digression - coexistence de Python2 et Python3"
   ]
  },
  {
   "cell_type": "markdown",
   "metadata": {},
   "source": [
    "Avant l'arrivée de la version 3 de Python, les choses étaient simples, on exécutait un programme Python avec une seule commande `python`. Depuis 2014-2015, maintenant que les deux versions de Python coexistent, il est nécessaire d'adopter une convention qui permette d'installer les deux langages sous des noms qui sont non-ambigus.\n",
    "\n",
    "C'est pourquoi actuellement, on trouve **le plus souvent** la convention suivante sous Linux et macOS :\n",
    "\n",
    "* `python3` est pour exécuter les programmes en Python-3 ; du coup on trouve alors également les commandes comme `idle3` pour lancer IDLE, et par exemple `pip3` pour le gestionnaire de paquets (voir ci-dessous) ;\n",
    "\n",
    "* `python2` est pour exécuter les programmes en Python-2, avec typiquement `idle2` et `pip2` ;\n",
    "\n",
    "* enfin selon les systèmes, la commande `python` tout court est un alias pour `python2` ou `python3`. De plus en plus souvent, par défaut `python` désigne `python3`.\n",
    "\n",
    "à titre d'illustration, voici ce que j'obtiens sur mon mac :\n",
    "\n",
    "```bash\n",
    "$ python3 -V\n",
    "Python 3.6.2\n",
    "$ python2 -V\n",
    "Python 2.7.13\n",
    "$ python -V\n",
    "Python 3.6.2\n",
    "```\n",
    "\n",
    "Sous Windows, vous avez un lanceur qui s'appelle `py`. Par défaut, il lance la version de Python la plus récente installée, mais vous pouvez spécifier une version spécifique de la manière suivante&nbsp;:\n",
    "\n",
    "```bash\n",
    "C:\\> py -2.7\n",
    "```\n",
    "\n",
    "pour lancer, par exemple, Python en version 2.7. Vous trouverez [toute la documentation nécessaire pour Windows sur cette page (en anglais)](https://docs.python.org/3/using/windows.html)\n",
    "\n",
    "Pour éviter d'éventuelles confusions, nous précisons toujours `python3` dans le cours."
   ]
  },
  {
   "cell_type": "markdown",
   "metadata": {},
   "source": [
    "## Installation de base"
   ]
  },
  {
   "cell_type": "markdown",
   "metadata": {},
   "source": [
    "### Vous utilisez Windows"
   ]
  },
  {
   "cell_type": "markdown",
   "metadata": {},
   "source": [
    "La méthode recommandée sur Windows est de partir de la page [https://www.python.org/download](https://www.python.org/download)\n",
    "où vous trouverez un programme d'installation qui contient tout ce dont vous aurez besoin pour suivre le cours.\n",
    "\n",
    "Pour vérifier que vous êtes prêt, il vous faut lancer IDLE (quelque part dans le menu Démarrer) et vérifier le numéro de version."
   ]
  },
  {
   "cell_type": "markdown",
   "metadata": {},
   "source": [
    "### Vous utilisez macOS"
   ]
  },
  {
   "cell_type": "markdown",
   "metadata": {},
   "source": [
    "Ici encore, la méthode recommandée est de partir de la page [https://www.python.org/download](https://www.python.org/download)\n",
    "et d'utiliser le programme d'installation.\n",
    "\n",
    "Sachez aussi, si vous utilisez déjà MacPorts [https://www.macports.org](https://www.macports.org), que vous pouvez également utiliser cet outil pour installer, par exemple Python 3.6, avec la commande"
   ]
  },
  {
   "cell_type": "markdown",
   "metadata": {},
   "source": [
    "```bash\n",
    "$ sudo port install python36\n",
    "```"
   ]
  },
  {
   "cell_type": "markdown",
   "metadata": {},
   "source": [
    "### Vous utilisez Linux"
   ]
  },
  {
   "cell_type": "markdown",
   "metadata": {},
   "source": [
    "Dans ce cas il est très probable que Python-3.x soit déjà disponible sur votre machine. Pour vous en assurer, essayez de lancer la commande `python3` dans un terminal."
   ]
  },
  {
   "cell_type": "markdown",
   "metadata": {},
   "source": [
    "##### RHEL / Fedora"
   ]
  },
  {
   "cell_type": "markdown",
   "metadata": {},
   "source": [
    "Voici par exemple ce qu'on obtient depuis un terminal sur une machine installée en Fedora-20 :"
   ]
  },
  {
   "cell_type": "markdown",
   "metadata": {},
   "source": [
    "```bash\n",
    "$ python3\n",
    "Python 3.6.2 (default, Jul 20 2017, 12:30:02)\n",
    "[GCC 6.3.1 20161221 (Red Hat 6.3.1-1)] on linux\n",
    "Type \"help\", \"copyright\", \"credits\" or \"license\" for more information.\n",
    ">>> exit()\n",
    "```"
   ]
  },
  {
   "cell_type": "markdown",
   "metadata": {},
   "source": [
    "**Vérifiez bien le numéro de version** qui doit être en 3.*x*. Si vous obtenez un message du style `python3: command not found` utilisez `dnf` (anciennement connu sous le nom de `yum`) pour installer le rpm `python3` comme ceci :"
   ]
  },
  {
   "cell_type": "markdown",
   "metadata": {},
   "source": [
    "```bash\n",
    "$ sudo dnf install python3\n",
    "```"
   ]
  },
  {
   "cell_type": "markdown",
   "metadata": {},
   "source": [
    "S'agissant d'`idle`, l'éditeur que nous utilisons dans le cours (optionnel si vous êtes familier avec un éditeur de texte), vérifiez sa présence comme ceci :"
   ]
  },
  {
   "cell_type": "markdown",
   "metadata": {},
   "source": [
    "```bash\n",
    "$ type idle3\n",
    "idle is hashed (/usr/bin/idle3)\n",
    "```"
   ]
  },
  {
   "cell_type": "markdown",
   "metadata": {},
   "source": [
    "Ici encore, si la commande n'est pas disponible vous pouvez l'installer avec :"
   ]
  },
  {
   "cell_type": "markdown",
   "metadata": {},
   "source": [
    "```bash\n",
    "$ sudo yum install python3-tools\n",
    "```"
   ]
  },
  {
   "cell_type": "markdown",
   "metadata": {},
   "source": [
    "##### Debian / Ubuntu"
   ]
  },
  {
   "cell_type": "markdown",
   "metadata": {},
   "source": [
    "Ici encore, Python-2.7 est sans doute déjà disponible. Procédez comme ci-dessus, voici un exemple recueilli dans un terminal sur une machine installée en Ubuntu-14.04/trusty :"
   ]
  },
  {
   "cell_type": "markdown",
   "metadata": {},
   "source": [
    "```bash\n",
    "$ python3\n",
    "Python 3.6.2 (default, Jul 20 2017, 12:30:02)\n",
    "[GCC 6.3.1 20161221 (Red Hat 6.3.1-1)] on linux\n",
    "Type \"help\", \"copyright\", \"credits\" or \"license\" for more information.\n",
    ">>> exit()\n",
    "```"
   ]
  },
  {
   "cell_type": "markdown",
   "metadata": {},
   "source": [
    "Pour installer Python :"
   ]
  },
  {
   "cell_type": "markdown",
   "metadata": {},
   "source": [
    "```bash\n",
    "$ sudo apt-get install python3\n",
    "```"
   ]
  },
  {
   "cell_type": "markdown",
   "metadata": {},
   "source": [
    "Pour installer idle :"
   ]
  },
  {
   "cell_type": "markdown",
   "metadata": {},
   "source": [
    "```bash\n",
    "$ sudo apt-get install idle3\n",
    "```"
   ]
  },
  {
   "cell_type": "markdown",
   "metadata": {},
   "source": [
    "### Installation de bibliothèques complémentaires"
   ]
  },
  {
   "cell_type": "markdown",
   "metadata": {},
   "source": [
    "Il existe un outil très pratique pour installer des bibliothèques Python, il s'appelle `pip3`, [qui est documenté ici](https://pypi.python.org/pypi/pip)"
   ]
  },
  {
   "cell_type": "markdown",
   "metadata": {},
   "source": [
    "Sachez aussi, si par ailleurs vous utilisez un gestionnaire de paquets comme `rpm` sur RHEL, `apt-get` sur Debian, ou `port` sur macOS, que de nombreux paquets sont également disponibles au travers de ces outils."
   ]
  },
  {
   "cell_type": "markdown",
   "metadata": {},
   "source": [
    "### Anaconda"
   ]
  },
  {
   "cell_type": "markdown",
   "metadata": {},
   "source": [
    "Sachez qu'il existe beaucoup de distributions alternatives qui incluent Python ; parmi elles, la plus populaire est sans aucun doute [Anaconda](https://www.anaconda.com/), qui contient un grand nombre de bibliothèques de calcul scientifique, et également d'ailleurs Jupyter pour travailler nativement sur des notebooks au format `.ipynb`.\n",
    "\n",
    "Anaconda vient avec son propre gestionnaire de paquets pour l'installation de bibliothèques supplémentaires qui s'appelle `conda`."
   ]
  }
 ],
 "metadata": {
  "kernelspec": {
   "display_name": "Python 3",
   "language": "python",
   "name": "python3"
  },
  "language_info": {
   "codemirror_mode": {
    "name": "ipython",
    "version": 3
   },
   "file_extension": ".py",
   "mimetype": "text/x-python",
   "name": "python",
   "nbconvert_exporter": "python",
   "pygments_lexer": "ipython3",
   "version": "3.7.0"
  },
  "livereveal": {
   "auto_select": "code",
   "auto_select_fragment": true,
   "autolaunch": false,
   "backimage": "media/nologo.png",
   "height": "100%",
   "slideNumber": "c",
   "start_slideshow_at": "selected",
   "theme": "simple",
   "transition": "fade",
   "width": "100%"
  },
  "notebookname": "Installer Python",
  "version": "3.0"
 },
 "nbformat": 4,
 "nbformat_minor": 2
}
