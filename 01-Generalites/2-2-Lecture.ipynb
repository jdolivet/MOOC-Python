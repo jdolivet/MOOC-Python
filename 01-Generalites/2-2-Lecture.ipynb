{
 "cells": [
  {
   "cell_type": "markdown",
   "metadata": {},
   "source": [
    "<span>Thierry Parmentelat &amp; Arnaud Legout</span>\n",
    "<span><img src=\"../media/both-logos-small-alpha.png\"/></span>\n",
    "<span>Licence CC BY-NC-ND</span> "
   ]
  },
  {
   "cell_type": "markdown",
   "metadata": {},
   "source": [
    "# Un peu de lecture"
   ]
  },
  {
   "cell_type": "markdown",
   "metadata": {},
   "source": [
    "## Complément - niveau basique"
   ]
  },
  {
   "cell_type": "markdown",
   "metadata": {},
   "source": [
    "### Mise à jour de Juillet 2018"
   ]
  },
  {
   "cell_type": "markdown",
   "metadata": {},
   "source": [
    "Le 12 Juillet 2018, Guido van Rossum [a annoncé qu'il quittait la fonction de BDFL](https://lwn.net/Articles/759654/) qu'il occupait depuis près de trois décennies. Il n'est pas tout à fait clair à ce stade comment va évoluer la gouvernance de Python."
   ]
  },
  {
   "cell_type": "markdown",
   "metadata": {},
   "source": [
    "### Le Zen de Python"
   ]
  },
  {
   "cell_type": "markdown",
   "metadata": {},
   "source": [
    "Vous pouvez lire le \"Zen de Python\", qui résume la philosophie du langage, en important le module `this` avec ce code&nbsp;: (pour exécuter ce code, cliquez dans la cellule de code, et faites au clavier \"Majuscule/Entrée\" ou \"Shift/Enter\")"
   ]
  },
  {
   "cell_type": "code",
   "execution_count": null,
   "metadata": {},
   "outputs": [],
   "source": [
    "# le Zen de Python\n",
    "import this"
   ]
  },
  {
   "cell_type": "markdown",
   "metadata": {},
   "source": [
    "### Documentation"
   ]
  },
  {
   "cell_type": "markdown",
   "metadata": {},
   "source": [
    "* On peut commencer par citer l'[article de Wikipédia sur Python en français](http://fr.wikipedia.org/wiki/Python_%28langage%29).\n",
    "* La [page sur le langage en français](https://wiki.python.org/moin/FrenchLanguage).\n",
    "* La [documentation originale](https://docs.python.org/3/) de Python 3 - donc, en anglais - est un très bon point d'entrée lorsqu'on cherche un sujet particulier, mais (beaucoup) trop abondante pour être lue d'un seul trait. Pour chercher de la documentation sur un module particulier, le plus simple est encore d'utiliser Google - ou votre moteur de recherche favori - qui vous redirigera, dans la grande majorité des cas, vers la page qui va bien dans, précisément, la documentation de Python.\n",
    "\n",
    "  À titre d'exercice, cherchez la documentation du module `pathlib` en [cherchant sur Google](https://www.google.fr/search?q=python+module+pathlib) les mots-clé `\"python module pathlib\"`.\n",
    "\n",
    "* J'aimerais vous signaler également une initiative pour [traduire la documentation officielle en français](https://docs.python.org/fr/3/)."
   ]
  },
  {
   "cell_type": "markdown",
   "metadata": {},
   "source": [
    "### Historique et survol"
   ]
  },
  {
   "cell_type": "markdown",
   "metadata": {},
   "source": [
    "* La FAQ officielle de Python (en anglais) sur [les choix de conception et l'historique du langage](https://docs.python.org/3/faq/design.html).\n",
    "* L'article de Wikipédia (en anglais) sur l'[historique du langage](http://en.wikipedia.org/wiki/History_of_Python).\n",
    "* Sur Wikipédia, un article (en anglais) sur [la syntaxe et la sémantique de Python](http://en.wikipedia.org/wiki/Python_syntax_and_semantics)."
   ]
  },
  {
   "cell_type": "markdown",
   "metadata": {},
   "source": [
    "### Un peu de folklore"
   ]
  },
  {
   "cell_type": "markdown",
   "metadata": {},
   "source": [
    "* Le [discours de Guido van Rossum à PyCon 2016](https://www.youtube.com/watch?v=YgtL4S7Hrwo).\n",
    "* Sur YouTube, le [sketch des Monty Python](https://www.youtube.com/watch?v=anwy2MPT5RE) d'où proviennent les termes `spam`, `eggs` et autres `beans` que l'on utilise traditionnellement dans les exemples en Python plutôt que `foo` et `bar`.\n",
    "* L'[article Wikipédia correspondant](http://en.wikipedia.org/wiki/Spam_%28Monty_Python%29), qui cite le langage Python."
   ]
  },
  {
   "cell_type": "markdown",
   "metadata": {},
   "source": [
    "## Complément - niveau intermédiaire"
   ]
  },
  {
   "cell_type": "markdown",
   "metadata": {},
   "source": [
    "### Licence"
   ]
  },
  {
   "cell_type": "markdown",
   "metadata": {},
   "source": [
    "* La [licence d'utilisation est disponible ici](https://docs.python.org/3/license.html).\n",
    "* La page de la [Python Software Foundation](https://www.python.org/psf/), qui est une entité légale similaire à nos associations de 1901, à but non lucratif&nbsp;; elle possède les droits sur le langage."
   ]
  },
  {
   "cell_type": "markdown",
   "metadata": {},
   "source": [
    "### Le processus de développement"
   ]
  },
  {
   "cell_type": "markdown",
   "metadata": {},
   "source": [
    "* Comment les choix d'évolution sont proposés et discutés, [au travers des PEP (Python Enhancement Proposals) - sur wikipedia](http://en.wikipedia.org/wiki/Python_%28programming_language%29#Development)\n",
    "* [Le premier PEP: PEP-001 donc](http://legacy.python.org/dev/peps/pep-0001/) décrit en détail le cycle de vie des PEPs\n",
    "* Le [PEP 008](http://legacy.python.org/dev/peps/pep-0008), qui préconise un style de présentation (*style guide*)\n",
    "* L'[index de tous les PEPs](http://legacy.python.org/dev/peps/)\n"
   ]
  }
 ],
 "metadata": {
  "kernelspec": {
   "display_name": "Python 3",
   "language": "python",
   "name": "python3"
  },
  "language_info": {
   "codemirror_mode": {
    "name": "ipython",
    "version": 3
   },
   "file_extension": ".py",
   "mimetype": "text/x-python",
   "name": "python",
   "nbconvert_exporter": "python",
   "pygments_lexer": "ipython3",
   "version": "3.7.0"
  },
  "livereveal": {
   "auto_select": "code",
   "auto_select_fragment": true,
   "autolaunch": false,
   "backimage": "media/nologo.png",
   "height": "100%",
   "slideNumber": "c",
   "start_slideshow_at": "selected",
   "theme": "simple",
   "transition": "fade",
   "width": "100%"
  },
  "notebookname": "De la lecture",
  "version": "3.0"
 },
 "nbformat": 4,
 "nbformat_minor": 2
}
