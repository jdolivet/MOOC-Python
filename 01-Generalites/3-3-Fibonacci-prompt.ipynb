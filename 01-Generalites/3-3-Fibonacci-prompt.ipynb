{
 "cells": [
  {
   "cell_type": "markdown",
   "metadata": {},
   "source": [
    "<div>Thierry Parmentelat &amp; Arnaud Legout</div>\n",
    "<div align=\"center\"><img src=\"../media/both-logos-small-alpha.png\"/></div>\n",
    "<div align=\"right\">Licence CC BY-NC-ND</div>\n",
    "\n",
    "---\n"
   ]
  },
  {
   "cell_type": "markdown",
   "metadata": {},
   "source": [
    "# La suite de Fibonacci"
   ]
  },
  {
   "cell_type": "markdown",
   "metadata": {},
   "source": [
    "## Complément - niveau basique"
   ]
  },
  {
   "cell_type": "markdown",
   "metadata": {},
   "source": [
    "Voici un premier exemple de code qui tourne.\n",
    "\n",
    "Nous allons commencer par le faire tourner dans ce notebook. Nous verrons en fin de séance comment le faire fonctionner localement sur votre ordinateur."
   ]
  },
  {
   "cell_type": "markdown",
   "metadata": {},
   "source": [
    "Le but de ce programme est de calculer la [suite de Fibonacci](https://fr.wikipedia.org/wiki/Suite_de_Fibonacci), qui est définie comme ceci&nbsp;:\n",
    "\n",
    "* $u_0 = 1$\n",
    "* $u_1 = 1$\n",
    "* $\\forall n >= 2, u_n = u_{n-1} + u_{n-2}$\n",
    "\n",
    "Ce qui donne pour les premières valeurs :"
   ]
  },
  {
   "cell_type": "markdown",
   "metadata": {},
   "source": [
    "| n | fibonacci(n) |\n",
    "|---|--------------|\n",
    "| 0 | 1            |\n",
    "| 1 | 1            |\n",
    "| 2 | 2            |\n",
    "| 3 | 3            |\n",
    "| 4 | 5            |\n",
    "| 5 | 8            |\n",
    "| 6 | 13           |"
   ]
  },
  {
   "cell_type": "markdown",
   "metadata": {},
   "source": [
    "On commence par définir la fonction `fibonacci` comme il suit. Naturellement vous n'avez pas encore tout le bagage pour lire ce code, ne vous inquiétez pas, nous allons vous expliquer tout ça dans les prochaines semaines. Le but est uniquement de vous montrer un fonctionnement de l'interpréteur Python et de IDLE."
   ]
  },
  {
   "cell_type": "code",
   "execution_count": null,
   "metadata": {
    "collapsed": true
   },
   "outputs": [],
   "source": [
    "def fibonacci(n):\n",
    "    \"retourne le nombre de fibonacci pour l'entier n\"\n",
    "    # pour les petites valeurs de n il n'y a rien à calculer\n",
    "    if n <= 1:\n",
    "        return 1\n",
    "    # sinon on initialise f1 pour n-1 et f2 pour n-2\n",
    "    f2, f1 = 1, 1\n",
    "    # et on itère n-1 fois pour additionner\n",
    "    for i in range(2, n + 1):\n",
    "        f2, f1 = f1, f1 + f2\n",
    "#        print(i, f2, f1)\n",
    "    # le résultat est dans f1\n",
    "    return f1"
   ]
  },
  {
   "cell_type": "markdown",
   "metadata": {},
   "source": [
    "Pour en faire un programme utilisable on va demander à l'utilisateur de rentrer un nombre&nbsp;; il faut le convertir en entier car `input` renvoie une chaîne de caractères :"
   ]
  },
  {
   "cell_type": "code",
   "execution_count": null,
   "metadata": {
    "latex:hidden-code-instead": "entier = 12"
   },
   "outputs": [],
   "source": [
    "entier = int(input(\"Entrer un entier \"))"
   ]
  },
  {
   "cell_type": "markdown",
   "metadata": {},
   "source": [
    "On imprime le résultat :"
   ]
  },
  {
   "cell_type": "code",
   "execution_count": null,
   "metadata": {},
   "outputs": [],
   "source": [
    "print(f\"fibonacci({entier}) = {fibonacci(entier)}\")"
   ]
  },
  {
   "cell_type": "markdown",
   "metadata": {},
   "source": [
    "### Exercice"
   ]
  },
  {
   "cell_type": "markdown",
   "metadata": {},
   "source": [
    "Vous pouvez donc à présent&nbsp;:\n",
    "\n",
    "* exécuter le code dans ce notebook\n",
    "* télécharger ce code sur votre disque comme un fichier `fibonacci_prompt.py`\n",
    "  * utiliser pour cela le menu *\"File -> Download as -> Python\"*\n",
    "  * et **renommer le fichier obtenu** au besoin\n",
    "* l'exécuter sous IDLE\n",
    "* le modifier, par exemple pour afficher les résultats intermédiaires\n",
    "  * on a laissé exprès une fonction `print` en commentaire que vous pouvez réactiver simplement\n",
    "* l'exécuter avec l'interpréteur Python comme ceci :\n",
    "\n",
    "```bash\n",
    "$ python3 fibonacci_prompt.py\n",
    "```"
   ]
  },
  {
   "cell_type": "markdown",
   "metadata": {},
   "source": [
    "Ce code est volontairement simple et peu robuste pour ne pas l'alourdir. Par exemple, ce programme se comporte mal si vous entrez un entier négatif."
   ]
  },
  {
   "cell_type": "markdown",
   "metadata": {},
   "source": [
    "Nous allons voir tout de suite une version légèrement différente qui va vous permettre de donner la valeur d'entrée sur la ligne de commande."
   ]
  }
 ],
 "metadata": {
  "kernelspec": {
   "display_name": "Python 3",
   "language": "python",
   "name": "python3"
  },
  "language_info": {
   "codemirror_mode": {
    "name": "ipython",
    "version": 3
   },
   "file_extension": ".py",
   "mimetype": "text/x-python",
   "name": "python",
   "nbconvert_exporter": "python",
   "pygments_lexer": "ipython3",
   "version": "3.6.6"
  },
  "livereveal": {
   "auto_select": "code",
   "auto_select_fragment": true,
   "autolaunch": false,
   "backimage": "media/nologo.png",
   "height": "100%",
   "slideNumber": "c",
   "start_slideshow_at": "selected",
   "theme": "simple",
   "transition": "fade",
   "width": "100%"
  },
  "notebookname": "Fibonacci",
  "version": "3.0"
 },
 "nbformat": 4,
 "nbformat_minor": 2
}
