{
 "cells": [
  {
   "cell_type": "markdown",
   "metadata": {},
   "source": [
    "# Généralités"
   ]
  },
  {
   "cell_type": "markdown",
   "metadata": {},
   "source": [
    "## Versions de Python"
   ]
  },
  {
   "cell_type": "markdown",
   "metadata": {},
   "source": [
    "* ### [Version de python](1-Versions-python.ipynb)"
   ]
  },
  {
   "cell_type": "markdown",
   "metadata": {},
   "source": [
    "## Pourquoi Python ?"
   ]
  },
  {
   "cell_type": "markdown",
   "metadata": {},
   "source": [
    "<a href=\"http://www.youtube.com/watch?feature=player_embedded&v=FNVhm0w3FwA\n",
    "\" target=\"_blank\"><img src=\"http://img.youtube.com/vi/FNVhm0w3FwA/0.jpg\" \n",
    "alt=\"Vidéo du cours\" width=\"240\" height=\"180\" border=\"10\" /></a>"
   ]
  },
  {
   "cell_type": "markdown",
   "metadata": {},
   "source": [
    "* ### [Installer la distribution standard Python](2-1-Installer-python.ipynb)\n",
    "* ### [Un peu de lecture](2-2-Lecture.ipynb)"
   ]
  },
  {
   "cell_type": "markdown",
   "metadata": {},
   "source": [
    "## Les notebooks"
   ]
  },
  {
   "cell_type": "markdown",
   "metadata": {},
   "source": [
    "<a href=\"http://www.youtube.com/watch?feature=player_embedded&v=rZJIYK9y4Gg\n",
    "\" target=\"_blank\"><img src=\"http://img.youtube.com/vi/rZJIYK9y4Gg/0.jpg\" \n",
    "alt=\"Vidéo du cours\" width=\"240\" height=\"180\" border=\"10\" /></a>"
   ]
  },
  {
   "cell_type": "markdown",
   "metadata": {},
   "source": [
    "* ### [Utiliser les notebooks](3-1-Utiliser-les-notebooks.ipynb)\n",
    "* ### [Modes d'éxécution](3-2-Interpreteur-et-notebooks.ipynb)\n",
    "* ### [Suite de Fibonacci 1](3-3-Fibonacci-prompt.ipynb)\n",
    "* ### [Suite de Fibonacci 2](3-4-Fibonacci.ipynb)\n",
    "* ### [Ligne shebang](3-5-Shebang.ipynb)"
   ]
  },
  {
   "cell_type": "markdown",
   "metadata": {},
   "source": [
    "## Outils périphériques"
   ]
  },
  {
   "cell_type": "markdown",
   "metadata": {},
   "source": [
    "* ### [Outils périphériques](4-Outils-annexes.ipynb)"
   ]
  }
 ],
 "metadata": {
  "kernelspec": {
   "display_name": "Python 3",
   "language": "python",
   "name": "python3"
  },
  "language_info": {
   "codemirror_mode": {
    "name": "ipython",
    "version": 3
   },
   "file_extension": ".py",
   "mimetype": "text/x-python",
   "name": "python",
   "nbconvert_exporter": "python",
   "pygments_lexer": "ipython3",
   "version": "3.6.6"
  }
 },
 "nbformat": 4,
 "nbformat_minor": 2
}
