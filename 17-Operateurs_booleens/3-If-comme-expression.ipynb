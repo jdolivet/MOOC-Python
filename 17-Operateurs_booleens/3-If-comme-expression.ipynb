{
 "cells": [
  {
   "cell_type": "markdown",
   "metadata": {},
   "source": [
    "<style>div.title-slide {    width: 100%;    display: flex;    flex-direction: row;            /* default value; can be omitted */    flex-wrap: nowrap;              /* default value; can be omitted */    justify-content: space-between;}</style><div class=\"title-slide\">\n",
    "<span style=\"float:left;\">Licence CC BY-NC-ND</span>\n",
    "<span>Thierry Parmentelat &amp; Arnaud Legout</span>\n",
    "<span><img src=\"media/both-logos-small-alpha.png\" style=\"display:inline\" /></span>\n",
    "</div>"
   ]
  },
  {
   "cell_type": "markdown",
   "metadata": {},
   "source": [
    "# Une forme alternative du `if`"
   ]
  },
  {
   "cell_type": "markdown",
   "metadata": {},
   "source": [
    "## Complément - niveau basique"
   ]
  },
  {
   "cell_type": "markdown",
   "metadata": {},
   "source": [
    "### Expressions et instructions"
   ]
  },
  {
   "cell_type": "markdown",
   "metadata": {},
   "source": [
    "Les constructions python que nous avons vues jusqu'ici peuvent se ranger en deux familles :\n",
    "\n",
    "* d'une part les **expressions** sont les fragments de code qui **retournent une valeur** ;\n",
    "  * c'est le cas lorsqu'on invoque n'importe quel opérateur numérique, pour les appels de fonctions, ...\n",
    "* d'autre part les **instructions** ;\n",
    "  * dans cette famille, nous avons vu par exemple l'affectation et `if`, et nous en verrons bien d'autres.\n",
    "\n",
    "La différence essentielle est que les expressions peuvent être combinées entre elles pour faire des expressions arbitrairement grosses. Aussi, si vous avez un doute pour savoir si vous avez affaire à une expression ou à une instruction, demandez-vous si vous pourriez utiliser ce code **comme membre droit d'une affectation**. Si oui, vous avez une expression.    "
   ]
  },
  {
   "cell_type": "markdown",
   "metadata": {},
   "source": [
    "### `if` est une instruction"
   ]
  },
  {
   "cell_type": "markdown",
   "metadata": {},
   "source": [
    "La forme du `if` qui vous a été présentée pendant la vidéo ne peut pas servir à renvoyer une valeur, c'est donc une **instruction**."
   ]
  },
  {
   "cell_type": "markdown",
   "metadata": {},
   "source": [
    "Imaginons maintenant qu'on veuille écrire quelque chose d'aussi simple que *\"affecter à y la valeur 12 ou 35, selon que x est vrai ou non\"*."
   ]
  },
  {
   "cell_type": "markdown",
   "metadata": {},
   "source": [
    "Avec les notions introduites jusqu'ici, il nous faudrait écrire ceci :"
   ]
  },
  {
   "cell_type": "code",
   "execution_count": null,
   "metadata": {},
   "outputs": [],
   "source": [
    "x = True  # ou quoi que ce soit d'autre\n",
    "if x:\n",
    "    y = 12\n",
    "else:\n",
    "    y = 35\n",
    "print(y)"
   ]
  },
  {
   "cell_type": "markdown",
   "metadata": {},
   "source": [
    "### Expression conditionnelle"
   ]
  },
  {
   "cell_type": "markdown",
   "metadata": {},
   "source": [
    "Il existe en Python une expression qui fait le même genre de test ; c'est la forme dite d'**expression conditionnelle**, qui est une **expression à part entière**, avec la syntaxe :\n",
    "\n",
    "```python\n",
    "<résultat_si_vrai> if <condition> else <résultat_si_faux>\n",
    "```"
   ]
  },
  {
   "cell_type": "markdown",
   "metadata": {},
   "source": [
    "Ainsi on pourrait écrire l'exemple ci-dessus de manière plus simple et plus concise comme ceci :"
   ]
  },
  {
   "cell_type": "code",
   "execution_count": null,
   "metadata": {},
   "outputs": [],
   "source": [
    "y = 12 if x else 35\n",
    "print(y)"
   ]
  },
  {
   "cell_type": "markdown",
   "metadata": {},
   "source": [
    "Cette construction peut souvent rendre le style de programmation plus fonctionnel et plus fluide."
   ]
  },
  {
   "cell_type": "markdown",
   "metadata": {},
   "source": [
    "## Complément - niveau intermédiaire"
   ]
  },
  {
   "cell_type": "markdown",
   "metadata": {},
   "source": [
    "### Imbrications"
   ]
  },
  {
   "cell_type": "markdown",
   "metadata": {},
   "source": [
    "Puisque cette forme est une expression, on peut l'utiliser dans une autre expression conditionnelle, comme ici :"
   ]
  },
  {
   "cell_type": "code",
   "execution_count": null,
   "metadata": {},
   "outputs": [],
   "source": [
    "# on veut calculer en fonction d'une entrée x\n",
    "# une sortie qui vaudra\n",
    "# -1 si x < -10\n",
    "# 0 si -10 <= x <= 10\n",
    "# 1 si x > 10\n",
    "\n",
    "x = 5 # ou quoi que ce soit d'autre\n",
    "\n",
    "valeur = -1 if x < -10 else (0 if x <= 10 else 1)\n",
    "\n",
    "print(valeur)"
   ]
  },
  {
   "cell_type": "markdown",
   "metadata": {},
   "source": [
    "Remarquez bien que cet exemple est équivalent à la ligne\n",
    "\n",
    "```python\n",
    "valeur = -1 if x < -10 else 0 if x <= 10 else 1\n",
    "```\n",
    "\n",
    "mais qu'il est fortement recommandé d'utiliser, comme on l'a fait, un parenthésage pour lever toute ambiguïté."
   ]
  },
  {
   "cell_type": "markdown",
   "metadata": {},
   "source": [
    "### Pour en savoir plus"
   ]
  },
  {
   "cell_type": "markdown",
   "metadata": {},
   "source": [
    " * La section sur les [expressions conditionnelles](https://docs.python.org/3/reference/expressions.html#conditional-expressions) de la documentation Python.\n",
    " * Le [PEP308](http://legacy.python.org/dev/peps/pep-0308/) qui résume les discussions ayant donné lieu au choix de la syntaxe adoptée.\n",
    "\n",
    "De manière générale, les PEP rassemblent les discussions préalables à toutes les évolutions majeures du langage Python."
   ]
  }
 ],
 "metadata": {
  "kernelspec": {
   "display_name": "Python 3",
   "language": "python",
   "name": "python3"
  },
  "language_info": {
   "codemirror_mode": {
    "name": "ipython",
    "version": 3
   },
   "file_extension": ".py",
   "mimetype": "text/x-python",
   "name": "python",
   "nbconvert_exporter": "python",
   "pygments_lexer": "ipython3",
   "version": "3.6.3"
  },
  "livereveal": {
   "auto_select": "code",
   "auto_select_fragment": true,
   "autolaunch": false,
   "backimage": "media/nologo.png",
   "height": "100%",
   "slideNumber": "c",
   "start_slideshow_at": "selected",
   "theme": "simple",
   "transition": "fade",
   "width": "100%"
  },
  "notebookname": "`if` comme expression",
  "version": "3.0"
 },
 "nbformat": 4,
 "nbformat_minor": 1
}
