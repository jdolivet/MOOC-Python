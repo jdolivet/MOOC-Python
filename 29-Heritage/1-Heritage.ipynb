{
 "cells": [
  {
   "cell_type": "markdown",
   "metadata": {},
   "source": [
    "<style>div.title-slide {    width: 100%;    display: flex;    flex-direction: row;            /* default value; can be omitted */    flex-wrap: nowrap;              /* default value; can be omitted */    justify-content: space-between;}</style><div class=\"title-slide\">\n",
    "<span style=\"float:left;\">Licence CC BY-NC-ND</span>\n",
    "<span>Thierry Parmentelat &amp; Arnaud Legout</span>\n",
    "<span><img src=\"media/both-logos-small-alpha.png\" style=\"display:inline\" /></span>\n",
    "</div>"
   ]
  },
  {
   "cell_type": "markdown",
   "metadata": {},
   "source": [
    "# Héritage"
   ]
  },
  {
   "cell_type": "markdown",
   "metadata": {},
   "source": [
    "## Complément - niveau basique"
   ]
  },
  {
   "cell_type": "markdown",
   "metadata": {},
   "source": [
    "La notion d'héritage, qui fait partie intégrante de la Programmation Orientée Objet, permet principalement de maximiser la **réutilisabilité**. \n",
    "\n",
    "Nous avons vu dans la vidéo les mécanismes d'héritage *in abstracto*. Pour résumer très brièvement, on recherche un attribut (pour notre propos, disons une méthode) à partir d'une instance en cherchant :\n",
    "\n",
    "* d'abord dans l'instance elle-même ;\n",
    "* puis dans la classe de l'instance ;\n",
    "* puis dans les super-classes de la classe."
   ]
  },
  {
   "cell_type": "markdown",
   "metadata": {},
   "source": [
    "L'objet de ce complément est de vous donner, d'un point de vue plus appliqué, des idées de ce que l'on peut faire ou non avec ce mécanisme. Le sujet étant assez rabâché par ailleurs, nous nous concentrerons sur deux points :\n",
    "\n",
    "* les pratiques de base utilisées pour la conception de classes, et notamment pour bien distinguer **héritage** et **composition** ;\n",
    "* nous verrons ensuite, sur des **exemples extraits de code réel**, comment ces mécanismes permettent en effet de contribuer à la réutilisabilité du code."
   ]
  },
  {
   "cell_type": "markdown",
   "metadata": {},
   "source": [
    "### Plusieurs formes d'héritage"
   ]
  },
  {
   "cell_type": "markdown",
   "metadata": {},
   "source": [
    "Une méthode héritée peut être rangée dans une de ces trois catégories :\n",
    "\n",
    "* *implicite* : si la classe fille ne définit pas du tout la méthode ;\n",
    "* *redéfinie* : si on récrit la méthode entièrement ;\n",
    "* *modifiée* : si on récrit la méthode dans la classe fille, mais en utilisant le code de la classe mère."
   ]
  },
  {
   "cell_type": "markdown",
   "metadata": {},
   "source": [
    "Commençons par illustrer tout ceci sur un petit exemple :"
   ]
  },
  {
   "cell_type": "code",
   "execution_count": null,
   "metadata": {
    "collapsed": true
   },
   "outputs": [],
   "source": [
    "# Une classe mère\n",
    "class Fleur:\n",
    "    def implicite(self):\n",
    "        print('Fleur.implicite')\n",
    "    def redefinie(self):\n",
    "        print('Fleur.redéfinie')\n",
    "    def modifiee(self):\n",
    "        print('Fleur.modifiée')\n",
    "\n",
    "# Une classe fille\n",
    "class Rose(Fleur):\n",
    "    # on ne définit pas implicite\n",
    "    # on rédéfinit complètement redefinie\n",
    "    def redefinie(self):\n",
    "        print('Rose.redefinie')\n",
    "    # on change un peu le comportement de modifiee\n",
    "    def modifiee(self):\n",
    "        Fleur.modifiee(self)\n",
    "        print('Rose.modifiee apres Fleur')"
   ]
  },
  {
   "cell_type": "markdown",
   "metadata": {},
   "source": [
    "On peut à présent créer une instance de Rose et appeler sur cette instance les trois méthodes."
   ]
  },
  {
   "cell_type": "code",
   "execution_count": null,
   "metadata": {},
   "outputs": [],
   "source": [
    "# fille est une instance de Rose\n",
    "fille = Rose()\n",
    "\n",
    "fille.implicite()"
   ]
  },
  {
   "cell_type": "code",
   "execution_count": null,
   "metadata": {},
   "outputs": [],
   "source": [
    "fille.redefinie()"
   ]
  },
  {
   "cell_type": "markdown",
   "metadata": {},
   "source": [
    "S'agissant des deux premières méthodes, le comportement qu'on observe est simplement la conséquence de l'algorithme de recherche d'attributs : `implicite` est trouvée dans la classe Fleur et `redefinie` est trouvée dans la classe Rose."
   ]
  },
  {
   "cell_type": "code",
   "execution_count": null,
   "metadata": {},
   "outputs": [],
   "source": [
    "fille.modifiee()"
   ]
  },
  {
   "cell_type": "markdown",
   "metadata": {},
   "source": [
    "Pour la troisième méthode, attardons-nous un peu car on voit ici comment *combiner* facilement le code de la classe mère avec du code spécifique à la classe fille, en appelant explicitement la méthode de la classe mère lorsqu'on fait :\n",
    "\n",
    "```python\n",
    "Fleur.modifiee(self)\n",
    "```"
   ]
  },
  {
   "cell_type": "markdown",
   "metadata": {},
   "source": [
    "##### La fonction *built-in* `super()`"
   ]
  },
  {
   "cell_type": "markdown",
   "metadata": {},
   "source": [
    "Signalons à ce sujet, pour être exhaustif, l'existence de la [fonction *built-in* `super()`](https://docs.python.org/3/library/functions.html#super) qui permet de réaliser la même chose sans nommer explicitement la classe mère, comme on le fait ici :"
   ]
  },
  {
   "cell_type": "code",
   "execution_count": null,
   "metadata": {
    "collapsed": true
   },
   "outputs": [],
   "source": [
    "# Une version allégée de la classe fille, qui utilise super()\n",
    "class Rose(Fleur):\n",
    "    def modifiee(self):\n",
    "        super().modifiee()\n",
    "        print('Rose.modifiee apres Fleur')"
   ]
  },
  {
   "cell_type": "code",
   "execution_count": null,
   "metadata": {},
   "outputs": [],
   "source": [
    "fille = Rose()\n",
    "\n",
    "fille.modifiee()"
   ]
  },
  {
   "cell_type": "markdown",
   "metadata": {},
   "source": [
    "On peut envisager d'utiliser `super()` dans du code très abstrait où on ne sait pas déterminer statiquement le nom de la classe dont il est question. Mais, c'est une question de goût évidemment, je recommande personnellement la première forme, où on qualifie la méthode avec le nom de la classe mère qu'on souhaite utiliser. En effet, assez souvent :\n",
    "\n",
    "* on sait déterminer le nom de la classe dont il est question ;\n",
    "* ou alors on veut mélanger plusieurs méthodes héritées (via l'héritage multiple, dont on va parler dans un prochain complément) et dans ce cas `super()` ne peut rien pour nous.\n"
   ]
  },
  {
   "cell_type": "markdown",
   "metadata": {},
   "source": [
    "### Héritage *vs* Composition"
   ]
  },
  {
   "cell_type": "markdown",
   "metadata": {},
   "source": [
    "Dans le domaine de la conception orientée objet, on fait la différence entre deux constructions, l'héritage et la composition, qui à une analyse superficielle peuvent paraître procurer des résultats similaires, mais qu'il est important de bien distinguer. \n",
    "\n",
    "Voyons d'abord en quoi consiste la composition et pourquoi le résultat est voisin :"
   ]
  },
  {
   "cell_type": "code",
   "execution_count": null,
   "metadata": {
    "collapsed": true
   },
   "outputs": [],
   "source": [
    "# Une classe avec qui on n'aura pas de relation d'héritage\n",
    "class Tige:\n",
    "    def implicite(self):\n",
    "        print('Tige.implicite')\n",
    "    def redefinie(self):\n",
    "        print('Tige.redefinie')\n",
    "    def modifiee(self):\n",
    "        print('Tige.modifiee')\n",
    "\n",
    "# on n'hérite pas\n",
    "# mais on fait ce qu'on appelle une composition\n",
    "# avec la classe Tige\n",
    "class Rose:\n",
    "    # mais pour chaque objet de la classe Rose\n",
    "    # on va créer un objet de la classe Tige\n",
    "    # et le conserver dans un champ\n",
    "    def __init__(self):\n",
    "        self.externe = Tige()\n",
    "\n",
    "    # le reste est presque comme tout à l'heure\n",
    "    # sauf qu'il faut definir implicite\n",
    "    def implicite(self):\n",
    "        self.externe.implicite()\n",
    "        \n",
    "    # on redéfinit complètement redefinie\n",
    "    def redefinie(self):\n",
    "        print('Rose.redefinie')\n",
    "        \n",
    "    def modifiee(self):\n",
    "        self.externe.modifiee()\n",
    "        print('Rose.modifiee apres Tige')"
   ]
  },
  {
   "cell_type": "code",
   "execution_count": null,
   "metadata": {},
   "outputs": [],
   "source": [
    "# on obtient ici exactement le même comportement \n",
    "# pour les trois sortes de méthodes\n",
    "fille = Rose()\n",
    "\n",
    "fille.implicite()\n",
    "fille.redefinie()\n",
    "fille.modifiee()"
   ]
  },
  {
   "cell_type": "markdown",
   "metadata": {},
   "source": [
    "##### Comment choisir ?"
   ]
  },
  {
   "cell_type": "markdown",
   "metadata": {},
   "source": [
    "Alors, quand faut-il utiliser l'héritage et quand faut-il utiliser la composition ?  \n",
    "On arrive ici à la limite de notre cours, il s'agit plus de conception que de codage à proprement parler, mais pour donner une réponse très courte à cette question :\n",
    "\n",
    "* on utilise l'héritage lorsqu'un objet de la sous-classe **est aussi un** objet de la super-classe (une rose est aussi une fleur) ;\n",
    "* on utilise la composition lorsqu'un objet de la sous-classe **a une relation avec** un objet de la super-classe (une rose possède une tige, mais c'est un autre objet)."
   ]
  },
  {
   "cell_type": "markdown",
   "metadata": {},
   "source": [
    "## Complément - niveau intermédiaire"
   ]
  },
  {
   "cell_type": "markdown",
   "metadata": {},
   "source": [
    "### Des exemples de code"
   ]
  },
  {
   "cell_type": "markdown",
   "metadata": {},
   "source": [
    "Sans transition, dans cette section un peu plus prospective, nous vous avons signalé quelques morceaux de code de la bibliothèque standard qui utilisent l'héritage. Sans aller nécessairement jusqu'à la lecture de ces codes, il nous a semblé intéressant de commenter spécifiquement l'usage qui est fait de l'héritage dans ces bibliothèques."
   ]
  },
  {
   "cell_type": "markdown",
   "metadata": {},
   "source": [
    "##### Le module `calendar`"
   ]
  },
  {
   "cell_type": "markdown",
   "metadata": {},
   "source": [
    "On trouve dans la bibliothèque standard [le module `calendar`](https://docs.python.org/3/library/calendar.html). \n",
    "Ce module expose deux classes `TextCalendar` et `HTMLCalendar`. Sans entrer du tout dans le détail, ces deux classes permettent d'imprimer dans des formats différents le même type d'informations.\n",
    "\n",
    "Le point ici est que les concepteurs ont choisi un graphe d'héritage comme ceci :\n",
    "\n",
    "```python\n",
    "    Calendar\n",
    "    |-- TextCalendar\n",
    "    |-- HTMLCalendar\n",
    "```\n",
    "\n",
    "qui permet de grouper le code concernant la logique dans la classe `Calendar`, puis dans les deux sous-classes d'implémenter le type de sortie qui va bien. \n",
    "\n",
    "C'est l'utilisateur qui choisit la classe qui lui convient le mieux, et de cette manière, le maximum de code est partagé entre les deux classes ; et de plus si vous avez besoin d'une sortie au format, disons PDF, vous pouvez envisager d'hériter de `Calendar` et de n'implémenter que la partie spécifique au format PDF.\n",
    "\n",
    "C'est un peu le niveau élémentaire de l'héritage."
   ]
  },
  {
   "cell_type": "markdown",
   "metadata": {},
   "source": [
    "##### Le module `SocketServer`"
   ]
  },
  {
   "cell_type": "markdown",
   "metadata": {},
   "source": [
    "Toujours dans la bibliothèque standard, le [module `SocketServer`](https://docs.python.org/3/library/socketserver.html) fait un usage beaucoup plus sophistiqué de l'héritage.\n",
    "\n",
    "Le module propose une hiérarchie de classes comme ceci :"
   ]
  },
  {
   "cell_type": "markdown",
   "metadata": {},
   "source": [
    "```python\n",
    "    +------------+\n",
    "    | BaseServer |\n",
    "    +------------+\n",
    "          |\n",
    "          v\n",
    "    +-----------+        +------------------+\n",
    "    | TCPServer |------->| UnixStreamServer |\n",
    "    +-----------+        +------------------+\n",
    "          |\n",
    "          v\n",
    "    +-----------+        +--------------------+\n",
    "    | UDPServer |------->| UnixDatagramServer |\n",
    "    +-----------+        +--------------------+\n",
    "```"
   ]
  },
  {
   "cell_type": "markdown",
   "metadata": {},
   "source": [
    "Ici encore notre propos n'est pas d'entrer dans les détails, mais d'observer le fait que les différents *niveaux d'intelligence* sont ajoutés les uns aux les autres au fur et à mesure que l'on descend le graphe d'héritage.\n",
    "\n",
    "Cette hiérarchie est par ailleurs étendue par le [module `http.server`](https://docs.python.org/3/library/http.server.html) et notamment au travers de la classe [`HTTPServer`](https://docs.python.org/3/library/http.server.html#http.server.HTTPServer) qui hérite de `TCPServer`."
   ]
  },
  {
   "cell_type": "markdown",
   "metadata": {},
   "source": [
    "Pour revenir au module `SocketServer`, j'attire votre attention dans [la page d'exemples](https://docs.python.org/3/library/socketserver.html#examples) sur [cet exemple en particuler](\n",
    "https://docs.python.org/3/library/socketserver.html#asynchronous-mixins), où on crée une classe de serveurs multi-threads (la classe `ThreadedTCPServer`) par simple héritage multiple entre `ThreadingMixIn` et `TCPServer`. La notion de `Mixin` est [décrite dans cette page Wikipédia](http://en.wikipedia.org/wiki/Mixin) dans laquelle vous pouvez accéder directement [à la section consacrée à Python](http://en.wikipedia.org/wiki/Mixin#In_Python)."
   ]
  }
 ],
 "metadata": {
  "kernelspec": {
   "display_name": "Python 3",
   "language": "python",
   "name": "python3"
  },
  "language_info": {
   "codemirror_mode": {
    "name": "ipython",
    "version": 3
   },
   "file_extension": ".py",
   "mimetype": "text/x-python",
   "name": "python",
   "nbconvert_exporter": "python",
   "pygments_lexer": "ipython3",
   "version": "3.7.0"
  },
  "livereveal": {
   "auto_select": "code",
   "auto_select_fragment": true,
   "autolaunch": false,
   "backimage": "media/nologo.png",
   "height": "100%",
   "slideNumber": "c",
   "start_slideshow_at": "selected",
   "theme": "simple",
   "transition": "fade",
   "width": "100%"
  },
  "notebookname": "Héritage",
  "version": "3.0"
 },
 "nbformat": 4,
 "nbformat_minor": 1
}
