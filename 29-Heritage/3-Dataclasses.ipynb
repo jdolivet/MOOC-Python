{
 "cells": [
  {
   "cell_type": "markdown",
   "metadata": {},
   "source": [
    "<style>div.title-slide {    width: 100%;    display: flex;    flex-direction: row;            /* default value; can be omitted */    flex-wrap: nowrap;              /* default value; can be omitted */    justify-content: space-between;}</style><div class=\"title-slide\">\n",
    "<span style=\"float:left;\">Licence CC BY-NC-ND</span>\n",
    "<span>Thierry Parmentelat &amp; Arnaud Legout</span>\n",
    "<span><img src=\"media/both-logos-small-alpha.png\" style=\"display:inline\" /></span>\n",
    "</div>"
   ]
  },
  {
   "cell_type": "markdown",
   "metadata": {},
   "source": [
    "# `dataclasses` \n",
    "\n",
    "\n",
    "***Nouveauté de la version 3.7***\n",
    "\n",
    "Python 3.7 apporte un nouveauté pour simplifier la définition de classes dites \"de données\" ; ce type de classes s'applique pour des objets qui sont essentiellement un assemblage de quelques champs de données."
   ]
  },
  {
   "cell_type": "markdown",
   "metadata": {},
   "source": [
    "Comme cette capacité n'est disponible qu'à partir de Python 3.7 et que le cours est basé sur Python 3.6, nous n'aurons pas la possibilité de manipuler directement ce nouveau concept. Voici toutefois quelques exemples pour vous donner un aperçu de ce qu'on peut faire de cette notion."
   ]
  },
  {
   "cell_type": "markdown",
   "metadata": {},
   "source": [
    "### Aperçu"
   ]
  },
  {
   "cell_type": "markdown",
   "metadata": {},
   "source": [
    "La raison d'être de `dataclass` est de fournir - encore un - moyen de définir des classes d'enregistrements.\n",
    "\n",
    "Voici par exemple comment on pourrait définir une classe `Personne`:"
   ]
  },
  {
   "cell_type": "markdown",
   "metadata": {},
   "source": [
    "```python\n",
    ">>> from dataclasses import dataclass\n",
    ">>>\n",
    ">>> @dataclass\n",
    "... class Personne:\n",
    "...     nom: str\n",
    "...     age: int\n",
    "...     email: str = \"\"\n",
    "...\n",
    ">>> personne = Personne(nom='jean', age=12)\n",
    ">>>\n",
    ">>> print(personne)\n",
    "Personne(nom='jean', age=12, email='')\n",
    ">>>\n",
    "```"
   ]
  },
  {
   "cell_type": "markdown",
   "metadata": {},
   "source": [
    "### Instances non mutables"
   ]
  },
  {
   "cell_type": "markdown",
   "metadata": {},
   "source": [
    "Le décorateur `dataclass` accepte divers arguments pour choisir le comportement de certains aspects de la classe. Reportez-vous à la documentation pour une liste complète, mais voici un exemple qui utilise `frozen=True` et qui illustre la possibilité de créer des instances non mutables. Nous retrouvons ici le même scénario d'ensemble de points que nous avons déjà rencontré plusieurs fois :"
   ]
  },
  {
   "cell_type": "markdown",
   "metadata": {},
   "source": [
    "```python\n",
    ">>> import sys; print(sys.version)\n",
    "3.7.0 (default, Jun 29 2018, 20:14:27)\n",
    "[Clang 9.0.0 (clang-900.0.39.2)]\n",
    "```"
   ]
  },
  {
   "cell_type": "markdown",
   "metadata": {},
   "source": [
    "```python\n",
    ">>> from dataclasses import dataclass\n",
    ">>>\n",
    ">>> @dataclass(frozen=True)\n",
    "... class Point:\n",
    "...     x: float\n",
    "...     y: float\n",
    "...\n",
    "...     def __eq__(self, other):\n",
    "...         return self.x == other.x and self.y == other.y\n",
    "...\n",
    "...     def __hash__(self):\n",
    "...         return (11 * self.x + self.y) // 16\n",
    "...\n",
    ">>> p1, p2, p3 = Point(1, 1), Point(1, 1), Point(1, 1)\n",
    ">>>\n",
    ">>> s = {p1, p2}\n",
    ">>> len(s)\n",
    "1\n",
    ">>>\n",
    ">>> p3 in s\n",
    "True\n",
    ">>>\n",
    ">>> try:\n",
    "...     p1.x = 10\n",
    "... except Exception as e:\n",
    "...     print(f\"OOPS {type(e)}\")\n",
    "...\n",
    "OOPS <class 'dataclasses.FrozenInstanceError'>\n",
    "```"
   ]
  },
  {
   "cell_type": "markdown",
   "metadata": {},
   "source": [
    "### Pour aller plus loin"
   ]
  },
  {
   "cell_type": "markdown",
   "metadata": {},
   "source": [
    "Vous pouvez vous rapporter\n",
    "\n",
    "* [au PEP 557](https://www.python.org/dev/peps/pep-0557/) qui a abouti au consensus, et\n",
    "* [à la documentation officielle du module](https://docs.python.org/3/library/dataclasses.html)."
   ]
  }
 ],
 "metadata": {
  "kernelspec": {
   "display_name": "Python 3",
   "language": "python",
   "name": "python3"
  },
  "language_info": {
   "codemirror_mode": {
    "name": "ipython",
    "version": 3
   },
   "file_extension": ".py",
   "mimetype": "text/x-python",
   "name": "python",
   "nbconvert_exporter": "python",
   "pygments_lexer": "ipython3",
   "version": "3.7.0"
  },
  "livereveal": {
   "auto_select": "code",
   "auto_select_fragment": true,
   "autolaunch": false,
   "backimage": "media/nologo.png",
   "height": "100%",
   "start_slideshow_at": "selected",
   "theme": "simple",
   "transition": "fade",
   "width": "100%"
  },
  "notebookname": "dataclasses",
  "version": "3.0"
 },
 "nbformat": 4,
 "nbformat_minor": 2
}
