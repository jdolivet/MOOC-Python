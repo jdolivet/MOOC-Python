{
 "cells": [
  {
   "cell_type": "markdown",
   "metadata": {},
   "source": [
    "# Notions de variable, d'objet et typage dynamique"
   ]
  },
  {
   "cell_type": "markdown",
   "metadata": {},
   "source": [
    "<a href=\"http://www.youtube.com/watch?feature=player_embedded&v=vSsTKNCSKnU\n",
    "\" target=\"_blank\"><img src=\"http://img.youtube.com/vi/vSsTKNCSKnU/0.jpg\" \n",
    "alt=\"Vidéo du cours\" width=\"240\" height=\"180\" border=\"10\" /></a>"
   ]
  },
  {
   "cell_type": "markdown",
   "metadata": {},
   "source": [
    "* ## [Noms de variables](1-Noms-de-variables.ipynb)\n",
    "* ## [Les mots-clés de python](2-Mots-cles.ipynb)\n",
    "* ## [Un peu de calcul sur les types](3-Introduction-types.ipynb)\n",
    "* ## [Gestion de la mémoire](4-Garbage-collector.ipynb)\n",
    "* ## [Typages statique et dynamique](5-Type-checking.ipynb)"
   ]
  }
 ],
 "metadata": {
  "kernelspec": {
   "display_name": "Python 3",
   "language": "python",
   "name": "python3"
  },
  "language_info": {
   "codemirror_mode": {
    "name": "ipython",
    "version": 3
   },
   "file_extension": ".py",
   "mimetype": "text/x-python",
   "name": "python",
   "nbconvert_exporter": "python",
   "pygments_lexer": "ipython3",
   "version": "3.6.6"
  }
 },
 "nbformat": 4,
 "nbformat_minor": 2
}
