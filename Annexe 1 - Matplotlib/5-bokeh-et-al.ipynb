{
 "cells": [
  {
   "cell_type": "markdown",
   "metadata": {},
   "source": [
    "<style>div.title-slide {    width: 100%;    display: flex;    flex-direction: row;            /* default value; can be omitted */    flex-wrap: nowrap;              /* default value; can be omitted */    justify-content: space-between;}</style><div class=\"title-slide\">\n",
    "<span style=\"float:left;\">Licence CC BY-NC-ND</span>\n",
    "<span>Thierry Parmentelat &amp; Arnaud Legout</span>\n",
    "<span><img src=\"media/both-logos-small-alpha.png\" style=\"display:inline\" /></span>\n",
    "</div>"
   ]
  },
  {
   "cell_type": "markdown",
   "metadata": {},
   "source": [
    "# Autres bibliothèques de visualisation"
   ]
  },
  {
   "cell_type": "markdown",
   "metadata": {},
   "source": [
    "## Complément - niveau basique"
   ]
  },
  {
   "cell_type": "markdown",
   "metadata": {},
   "source": [
    "Pour conclure cette séquence sur les outils de visualisation, nous allons très rapidement évoquer des alternatives à la bibliothèque `matplotlib`, sachant qu'il existe en réalité un très grand nombre de bibliothèques en développement dans ce domaine en pleine expansion."
   ]
  },
  {
   "cell_type": "markdown",
   "metadata": {},
   "source": [
    "### Le poids du passé"
   ]
  },
  {
   "cell_type": "markdown",
   "metadata": {},
   "source": [
    "On a vu que `matplotlib` est un outil relativement complet. Toutefois, on peut lui reprocher deux défauts majeurs.\n",
    "\n",
    "* D'une part, `matplotlib` a choisi d'offrir une interface aussi proche que possible de ce qui existait préalablement en MatLab. C'est un choix tout à fait judicieux dans l'optique d'attirer la communauté utilisatrice de MatLab à des outils open source basés sur Python et numpy. Mais en contrepartie cela implique d'adopter tels quels des choix de conception.\n",
    "\n",
    "* Et notamment, en suivant cette approche on hérite d'un modèle mental qui est plus orienté vers la sortie vers du papier que vers la création de documents interactifs."
   ]
  },
  {
   "cell_type": "markdown",
   "metadata": {},
   "source": [
    "Ceci, ajouté à l'explosion du domaine de l'analyse et de la visualisation de données, explique la largeur de l'offre en matière de bibliothèques de visualisation alternatives."
   ]
  },
  {
   "cell_type": "markdown",
   "metadata": {},
   "source": [
    "### `bokeh`"
   ]
  },
  {
   "cell_type": "markdown",
   "metadata": {},
   "source": [
    "Parmi celles-ci, nous voulons vous signaler notamment la bibliothèque [`bokeh`](https://bokeh.pydata.org/en/latest/), qui est développée principalement par Anaconda, dans un modèle open source.\n",
    "\n",
    "`bokeh` présente quelques bonnes propriétés qui nous semblent mériter d'être signalées."
   ]
  },
  {
   "cell_type": "markdown",
   "metadata": {},
   "source": [
    "Pour commencer cette bibliothèque utilise une architecture qui permet de *penser la visualisation comme quelque chose d'interactif* (disons une page html), et non pas de figé comme lorsqu'on pense en termes de feuille de papier. Notamment elle permet de faire collaborer du code Python avec du code JavaScript, qui offre immédiatement des possibilités bien plus pertinentes lorsqu'il s'agit de créer des interactions utilisateur qui soient attractives et efficaces. Signalons en passant, à cet égard, qu'elle utilise [la librairie JavaScript `d3.js`](https://d3js.org/), qui est devenu un standard de fait plus ou moins incontournable dans le domaine de la visualisation.\n",
    "\n",
    "En tout état de cause, elle offre une interface de programmation qui tient compte d'environnements comme les notebooks, ce qui peut s'avérer un atout précieux si vous utilisez massivement ce support, comme on va le voir, précisément, dans ce notebook."
   ]
  },
  {
   "cell_type": "markdown",
   "metadata": {},
   "source": [
    "Il peut aussi être intéressant de savoir que `bokeh` offre des possibilités natives de [visualisation de graphes](https://bokeh.pydata.org/en/latest/docs/user_guide/graph.html) et de [ données géographiques](https://bokeh.pydata.org/en/latest/docs/user_guide/geo.html#)."
   ]
  },
  {
   "cell_type": "markdown",
   "metadata": {},
   "source": [
    "Par contre à ce stade du développement, la visualisation en 3D n'est sans doute pas le point fort de `bokeh`. C'est une option qui reste possible (voir [par exemple ceci](https://github.com/bokeh/bokeh/tree/master/examples/app/surface3d)), mais cela est pour l'instant considéré comme une extension de la librairie, et donc n'est accessible qu'au prix de l'écriture de code javascript."
   ]
  },
  {
   "cell_type": "markdown",
   "metadata": {},
   "source": [
    "Pour une présentation plus complète, je vous renvoie à [la documentation utilisateur](https://bokeh.pydata.org/en/latest/docs/user_guide.html)."
   ]
  },
  {
   "cell_type": "markdown",
   "metadata": {},
   "source": [
    "### `bokeh` dans les notebooks"
   ]
  },
  {
   "cell_type": "markdown",
   "metadata": {},
   "source": [
    "Nous allons rapidement illustrer ici comment `bokeh` s'interface avec l'environnement des notebooks pour créer une visualisation interactive. Vous remarquerez que dans le code qui suit, on n'a **pas eu besoin de mentionner** de *magic* ipython, comme lorsqu'on avait du faire dans le complément sur les notebooks interactifs :\n",
    "\n",
    "```python\n",
    "%matplotlib notebook\n",
    "```"
   ]
  },
  {
   "cell_type": "code",
   "execution_count": null,
   "metadata": {},
   "outputs": [],
   "source": [
    "import numpy as np"
   ]
  },
  {
   "cell_type": "code",
   "execution_count": null,
   "metadata": {},
   "outputs": [],
   "source": [
    "# l'attirail de notebooks interactifs\n",
    "from ipywidgets import interact, fixed, FloatSlider"
   ]
  },
  {
   "cell_type": "code",
   "execution_count": null,
   "metadata": {},
   "outputs": [],
   "source": [
    "# les imports pour bokeh\n",
    "from bokeh.plotting import figure, show\n",
    "# dans la rubrique entrée-sortie, on trouve\n",
    "# les outils pour produire du html\n",
    "#  (le mode par défaut)\n",
    "# ou pour interactig avec un notebook\n",
    "from bokeh.io import push_notebook, output_notebook"
   ]
  },
  {
   "cell_type": "code",
   "execution_count": null,
   "metadata": {},
   "outputs": [],
   "source": [
    "# c'est cette déclaration qui remplace\n",
    "# si on veut la magic  '%matplotlib notebook'\n",
    "output_notebook()"
   ]
  },
  {
   "cell_type": "markdown",
   "metadata": {},
   "source": [
    "*****"
   ]
  },
  {
   "cell_type": "code",
   "execution_count": null,
   "metadata": {},
   "outputs": [],
   "source": [
    "# on crée un objet figure\n",
    "fig1 = figure(\n",
    "    title=\"fonctions trigonométriques\",\n",
    "    plot_height=300, plot_width=600,\n",
    "    # c'est là notamment qu'on précise\n",
    "    # l'intervalle en y\n",
    "    y_range=(-5, 5),\n",
    ")"
   ]
  },
  {
   "cell_type": "code",
   "execution_count": null,
   "metadata": {},
   "outputs": [],
   "source": [
    "# on initialise la figure en créant\n",
    "# un objet courbe\n",
    "x = np.linspace(0, 2*np.pi, 2000)\n",
    "y = np.sin(x)\n",
    "courbe_trigo = fig1.line(x, y, color=\"#2222aa\", line_width=3)"
   ]
  },
  {
   "cell_type": "code",
   "execution_count": null,
   "metadata": {},
   "outputs": [],
   "source": [
    "# la fonction de mise à jour, qui sera connectée\n",
    "# à interact\n",
    "def update_trigo(function_name, frequence=1,\n",
    "                 amplitude=1, phase=0,\n",
    "                 # l'objet handle correspond\n",
    "                 # à une figure à mettre à jour\n",
    "                 *, handle):\n",
    "    # juste une astuce pour pouvoir choisir\n",
    "    # la fonction trigonométrique, qu'on recherche\n",
    "    # dans le module numpy\n",
    "    func = getattr(np, function_name)\n",
    "    # c'est ici qu'on modifie les données\n",
    "    # utilisées pour produire la courbe\n",
    "    courbe_trigo.data_source.data['y'] = \\\n",
    "       amplitude * func(frequence * x + phase)\n",
    "    # et c'est ici qu'on provoque la mise à jour\n",
    "    push_notebook(handle)"
   ]
  },
  {
   "cell_type": "code",
   "execution_count": null,
   "metadata": {},
   "outputs": [],
   "source": [
    "# au moment où matérialise l'objet figure\n",
    "# on récupère une `handle` qui lui correspond\n",
    "handle1 = show(fig1, notebook_handle=True)"
   ]
  },
  {
   "cell_type": "code",
   "execution_count": null,
   "metadata": {},
   "outputs": [],
   "source": [
    "# maintenant on peut créer un interacteur\n",
    "interact(update_trigo, function_name=[\"sin\", \"cos\", \"tan\"],\n",
    "         frequence=(1,20),\n",
    "         amplitude=[0.5, 1, 3, 5],\n",
    "         phase=(0, 2*np.pi, 0.05),\n",
    "         handle=fixed(handle1),\n",
    "        );"
   ]
  },
  {
   "cell_type": "markdown",
   "metadata": {},
   "source": [
    "*****"
   ]
  },
  {
   "cell_type": "markdown",
   "metadata": {
    "run_control": {
     "frozen": false,
     "read_only": false
    },
    "slideshow": {
     "slide_type": "slide"
    }
   },
   "source": [
    "### Exercice : distribution uniforme"
   ]
  },
  {
   "cell_type": "markdown",
   "metadata": {},
   "source": [
    "Voyons un deuxième exemple avec `bokeh`. Vous pouvez prendre ceci comme un exercice, et le faire de votre côté avant de lire la suite du notebook."
   ]
  },
  {
   "cell_type": "markdown",
   "metadata": {},
   "source": [
    "On veut ici écrire un outil pour afficher une distribution de points dans une ellipse, de taille et de position réglables.\n",
    "\n",
    "Dans la solution que vous trouverez ci-dessous, le nombre de points `N` dans la distribution est supposé constant; en fait, dans ce code on va tirer au sort une bonne fois pour toutes `N` points dans le cercle de rayon 1, avec une distribution uniforme, et simplement déformer cette distribution pour occuper l'espace cible.\n",
    "\n",
    "On se donne donc comme réglages :\n",
    "\n",
    "* `dx` et `dy`, les coordonnées du centre de l'ellipse,\n",
    "* `rx` et `ry` les rayons en x et en y de l'ellipse,\n",
    "* et enfin `alpha` l'angle de rotation de l'ellipse."
   ]
  },
  {
   "cell_type": "markdown",
   "metadata": {},
   "source": [
    "****"
   ]
  },
  {
   "cell_type": "code",
   "execution_count": null,
   "metadata": {
    "run_control": {
     "frozen": false,
     "read_only": false
    },
    "slideshow": {
     "slide_type": "-"
    }
   },
   "outputs": [],
   "source": [
    "# petit utilitaire pour calculer la distribution\n",
    "# uniforme de départ\n",
    "def uniform_distribution(N):\n",
    "    # on tire au hasard un rho et un rayon\n",
    "    rhos = 2 * np.pi * np.random.sample(N)\n",
    "    rads = np.random.sample(N)\n",
    "    # il faut prendre la racine carrée du rayon\n",
    "    # sinon ce n'est pas uniforme dans le plan\n",
    "    circle_x = np.sqrt(rads) * np.cos(rhos)\n",
    "    circle_y = np.sqrt(rads) * np.sin(rhos)\n",
    "    return circle_x, circle_y"
   ]
  },
  {
   "cell_type": "markdown",
   "metadata": {},
   "source": [
    "##### Les grandeurs constantes"
   ]
  },
  {
   "cell_type": "code",
   "execution_count": null,
   "metadata": {},
   "outputs": [],
   "source": [
    "# les grandeurs constantes\n",
    "N = 1000"
   ]
  },
  {
   "cell_type": "code",
   "execution_count": null,
   "metadata": {},
   "outputs": [],
   "source": [
    "# on calcule la distribution initiale\n",
    "# (celle-ci est vraiment uniforme)\n",
    "# dans le cercle de rayon 1\n",
    "x0, y0 = uniform_distribution(N)"
   ]
  },
  {
   "cell_type": "code",
   "execution_count": null,
   "metadata": {},
   "outputs": [],
   "source": [
    "# et aussi:\n",
    "# pour que ce soit plus joli je tire au hasard\n",
    "# des couleurs, et des rayons pour les points\n",
    "\n",
    "# le rouge entre 50 et 250\n",
    "reds = 50 + 200 * np.random.random(size=N)\n",
    "# le vert entre 30 et 250\n",
    "greens = 30 + 220 * np.random.random(size=N)\n",
    "# la mise en forme des couleurs\n",
    "# le bleu est constant à 150\n",
    "colors = [\n",
    "    f\"#{int(red):02x}{int(green):02x}{150:02x}\"\n",
    "    for red, green in zip(reds, greens)\n",
    "]\n",
    "\n",
    "# les rayons des points; entre 0.05 et 0.25\n",
    "radii = 0.05 + np.random.random(size=N) * .20"
   ]
  },
  {
   "cell_type": "markdown",
   "metadata": {},
   "source": [
    "##### Création de la figure initiale"
   ]
  },
  {
   "cell_type": "code",
   "execution_count": null,
   "metadata": {},
   "outputs": [],
   "source": [
    "# c'est ici qu'on commence à faire du bokeh\n",
    "# les choix des bornes sont très arbitraires\n",
    "fig2 = figure(\n",
    "    title=\"distribution pseudo-uniforme\",\n",
    "    plot_height=250, plot_width=250,\n",
    "    x_range=(-10, 10),\n",
    "    y_range=(-10, 10),\n",
    ")"
   ]
  },
  {
   "cell_type": "code",
   "execution_count": null,
   "metadata": {},
   "outputs": [],
   "source": [
    "# on crée le nuage de points dans la figure\n",
    "cloud = fig2.circle(\n",
    "    x0, y0,\n",
    "    radius = radii,\n",
    "    fill_color=colors, fill_alpha=0.6,\n",
    "    line_color=None, line_width=.1\n",
    ")"
   ]
  },
  {
   "cell_type": "markdown",
   "metadata": {},
   "source": [
    "##### Mise à jour de la figure"
   ]
  },
  {
   "cell_type": "code",
   "execution_count": null,
   "metadata": {},
   "outputs": [],
   "source": [
    "# c'est cette fonction qu'on passe à interact\n",
    "def update_cloud(rx, ry, dx, dy, alpha, handle):\n",
    "    # on recalcule les x et y\n",
    "    # à partir des valeurs initiales\n",
    "    s, c = np.sin(alpha), np.cos(alpha)\n",
    "    x = dx + c * rx * x0 - s * ry * y0\n",
    "    y = dy + s * rx * x0 + c * ry * y0\n",
    "    cloud.data_source.data['x'] = x\n",
    "    cloud.data_source.data['y'] = y\n",
    "    push_notebook(handle)"
   ]
  },
  {
   "cell_type": "markdown",
   "metadata": {},
   "source": [
    "##### Il n'y a plus qu'à ..."
   ]
  },
  {
   "cell_type": "code",
   "execution_count": null,
   "metadata": {
    "cell_style": "split"
   },
   "outputs": [],
   "source": [
    "handle2 = show(\n",
    "    fig2,\n",
    "    notebook_handle=True)"
   ]
  },
  {
   "cell_type": "code",
   "execution_count": null,
   "metadata": {
    "cell_style": "split"
   },
   "outputs": [],
   "source": [
    "interact(\n",
    "  update_cloud,\n",
    "  rx=FloatSlider(min=.5, max=8,\n",
    "                 step=.1, value=1.),\n",
    "  ry=FloatSlider(min=.5, max=8,\n",
    "                 step=.1, value=1.),\n",
    "  dx=(-3, +3, .2),\n",
    "  dy=(-3, +3, .2),\n",
    "  alpha=FloatSlider(\n",
    "    min=0., max=np.pi,\n",
    "    step=.05, value=0.),\n",
    "  handle=fixed(handle2)\n",
    ");"
   ]
  },
  {
   "cell_type": "markdown",
   "metadata": {},
   "source": [
    "### Autres bibliothèques"
   ]
  },
  {
   "cell_type": "markdown",
   "metadata": {},
   "source": [
    "Pour terminer cette digression sur les solutions alternatives à `matplotlib`, j'aimerais vous signaler enfin rapidement [la bibliothèque `plotly`](https://plot.ly/).\n",
    "\n",
    "Cette bibliothèque est disponible en open source, et l'offre commerciale de plotly est tournée vers le conseil autour de cette technologie. Comme pour `bokeh`, elle est conçue comme un hybride entre Python et JavaScript, au dessus de `d3.js`. En réalité, elle présente même la particularité d'offrir une API unique disponible depuis Python, JavaScript, et R."
   ]
  },
  {
   "cell_type": "markdown",
   "metadata": {},
   "source": [
    "Comme on l'a dit en introduction, l'offre dans ce domaine est pléthorique, aussi si vous avez un témoignage à apporter sur une expérience que vous avez eue dans ce domaine, nous serons ravis de vous voir la partager dans le forum du cours."
   ]
  }
 ],
 "metadata": {
  "kernelspec": {
   "display_name": "Python 3",
   "language": "python",
   "name": "python3"
  },
  "language_info": {
   "codemirror_mode": {
    "name": "ipython",
    "version": 3
   },
   "file_extension": ".py",
   "mimetype": "text/x-python",
   "name": "python",
   "nbconvert_exporter": "python",
   "pygments_lexer": "ipython3",
   "version": "3.7.0"
  },
  "livereveal": {
   "auto_select": "code",
   "auto_select_fragment": true,
   "autolaunch": false,
   "backimage": "media/nologo.png",
   "height": "100%",
   "start_slideshow_at": "selected",
   "theme": "simple",
   "transition": "fade",
   "width": "100%"
  },
  "notebookname": "bokeh et al.",
  "version": "3.0"
 },
 "nbformat": 4,
 "nbformat_minor": 2
}
