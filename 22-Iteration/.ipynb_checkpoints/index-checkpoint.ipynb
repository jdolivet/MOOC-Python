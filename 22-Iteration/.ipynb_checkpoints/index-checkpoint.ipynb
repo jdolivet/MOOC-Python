{
 "cells": [
  {
   "cell_type": "markdown",
   "metadata": {},
   "source": [
    "# Itérable, itérateur, itération"
   ]
  },
  {
   "cell_type": "markdown",
   "metadata": {},
   "source": [
    "<a href=\"http://www.youtube.com/watch?feature=player_embedded&v=tOt-eiDOW3M\n",
    "\" target=\"_blank\"><img src=\"http://img.youtube.com/vi/tOt-eiDOW3M/0.jpg\" \n",
    "alt=\"Vidéo du cours\" width=\"240\" height=\"180\" border=\"10\" /></a>"
   ]
  },
  {
   "cell_type": "markdown",
   "metadata": {},
   "source": [
    "* ## [Les instructions break et continue](1-break-et-continue.ipynb)\n",
    "* ## [Une limite de la boucle for](2-Ne-pas-modifier-sujet-boucle-for.ipynb)\n",
    "* ## [Itérateurs](3-itertools.ipynb)"
   ]
  }
 ],
 "metadata": {
  "kernelspec": {
   "display_name": "Python 3",
   "language": "python",
   "name": "python3"
  },
  "language_info": {
   "codemirror_mode": {
    "name": "ipython",
    "version": 3
   },
   "file_extension": ".py",
   "mimetype": "text/x-python",
   "name": "python",
   "nbconvert_exporter": "python",
   "pygments_lexer": "ipython3",
   "version": "3.6.6"
  }
 },
 "nbformat": 4,
 "nbformat_minor": 2
}
