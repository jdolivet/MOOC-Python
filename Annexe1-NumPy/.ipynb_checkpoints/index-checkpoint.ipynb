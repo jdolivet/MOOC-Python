{
 "cells": [
  {
   "cell_type": "markdown",
   "metadata": {},
   "source": [
    "# `numpy`"
   ]
  },
  {
   "cell_type": "markdown",
   "metadata": {},
   "source": [
    "## le type `ndarray`"
   ]
  },
  {
   "cell_type": "markdown",
   "metadata": {},
   "source": [
    "<a href=\"http://www.youtube.com/watch?feature=player_embedded&v=EQZgi775NgY\n",
    "\" target=\"_blank\"><img src=\"http://img.youtube.com/vi/EQZgi775NgY/0.jpg\" \n",
    "alt=\"Vidéo du cours\" width=\"240\" height=\"180\" border=\"10\" /></a>"
   ]
  },
  {
   "cell_type": "markdown",
   "metadata": {},
   "source": [
    "* ### [`numpy` en dimension 1](01-Dimension1.ipynb)\n",
    "* ### [Type d'un tableau `numpy`](02-dtype.ipynb)"
   ]
  },
  {
   "cell_type": "markdown",
   "metadata": {},
   "source": [
    "## slicing, reshaping et indexation avancée"
   ]
  },
  {
   "cell_type": "markdown",
   "metadata": {},
   "source": [
    "<a href=\"http://www.youtube.com/watch?feature=player_embedded&v=S_yTCaPZf4Y\n",
    "\" target=\"_blank\"><img src=\"http://img.youtube.com/vi/S_yTCaPZf4Y/0.jpg\" \n",
    "alt=\"Vidéo du cours\" width=\"240\" height=\"180\" border=\"10\" /></a>"
   ]
  },
  {
   "cell_type": "markdown",
   "metadata": {},
   "source": [
    "* ### [Forme d'un tableau `numpy`](03-shape.ipynb)\n",
    "* ### [Création de tableaux](04-Initialisation.ipynb)"
   ]
  },
  {
   "cell_type": "markdown",
   "metadata": {},
   "source": [
    "## Vectorisation"
   ]
  },
  {
   "cell_type": "markdown",
   "metadata": {},
   "source": [
    "<a href=\"http://www.youtube.com/watch?feature=player_embedded&v=LaqYUHg11OA\n",
    "\" target=\"_blank\"><img src=\"http://img.youtube.com/vi/LaqYUHg11OA/0.jpg\" \n",
    "alt=\"Vidéo du cours\" width=\"240\" height=\"180\" border=\"10\" /></a>"
   ]
  },
  {
   "cell_type": "markdown",
   "metadata": {},
   "source": [
    "## Broadcasting"
   ]
  },
  {
   "cell_type": "markdown",
   "metadata": {},
   "source": [
    "<a href=\"http://www.youtube.com/watch?feature=player_embedded&v=BUEzspMtosk\n",
    "\" target=\"_blank\"><img src=\"http://img.youtube.com/vi/BUEzspMtosk/0.jpg\" \n",
    "alt=\"Vidéo du cours\" width=\"240\" height=\"180\" border=\"10\" /></a>"
   ]
  },
  {
   "cell_type": "markdown",
   "metadata": {},
   "source": [
    "* ### [Le broadcasting](05-Broadcasing.ipynb)\n",
    "* ### [Indexes et slices](06-Indexing-slicing.ipynb)\n",
    "* ### [Opérations logiques](07-Operations-logiques.ipynb)\n",
    "* ### [Algèbre linéaire](08-Algebre-lineaire.ipynb)\n",
    "* ### [Indexation évoluée](09-Indexation-evoluee.ipynb)\n",
    "* ### [Divers](10-Divers.ipynb)"
   ]
  }
 ],
 "metadata": {
  "kernelspec": {
   "display_name": "Python 3",
   "language": "python",
   "name": "python3"
  },
  "language_info": {
   "codemirror_mode": {
    "name": "ipython",
    "version": 3
   },
   "file_extension": ".py",
   "mimetype": "text/x-python",
   "name": "python",
   "nbconvert_exporter": "python",
   "pygments_lexer": "ipython3",
   "version": "3.6.6"
  }
 },
 "nbformat": 4,
 "nbformat_minor": 2
}
