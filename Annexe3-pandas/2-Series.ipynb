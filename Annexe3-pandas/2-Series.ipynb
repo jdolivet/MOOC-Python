{
 "cells": [
  {
   "cell_type": "markdown",
   "metadata": {},
   "source": [
    "<style>div.title-slide {    width: 100%;    display: flex;    flex-direction: row;            /* default value; can be omitted */    flex-wrap: nowrap;              /* default value; can be omitted */    justify-content: space-between;}</style><div class=\"title-slide\">\n",
    "<span style=\"float:left;\">Licence CC BY-NC-ND</span>\n",
    "<span>Thierry Parmentelat &amp; Arnaud Legout</span>\n",
    "<span><img src=\"media/both-logos-small-alpha.png\" style=\"display:inline\" /></span>\n",
    "</div>"
   ]
  },
  {
   "cell_type": "markdown",
   "metadata": {},
   "source": [
    "\n",
    "# `Series` de `pandas`"
   ]
  },
  {
   "cell_type": "markdown",
   "metadata": {},
   "source": [
    "## Complément - niveau intermédiaire"
   ]
  },
  {
   "cell_type": "markdown",
   "metadata": {},
   "source": [
    "### Création d'une `Series`"
   ]
  },
  {
   "cell_type": "markdown",
   "metadata": {},
   "source": [
    "Un objet de type `Series` est un tableau `numpy` à une dimension avec un index, par conséquent, une `Series` a une certaine similarité avec un dictionnaire, et peut d'ailleurs être directement construite à partir de ce dictionnaire. Notons que, comme pour un dictionnaire, l'accès ou la modification est en $O(1)$, c'est-à-dire à temps constant indépendamment du nombre d'éléments dans la `Series`."
   ]
  },
  {
   "cell_type": "code",
   "execution_count": null,
   "metadata": {},
   "outputs": [],
   "source": [
    "# Regardons la construction d'une Series\n",
    "import numpy as np\n",
    "import pandas as pd\n",
    "\n",
    "# à partir d'un itérable\n",
    "s = pd.Series([x**2 for x in range(10)])\n",
    "print(s)"
   ]
  },
  {
   "cell_type": "code",
   "execution_count": null,
   "metadata": {},
   "outputs": [],
   "source": [
    "# en contrôlant maintenant le type\n",
    "s = pd.Series([x**2 for x in range(10)], dtype='int8')\n",
    "print(s)"
   ]
  },
  {
   "cell_type": "code",
   "execution_count": null,
   "metadata": {},
   "outputs": [],
   "source": [
    "# en définissant un index, par défaut l'index est un rang démarrant à 0\n",
    "s = pd.Series([x**2 for x in range(10)],\n",
    "              index=[x for x in 'abcdefghij'],\n",
    "              dtype='int8',\n",
    "             )\n",
    "print(s)"
   ]
  },
  {
   "cell_type": "code",
   "execution_count": null,
   "metadata": {},
   "outputs": [],
   "source": [
    "# et directement à partir d'un dictionnaire,\n",
    "# les clefs forment l'index\n",
    "d = {k:v**2 for k, v in zip('abcdefghij', range(10))}\n",
    "print(d)"
   ]
  },
  {
   "cell_type": "code",
   "execution_count": null,
   "metadata": {},
   "outputs": [],
   "source": [
    "s = pd.Series(d, dtype='int8')\n",
    "print(s)"
   ]
  },
  {
   "cell_type": "markdown",
   "metadata": {},
   "source": [
    "Évidemment, l'intérêt d'un index est de pouvoir accéder à un élément par son index, comme nous aurons l'occasion de le revoir :"
   ]
  },
  {
   "cell_type": "code",
   "execution_count": null,
   "metadata": {},
   "outputs": [],
   "source": [
    "print(s['f'])"
   ]
  },
  {
   "cell_type": "markdown",
   "metadata": {},
   "source": [
    "### Index"
   ]
  },
  {
   "cell_type": "markdown",
   "metadata": {},
   "source": [
    "L'index d'une `Series` est un objet implémenté sous la forme d'un `ndarray` de `numpy`, mais qui ne peut contenir que des objets hashables (pour garantir la performance de l'accès)."
   ]
  },
  {
   "cell_type": "code",
   "execution_count": null,
   "metadata": {},
   "outputs": [],
   "source": [
    "# pour accéder à l'index d'un objet Series\n",
    "# attention, index est un attribut, pas une fonction\n",
    "print(s.index)"
   ]
  },
  {
   "cell_type": "markdown",
   "metadata": {},
   "source": [
    "L'index va également supporter un certain nombre de méthodes qui vont faciliter son utilisation. Pour plus de détails, voyez [la documentation de l'objet Index](http://pandas.pydata.org/pandas-docs/stable/generated/pandas.Index.html#pandas.Index) et de ses sous-classes."
   ]
  },
  {
   "cell_type": "markdown",
   "metadata": {},
   "source": [
    "L'autre moitié de l'objet `Series` est accessible via l'attribut `values`. **ATTENTION** à nouveau ici, c'est un **attribut** de l'objet et non pas une méthode, ce qui est très troublant par rapport à l'interface d'un dictionnaire."
   ]
  },
  {
   "cell_type": "code",
   "execution_count": null,
   "metadata": {},
   "outputs": [],
   "source": [
    "# regardons les valeurs de ma Series\n",
    "# ATTENTION !! values est un attribut, pas une fonction\n",
    "print(s.values)"
   ]
  },
  {
   "cell_type": "markdown",
   "metadata": {},
   "source": [
    "Mais une `Series` a également une interface de dictionnaire à laquelle on accède de la manière suivante :"
   ]
  },
  {
   "cell_type": "code",
   "execution_count": null,
   "metadata": {},
   "outputs": [],
   "source": [
    "# les clefs correspondent à l'index\n",
    "k = s.keys() # attention ici c'est un appel de fonction !\n",
    "print(f\"Les clefs: {k}\")"
   ]
  },
  {
   "cell_type": "code",
   "execution_count": null,
   "metadata": {},
   "outputs": [],
   "source": [
    "# et les couples (clefs, valeurs) sous forme d'un objet zip\n",
    "for k,v in s.items(): # attention ici aussi c'est un appel de fonction !\n",
    "    print(k, v)"
   ]
  },
  {
   "cell_type": "code",
   "execution_count": null,
   "metadata": {},
   "outputs": [],
   "source": [
    "# pour finir remarquons que le test d'appartenance est possible sur les index\n",
    "print(f\"Est-ce que a est dans s ? {'a' in s}\")\n",
    "print(f\"Est-ce que z est dans s ? {'z' in s}\")"
   ]
  },
  {
   "cell_type": "markdown",
   "metadata": {},
   "source": [
    "Vous remarquez ici qu'alors que `values` et `index` sont des attributs de la `Series`, `keys()` et `items()` sont des méthodes. Voici un exemple des nombreuses petites incohérences de `pandas` avec lesquelles il faut vivre."
   ]
  },
  {
   "cell_type": "markdown",
   "metadata": {},
   "source": [
    "### Pièges à éviter"
   ]
  },
  {
   "cell_type": "markdown",
   "metadata": {},
   "source": [
    "Avant d'aller plus loin, il faut faire attention à la gestion du type des objets contenus dans notre `Series` (on aura le même problème avec les `DataFrame`). Alors qu'un `ndarray` de `numpy` a un type qui ne change pas, une `Series` peut implicitement changer le type de ses valeurs lors d'opérations d'affectations."
   ]
  },
  {
   "cell_type": "code",
   "execution_count": null,
   "metadata": {},
   "outputs": [],
   "source": [
    "# créons une Series et regardons le type de ses valeurs\n",
    "s = pd.Series({k:v**2 for k, v in zip('abcdefghij', range(10))})\n",
    "print(s.values.dtype)"
   ]
  },
  {
   "cell_type": "code",
   "execution_count": null,
   "metadata": {},
   "outputs": [],
   "source": [
    "# On a déjà vu que l'on ne pouvait pas modifier lors d'une affectation le\n",
    "# type d'un ndarray numpy\n",
    "\n",
    "try:\n",
    "    s.values[2] = 'spam'\n",
    "except ValueError as e:\n",
    "    print(f\"On ne peut pas affecter une str à un ndarray de int64:\\n{e}\")"
   ]
  },
  {
   "cell_type": "code",
   "execution_count": null,
   "metadata": {},
   "outputs": [],
   "source": [
    "# Par contre, on peut le faire sur une Series\n",
    "s['c'] = 'spam'\n",
    "\n",
    "# et maintenant le type des valeurs de la Series a changé\n",
    "print(s.values.dtype)"
   ]
  },
  {
   "cell_type": "markdown",
   "metadata": {},
   "source": [
    "C'est un point extrêment important puisque toutes les opérations vectorisées vont avoir leur performance impactée et le résultat obtenu peut même être faux. Regardons cela :"
   ]
  },
  {
   "cell_type": "code",
   "execution_count": null,
   "metadata": {},
   "outputs": [],
   "source": [
    "s = pd.Series(range(10_000))\n",
    "print(s.values.dtype)"
   ]
  },
  {
   "cell_type": "code",
   "execution_count": null,
   "metadata": {},
   "outputs": [],
   "source": [
    "# combien de temps prend le calcul du carré des valeurs\n",
    "%timeit s**2"
   ]
  },
  {
   "cell_type": "code",
   "execution_count": null,
   "metadata": {},
   "outputs": [],
   "source": [
    "# ajoutons 'spam' à la fin de la Series\n",
    "s[10_000] = 'spam'\n",
    "\n",
    "# oups, je me suis trompé, enlevons cet élément\n",
    "del s[10_000]\n",
    "\n",
    "# calculons de nouveau le temps de calcul pour obtenir le carré des valeurs\n",
    "%timeit s**2"
   ]
  },
  {
   "cell_type": "code",
   "execution_count": null,
   "metadata": {},
   "outputs": [],
   "source": [
    "# que se passe-t-il, pourquoi le calcul est maintenant plus long\n",
    "s.values.dtype"
   ]
  },
  {
   "cell_type": "markdown",
   "metadata": {},
   "source": [
    "Maintenant, les opérations vectorisées le sont sur des objets Python et non plus sur des int64, il y a donc un impact sur la performance.\n",
    "\n",
    "Et on peut même obtenir un résultat carrément faux. Regardons cela :"
   ]
  },
  {
   "cell_type": "code",
   "execution_count": null,
   "metadata": {},
   "outputs": [],
   "source": [
    "# créons une series de trois entiers\n",
    "s = pd.Series([1, 2, 3])\n",
    "print(s)"
   ]
  },
  {
   "cell_type": "code",
   "execution_count": null,
   "metadata": {},
   "outputs": [],
   "source": [
    "# puis ajoutons un nouvel élément, mais ici je me trompe, c'est une str\n",
    "# au lieu d'un entier\n",
    "s[3] = '4'\n",
    "\n",
    "# à part le type qui pourrait attirer mon attention, rien dans l'affichage\n",
    "# ne distingue les entiers de la str, à part le dtype\n",
    "print(s)"
   ]
  },
  {
   "cell_type": "code",
   "execution_count": null,
   "metadata": {},
   "outputs": [],
   "source": [
    "# seulement si j'additionne, les entiers sont additionnés,\n",
    "# mais les chaînes de caractères concaténées.\n",
    "print(s+s)"
   ]
  },
  {
   "cell_type": "markdown",
   "metadata": {},
   "source": [
    "### Alignement d'index"
   ]
  },
  {
   "cell_type": "markdown",
   "metadata": {},
   "source": [
    "Un intérêt majeur de `pandas` est de faire de l'alignement d'index sur les objets que l'on manipule. Regardons un exemple :"
   ]
  },
  {
   "cell_type": "code",
   "execution_count": null,
   "metadata": {},
   "outputs": [],
   "source": [
    "argent_poche_janvier = pd.Series([30, 35, 20],\n",
    "                                 index=['alice', 'bob', 'julie'])\n",
    "argent_poche_février = pd.Series([30, 35, 20],\n",
    "                                 index=['alice', 'julie', 'sonia'])\n",
    "argent_poche_janvier + argent_poche_février"
   ]
  },
  {
   "cell_type": "markdown",
   "metadata": {},
   "source": [
    "On voit que les deux `Series` ont bien été alignées, mais on a un problème. Lorsqu'une valeur n'est pas définie, elle vaut `NaN` et si on ajoute `NaN` à une autre valeur, le résultat est `NaN`. On peut corriger ce problème avec un appel explicite de la fonction add qui accepte un argument `fill_value` qui sera la valeur par défaut en cas d'absence d'une valeur lors de l'opération."
   ]
  },
  {
   "cell_type": "code",
   "execution_count": null,
   "metadata": {},
   "outputs": [],
   "source": [
    "argent_poche_janvier.add(argent_poche_février, fill_value=0)"
   ]
  },
  {
   "cell_type": "markdown",
   "metadata": {},
   "source": [
    "### Accés aux éléments d'une `Series`"
   ]
  },
  {
   "cell_type": "markdown",
   "metadata": {},
   "source": [
    "Comme les `Series` sont basées sur des `ndarray` de `numpy`, elles supportent les opérations d'accès aux éléments des `ndarray`, notamment la notion de masque et les broadcasts, tout ça en conservant évidemment les index."
   ]
  },
  {
   "cell_type": "code",
   "execution_count": null,
   "metadata": {},
   "outputs": [],
   "source": [
    "s = pd.Series([30, 35, 20], index=['alice', 'bob', 'julie'])\n",
    "\n",
    "# qui a plus de 25 ans\n",
    "print(s[s>25])"
   ]
  },
  {
   "cell_type": "code",
   "execution_count": null,
   "metadata": {},
   "outputs": [],
   "source": [
    "# regardons uniquement 'alice' et 'julie'\n",
    "print(s[['alice', 'julie']])"
   ]
  },
  {
   "cell_type": "code",
   "execution_count": null,
   "metadata": {},
   "outputs": [],
   "source": [
    "# et affectons sur un masque\n",
    "s[s<=25] = np.NaN\n",
    "print(s)"
   ]
  },
  {
   "cell_type": "code",
   "execution_count": null,
   "metadata": {},
   "outputs": [],
   "source": [
    "# notons également, que naturellement les opérations de broadcast\n",
    "# sont supportées\n",
    "s = s + 10\n",
    "print(s)"
   ]
  },
  {
   "cell_type": "markdown",
   "metadata": {},
   "source": [
    "### Slicing sur les `Series`"
   ]
  },
  {
   "cell_type": "markdown",
   "metadata": {},
   "source": [
    "L'opération de slicing sur les `Series` est une source fréquente d'erreur qui peut passer inaperçue pour les raisons suivantes :\n",
    "\n",
    "* on peut slicer sur les labels des index, mais aussi sur la position (l'indice) d'un élément dans la `Series` ;\n",
    "* les opérations de slices sur les positions et les labels se comportent différemment, [un slice sur les positions exclut la borne de droite (comme tous les slices en Python), mais un slice sur un label inclut la borne de droite](http://pandas.pydata.org/pandas-docs/stable/gotchas.html#endpoints-are-inclusive) ;\n",
    "* il peut y avoir ambiguïté entre un label et la position d'un élément lorsque le label est un entier.\n",
    "\n",
    "Nous allons détailler chacun de ces cas, mais sachez qu'il existe une solution qui évite toute ambiguïté, c'est d'utiliser les interfaces `loc` et `iloc` que nous verrons un peu plus loin.\n",
    "\n",
    "Regardons maintenant ces différents problèmes :"
   ]
  },
  {
   "cell_type": "code",
   "execution_count": null,
   "metadata": {},
   "outputs": [],
   "source": [
    "s = pd.Series([30, 35, 20, 28], index=['alice', 'bob', 'julie', 'sonia'])\n",
    "print(s)"
   ]
  },
  {
   "cell_type": "code",
   "execution_count": null,
   "metadata": {},
   "outputs": [],
   "source": [
    "# on peut accéder directement à la valeur correspondant à alice\n",
    "print(s['alice'])\n",
    "\n",
    "# mais aussi par la position d'alice dans l'index\n",
    "print(s[0])"
   ]
  },
  {
   "cell_type": "code",
   "execution_count": null,
   "metadata": {},
   "outputs": [],
   "source": [
    "# On peut faire un slice sur les labels, dans ce cas la borne\n",
    "# de droite est incluse\n",
    "s['alice':'julie']"
   ]
  },
  {
   "cell_type": "code",
   "execution_count": null,
   "metadata": {},
   "outputs": [],
   "source": [
    "# et on peut faire un slice sur les positions, mais dans ce cas\n",
    "# la borne de droite est exclue, comme un slice normal en Python\n",
    "s[0:2]"
   ]
  },
  {
   "cell_type": "markdown",
   "metadata": {},
   "source": [
    "Ce comportement mérite quelques explications. On voit bien qu'exclure la borne de droite peut se comprendre sur une position (si on exclut `i` on prend `i-1`), par contre, c'est mal défini pour un label.\n",
    "\n",
    "En effet, l'ordre d'un index est défini au moment de sa création et le label venant juste avant un autre label `L` ne peut pas être trouvé uniquement avec la connaissance de `L`.\n",
    "\n",
    "C'est pour cette raison que les concepteurs de `pandas` ont préféré inclure la borne de droite.\n",
    "\n",
    "Regardons maintenant plus en détail cette notion d'ordre sur les index."
   ]
  },
  {
   "cell_type": "code",
   "execution_count": null,
   "metadata": {},
   "outputs": [],
   "source": [
    "# Regardons le slice sur un index avec un ordre particulier\n",
    "s = pd.Series([30, 35, 20, 28], index=['alice', 'bob', 'julie', 'sonia'])\n",
    "print(s['alice':'julie'])"
   ]
  },
  {
   "cell_type": "code",
   "execution_count": null,
   "metadata": {},
   "outputs": [],
   "source": [
    "# Si on change l'ordre de l'index, ça change la signification du slice\n",
    "s = pd.Series([30, 35, 20, 28], index=['alice', 'bob', 'sonia', 'julie'])\n",
    "print(s['alice':'julie'])"
   ]
  },
  {
   "cell_type": "markdown",
   "metadata": {},
   "source": [
    "Vous devez peut-être vous demander si un slice sur l'index est toujours défini. La réponse est non ! Pour qu'un slice soit défini sur un index, il faut que [l'index ait une croissance monotone ou qu'il n'y ait pas de label dans l'index qui soit dupliqué.](https://pandas.pydata.org/pandas-docs/stable/advanced.html#non-monotonic-indexes-require-exact-matches)\n",
    "\n",
    "Donc la croissance monotonique n'est pas nécessaire tant qu'il n'y a pas de duplication de labels. Regardons cela."
   ]
  },
  {
   "cell_type": "code",
   "execution_count": null,
   "metadata": {},
   "outputs": [],
   "source": [
    "# mon index a des labels dupliqués, mais a une croissance monotonique\n",
    "s = pd.Series([30, 35, 20, 12], index=['a', 'a', 'b', 'c'])\n",
    "# le slice est défini\n",
    "s['a': 'b']"
   ]
  },
  {
   "cell_type": "code",
   "execution_count": null,
   "metadata": {},
   "outputs": [],
   "source": [
    "# mon index a des labels dupliqués et n'a pas de croissance monotonique\n",
    "s = pd.Series([30, 35, 20, 12], index=['a', 'b', 'c', 'a'])\n",
    "# le slice n'est plus défini\n",
    "try:\n",
    "    s['a': 'b']\n",
    "except KeyError as e:\n",
    "    print(f\"Je n'arrive pas à extraire un slice :\\n{e}\")"
   ]
  },
  {
   "cell_type": "markdown",
   "metadata": {},
   "source": [
    "Pour finir sur les problèmes que l'on peut rencontrer avec les slices, que se passe-t-il si on a un index qui a pour label des entiers ?\n",
    "\n",
    "Lorsque l'on va faire un slice, il va y avoir ambiguïté entre la position du label et le label lui-même. Dans ce cas, `pandas` donne la priorité à la position, mais ce qui est troublant, c'est que lorsqu'on accède à un seul élément en dehors d'un slice, `pandas` donne la priorité à l'index.\n",
    "\n",
    "Encore une petite incohérence :"
   ]
  },
  {
   "cell_type": "code",
   "execution_count": null,
   "metadata": {},
   "outputs": [],
   "source": [
    "s = pd.Series(['a', 'b', 'c'], index=[2, 0, 1])\n",
    "print(f\"Si on accède directement à un élément, priorité au label : {s[0]}\")\n",
    "print(f\"Si on calcule un slice, priorité à la position : {s[0:1]}\")"
   ]
  },
  {
   "cell_type": "markdown",
   "metadata": {},
   "source": [
    "### `loc` et `iloc`"
   ]
  },
  {
   "cell_type": "markdown",
   "metadata": {},
   "source": [
    "La solution à tous ces problèmes est de dire explicitement ce que l'on veut faire. On peut en effet dire explicitement si l'on veut utiliser les labels ou les positions, c'est ce qu'on vous recommande de faire pour éviter les comportements implicites.\n",
    "\n",
    "Pour utiliser les labels il faut utiliser `s.loc[]` et pour utiliser les positions if faut utiliser `s.iloc[]` (le `i` est pour localisation implicite, c'est-à-dire la position). Regardons cela :"
   ]
  },
  {
   "cell_type": "code",
   "execution_count": null,
   "metadata": {},
   "outputs": [],
   "source": [
    "print(s)"
   ]
  },
  {
   "cell_type": "code",
   "execution_count": null,
   "metadata": {},
   "outputs": [],
   "source": [
    "# accès au label\n",
    "print(s.loc[0])"
   ]
  },
  {
   "cell_type": "code",
   "execution_count": null,
   "metadata": {},
   "outputs": [],
   "source": [
    "# accès à la position\n",
    "print(s.iloc[0])"
   ]
  },
  {
   "cell_type": "code",
   "execution_count": null,
   "metadata": {},
   "outputs": [],
   "source": [
    "# slice sur les labels, ATTENTION, il inclut la borne de droite\n",
    "print(s.loc[2:0])"
   ]
  },
  {
   "cell_type": "code",
   "execution_count": null,
   "metadata": {},
   "outputs": [],
   "source": [
    "# slice sur les positions, ATTENTION, il exclut la borne de droite\n",
    "print(s.iloc[0:2])"
   ]
  },
  {
   "cell_type": "markdown",
   "metadata": {},
   "source": [
    "Pour allez plus loin, vous pouvez lire la documentation officielle :\n",
    "\n",
    "http://pandas.pydata.org/pandas-docs/stable/indexing.html"
   ]
  },
  {
   "cell_type": "markdown",
   "metadata": {},
   "source": [
    "### Conclusion"
   ]
  },
  {
   "cell_type": "markdown",
   "metadata": {},
   "source": [
    "Nous avons vu que les `Series` forment une extension des ndarray de dimension 1, en leur ajoutant un index qui permet une plus grande expressivité pour accéder aux éléments. Seulement cette expressivité vient au prix de quelques subtilités (conversions implicites de type, accès aux labels ou aux positions) qu'il faut maîtriser.\n",
    "\n",
    "Nous verrons dans le prochain complément la notion de `DataFrame` qui est sans doute la plus utile et la plus puissante structure de données de `pandas`. Tous les pièges que nous avons vus pour les `Series` sont valables pour les `DataFrames`."
   ]
  }
 ],
 "metadata": {
  "kernelspec": {
   "display_name": "Python 3",
   "language": "python",
   "name": "python3"
  },
  "language_info": {
   "codemirror_mode": {
    "name": "ipython",
    "version": 3
   },
   "file_extension": ".py",
   "mimetype": "text/x-python",
   "name": "python",
   "nbconvert_exporter": "python",
   "pygments_lexer": "ipython3",
   "version": "3.7.0"
  },
  "livereveal": {
   "auto_select": "code",
   "auto_select_fragment": true,
   "autolaunch": false,
   "backimage": "media/nologo.png",
   "height": "100%",
   "start_slideshow_at": "selected",
   "theme": "simple",
   "transition": "fade",
   "width": "100%"
  },
  "notebookname": "Series",
  "version": "3.0"
 },
 "nbformat": 4,
 "nbformat_minor": 2
}
