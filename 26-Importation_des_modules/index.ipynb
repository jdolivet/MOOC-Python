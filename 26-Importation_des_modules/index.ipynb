{
 "cells": [
  {
   "cell_type": "markdown",
   "metadata": {},
   "source": [
    "# Importation des modules"
   ]
  },
  {
   "cell_type": "markdown",
   "metadata": {},
   "source": [
    "<a href=\"http://www.youtube.com/watch?feature=player_embedded&v=UT63R03Tet8\n",
    "\" target=\"_blank\"><img src=\"http://img.youtube.com/vi/UT63R03Tet8/0.jpg\" \n",
    "alt=\"Vidéo du cours\" width=\"240\" height=\"180\" border=\"10\" /></a>"
   ]
  },
  {
   "cell_type": "markdown",
   "metadata": {},
   "source": [
    "* ## [Précisions sur l'importation](1-import-once.ipynb)\n",
    "* ## [Où sont cherchés les modules ?](2-Modules-et-chemins.ipynb)"
   ]
  },
  {
   "cell_type": "markdown",
   "metadata": {},
   "source": [
    "<a href=\"http://www.youtube.com/watch?feature=player_embedded&v=qeFLl4fKuf8\n",
    "\" target=\"_blank\"><img src=\"http://img.youtube.com/vi/qeFLl4fKuf8/0.jpg\" \n",
    "alt=\"Vidéo du cours\" width=\"240\" height=\"180\" border=\"10\" /></a>"
   ]
  },
  {
   "cell_type": "markdown",
   "metadata": {},
   "source": [
    "* ## [La clause `import as`](3-import-as.ipynb)\n",
    "* ## [Récapitulatif sur `import`](4-Recapitulatif-import.ipynb)\n",
    "* ## [La notion de package](5-Packages.ipynb)\n",
    "* ## [Usage avançés de `import`](6-import-advanced.ipynb)"
   ]
  }
 ],
 "metadata": {
  "kernelspec": {
   "display_name": "Python 3",
   "language": "python",
   "name": "python3"
  },
  "language_info": {
   "codemirror_mode": {
    "name": "ipython",
    "version": 3
   },
   "file_extension": ".py",
   "mimetype": "text/x-python",
   "name": "python",
   "nbconvert_exporter": "python",
   "pygments_lexer": "ipython3",
   "version": "3.6.6"
  }
 },
 "nbformat": 4,
 "nbformat_minor": 2
}
