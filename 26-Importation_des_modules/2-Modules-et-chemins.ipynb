{
 "cells": [
  {
   "cell_type": "markdown",
   "metadata": {},
   "source": [
    "<style>div.title-slide {    width: 100%;    display: flex;    flex-direction: row;            /* default value; can be omitted */    flex-wrap: nowrap;              /* default value; can be omitted */    justify-content: space-between;}</style><div class=\"title-slide\">\n",
    "<span style=\"float:left;\">Licence CC BY-NC-ND</span>\n",
    "<span>Thierry Parmentelat &amp; Arnaud Legout</span>\n",
    "<span><img src=\"media/both-logos-small-alpha.png\" style=\"display:inline\" /></span>\n",
    "</div>"
   ]
  },
  {
   "cell_type": "markdown",
   "metadata": {},
   "source": [
    "# Où sont cherchés les modules ?"
   ]
  },
  {
   "cell_type": "markdown",
   "metadata": {},
   "source": [
    "## Complément - niveau basique"
   ]
  },
  {
   "cell_type": "markdown",
   "metadata": {},
   "source": [
    "Pour les débutants en informatique, le plus simple est de se souvenir que si vous voulez uniquement charger vos propres modules ou packages, il suffit de les placer dans le répertoire où vous lancez la commande python. Si vous n'êtes pas sûr de cet emplacement vous pouvez le savoir en faisant :"
   ]
  },
  {
   "cell_type": "code",
   "execution_count": null,
   "metadata": {},
   "outputs": [],
   "source": [
    "from pathlib import Path\n",
    "Path.cwd()"
   ]
  },
  {
   "cell_type": "markdown",
   "metadata": {},
   "source": [
    "## Complément - niveau intermédiaire"
   ]
  },
  {
   "cell_type": "markdown",
   "metadata": {},
   "source": [
    "Dans ce complément nous allons voir, de manière générale, comment sont localisés (sur le disque dur) les modules que vous chargez dans python grâce à l'instruction `import` ; nous verrons aussi où placer vos propres fichiers pour qu'ils soient accessibles à python."
   ]
  },
  {
   "cell_type": "markdown",
   "metadata": {},
   "source": [
    "[Comme expliqué ici](https://docs.python.org/3/tutorial/modules.html#the-module-search-path), lorsque vous importez le module `spam`, python cherche dans cet ordre :\n",
    "\n",
    "* un module *built-in* de nom `spam` - possiblement/probablement écrit en C,\n",
    "* ou sinon un fichier `spam.py` (ou `spam/__init.py__` s'il s'agit d'un package) ; pour le localiser on utilise la variable `sys.path` (c'est-à-dire l'attribut `path` dans le module `sys`), qui est une liste de répertoires, et qui est initialisée avec, dans cet ordre :\n",
    "  * le répertoire où se trouve le point d'entrée ;\n",
    "  * la variable d'environnement `PYTHONPATH` ;\n",
    "  * un certain nombre d'emplacements définis au moment de la compilation de python."
   ]
  },
  {
   "cell_type": "markdown",
   "metadata": {},
   "source": [
    "Ainsi sans action particulière de l'utilisateur, python trouve l'intégralité de la librairie standard, ainsi que les modules et packages installés dans le même répertoire que le fichier passé à l'interpréteur. "
   ]
  },
  {
   "cell_type": "markdown",
   "metadata": {},
   "source": [
    "La façon dont cela se présente dans l'interpréteur des notebooks peut vous induire en erreur. Aussi je vous engage à exécuter plutôt, et sur votre machine, le programme suivant : "
   ]
  },
  {
   "cell_type": "markdown",
   "metadata": {},
   "source": [
    "```python\n",
    "#!/usr/bin/env python3\n",
    "\n",
    "import sys\n",
    "from pathlib import Path\n",
    "\n",
    "def show_argv_and_path():\n",
    "    print(f\"le répertoire courant est {Path.cwd()}\")\n",
    "    print(f\"le point d'entrée du programme est {sys.argv[0]}\")\n",
    "    print(f\"la variable sys.path contient\")\n",
    "    for i, path in enumerate(sys.path, 1):\n",
    "        print(f\"{i}-ème chemin dans sys.path {path}\")\n",
    "\n",
    "show_argv_and_path()\n",
    "```"
   ]
  },
  {
   "cell_type": "markdown",
   "metadata": {},
   "source": [
    "En admettant que \n",
    "\n",
    "* vous rangez ceci le fichier `/le/repertoire/du/script/run.py`\n",
    "* et que vous lancez Python depuis un répertoire différent, disons `/le/repertoire/ou/vous/etes`\n",
    "* et avec une variable `PYTHONPATH` vide;\n",
    "\n",
    "alors vous devriez observer ceci :"
   ]
  },
  {
   "cell_type": "markdown",
   "metadata": {},
   "source": [
    "```bash\n",
    "$ cd /le/repertoire/ou/vous/etes/\n",
    "/le/repertoire/ou/vous/etes $ python3 /le/repertoire/du/script/run.py\n",
    "le répertoire courant est /le/repertoire/ou/vous/etes\n",
    "le point d'entrée du programme est /le/repertoire/du/script/run.py\n",
    "la variable sys.path contient\n",
    "1-ème chemin dans sys.path /le/repertoire/du/script\n",
    "<snip>\n",
    "```\n",
    "*le reste dépend de votre installation*"
   ]
  },
  {
   "cell_type": "markdown",
   "metadata": {},
   "source": [
    "C'est-à-dire que :\n",
    "\n",
    "* la variable `sys.argv[0]` contient le chemin complet `/le/repertoire/du/script/run.py`,\n",
    "* et le premier terme dans `sys.path` contient `/le/repertoire/du/script!`."
   ]
  },
  {
   "cell_type": "markdown",
   "metadata": {},
   "source": [
    "La [variable d'environnement](http://en.wikipedia.org/wiki/Environment_variable) PYTHONPATH est définie de façon à donner la possibilité d'étendre ces listes depuis l'extérieur, et sans recompiler l'interpréteur, ni modifier les sources. Cette possibilité s'adresse donc à l'utilisateur final - ou à son administrateur système - plutôt qu'au programmeur."
   ]
  },
  {
   "cell_type": "markdown",
   "metadata": {},
   "source": [
    "En tant que programmeur par contre, vous avez la possibilité d'étendre `sys.path` avant de faire vos `import`.\n",
    "\n",
    "Imaginons par exemple que vous avez écrit un petit outil utilitaire qui se compose d'un point d'entrée `main.py`, et de plusieurs modules `spam.py` et `eggs.py`. Vous n'avez pas le temps de packager proprement cet outil, vous voudriez pouvoir distribuer un *tar* avec ces trois fichiers python, qui puissent s'installer n'importe où (pourvu qu'ils soient tous les trois au même endroit), et que le point d'entrée trouve ses deux modules sans que l'utilisateur ait à s'en soucier.\n",
    "\n",
    "Imaginons donc ces trois fichiers installés sur machine de l'utilisateur dans :"
   ]
  },
  {
   "cell_type": "markdown",
   "metadata": {},
   "source": [
    "```bash\n",
    "/usr/share/utilitaire/\n",
    "                      main.py\n",
    "                      spam.py\n",
    "                      eggs.py\n",
    "```"
   ]
  },
  {
   "cell_type": "markdown",
   "metadata": {},
   "source": [
    "Si vous ne faites rien de particulier, c'est-à-dire que `main.py` contient juste"
   ]
  },
  {
   "cell_type": "markdown",
   "metadata": {},
   "source": [
    "```python\n",
    "import spam, eggs\n",
    "```"
   ]
  },
  {
   "cell_type": "markdown",
   "metadata": {},
   "source": [
    "Alors le programme ne fonctionnera **que s'il est lancé depuis `/usr/share/utilitaire`**, ce qui n'est pas du tout pratique. "
   ]
  },
  {
   "cell_type": "markdown",
   "metadata": {},
   "source": [
    "Pour contourner cela on peut écrire dans `main.py` quelque chose comme :"
   ]
  },
  {
   "cell_type": "markdown",
   "metadata": {},
   "source": [
    "```python\n",
    "# on récupère le répertoire où est installé le point d'entrée\n",
    "from pathlib import Path\n",
    "\n",
    "directory_installation = Path(__file__).parent\n",
    "    \n",
    "# et on l'ajoute au chemin de recherche des modules\n",
    "import sys\n",
    "sys.path.append(directory_installation)\n",
    "    \n",
    "# maintenant on peut importer spam et eggs de n'importe où\n",
    "import spam, eggs\n",
    "```"
   ]
  },
  {
   "cell_type": "markdown",
   "metadata": {},
   "source": [
    "### Distribuer sa propre librairie avec `setuptools`"
   ]
  },
  {
   "cell_type": "markdown",
   "metadata": {},
   "source": [
    "Notez bien que l'exemple précédent est **uniquement donné à titre d'illustration** pour décortiquer la mécanique d'utilisation de `sys.path`. \n",
    "\n",
    "Ce n'est pas une technique recommandée dans le cas général. On préfère en effet de beaucoup diffuser une application python, ou une librairie, sous forme de packaging en utilisant le [module setuptools](https://pypi.python.org/pypi/setuptools). Il s'agit d'un outil qui **ne fait pas partie de la librairie standard**, et qui supplante `distutils` qui lui, fait partie de la distribution standard mais qui est tombé en déshérence au fil du temps."
   ]
  },
  {
   "cell_type": "markdown",
   "metadata": {},
   "source": [
    "`setuptools` permet au programmeur d'écrire - dans un fichier qu'on appelle traditionnellement `setup.py` - le contenu de son application ; grâce à quoi on peut ensuite de manière unifiée :\n",
    "\n",
    "* installer l'application sur une machine à partir des sources ;\n",
    "* préparer un package de l'application ;\n",
    "* diffuser le package dans [l'infrastructure PyPI](https://pypi.python.org/pypi) ;\n",
    "* installer le package depuis PyPI en utilisant [`pip3`](http://pip.readthedocs.org/en/latest/installing.html)."
   ]
  },
  {
   "cell_type": "markdown",
   "metadata": {},
   "source": [
    "Pour installer `setuptools`, comme d'habitude vous pouvez faire simplement :\n",
    "\n",
    "```bash\n",
    "pip3 install setuptools\n",
    "```"
   ]
  }
 ],
 "metadata": {
  "kernelspec": {
   "display_name": "Python 3",
   "language": "python",
   "name": "python3"
  },
  "language_info": {
   "codemirror_mode": {
    "name": "ipython",
    "version": 3
   },
   "file_extension": ".py",
   "mimetype": "text/x-python",
   "name": "python",
   "nbconvert_exporter": "python",
   "pygments_lexer": "ipython3",
   "version": "3.7.0"
  },
  "livereveal": {
   "auto_select": "code",
   "auto_select_fragment": true,
   "autolaunch": false,
   "backimage": "media/nologo.png",
   "height": "100%",
   "start_slideshow_at": "selected",
   "theme": "simple",
   "transition": "fade",
   "width": "100%"
  },
  "notebookname": "modules et chemins",
  "version": "3.0"
 },
 "nbformat": 4,
 "nbformat_minor": 1
}
