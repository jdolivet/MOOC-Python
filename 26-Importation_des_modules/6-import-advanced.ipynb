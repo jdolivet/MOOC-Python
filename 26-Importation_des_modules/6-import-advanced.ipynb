{
 "cells": [
  {
   "cell_type": "markdown",
   "metadata": {},
   "source": [
    "<style>div.title-slide {    width: 100%;    display: flex;    flex-direction: row;            /* default value; can be omitted */    flex-wrap: nowrap;              /* default value; can be omitted */    justify-content: space-between;}</style><div class=\"title-slide\">\n",
    "<span style=\"float:left;\">Licence CC BY-NC-ND</span>\n",
    "<span>Thierry Parmentelat &amp; Arnaud Legout</span>\n",
    "<span><img src=\"media/both-logos-small-alpha.png\" style=\"display:inline\" /></span>\n",
    "</div>"
   ]
  },
  {
   "cell_type": "markdown",
   "metadata": {},
   "source": [
    "# Usage avançés de `import`"
   ]
  },
  {
   "cell_type": "markdown",
   "metadata": {},
   "source": [
    "## Complément - niveau avancé"
   ]
  },
  {
   "cell_type": "code",
   "execution_count": null,
   "metadata": {},
   "outputs": [],
   "source": [
    "# notre utilitaire pour afficher le code des modules\n",
    "from modtools import show_module, find_on_disk"
   ]
  },
  {
   "cell_type": "markdown",
   "metadata": {},
   "source": [
    "### Attributs spéciaux"
   ]
  },
  {
   "cell_type": "markdown",
   "metadata": {},
   "source": [
    "Les objets de type module possèdent des attributs spéciaux ; on les reconnaît facilement car leur nom est en *`__truc__`*, c'est une convention générale dans tous le langage : on en a déjà vu plusieurs exemples avec par exemple les méthodes `__iter__()`."
   ]
  },
  {
   "cell_type": "markdown",
   "metadata": {},
   "source": [
    "Voici pour commencer les attributs spéciaux les plus utilisées ; pour cela nous reprenons le package d'un notebook précédent :"
   ]
  },
  {
   "cell_type": "code",
   "execution_count": null,
   "metadata": {},
   "outputs": [],
   "source": [
    "import package_jouet"
   ]
  },
  {
   "cell_type": "markdown",
   "metadata": {},
   "source": [
    "##### `__name__`"
   ]
  },
  {
   "cell_type": "markdown",
   "metadata": {},
   "source": [
    "Le nom canonique du module :"
   ]
  },
  {
   "cell_type": "code",
   "execution_count": null,
   "metadata": {},
   "outputs": [],
   "source": [
    "package_jouet.__name__"
   ]
  },
  {
   "cell_type": "code",
   "execution_count": null,
   "metadata": {},
   "outputs": [],
   "source": [
    "package_jouet.module_jouet.__name__"
   ]
  },
  {
   "cell_type": "markdown",
   "metadata": {},
   "source": [
    "##### `__file__`"
   ]
  },
  {
   "cell_type": "markdown",
   "metadata": {},
   "source": [
    "L'emplacement du fichier duquel a été chargé le module ; pour un package ceci dénote un fichier `__init__.py` :"
   ]
  },
  {
   "cell_type": "code",
   "execution_count": null,
   "metadata": {},
   "outputs": [],
   "source": [
    "package_jouet.__file__"
   ]
  },
  {
   "cell_type": "code",
   "execution_count": null,
   "metadata": {},
   "outputs": [],
   "source": [
    "package_jouet.module_jouet.__file__"
   ]
  },
  {
   "cell_type": "markdown",
   "metadata": {},
   "source": [
    "##### `__all__`"
   ]
  },
  {
   "cell_type": "markdown",
   "metadata": {},
   "source": [
    "Il est possible de redéfinir dans un module la variable `__all__`, de façon à définir les symboles qui sont réellement concernés par un `import *`, [comme c'est décrit ici](https://docs.python.org/3/tutorial/modules.html#importing-from-a-package). \n",
    "\n",
    "Je rappelle toutefois que l'usage de `import *` est fortement déconseillé dans du code de production."
   ]
  },
  {
   "cell_type": "markdown",
   "metadata": {},
   "source": [
    "### Import absolu"
   ]
  },
  {
   "cell_type": "markdown",
   "metadata": {},
   "source": [
    "La mécanique des imports telle qu'on l'a vue jusqu'ici est ce qui s'appelle un *import* absolu qui est depuis python-2.5 le mécanisme par défaut : le module importé est systématiquement cherché à partir de `sys.path`.\n",
    "\n",
    "Dans ce mode de fonctionnement, si on trouve dans le même répertoire deux fichiers `foo.py` et `bar.py`, et que dans le premier on fait :\n",
    "\n",
    "```python\n",
    "import bar\n",
    "```\n",
    "\n",
    "eh bien alors, malgré le fait qu'il existe ici même un fichier `bar.py`, l'import ne réussit pas (sauf si le répertoire courant est dans `sys.path`; en général ce n'est pas le cas)."
   ]
  },
  {
   "cell_type": "markdown",
   "metadata": {},
   "source": [
    "### Import relatif"
   ]
  },
  {
   "cell_type": "markdown",
   "metadata": {},
   "source": [
    "Ce mécanisme d'import absolu a l'avantage d'éviter qu'un module local, par exemple `random.py`, ne vienne cacher le module `random` de la bibliothèque standard. Mais comment peut-on faire alors pour charger le module `random.py` local ? C'est à cela que sert l'import relatif.\n",
    "\n",
    "Voyons cela sur un exemple qui repose sur la hiérarchie suivante :\n",
    "\n",
    "```bash\n",
    "package_relatif/\n",
    "                __init__.py  (vide)\n",
    "                main.py\n",
    "                random.py\n",
    "```"
   ]
  },
  {
   "cell_type": "markdown",
   "metadata": {},
   "source": [
    "Le fichier `__init__.py` ici est vide, et voici le code des deux autres modules :"
   ]
  },
  {
   "cell_type": "code",
   "execution_count": null,
   "metadata": {},
   "outputs": [],
   "source": [
    "import package_relatif"
   ]
  },
  {
   "cell_type": "code",
   "execution_count": null,
   "metadata": {},
   "outputs": [],
   "source": [
    "# le code de main.py\n",
    "code = find_on_disk(package_relatif, \"main.py\")\n",
    "!cat $code"
   ]
  },
  {
   "cell_type": "markdown",
   "metadata": {},
   "source": [
    "Nous avons illustré dans le point d'entrée `main.py` deux exemples d'import relatif :"
   ]
  },
  {
   "cell_type": "markdown",
   "metadata": {},
   "source": [
    "Les deux clauses `as` sont bien sûr optionnelles, on les utilise ici uniquement pour bien identifier les différents objets en jeu."
   ]
  },
  {
   "cell_type": "markdown",
   "metadata": {},
   "source": [
    "Le module local `random.py` expose une fonction `alea` qui génére un string aléatoire en se basant sur le module standard `random` :"
   ]
  },
  {
   "cell_type": "code",
   "execution_count": null,
   "metadata": {},
   "outputs": [],
   "source": [
    "# le code de random.py\n",
    "code = find_on_disk(package_relatif, \"random.py\")\n",
    "!cat $code"
   ]
  },
  {
   "cell_type": "markdown",
   "metadata": {},
   "source": [
    "Cet exemple montre comment on peut importer un module local de nom `random` **et** le module `random` qui provient de la librairie standard :"
   ]
  },
  {
   "cell_type": "code",
   "execution_count": null,
   "metadata": {},
   "outputs": [],
   "source": [
    "import package_relatif.main"
   ]
  },
  {
   "cell_type": "code",
   "execution_count": null,
   "metadata": {},
   "outputs": [],
   "source": [
    "print(package_relatif.main.alea())"
   ]
  },
  {
   "cell_type": "markdown",
   "metadata": {},
   "source": [
    "##### Pour remonter dans l'arborescence"
   ]
  },
  {
   "cell_type": "markdown",
   "metadata": {},
   "source": [
    "Il faut savoir également qu'on peut \"remonter\" dans l'arborescence de fichiers en utilisant plusieurs points `.` consécutifs. Voici un exemple fonctionnel, on part du même contenu que ci-dessus avec un sous-package, comme ceci :"
   ]
  },
  {
   "cell_type": "markdown",
   "metadata": {},
   "source": [
    "```bash\n",
    "package_relatif/\n",
    "                __init__.py      (vide)\n",
    "                main.py\n",
    "                random.py\n",
    "                subpackage/\n",
    "                           __init__.py  (vide)\n",
    "                           submodule.py\n",
    "```"
   ]
  },
  {
   "cell_type": "code",
   "execution_count": null,
   "metadata": {},
   "outputs": [],
   "source": [
    "# voyons le code de submodule:\n",
    "import package_relatif.subpackage"
   ]
  },
  {
   "cell_type": "code",
   "execution_count": null,
   "metadata": {},
   "outputs": [],
   "source": [
    "# le code de submodule/submodule.py\n",
    "code = find_on_disk(package_relatif.subpackage, \"submodule.py\")\n",
    "!cat $code"
   ]
  },
  {
   "cell_type": "code",
   "execution_count": null,
   "metadata": {},
   "outputs": [],
   "source": [
    "import package_relatif.subpackage.submodule"
   ]
  },
  {
   "cell_type": "code",
   "execution_count": null,
   "metadata": {},
   "outputs": [],
   "source": [
    "print(package_relatif.subpackage.submodule.alea())"
   ]
  },
  {
   "cell_type": "markdown",
   "metadata": {},
   "source": [
    "**Ce qu'il faut retenir**\n",
    "\n",
    "Sur cet exemple, on montre comment un import relatif permet à un module d'importer un module local qui a le même nom qu'un module standard. "
   ]
  },
  {
   "cell_type": "markdown",
   "metadata": {},
   "source": [
    "### Avantages de l'import relatif"
   ]
  },
  {
   "cell_type": "markdown",
   "metadata": {},
   "source": [
    "Bien sûr ici on aurait pu faire \n",
    "\n",
    "```python\n",
    "import package_relatif.random\n",
    "```\n",
    "\n",
    "au lieu de \n",
    "\n",
    "```python\n",
    "from . import random\n",
    "```"
   ]
  },
  {
   "cell_type": "markdown",
   "metadata": {},
   "source": [
    "Mais l'import relatif présente notamment l'avantage d'être insensible aux renommages divers à l'intérieur d'une bibliothèque. "
   ]
  },
  {
   "cell_type": "markdown",
   "metadata": {},
   "source": [
    "Dit autrement, lorsque deux modules sont situés dans le même répertoire, il semble naturel que l'import entre eux se fasse par un import relatif, plutôt que de devoir répéter *ad nauseam* le nom de la bibliothèque - ici `package_relatif` - dans tous les imports."
   ]
  },
  {
   "cell_type": "markdown",
   "metadata": {},
   "source": [
    "### Frustrations liées à l'import relatif"
   ]
  },
  {
   "cell_type": "markdown",
   "metadata": {},
   "source": [
    "#### Se base sur `__name__` et non sur `__file__`"
   ]
  },
  {
   "cell_type": "markdown",
   "metadata": {},
   "source": [
    "Toutefois, l'import relatif ne fonctionne pas toujours comme on pourrait s'y attendre. Le point important à garder en tête est que lors d'un import relatif, **c'est l'attribut `__name__`** qui sert à déterminer le point de départ."
   ]
  },
  {
   "cell_type": "markdown",
   "metadata": {},
   "source": [
    "Concrètement, lorsque dans `main.py` on fait :\n",
    "\n",
    "```python\n",
    "from . import random\n",
    "```\n",
    "\n",
    "l'interpréteur :\n",
    "\n",
    "* détermine que dans `main.py`, `__name__` vaut `package_relatif.main`;\n",
    "* il \"oublie\" le dernier morceau `main` pour calculer que le package courant est `package_relatif`\n",
    "* et c'est ce nom qui sert à déterminer le point de départ de l'import relatif.\n",
    "\n",
    "Aussi cet import est-il retranscrit en\n",
    "\n",
    "```python\n",
    "from package_relatif import random\n",
    "```"
   ]
  },
  {
   "cell_type": "markdown",
   "metadata": {},
   "source": [
    "De la même manière\n",
    "\n",
    "```python\n",
    "from .random import run\n",
    "```\n",
    "\n",
    "devient\n",
    "\n",
    "```python\n",
    "from package_relatif.random import run\n",
    "```    "
   ]
  },
  {
   "cell_type": "markdown",
   "metadata": {},
   "source": [
    "Par contre **l'attribut `__file__` n'est pas utilisé** : ce n'est pas parce que deux fichiers python sont dans le même répertoire que l'import relatif va toujours fonctionner. Avant de voir cela sur un exemple, il nous faut revenir sur l'attribut `__name__`."
   ]
  },
  {
   "cell_type": "markdown",
   "metadata": {},
   "source": [
    "#### Digression sur l'attribut `__name__`"
   ]
  },
  {
   "cell_type": "markdown",
   "metadata": {},
   "source": [
    "Il faut savoir en effet que le **point d'entrée** du programme - c'est-à-dire le fichier qui est passé directement à l'interpréteur python - est considéré comme un module dont l'attribut `__name__` vaut la chaîne `\"__main__\"`.\n",
    "\n",
    "Concrètement, si vous faites\n",
    "\n",
    "```bash\n",
    "python3 tests/montest.py\n",
    "```\n",
    "\n",
    "alors la valeur observée dans l'attribut `__name__` n'est pas `\"tests.montest\"`, mais la constante `\"__main__\"`."
   ]
  },
  {
   "cell_type": "markdown",
   "metadata": {},
   "source": [
    "C'est pourquoi d'ailleurs [(et c'est également expliqué ici)](https://docs.python.org/3/tutorial/modules.html#executing-modules-as-scripts) vous trouverez  parfois à la fin d'un fichier source une phrase comme celle-ci :"
   ]
  },
  {
   "cell_type": "markdown",
   "metadata": {},
   "source": [
    "```python\n",
    "if __name__ == \"__main__\":\n",
    "    <faire vraiment quelque chose>\n",
    "    <comme par exemple tester le module>\n",
    "```"
   ]
  },
  {
   "cell_type": "markdown",
   "metadata": {},
   "source": [
    "Cet idiome très répandu permet d'insérer à la fin d'un module du code - souvent un code de test - qui :\n",
    "\n",
    "* va être exécuté quand on le passe directement à l'interpréteur python, mais \n",
    "* qui n'**est pas exécuté** lorsqu'on importe le module."
   ]
  },
  {
   "cell_type": "markdown",
   "metadata": {},
   "source": [
    "#### L'attribut `__package__`"
   ]
  },
  {
   "cell_type": "markdown",
   "metadata": {},
   "source": [
    "Pour résumer :\n",
    "\n",
    "* le point d'entrée - celui qui est donné à `python` sur la ligne de commande - voit comme valeur pour `__name__` la constante `\"__main__\"`,\n",
    "* et le mécanisme d'import relatif se base sur `__name__` pour localiser les modules importés."
   ]
  },
  {
   "cell_type": "markdown",
   "metadata": {},
   "source": [
    "Du coup, par construction, il n'est quasiment pas possible d'utiliser les imports relatifs à partir du script de lancement.\n",
    "\n",
    "Pour pallier à ce type d'inconvénients, il a été introduit ultérieurment (voir PEP 366 ci-dessous) la possibilité pour un module de définir (écrire) l'attribut `__package__`, pour contourner cette difficulté."
   ]
  },
  {
   "cell_type": "markdown",
   "metadata": {},
   "source": [
    "#### Ce qu'il faut retenir"
   ]
  },
  {
   "cell_type": "markdown",
   "metadata": {},
   "source": [
    "On voit que tout ceci est rapidement assez scabreux. Cela explique sans doute l'usage relativement peu répandu des imports relatifs. \n",
    "\n",
    "De manière générale, une bonne pratique consiste à :\n",
    "\n",
    "* considérer votre ou vos points d'entrée comme des accessoires ; un point d'entrée typiquement se contente d'importer une classe d'un module, de créer une instance et de lui envoyer une méthode ;\n",
    "* toujours placer ces points d'entrée dans un répertoire séparé ;\n",
    "* notamment si vous utilisez `setuptools` pour distribuer votre application via `pypi.org`, vous verrez que ces points d'entrée sont complètement pris en charge par les outils d'installation.\n",
    "\n",
    "S'agissant des tests: \n",
    "\n",
    "* la technique qu'on a vue rapidement - de tester si `__name__` vaut `\"__main__\"` - est extrêmement basique et limitée. Le mieux est de ne pas l'utiliser en fait, en dehors de micro-maquettes.\n",
    "* en pratique on écrit les tests dans un répertoire séparé - souvent appelé `tests` - et en tirant profit de la librairie `unittest`. \n",
    "* du coup les tests sont toujours exécutés avec une phrase comme\n",
    "\n",
    "```bash\n",
    "python3 -m unittest tests.jeu_de_tests\n",
    "```\n",
    "\n",
    "et dans ce contexte-là, il est possible par exemple pour les tests de recourir à l'import relatif."
   ]
  },
  {
   "cell_type": "markdown",
   "metadata": {},
   "source": [
    "### Pour en savoir plus"
   ]
  },
  {
   "cell_type": "markdown",
   "metadata": {},
   "source": [
    "Vous pourrez consulter :\n",
    "\n",
    "* <https://www.python.org/dev/peps/pep-0328/> qui date du passage de 2.4 à 2.5, dans lequel on décide que tous les imports sans `.` sont absolus - ce n'était pas le cas au préalable.\n",
    "* <https://www.python.org/dev/peps/pep-0366/> qui introduit la possibilité de définir `__package__` pour contourner les problèmes liés aux imports relatifs dans un script.\n",
    "* <http://sametmax.com/un-gros-guide-bien-gras-sur-les-tests-unitaires-en-python-partie-1/> qui parle des tests unitaires qui est un tout autre et vaste sujet."
   ]
  }
 ],
 "metadata": {
  "kernelspec": {
   "display_name": "Python 3",
   "language": "python",
   "name": "python3"
  },
  "language_info": {
   "codemirror_mode": {
    "name": "ipython",
    "version": 3
   },
   "file_extension": ".py",
   "mimetype": "text/x-python",
   "name": "python",
   "nbconvert_exporter": "python",
   "pygments_lexer": "ipython3",
   "version": "3.7.0"
  },
  "livereveal": {
   "auto_select": "code",
   "auto_select_fragment": true,
   "autolaunch": false,
   "backimage": "media/nologo.png",
   "height": "100%",
   "start_slideshow_at": "selected",
   "theme": "simple",
   "transition": "fade",
   "width": "100%"
  },
  "notebookname": "Usage avançés de `import`",
  "version": "3.0"
 },
 "nbformat": 4,
 "nbformat_minor": 2
}